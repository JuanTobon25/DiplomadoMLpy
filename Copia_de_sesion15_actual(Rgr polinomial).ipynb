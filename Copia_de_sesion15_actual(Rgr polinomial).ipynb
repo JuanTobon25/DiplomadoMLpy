{
  "nbformat": 4,
  "nbformat_minor": 0,
  "metadata": {
    "colab": {
      "name": "Copia de sesion15 actual.ipynb",
      "provenance": [],
      "collapsed_sections": []
    },
    "kernelspec": {
      "name": "python3",
      "display_name": "Python 3"
    }
  },
  "cells": [
    {
      "cell_type": "markdown",
      "metadata": {
        "id": "ZTrlCzdxYsxx"
      },
      "source": [
        "<p><img alt=\"Colaboratory logo\" height=\"140px\" src=\"https://upload.wikimedia.org/wikipedia/commons/archive/f/fb/20161010213812%21Escudo-UdeA.svg\" align=\"left\" hspace=\"10px\" vspace=\"0px\"></p>\n",
        "\n",
        "# **Diplomado de Análisis de datos y Machine Learning en Python**\n",
        "\n",
        "\n",
        "El presente diplomado hace parte del centro de Big Data de la facultad de ciencias exactas y naturales (FCEN) de la Universidad de Antioquia.\n",
        "\n",
        "## **Sesión 15**\n",
        "\n",
        "## **Contenido**\n",
        "\n",
        "- <a href=\"#pip\"> Pipelines</a><br>\n",
        "- <a href=\"#val\"> Validación cruzada</a><br>\n",
        "- <a href=\"#pol\"> Regresión polinomial</a><br>\n",
        "\n"
      ]
    },
    {
      "cell_type": "markdown",
      "metadata": {
        "id": "BQqJQ-MmYy3s"
      },
      "source": [
        "<p><a name=\"pip\"></a></p>\n",
        "\n",
        "# **Pipelines**\n",
        "\n",
        "Hemos visto cómo la aplicación de un sistema de ML requiere de diferentes etapas: preprocesado de los datos, construcción del modelo y su posterior evaluación. Vimos también cómo esta etapa de preprocesado afecta directamente los resultados que obtenemos del modelo final.\n",
        "\n",
        "Vamos a ver cómo podemos simplificar los diferentes pasos en el preprocesamiento, así como la construcción del modelo, mediante el uso de los *pipelines*.\n",
        "\n"
      ]
    },
    {
      "cell_type": "markdown",
      "metadata": {
        "id": "F3O3d6HzhFqt"
      },
      "source": [
        "<p><img alt=\"Colaboratory logo\" height=\"340px\" src=\"https://i.imgur.com/Q5C8NGb.png\" align=\"left\" hspace=\"10px\" vspace=\"0px\"></p>"
      ]
    },
    {
      "cell_type": "markdown",
      "metadata": {
        "id": "p6cKkHA5hmnI"
      },
      "source": [
        "Un *Pipeline* es un objeto que nos permite encadenar varios pasos del workflow de ML secuencialmente. Específicamente, un Pipeline agrupa los pasos de preprocesamiento y modelado como si tratara de un solo paso, de manera que podamos automatizar todo el proceso manteniendo el código de preprocesamiento y de modelado de una forma muy organizada.\n",
        "\n",
        "Las dos principales ventajas de trabajar con pipelines son las siguientes:\n",
        "\n",
        "* Normalmente necesitaremos realizar un seguimiento como tal de los datos de entrenamiento y prueba en cada uno de los pasos de preprocesado, modelado y evaluación, lo que supone una tarea muy complicada desde el punto de vista de la implementación. Con los *pipelines* no necesitaremos de este seguimiento y tendremos un código mucho más simple y limpio.\n",
        "\n",
        "* Con los pipelines, vamos a poder evaluar todo el proceso, que incluye las etapas de preprocemiento y de construcción del modelo, como un todo. Más que evaluar solo el modelo final, como lo veníamos haciendo.\n",
        "\n",
        "Tal vez esta última sea la principal ventaja que tendremos a la hora de trabajar con pipelines.\n",
        "\n",
        "Volvamos al problema en el que hemos estado trabajando:"
      ]
    },
    {
      "cell_type": "code",
      "metadata": {
        "id": "etvISNF9Ym8g"
      },
      "source": [
        "import numpy as np\n",
        "import pandas as pd\n",
        "import matplotlib.pyplot as plt\n",
        "import seaborn as sns\n",
        "sns.set()"
      ],
      "execution_count": null,
      "outputs": []
    },
    {
      "cell_type": "code",
      "metadata": {
        "id": "lEfwWhvLi_Le",
        "colab": {
          "base_uri": "https://localhost:8080/",
          "height": 275
        },
        "outputId": "d4093668-7a80-47a3-ebb9-bd8e28aac034"
      },
      "source": [
        "df = pd.read_csv(\"https://raw.githubusercontent.com/tomasate/Diplomado_ML/main/datasets/data/nivel_1/Data/FuelConsumption.csv\").drop(columns=\"MODELYEAR\")\n",
        "df.head()"
      ],
      "execution_count": null,
      "outputs": [
        {
          "output_type": "execute_result",
          "data": {
            "text/html": [
              "<div>\n",
              "<style scoped>\n",
              "    .dataframe tbody tr th:only-of-type {\n",
              "        vertical-align: middle;\n",
              "    }\n",
              "\n",
              "    .dataframe tbody tr th {\n",
              "        vertical-align: top;\n",
              "    }\n",
              "\n",
              "    .dataframe thead th {\n",
              "        text-align: right;\n",
              "    }\n",
              "</style>\n",
              "<table border=\"1\" class=\"dataframe\">\n",
              "  <thead>\n",
              "    <tr style=\"text-align: right;\">\n",
              "      <th></th>\n",
              "      <th>MAKE</th>\n",
              "      <th>MODEL</th>\n",
              "      <th>VEHICLECLASS</th>\n",
              "      <th>ENGINESIZE</th>\n",
              "      <th>CYLINDERS</th>\n",
              "      <th>TRANSMISSION</th>\n",
              "      <th>FUELTYPE</th>\n",
              "      <th>FUELCONSUMPTION_CITY</th>\n",
              "      <th>FUELCONSUMPTION_HWY</th>\n",
              "      <th>FUELCONSUMPTION_COMB</th>\n",
              "      <th>FUELCONSUMPTION_COMB_MPG</th>\n",
              "      <th>CO2EMISSIONS</th>\n",
              "    </tr>\n",
              "  </thead>\n",
              "  <tbody>\n",
              "    <tr>\n",
              "      <th>0</th>\n",
              "      <td>ACURA</td>\n",
              "      <td>ILX</td>\n",
              "      <td>COMPACT</td>\n",
              "      <td>2.0</td>\n",
              "      <td>4</td>\n",
              "      <td>AS5</td>\n",
              "      <td>Z</td>\n",
              "      <td>9.9</td>\n",
              "      <td>6.7</td>\n",
              "      <td>8.5</td>\n",
              "      <td>33</td>\n",
              "      <td>196</td>\n",
              "    </tr>\n",
              "    <tr>\n",
              "      <th>1</th>\n",
              "      <td>ACURA</td>\n",
              "      <td>ILX</td>\n",
              "      <td>COMPACT</td>\n",
              "      <td>2.4</td>\n",
              "      <td>4</td>\n",
              "      <td>M6</td>\n",
              "      <td>Z</td>\n",
              "      <td>11.2</td>\n",
              "      <td>7.7</td>\n",
              "      <td>9.6</td>\n",
              "      <td>29</td>\n",
              "      <td>221</td>\n",
              "    </tr>\n",
              "    <tr>\n",
              "      <th>2</th>\n",
              "      <td>ACURA</td>\n",
              "      <td>ILX HYBRID</td>\n",
              "      <td>COMPACT</td>\n",
              "      <td>1.5</td>\n",
              "      <td>4</td>\n",
              "      <td>AV7</td>\n",
              "      <td>Z</td>\n",
              "      <td>6.0</td>\n",
              "      <td>5.8</td>\n",
              "      <td>5.9</td>\n",
              "      <td>48</td>\n",
              "      <td>136</td>\n",
              "    </tr>\n",
              "    <tr>\n",
              "      <th>3</th>\n",
              "      <td>ACURA</td>\n",
              "      <td>MDX 4WD</td>\n",
              "      <td>SUV - SMALL</td>\n",
              "      <td>3.5</td>\n",
              "      <td>6</td>\n",
              "      <td>AS6</td>\n",
              "      <td>Z</td>\n",
              "      <td>12.7</td>\n",
              "      <td>9.1</td>\n",
              "      <td>11.1</td>\n",
              "      <td>25</td>\n",
              "      <td>255</td>\n",
              "    </tr>\n",
              "    <tr>\n",
              "      <th>4</th>\n",
              "      <td>ACURA</td>\n",
              "      <td>RDX AWD</td>\n",
              "      <td>SUV - SMALL</td>\n",
              "      <td>3.5</td>\n",
              "      <td>6</td>\n",
              "      <td>AS6</td>\n",
              "      <td>Z</td>\n",
              "      <td>12.1</td>\n",
              "      <td>8.7</td>\n",
              "      <td>10.6</td>\n",
              "      <td>27</td>\n",
              "      <td>244</td>\n",
              "    </tr>\n",
              "  </tbody>\n",
              "</table>\n",
              "</div>"
            ],
            "text/plain": [
              "    MAKE       MODEL  ... FUELCONSUMPTION_COMB_MPG  CO2EMISSIONS\n",
              "0  ACURA         ILX  ...                       33           196\n",
              "1  ACURA         ILX  ...                       29           221\n",
              "2  ACURA  ILX HYBRID  ...                       48           136\n",
              "3  ACURA     MDX 4WD  ...                       25           255\n",
              "4  ACURA     RDX AWD  ...                       27           244\n",
              "\n",
              "[5 rows x 12 columns]"
            ]
          },
          "metadata": {
            "tags": []
          },
          "execution_count": 2
        }
      ]
    },
    {
      "cell_type": "code",
      "metadata": {
        "colab": {
          "base_uri": "https://localhost:8080/"
        },
        "id": "OEwFYsg9HR5V",
        "outputId": "ab0d54a0-6fc6-4700-d2a5-6165b6cd9a9d"
      },
      "source": [
        "len(df.MODEL.unique()), len(df)"
      ],
      "execution_count": null,
      "outputs": [
        {
          "output_type": "execute_result",
          "data": {
            "text/plain": [
              "(663, 1067)"
            ]
          },
          "metadata": {
            "tags": []
          },
          "execution_count": 3
        }
      ]
    },
    {
      "cell_type": "code",
      "metadata": {
        "id": "4o7VKvsyjGtc"
      },
      "source": [
        "X = df.drop(columns=['CO2EMISSIONS', 'MODEL'])\n",
        "\n",
        "y = df.CO2EMISSIONS"
      ],
      "execution_count": null,
      "outputs": []
    },
    {
      "cell_type": "markdown",
      "metadata": {
        "id": "c0FmZIZNjyJp"
      },
      "source": [
        "El *pipeline* aplica secuencialmente una lista de transformadores y un estimador final. Los pasos intermedios del *pipeline* deben ser 'transformaciones', es decir, deben implementar los métodos `fit` y `transform`. El estimador final solo necesita implementar el método `fit`."
      ]
    },
    {
      "cell_type": "code",
      "metadata": {
        "id": "lb4rOJlujkcf"
      },
      "source": [
        "from sklearn.pipeline import Pipeline\n",
        "\n",
        "Pipeline?"
      ],
      "execution_count": null,
      "outputs": []
    },
    {
      "cell_type": "markdown",
      "metadata": {
        "id": "E62ktLTLlRa1"
      },
      "source": [
        "Variables numéricas:"
      ]
    },
    {
      "cell_type": "code",
      "metadata": {
        "id": "wzAevJQwYsXF",
        "colab": {
          "base_uri": "https://localhost:8080/"
        },
        "outputId": "2e4c1bf0-b497-4ab8-f404-f63d8c98a657"
      },
      "source": [
        "from sklearn.preprocessing import StandardScaler, OneHotEncoder\n",
        "from sklearn.impute import SimpleImputer\n",
        "\n",
        "num_imputer = SimpleImputer()\n",
        "scale = StandardScaler()\n",
        "\n",
        "num_transform = Pipeline([('num_imp', num_imputer),\n",
        "                          ('scaler', scale)])\n",
        "\n",
        "num_transform"
      ],
      "execution_count": null,
      "outputs": [
        {
          "output_type": "execute_result",
          "data": {
            "text/plain": [
              "Pipeline(memory=None,\n",
              "         steps=[('num_imp',\n",
              "                 SimpleImputer(add_indicator=False, copy=True, fill_value=None,\n",
              "                               missing_values=nan, strategy='mean',\n",
              "                               verbose=0)),\n",
              "                ('scaler',\n",
              "                 StandardScaler(copy=True, with_mean=True, with_std=True))],\n",
              "         verbose=False)"
            ]
          },
          "metadata": {
            "tags": []
          },
          "execution_count": 10
        }
      ]
    },
    {
      "cell_type": "markdown",
      "metadata": {
        "id": "CGpxtCWJltvx"
      },
      "source": [
        "Variables categóricas:"
      ]
    },
    {
      "cell_type": "code",
      "metadata": {
        "id": "dSEU8c2tltBY",
        "colab": {
          "base_uri": "https://localhost:8080/"
        },
        "outputId": "80f0711d-364a-4d77-a2c8-51d248c16485"
      },
      "source": [
        "cat_imputer = SimpleImputer(strategy='most_frequent')\n",
        "ohe = OneHotEncoder(sparse=False)\n",
        "\n",
        "cat_transform = Pipeline([('cat_imp', cat_imputer),\n",
        "                          ('ohe', ohe)])\n",
        "\n",
        "cat_transform"
      ],
      "execution_count": null,
      "outputs": [
        {
          "output_type": "execute_result",
          "data": {
            "text/plain": [
              "Pipeline(memory=None,\n",
              "         steps=[('cat_imp',\n",
              "                 SimpleImputer(add_indicator=False, copy=True, fill_value=None,\n",
              "                               missing_values=nan, strategy='most_frequent',\n",
              "                               verbose=0)),\n",
              "                ('ohe',\n",
              "                 OneHotEncoder(categories='auto', drop=None,\n",
              "                               dtype=<class 'numpy.float64'>,\n",
              "                               handle_unknown='error', sparse=False))],\n",
              "         verbose=False)"
            ]
          },
          "metadata": {
            "tags": []
          },
          "execution_count": 11
        }
      ]
    },
    {
      "cell_type": "markdown",
      "metadata": {
        "id": "bLU7oA9sm0mG"
      },
      "source": [
        "Alternativamente, podemos utilizar la clase ` make_pipeline`, la cual es un alias para `pipeline` en la que no tenemos que hacer explítico el nombre de la transformación:"
      ]
    },
    {
      "cell_type": "code",
      "metadata": {
        "id": "h2SQ-4uCnA0A",
        "colab": {
          "base_uri": "https://localhost:8080/"
        },
        "outputId": "952f7a5d-d9d6-4ab8-86f0-bcd48c5df2f7"
      },
      "source": [
        "from sklearn.pipeline import make_pipeline\n",
        "\n",
        "num_tra = make_pipeline(num_imputer, scale)\n",
        "\n",
        "num_tra"
      ],
      "execution_count": null,
      "outputs": [
        {
          "output_type": "execute_result",
          "data": {
            "text/plain": [
              "Pipeline(memory=None,\n",
              "         steps=[('simpleimputer',\n",
              "                 SimpleImputer(add_indicator=False, copy=True, fill_value=None,\n",
              "                               missing_values=nan, strategy='mean',\n",
              "                               verbose=0)),\n",
              "                ('standardscaler',\n",
              "                 StandardScaler(copy=True, with_mean=True, with_std=True))],\n",
              "         verbose=False)"
            ]
          },
          "metadata": {
            "tags": []
          },
          "execution_count": 12
        }
      ]
    },
    {
      "cell_type": "code",
      "metadata": {
        "id": "V8Ql43KEnUd5",
        "colab": {
          "base_uri": "https://localhost:8080/"
        },
        "outputId": "5451b23b-2dbb-428d-a1db-bf5ff8e028a7"
      },
      "source": [
        "cat_tra = make_pipeline(cat_imputer, ohe)\n",
        "\n",
        "cat_tra"
      ],
      "execution_count": null,
      "outputs": [
        {
          "output_type": "execute_result",
          "data": {
            "text/plain": [
              "Pipeline(memory=None,\n",
              "         steps=[('simpleimputer',\n",
              "                 SimpleImputer(add_indicator=False, copy=True, fill_value=None,\n",
              "                               missing_values=nan, strategy='most_frequent',\n",
              "                               verbose=0)),\n",
              "                ('onehotencoder',\n",
              "                 OneHotEncoder(categories='auto', drop=None,\n",
              "                               dtype=<class 'numpy.float64'>,\n",
              "                               handle_unknown='error', sparse=False))],\n",
              "         verbose=False)"
            ]
          },
          "metadata": {
            "tags": []
          },
          "execution_count": 13
        }
      ]
    },
    {
      "cell_type": "markdown",
      "metadata": {
        "id": "rP6uWw1RmSF6"
      },
      "source": [
        "Ahora, vamos a querer aplicar estas transformaciones que hemos definido a nuestro conjunto de datos. \n",
        "\n",
        "En principio podríamos seleccionar las caracteristicas numéricas y categóricas y aplicar la transformación correspondiente a cada una de estas y al final combinar ambas características transformadas en un solo conjunto de datos. \n",
        "\n",
        "Sin embargo, este es el proceso que queremos evitar, recordemos que queremos tener todo el proceso automatizado, de manera que no nos tengamos que preocupar por este tipo de pasos. \n",
        "\n",
        "Lo que haremos, será utilizar un transformador de columnas `ColumnTransformer` (o `make_column_transformer`), de manera que construyamos un único objeto que realice estas tareas de preprocesamiento de una forma más simple y automática."
      ]
    },
    {
      "cell_type": "code",
      "metadata": {
        "colab": {
          "base_uri": "https://localhost:8080/"
        },
        "id": "DOHjH_P_H8J-",
        "outputId": "ad2a9794-d2ed-4a6b-c675-578c8dd9c1fe"
      },
      "source": [
        "df.VEHICLECLASS.unique()"
      ],
      "execution_count": null,
      "outputs": [
        {
          "output_type": "execute_result",
          "data": {
            "text/plain": [
              "array(['COMPACT', 'SUV - SMALL', 'MID-SIZE', 'MINICOMPACT', 'SUBCOMPACT',\n",
              "       'TWO-SEATER', 'FULL-SIZE', 'STATION WAGON - SMALL',\n",
              "       'SUV - STANDARD', 'VAN - CARGO', 'VAN - PASSENGER',\n",
              "       'PICKUP TRUCK - STANDARD', 'MINIVAN', 'SPECIAL PURPOSE VEHICLE',\n",
              "       'STATION WAGON - MID-SIZE', 'PICKUP TRUCK - SMALL'], dtype=object)"
            ]
          },
          "metadata": {
            "tags": []
          },
          "execution_count": 14
        }
      ]
    },
    {
      "cell_type": "code",
      "metadata": {
        "id": "RbIVB4wup-J5",
        "colab": {
          "base_uri": "https://localhost:8080/"
        },
        "outputId": "f6376eb6-7e92-46f0-ae53-ea2a4ef12206"
      },
      "source": [
        "df.dtypes"
      ],
      "execution_count": null,
      "outputs": [
        {
          "output_type": "execute_result",
          "data": {
            "text/plain": [
              "MAKE                         object\n",
              "MODEL                        object\n",
              "VEHICLECLASS                 object\n",
              "ENGINESIZE                  float64\n",
              "CYLINDERS                     int64\n",
              "TRANSMISSION                 object\n",
              "FUELTYPE                     object\n",
              "FUELCONSUMPTION_CITY        float64\n",
              "FUELCONSUMPTION_HWY         float64\n",
              "FUELCONSUMPTION_COMB        float64\n",
              "FUELCONSUMPTION_COMB_MPG      int64\n",
              "CO2EMISSIONS                  int64\n",
              "dtype: object"
            ]
          },
          "metadata": {
            "tags": []
          },
          "execution_count": 15
        }
      ]
    },
    {
      "cell_type": "code",
      "metadata": {
        "id": "b3R2R3yLbntJ"
      },
      "source": [
        "from sklearn.compose import make_column_transformer\n",
        "\n",
        "make_column_transformer?\n",
        "num_cols = ['ENGINESIZE', 'FUELCONSUMPTION_HWY']\n",
        "cat_cols = ['MAKE', \"VEHICLECLASS\", 'CYLINDERS','TRANSMISSION', 'FUELTYPE']\n",
        "\n"
      ],
      "execution_count": null,
      "outputs": []
    },
    {
      "cell_type": "code",
      "metadata": {
        "id": "HLhoRtLcmMZK"
      },
      "source": [
        "\n",
        "preprocessor = make_column_transformer((num_tra, num_cols),\n",
        "                                       (cat_tra, cat_cols))"
      ],
      "execution_count": null,
      "outputs": []
    },
    {
      "cell_type": "markdown",
      "metadata": {
        "id": "fLavWjY3ojcw"
      },
      "source": [
        "Ahora que tenemos el proceso de transformación de los datos en este objeto, nos resta añadir el paso de construcción del modelo de manera que tengamos todo el proceso en un solo objeto. Para esto, de nuevo, utilizaremos un Pipeline"
      ]
    },
    {
      "cell_type": "code",
      "metadata": {
        "id": "B9JDqzANml_g"
      },
      "source": [
        "from sklearn.linear_model import LinearRegression\n",
        "\n",
        "LR = LinearRegression()\n",
        "\n",
        "model = make_pipeline(preprocessor, LR)"
      ],
      "execution_count": null,
      "outputs": []
    },
    {
      "cell_type": "markdown",
      "metadata": {
        "id": "5K6k3ULKoqJo"
      },
      "source": [
        "Una vez tenemos todo el proceso en este único objeto, podemos entrenar el modelo"
      ]
    },
    {
      "cell_type": "code",
      "metadata": {
        "id": "FdgSS3L_otFH",
        "colab": {
          "base_uri": "https://localhost:8080/"
        },
        "outputId": "ee4f7fec-2ce4-4a60-a78c-6faf46374556"
      },
      "source": [
        "from sklearn.model_selection import train_test_split\n",
        "\n",
        "X_train, X_test, y_train, y_test = train_test_split(X, y, test_size = 0.2, random_state = 42)\n",
        "\n",
        "model.fit(X_train, y_train)"
      ],
      "execution_count": null,
      "outputs": [
        {
          "output_type": "execute_result",
          "data": {
            "text/plain": [
              "Pipeline(memory=None,\n",
              "         steps=[('columntransformer',\n",
              "                 ColumnTransformer(n_jobs=None, remainder='drop',\n",
              "                                   sparse_threshold=0.3,\n",
              "                                   transformer_weights=None,\n",
              "                                   transformers=[('pipeline-1',\n",
              "                                                  Pipeline(memory=None,\n",
              "                                                           steps=[('simpleimputer',\n",
              "                                                                   SimpleImputer(add_indicator=False,\n",
              "                                                                                 copy=True,\n",
              "                                                                                 fill_value=None,\n",
              "                                                                                 missing_values=nan,\n",
              "                                                                                 strategy='mean',\n",
              "                                                                                 verbose=0)),\n",
              "                                                                  ('standardscaler',\n",
              "                                                                   StandardSc...\n",
              "                                                                                 strategy='most_frequent',\n",
              "                                                                                 verbose=0)),\n",
              "                                                                  ('onehotencoder',\n",
              "                                                                   OneHotEncoder(categories='auto',\n",
              "                                                                                 drop=None,\n",
              "                                                                                 dtype=<class 'numpy.float64'>,\n",
              "                                                                                 handle_unknown='error',\n",
              "                                                                                 sparse=False))],\n",
              "                                                           verbose=False),\n",
              "                                                  ['MAKE', 'VEHICLECLASS',\n",
              "                                                   'CYLINDERS', 'TRANSMISSION',\n",
              "                                                   'FUELTYPE'])],\n",
              "                                   verbose=False)),\n",
              "                ('linearregression',\n",
              "                 LinearRegression(copy_X=True, fit_intercept=True, n_jobs=None,\n",
              "                                  normalize=False))],\n",
              "         verbose=False)"
            ]
          },
          "metadata": {
            "tags": []
          },
          "execution_count": 26
        }
      ]
    },
    {
      "cell_type": "markdown",
      "metadata": {
        "id": "zaHl5D-3rZQB"
      },
      "source": [
        "Evaluemos el modelo"
      ]
    },
    {
      "cell_type": "code",
      "metadata": {
        "id": "3hx8aOTpqkrm",
        "colab": {
          "base_uri": "https://localhost:8080/"
        },
        "outputId": "5b17c8c4-6f4a-412f-9b85-24181cc4007a"
      },
      "source": [
        "model.score(X_test, y_test)"
      ],
      "execution_count": null,
      "outputs": [
        {
          "output_type": "execute_result",
          "data": {
            "text/plain": [
              "0.9646582092005637"
            ]
          },
          "metadata": {
            "tags": []
          },
          "execution_count": 27
        }
      ]
    },
    {
      "cell_type": "code",
      "metadata": {
        "id": "dtKRc2_xdNN_",
        "colab": {
          "base_uri": "https://localhost:8080/",
          "height": 195
        },
        "outputId": "7b439fc9-b9d3-4cbb-f5cf-f66043363e48"
      },
      "source": [
        "X.head()"
      ],
      "execution_count": null,
      "outputs": [
        {
          "output_type": "execute_result",
          "data": {
            "text/html": [
              "<div>\n",
              "<style scoped>\n",
              "    .dataframe tbody tr th:only-of-type {\n",
              "        vertical-align: middle;\n",
              "    }\n",
              "\n",
              "    .dataframe tbody tr th {\n",
              "        vertical-align: top;\n",
              "    }\n",
              "\n",
              "    .dataframe thead th {\n",
              "        text-align: right;\n",
              "    }\n",
              "</style>\n",
              "<table border=\"1\" class=\"dataframe\">\n",
              "  <thead>\n",
              "    <tr style=\"text-align: right;\">\n",
              "      <th></th>\n",
              "      <th>MAKE</th>\n",
              "      <th>VEHICLECLASS</th>\n",
              "      <th>ENGINESIZE</th>\n",
              "      <th>CYLINDERS</th>\n",
              "      <th>TRANSMISSION</th>\n",
              "      <th>FUELTYPE</th>\n",
              "      <th>FUELCONSUMPTION_CITY</th>\n",
              "      <th>FUELCONSUMPTION_HWY</th>\n",
              "      <th>FUELCONSUMPTION_COMB</th>\n",
              "      <th>FUELCONSUMPTION_COMB_MPG</th>\n",
              "    </tr>\n",
              "  </thead>\n",
              "  <tbody>\n",
              "    <tr>\n",
              "      <th>0</th>\n",
              "      <td>ACURA</td>\n",
              "      <td>COMPACT</td>\n",
              "      <td>2.0</td>\n",
              "      <td>4</td>\n",
              "      <td>AS5</td>\n",
              "      <td>Z</td>\n",
              "      <td>9.9</td>\n",
              "      <td>6.7</td>\n",
              "      <td>8.5</td>\n",
              "      <td>33</td>\n",
              "    </tr>\n",
              "    <tr>\n",
              "      <th>1</th>\n",
              "      <td>ACURA</td>\n",
              "      <td>COMPACT</td>\n",
              "      <td>2.4</td>\n",
              "      <td>4</td>\n",
              "      <td>M6</td>\n",
              "      <td>Z</td>\n",
              "      <td>11.2</td>\n",
              "      <td>7.7</td>\n",
              "      <td>9.6</td>\n",
              "      <td>29</td>\n",
              "    </tr>\n",
              "    <tr>\n",
              "      <th>2</th>\n",
              "      <td>ACURA</td>\n",
              "      <td>COMPACT</td>\n",
              "      <td>1.5</td>\n",
              "      <td>4</td>\n",
              "      <td>AV7</td>\n",
              "      <td>Z</td>\n",
              "      <td>6.0</td>\n",
              "      <td>5.8</td>\n",
              "      <td>5.9</td>\n",
              "      <td>48</td>\n",
              "    </tr>\n",
              "    <tr>\n",
              "      <th>3</th>\n",
              "      <td>ACURA</td>\n",
              "      <td>SUV - SMALL</td>\n",
              "      <td>3.5</td>\n",
              "      <td>6</td>\n",
              "      <td>AS6</td>\n",
              "      <td>Z</td>\n",
              "      <td>12.7</td>\n",
              "      <td>9.1</td>\n",
              "      <td>11.1</td>\n",
              "      <td>25</td>\n",
              "    </tr>\n",
              "    <tr>\n",
              "      <th>4</th>\n",
              "      <td>ACURA</td>\n",
              "      <td>SUV - SMALL</td>\n",
              "      <td>3.5</td>\n",
              "      <td>6</td>\n",
              "      <td>AS6</td>\n",
              "      <td>Z</td>\n",
              "      <td>12.1</td>\n",
              "      <td>8.7</td>\n",
              "      <td>10.6</td>\n",
              "      <td>27</td>\n",
              "    </tr>\n",
              "  </tbody>\n",
              "</table>\n",
              "</div>"
            ],
            "text/plain": [
              "    MAKE VEHICLECLASS  ...  FUELCONSUMPTION_COMB  FUELCONSUMPTION_COMB_MPG\n",
              "0  ACURA      COMPACT  ...                   8.5                        33\n",
              "1  ACURA      COMPACT  ...                   9.6                        29\n",
              "2  ACURA      COMPACT  ...                   5.9                        48\n",
              "3  ACURA  SUV - SMALL  ...                  11.1                        25\n",
              "4  ACURA  SUV - SMALL  ...                  10.6                        27\n",
              "\n",
              "[5 rows x 10 columns]"
            ]
          },
          "metadata": {
            "tags": []
          },
          "execution_count": 28
        }
      ]
    },
    {
      "cell_type": "code",
      "metadata": {
        "id": "CQusunhdo4OP",
        "colab": {
          "base_uri": "https://localhost:8080/"
        },
        "outputId": "5f102ed2-b99a-4999-ab2a-b06f6687ffb6"
      },
      "source": [
        "model['linearregression'].coef_"
      ],
      "execution_count": null,
      "outputs": [
        {
          "output_type": "execute_result",
          "data": {
            "text/plain": [
              "array([ 8.00361873e+00,  6.32850855e+01,  3.56715092e+09,  3.56715093e+09,\n",
              "        3.56715093e+09,  3.56715095e+09,  3.56715093e+09,  3.56715093e+09,\n",
              "        3.56715093e+09,  3.56715093e+09,  3.56715094e+09,  3.56715093e+09,\n",
              "        3.56715092e+09,  3.56715093e+09,  3.56715093e+09,  3.56715092e+09,\n",
              "        3.56715092e+09,  3.56715093e+09,  3.56715093e+09,  3.56715092e+09,\n",
              "        3.56715092e+09,  3.56715097e+09,  3.56715092e+09,  3.56715092e+09,\n",
              "        3.56715092e+09,  3.56715095e+09,  3.56715092e+09,  3.56715093e+09,\n",
              "        3.56715092e+09,  3.56715094e+09,  3.56715093e+09,  3.56715092e+09,\n",
              "        3.56715094e+09,  3.56715094e+09,  3.56715092e+09,  7.77543993e+09,\n",
              "        3.56715091e+09,  3.56715093e+09,  3.56715092e+09,  3.56715092e+09,\n",
              "        3.56715092e+09, -1.37934790e+10, -1.37934790e+10, -1.37934790e+10,\n",
              "       -1.37934790e+10, -1.37934790e+10, -1.37934790e+10, -1.37934790e+10,\n",
              "       -1.37934790e+10, -1.37934790e+10, -1.37934790e+10, -1.37934790e+10,\n",
              "       -1.37934790e+10, -1.37934790e+10, -1.37934790e+10, -1.37934790e+10,\n",
              "       -1.37934790e+10, -1.85390533e+11, -1.85390533e+11, -1.85390533e+11,\n",
              "       -1.85390533e+11, -1.85390533e+11, -1.85390533e+11, -1.85390533e+11,\n",
              "        1.06747730e+10,  1.06747730e+10,  1.06747730e+10,  1.06747730e+10,\n",
              "        1.06747730e+10,  1.06747730e+10,  6.46648398e+09,  1.06747730e+10,\n",
              "        1.06747730e+10,  1.06747730e+10,  1.06747730e+10,  1.06747730e+10,\n",
              "        1.06747730e+10,  1.06747730e+10,  1.06747730e+10,  1.06747730e+10,\n",
              "        1.06747729e+10,  1.06747730e+10,  1.06747730e+10,  1.06747730e+10,\n",
              "        1.06747730e+10,  1.06747730e+10,  1.49231612e+11,  1.49231612e+11,\n",
              "        1.49231612e+11,  1.49231612e+11])"
            ]
          },
          "metadata": {
            "tags": []
          },
          "execution_count": 29
        }
      ]
    },
    {
      "cell_type": "code",
      "metadata": {
        "id": "qd-DC-fbp2n8",
        "colab": {
          "base_uri": "https://localhost:8080/"
        },
        "outputId": "9004fc4a-398d-4c2d-d302-f08f414ac0fc"
      },
      "source": [
        "model['linearregression'].intercept_"
      ],
      "execution_count": null,
      "outputs": [
        {
          "output_type": "execute_result",
          "data": {
            "text/plain": [
              "35710476580.61742"
            ]
          },
          "metadata": {
            "tags": []
          },
          "execution_count": 31
        }
      ]
    },
    {
      "cell_type": "markdown",
      "metadata": {
        "id": "fUP5wlxHr4eO"
      },
      "source": [
        "<p><a name=\"val\"></a></p>\n",
        "\n",
        "# **Validación cruzada**\n",
        "\n",
        "Hasta el momento lo que hemos hecho para la evaluación de los modelos supervisados es lo siguiente:\n",
        "\n",
        "* Separar nuestro conjunto de datos en conjuntos de entrenamiento y prueba usando el método `train_test_split`.\n",
        "* Entrenar un modelo a partir de los datos de entrenamiento mediante el método `fit`. \n",
        "* Evaluar con los datos de prueba usando el método `score`:\n",
        "\n",
        "Recuerdomes que la razón por la que dividimos nuestros datos en los conjuntos de entrenamiento y prueba, es que estamos interesados en medir qué tan bien nuestro modelo se generaliza a nuevos datos. Es decir, no nos interesa saber qué tan bien se ajusta nuestro modelo a los datos de entrenamiento, sino más bien qué tan bien puede hacer predicciones para datos que no se observaron durante el proceso de entrenamiento.\n",
        "\n",
        "Esta estrategia que hemos utilizado para la separación de los datos se conoce como *hold-out set*\n"
      ]
    },
    {
      "cell_type": "markdown",
      "metadata": {
        "id": "dqt_wUZZu2bj"
      },
      "source": [
        "![picture](https://www.researchgate.net/profile/Brian_Mwandau/publication/325870973/figure/fig6/AS:639531594285060@1529487622235/Train-Test-Data-Split.png)"
      ]
    },
    {
      "cell_type": "markdown",
      "metadata": {
        "id": "RpaAmkFzvCI_"
      },
      "source": [
        "Una desventaja de utilizar esta estrategia es que perdemos una porcion de nuestros datos para el entrenamiento del modelo. Esta no es la estrategia más óptima, y puede ademas causar problemas, especialmente si el conjunto de entrenamiento es pequeño.\n",
        "\n",
        "Una forma de resolver este problema es usando lo que se conoce como *validación cruzada* (VC)\n",
        "\n",
        "**K-fold Cross-validation**\n",
        "\n",
        "La VC es un método estadístico para evaluar el rendimiento de generalización de un modelo, que es más estable y completo.\n",
        "\n",
        "En la VC, se realiza una serie de ajustes donde cada subconjunto de los datos se utiliza tanto para el entrenamiento como para la prueba.\n",
        "\n",
        "La versión más utilizada de la validación cruzada es la validación cruzada k-fold.\n",
        "\n",
        "Por ejemplo, cuando utilizamos una VC de 5 folds, los datos se dividen en cinco partes de aproximadamente el mismo tamaño llamados folds, con los que se procede a entrenar una secuencia de modelos.\n",
        "\n"
      ]
    },
    {
      "cell_type": "markdown",
      "metadata": {
        "id": "L1wmSmfdvsZG"
      },
      "source": [
        "\n",
        "\n",
        "![picture](https://www.mathworks.com/matlabcentral/mlc-downloads/downloads/233459a6-523d-4cf7-91f3-ff539a1b58ce/f6c9980c-ed0d-4564-8289-e95c9274b48e/images/screenshot.png)\n",
        "\n"
      ]
    },
    {
      "cell_type": "code",
      "metadata": {
        "colab": {
          "base_uri": "https://localhost:8080/"
        },
        "id": "Uzak_n5GMOoJ",
        "outputId": "8d679487-d176-484d-c417-5a173ea32f1c"
      },
      "source": [
        "df.columns"
      ],
      "execution_count": null,
      "outputs": [
        {
          "output_type": "execute_result",
          "data": {
            "text/plain": [
              "Index(['MAKE', 'MODEL', 'VEHICLECLASS', 'ENGINESIZE', 'CYLINDERS',\n",
              "       'TRANSMISSION', 'FUELTYPE', 'FUELCONSUMPTION_CITY',\n",
              "       'FUELCONSUMPTION_HWY', 'FUELCONSUMPTION_COMB',\n",
              "       'FUELCONSUMPTION_COMB_MPG', 'CO2EMISSIONS'],\n",
              "      dtype='object')"
            ]
          },
          "metadata": {
            "tags": []
          },
          "execution_count": 32
        }
      ]
    },
    {
      "cell_type": "markdown",
      "metadata": {
        "id": "d_LCep4qwLds"
      },
      "source": [
        "Al final, habremos obtenido cinco puntajes de validación para nuestro modelo Entonces, cuando utilizamos VC, cada instancia del conjunto de datos estará en el conjunto de entrenamiento exactamente una vez.\n",
        "\n",
        "Es importante tener en cuenta que la validación cruzada no es una forma de construir un modelo que pueda aplicarse a nuevos datos. La validación cruzada no devuelve un modelo sino que crea múltiples modelos internamente con el propósito de evaluar qué tan bien se generalizará un modelo dado cuando se entrene en un conjunto de datos específico.\n",
        "\n",
        "Veamos este proceso explícitamente con 2 folds:\n"
      ]
    },
    {
      "cell_type": "code",
      "metadata": {
        "id": "PXetoQh2eKkd",
        "colab": {
          "base_uri": "https://localhost:8080/"
        },
        "outputId": "0ffd7a28-4ae1-455c-b36e-0bb69698fefc"
      },
      "source": [
        "X = df[['ENGINESIZE','FUELCONSUMPTION_HWY']]\n",
        "\n",
        "X1, X2, y1, y2 = train_test_split(X, y, test_size = 0.5, random_state = 42)\n",
        "LR.fit(X1,y1).score(X2,y2)"
      ],
      "execution_count": null,
      "outputs": [
        {
          "output_type": "execute_result",
          "data": {
            "text/plain": [
              "0.8447391308065633"
            ]
          },
          "metadata": {
            "tags": []
          },
          "execution_count": 34
        }
      ]
    },
    {
      "cell_type": "code",
      "metadata": {
        "colab": {
          "base_uri": "https://localhost:8080/"
        },
        "id": "qjqH2CJrMiwW",
        "outputId": "f97e04ba-8eb1-473d-c0a5-2ef3434f34d3"
      },
      "source": [
        "LR.fit(X2,y2).score(X1,y1)"
      ],
      "execution_count": null,
      "outputs": [
        {
          "output_type": "execute_result",
          "data": {
            "text/plain": [
              "0.848326495627644"
            ]
          },
          "metadata": {
            "tags": []
          },
          "execution_count": 35
        }
      ]
    },
    {
      "cell_type": "markdown",
      "metadata": {
        "id": "OFda0kzYxzGc"
      },
      "source": [
        "La VC la podemos implementar directamente desde Sklearn con la clase `cross_val_score`:"
      ]
    },
    {
      "cell_type": "code",
      "metadata": {
        "id": "a3ze4jtvxtB7",
        "colab": {
          "base_uri": "https://localhost:8080/"
        },
        "outputId": "767dd43d-ce07-44c9-cacc-bbedad532967"
      },
      "source": [
        "from sklearn.model_selection import cross_val_score\n",
        "\n",
        "cross_val_score(LR, X , y, cv = 2)"
      ],
      "execution_count": null,
      "outputs": [
        {
          "output_type": "execute_result",
          "data": {
            "text/plain": [
              "array([0.74324557, 0.85438328])"
            ]
          },
          "metadata": {
            "tags": []
          },
          "execution_count": 38
        }
      ]
    },
    {
      "cell_type": "markdown",
      "metadata": {
        "id": "WRHCgMva3GzF"
      },
      "source": [
        "Note que obtenemos un resultado diferente al caso anterior. \n",
        "\n",
        "Hagamos una validación con 5 folds:"
      ]
    },
    {
      "cell_type": "code",
      "metadata": {
        "colab": {
          "base_uri": "https://localhost:8080/"
        },
        "id": "ggdXc7t3NPnz",
        "outputId": "6dc1413c-64ee-4227-931f-65725ed084a2"
      },
      "source": [
        "cross_val_score(LR, X , y, cv = 5)"
      ],
      "execution_count": null,
      "outputs": [
        {
          "output_type": "execute_result",
          "data": {
            "text/plain": [
              "array([0.81797747, 0.78081013, 0.80503005, 0.86130142, 0.883641  ])"
            ]
          },
          "metadata": {
            "tags": []
          },
          "execution_count": 39
        }
      ]
    },
    {
      "cell_type": "markdown",
      "metadata": {
        "id": "Z9RhbHGu2sJ3"
      },
      "source": [
        "Si observamos los cinco puntajes producidos por la validación cruzada, podemos concluir que existe una variación relativamente alta en la precisión entre los folds. Esto podría implicar que el modelo depende mucho de los folds particulares utilizados para el entrenamiento, pero también podría ser una consecuencia del pequeño tamaño del conjunto de datos.\n",
        "\n",
        "Para definir explícitamente la forma en que separaremos los datos, podemos utilizar la clase `KFold`"
      ]
    },
    {
      "cell_type": "code",
      "metadata": {
        "id": "AkVVyciS0LDw",
        "colab": {
          "base_uri": "https://localhost:8080/"
        },
        "outputId": "b949ee51-fc71-40cc-c698-849792fd1602"
      },
      "source": [
        "from sklearn.model_selection import KFold\n",
        "\n",
        "c_v = KFold(n_splits = 2, shuffle= True, random_state= 42)\n",
        "cross_val_score(LR, X , y, cv = c_v)\n"
      ],
      "execution_count": null,
      "outputs": [
        {
          "output_type": "execute_result",
          "data": {
            "text/plain": [
              "array([0.84473913, 0.8483265 ])"
            ]
          },
          "metadata": {
            "tags": []
          },
          "execution_count": 42
        }
      ]
    },
    {
      "cell_type": "markdown",
      "metadata": {
        "id": "JgNZUSGY4i0x"
      },
      "source": [
        "En resumen\n",
        "\n",
        "* Con VC, utilizamos todos los datos para el entrenamiento, y no solo una porción de estos. cada instancia estará un uno de los folds, y cada fold a su vez será un conjunto de prueba una vez, por lo que estaremos usando nuestros datos de manera más efectiva. Así, el modelo necesita generalizar bien para todas las muestras del conjunto de datos de manera que todos los puntajes de validacion sean altos.\n",
        "\n",
        "* Tener múltiples divisiones de los datos también nos proporciona información sobre cuán sensible es nuestro modelo a la selección del conjunto de datos de entrenamiento. En el ejemplo que hicimos, vimos precisiones entre 76% y 90%. Este es un rango bastante amplio y nos proporciona una idea sobre cómo podría funcionar el modelo en el peor de los casos y en el mejor de los casos cuando se aplica a nuevos datos.\n",
        "\n",
        "* La principal desventaja de la validación cruzada es el aumento del costo computacional. Como ahora estamos entrenando k modelos en lugar de un solo modelo, la validación cruzada será aproximadamente k veces más lenta que hacer una sola división de los datos."
      ]
    },
    {
      "cell_type": "markdown",
      "metadata": {
        "id": "7qDIWnWV9iEI"
      },
      "source": [
        "Ya hemos visto la receta básica para aplicar un modelo de ML supervisado:\n",
        "\n",
        "* Escoger un tipo de modelo\n",
        "* Escoger unos hiperparámetros\n",
        "* Entrenar el modelo con unos datos de entrenamiento\n",
        "* Utilizar el modelo para obtener predicciones\n",
        "\n",
        "Surge una pregunta clave: ¿Si nuestro estimador tiene bajo rendimiento, qué deberíamos hacer? \n",
        "\n",
        "* Usar un modelo más complejo/flexible\n",
        "* Usar un modelo menos complejo/flexible\n",
        "* Conseguir más datos de entrenamiento"
      ]
    },
    {
      "cell_type": "markdown",
      "metadata": {
        "id": "IEMMqL_q5ptm"
      },
      "source": [
        "# **Regresión polinomial**\n",
        "\n",
        "<p><a name=\"pol\"></a></p>\n",
        "\n",
        "¿Qué pasa si nuestros datos tienen una relación no lineal?"
      ]
    },
    {
      "cell_type": "code",
      "metadata": {
        "id": "FwcNlPBI4dZH",
        "colab": {
          "base_uri": "https://localhost:8080/",
          "height": 377
        },
        "outputId": "de4bda61-389a-4cf9-de60-42e381c4ec4b"
      },
      "source": [
        "X = np.random.rand(100,1) ** 2\n",
        "y = 10 - 1./(X.ravel() + 0.1)\n",
        "\n",
        "plt.figure(figsize=(8,6))\n",
        "plt.scatter(X,y);"
      ],
      "execution_count": null,
      "outputs": [
        {
          "output_type": "display_data",
          "data": {
            "image/png": "[encoded data removed]",
            "text/plain": [
              "<Figure size 576x432 with 1 Axes>"
            ]
          },
          "metadata": {
            "tags": [],
            "needs_background": "light"
          }
        }
      ]
    },
    {
      "cell_type": "markdown",
      "metadata": {
        "id": "RR55nvafB3og"
      },
      "source": [
        "Un modelo lineal simple utiliza una combinación lineal de las características de entrada para predecir  una salida\n",
        "\n",
        "$$\\hat y = w_0 + w_1 x_1 + \\cdots + w_n x_n$$\n",
        "\n",
        "\n",
        "\n",
        "\n",
        "\n",
        "\n"
      ]
    },
    {
      "cell_type": "code",
      "metadata": {
        "colab": {
          "base_uri": "https://localhost:8080/"
        },
        "id": "yCuMFP7YPRki",
        "outputId": "037443d8-c5c3-437d-c862-c83dddfb02bf"
      },
      "source": [
        "LR = LinearRegression()\n",
        "X_train, X_test, y_train, y_test = train_test_split(X, y, test_size = 0.2, random_state = 42)\n",
        "\n",
        "LR.fit(X_train, y_train).score(X_test, y_test)"
      ],
      "execution_count": null,
      "outputs": [
        {
          "output_type": "execute_result",
          "data": {
            "text/plain": [
              "0.7373581701461569"
            ]
          },
          "metadata": {
            "tags": []
          },
          "execution_count": 46
        }
      ]
    },
    {
      "cell_type": "markdown",
      "metadata": {
        "id": "Ug4eQSLPFjlI"
      },
      "source": [
        "Una forma fácil de extender el modelo lineal es incluir combinaciones de pares de características de entrada:\n",
        "\n",
        "$$\\hat y = \\omega_0 + \\omega_1 x_1 + \\cdots \\omega_n x_n + \\omega_{11}x_1 x_1 + \\omega_{12} x_1 x_2 + \\cdots$$\n",
        "\n",
        "Esto nos permite capturar interacciones entre características y, por lo tanto, estos pares se denominan *características de interacción*. Si la transformación es de la forma $f_n(x) = x^n$ obtenemos lo que se conoce como una **regresión polinomial**. En nuestro caso, tendríamos:\n",
        "\n",
        "$$\\hat y = \\omega_0 + \\omega_1 x_1 + \\omega_2 x_2$$\n",
        "$$\\hat y = \\omega_0 + \\omega_1 x_1 + \\omega_2 x_1 x_1$$\n",
        "\n",
        "Donde $x_2 = x_1\\times x_1$\n",
        "\n",
        "De esta manera podemos adaptar la regresión lineal a relaciones no lineales entre las variables. Observe que este sigue siendo un modelo lineal: la linealidad se refiere al hecho de que los coeficientes nunca se multiplican ni se dividen entre sí. \n",
        "\n",
        "Lo que hemos hecho efectivamente es tomar nuestros valores de $X$ unidimensionales y proyectarlos en una dimensión superior, de modo que un ajuste lineal pueda encajar relaciones más complicadas entre $X$ y $y$.\n",
        "\n",
        "Podemos implementar la regresión polinomica utilizando el transformador `PolynomialFeatures` de Sklearn:"
      ]
    },
    {
      "cell_type": "code",
      "metadata": {
        "id": "1g0pAUsAGXAP"
      },
      "source": [
        "from sklearn.preprocessing import PolynomialFeatures\n",
        "\n",
        "PolynomialFeatures?"
      ],
      "execution_count": null,
      "outputs": []
    },
    {
      "cell_type": "code",
      "metadata": {
        "id": "3fBlMR88GshL",
        "colab": {
          "base_uri": "https://localhost:8080/"
        },
        "outputId": "40fe3e6f-6d0f-4b3f-85b3-5d4c25f667a1"
      },
      "source": [
        "poly = PolynomialFeatures(degree= 2, include_bias=False)\n",
        "\n",
        "X_train_pol = poly.fit_transform(X_train)\n",
        "X_test_pol = poly.fit_transform(X_test)\n",
        "\n",
        "X_poly = poly.fit_transform(X)\n",
        "X_poly.shape"
      ],
      "execution_count": null,
      "outputs": [
        {
          "output_type": "execute_result",
          "data": {
            "text/plain": [
              "(100, 2)"
            ]
          },
          "metadata": {
            "tags": []
          },
          "execution_count": 52
        }
      ]
    },
    {
      "cell_type": "code",
      "metadata": {
        "colab": {
          "base_uri": "https://localhost:8080/"
        },
        "id": "TB92KEbURb0C",
        "outputId": "469900c1-e634-41b5-a101-80b3ac453f3b"
      },
      "source": [
        "LR = LinearRegression().fit(X_train_pol, y_train)\n",
        "\n",
        "LR.score(X_test_pol, y_test)"
      ],
      "execution_count": null,
      "outputs": [
        {
          "output_type": "execute_result",
          "data": {
            "text/plain": [
              "0.9196277797311823"
            ]
          },
          "metadata": {
            "tags": []
          },
          "execution_count": 53
        }
      ]
    },
    {
      "cell_type": "markdown",
      "metadata": {
        "id": "VmAeXkGpL46N"
      },
      "source": [
        "**Ejercicio:** Escriba una función que tome como argumento el grado del polinomio y que construya un Pipeline que encadene la transformación polinomial de las características y la construcción de un modelo de regresión lineal."
      ]
    },
    {
      "cell_type": "code",
      "metadata": {
        "id": "wifqIUjQK7Fz"
      },
      "source": [
        "def PolyRef(degree = 2):\n",
        "  return make_pipeline(PolynomialFeatures(degree, include_bias=False),\n",
        "                       LinearRegression())"
      ],
      "execution_count": null,
      "outputs": []
    },
    {
      "cell_type": "code",
      "metadata": {
        "id": "qLi_nO7ZL-dL"
      },
      "source": [
        "p = PolyRef().fit(X_train, y_train)"
      ],
      "execution_count": null,
      "outputs": []
    },
    {
      "cell_type": "code",
      "metadata": {
        "id": "3OH9W1sIt0n-",
        "colab": {
          "base_uri": "https://localhost:8080/"
        },
        "outputId": "52951242-694a-4ce0-8d35-adcd29c939e5"
      },
      "source": [
        "p.score(X_test, y_test)"
      ],
      "execution_count": null,
      "outputs": [
        {
          "output_type": "execute_result",
          "data": {
            "text/plain": [
              "0.9196277797311823"
            ]
          },
          "metadata": {
            "tags": []
          },
          "execution_count": 61
        }
      ]
    },
    {
      "cell_type": "code",
      "metadata": {
        "id": "zx7HEBHwuYHD"
      },
      "source": [
        ""
      ],
      "execution_count": null,
      "outputs": []
    }
  ]
}