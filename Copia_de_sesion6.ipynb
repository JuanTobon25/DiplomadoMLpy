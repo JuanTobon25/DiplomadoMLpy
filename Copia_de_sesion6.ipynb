{
  "nbformat": 4,
  "nbformat_minor": 0,
  "metadata": {
    "colab": {
      "name": "Copia de sesion6.ipynb",
      "provenance": [],
      "collapsed_sections": [
        "-OvIOX4zj2TO"
      ]
    },
    "kernelspec": {
      "name": "python3",
      "display_name": "Python 3"
    }
  },
  "cells": [
    {
      "cell_type": "markdown",
      "metadata": {
        "id": "MmUU_s3VVUqe"
      },
      "source": [
        "<p><img alt=\"Colaboratory logo\" height=\"140px\" src=\"https://upload.wikimedia.org/wikipedia/commons/archive/f/fb/20161010213812%21Escudo-UdeA.svg\" align=\"left\" hspace=\"10px\" vspace=\"0px\"></p>\n",
        "\n",
        "# **Diplomado de Análisis de datos y Machine Learning en Python**\n",
        "\n",
        "El presente diplomado hace parte del centro de Big Data de la facultad de ciencias exactas y naturales (FCEN) de la Universidad de Antioquia.\n",
        "\n",
        "## **Sesión 6**\n",
        "\n",
        "## **Contenido**\n",
        "  \n",
        "- <a href=\"#num\"> NumPy</a><br>\n",
        "- <a href=\"#arr\"> Arreglos en NumPy</a><br>\n",
        "- <a href=\"#ope\"> Operaciones sobre los arreglos</a><br>\n",
        "- <a href=\"#apeA\"> Apéndice A: Iteradores útiles</a><br>\n",
        "\n",
        "\n",
        "\n",
        "\n",
        "\n",
        "\n",
        "\n",
        "\n",
        "\n"
      ]
    },
    {
      "cell_type": "markdown",
      "metadata": {
        "id": "_xWT5B3cZ5ks"
      },
      "source": [
        "\n",
        "\n",
        "La implementación estándar de Python está escrita en C. Esto significa que cada objeto de Python es simplemente una estructura de C, que contiene no solo su valor, sino también otra información. Ya hemos visto que cuando definimos una variable, esta es en realidad un puntero a una estructura compuesta de C, que contiene ciertos valores diferentes: referencia, tipo, tamaño, valor, etc."
      ]
    },
    {
      "cell_type": "markdown",
      "metadata": {
        "id": "B5RKnXOzfP5s"
      },
      "source": [
        "![variables in C](https://i.imgur.com/0RQOTQ0.png)"
      ]
    },
    {
      "cell_type": "markdown",
      "metadata": {
        "id": "8_zvefG5f0Za"
      },
      "source": [
        "![](https://i.imgur.com/F3IQqwE.png)"
      ]
    },
    {
      "cell_type": "markdown",
      "metadata": {
        "id": "S1_inYh9aNRD"
      },
      "source": [
        "Recordemos que en Python, al ser un lenguaje de tipado dinámico, podemos generar listas donde cada uno de sus elementos pueden ser de cualquier tipo"
      ]
    },
    {
      "cell_type": "code",
      "metadata": {
        "id": "f5AnsypNaN6E",
        "colab": {
          "base_uri": "https://localhost:8080/"
        },
        "outputId": "10a11570-96a1-4308-dfef-eae68e671f5b"
      },
      "source": [
        "l = [False, \"uno\", 2.0, 3, 4+0j]\n",
        "\n",
        "print([type(i) for i in l], type(l))"
      ],
      "execution_count": null,
      "outputs": [
        {
          "output_type": "stream",
          "text": [
            "[<class 'bool'>, <class 'str'>, <class 'float'>, <class 'int'>, <class 'complex'>] <class 'list'>\n"
          ],
          "name": "stdout"
        }
      ]
    },
    {
      "cell_type": "markdown",
      "metadata": {
        "id": "Wke-LRAzaLsy"
      },
      "source": [
        "Esta flexibilidad tiene un costo: cada elemento de la lista debe contener su propia información, es decir, cada elemento es un objeto completo de Python. En el caso especial en que todas las variables sean del mismo tipo, gran parte de esta información es redundante: puede ser mucho más eficiente almacenar datos en una lista de tipo homogéneo. Python ofrece diferentes opciones para almacenar datos de esta manera (por ejemplo a través del módulo `array`). Sin embargo, la mejor manera de generar este tipo de objetos es a través de la libreria NumPy.\n",
        "\n"
      ]
    },
    {
      "cell_type": "markdown",
      "metadata": {
        "id": "UnwBij2FYLC8"
      },
      "source": [
        "<p><a name=\"num\"></a></p>\n",
        "\n",
        "# **NumPy** (Numerical Python)\n",
        "\n",
        "En el núcleo de la mayoría de los problemas encontramos un **arreglo**. Desde el punto de vista computacional, un arreglo es un bloque contiguo de memoria donde cada elemento tiene el mismo tipo.\n",
        "\n",
        "Los diferentes lenguajes de programación utilizados en computación científica tienen alguna noción de manejo de datos basado en arreglos, ya sea integrado en el lenguaje propio o a través de paquetes proporcionados por terceros.\n",
        "\n",
        "NumPy es el paquete fundamental para la computación científica en Python. Es una libreria de Python que proporciona herramientas para la generación de arreglos y una variedad de funcionalidades para realizar operaciones sobre estos, que generalmente se realizan de una manera más eficiente que lo que se puede lograr con funcionalidades propias de Python. NumPy sirve como bloque básico para una gran cantidad de paquetes científicos y de análisis de datos.\n",
        "\n",
        "En el núcleo de NumPy, está el objeto `ndarray` (n-dimensional array). Este encapsula arreglos n-dimensionales de tipos de datos homogéneos, con muchas operaciones que se realizan en código compilado, con lo cual se mejora el rendimiento significativamente. La diferencia entre una lista de tipo dinámico y un arreglo de tipo fijo (al estilo NumPy) se ilustra en la siguiente figura:\n",
        "\n"
      ]
    },
    {
      "cell_type": "markdown",
      "metadata": {
        "id": "DubMLI8uYZsv"
      },
      "source": [
        "<p><img alt=\"Colaboratory logo\" height=\"350px\" src=\"https://i.imgur.com/8EbyB0c.png\" align=\"left\" hspace=\"10px\" vspace=\"0px\"></p>"
      ]
    },
    {
      "cell_type": "markdown",
      "metadata": {
        "id": "23kiqlTudyki"
      },
      "source": [
        "Al nivel de implementación, el arreglo contiene esencialmente un puntero único a un bloque contiguo de datos. La lista de Python, por otro lado, contiene un puntero a un bloque de punteros, cada uno de los cuales a su vez apunta a un objeto completo de Python como el entero de Python que vimos anteriormente.\n",
        "\n",
        "En resumen, estas son las diferencias más importantes entre los arreglos de NumPy y las secuencias estándar de Python:\n",
        "\n",
        "* Todos los elementos en un arreglo de NumPy deben ser del mismo tipo de dato y, por lo tanto, tendrán el mismo tamaño en memoria.\n",
        "* Los arreglos de NumPy tienen un tamaño fijo en la creación, a diferencia de las listas de Python (que pueden crecer dinámicamente). Cambiar el tamaño de un `ndarray` creará un nuevo arreglo y eliminará el original.\n",
        "* Los arreglos de NumPy facilitan operaciones avanzadas matemáticas y de otro tipo en grandes cantidades de datos. Típicamente, tales operaciones se ejecutan de manera más eficiente que usando las secuencias integradas de Python.\n",
        "\n"
      ]
    },
    {
      "cell_type": "markdown",
      "metadata": {
        "id": "epJPd5nVibfR"
      },
      "source": [
        "<p><a name=\"arr\"></a></p>\n",
        "\n",
        "# **Arreglos en Numpy**\n",
        "\n",
        "Por convención, la librería NumPy se import con el alias `np`"
      ]
    },
    {
      "cell_type": "code",
      "metadata": {
        "id": "jayLcM0ugkUT"
      },
      "source": [
        "# from numpy import * NO HACER ESTO NUNCA"
      ],
      "execution_count": null,
      "outputs": []
    },
    {
      "cell_type": "code",
      "metadata": {
        "id": "uzi2rEa5jtcj"
      },
      "source": [
        "import numpy as np"
      ],
      "execution_count": null,
      "outputs": []
    },
    {
      "cell_type": "markdown",
      "metadata": {
        "id": "HaDPZCKyiiHx"
      },
      "source": [
        "Podemos construir un objeto `ndarray`, a partir de una lista de Python, mediante el constructor `array`:\n"
      ]
    },
    {
      "cell_type": "code",
      "metadata": {
        "id": "3WVZXH0Hikpx"
      },
      "source": [
        "arreglo = np.array([1, 2, 3])"
      ],
      "execution_count": null,
      "outputs": []
    },
    {
      "cell_type": "code",
      "metadata": {
        "id": "i02ZlSioZHiJ",
        "colab": {
          "base_uri": "https://localhost:8080/"
        },
        "outputId": "04c8a0d4-8466-43bd-b2fa-b7d47435ef9c"
      },
      "source": [
        "print(arreglo)"
      ],
      "execution_count": null,
      "outputs": [
        {
          "output_type": "stream",
          "text": [
            "[1 2 3]\n"
          ],
          "name": "stdout"
        }
      ]
    },
    {
      "cell_type": "code",
      "metadata": {
        "id": "vf6J7l6YecI_",
        "colab": {
          "base_uri": "https://localhost:8080/"
        },
        "outputId": "05fced9b-ff28-4d61-85e2-784046b562a1"
      },
      "source": [
        "type(arreglo)"
      ],
      "execution_count": null,
      "outputs": [
        {
          "output_type": "execute_result",
          "data": {
            "text/plain": [
              "numpy.ndarray"
            ]
          },
          "metadata": {
            "tags": []
          },
          "execution_count": 8
        }
      ]
    },
    {
      "cell_type": "markdown",
      "metadata": {
        "id": "eM0gLkqZiqps"
      },
      "source": [
        "El objeto `ndarray` representa efectivamente un bloque de memoria de tamaño fijo, el cual contiene una serie de atributos y métodos que definen su estructura. Veamos algunos de los atributos más importantes de este objeto:\n",
        "\n",
        "### **dtype:** \n",
        "\n",
        "El tipo de dato (data type) es el atributo más importante. Este determina el tamaño y el significado de cada elemento del arreglo. El sistema predeterminado de dtypes que proporciona NumPy (ver siguiente imagen) es más preciso y más amplio para los tipos básicos que el sistema de tipos que implementa el lenguaje Python. Podemos ver el data type como `arreglo.dtype`"
      ]
    },
    {
      "cell_type": "code",
      "metadata": {
        "id": "ELCQ7Lwmi3mh",
        "colab": {
          "base_uri": "https://localhost:8080/"
        },
        "outputId": "d1661c0b-1992-439d-c992-98cd273355c4"
      },
      "source": [
        "arreglo.dtype"
      ],
      "execution_count": null,
      "outputs": [
        {
          "output_type": "execute_result",
          "data": {
            "text/plain": [
              "dtype('int64')"
            ]
          },
          "metadata": {
            "tags": []
          },
          "execution_count": 10
        }
      ]
    },
    {
      "cell_type": "markdown",
      "metadata": {
        "id": "UJ7-gnp7iyxz"
      },
      "source": [
        "<p><img alt=\"Colaboratory logo\" height=\"400px\" src=\"https://i.imgur.com/2RpU9w1.png\" align=\"left\" hspace=\"10px\" vspace=\"0px\"></p>"
      ]
    },
    {
      "cell_type": "code",
      "metadata": {
        "id": "ecUM9kPZemaR"
      },
      "source": [
        ""
      ],
      "execution_count": null,
      "outputs": []
    },
    {
      "cell_type": "markdown",
      "metadata": {
        "id": "zRymWwMTiz1Z"
      },
      "source": [
        "### **shape:** \n",
        "\n",
        "Atributo que devuelve una tupla de enteros que representa el rango a lo largo de cada dimensión de los arreglos n-dimensionales."
      ]
    },
    {
      "cell_type": "code",
      "metadata": {
        "id": "g6i1EdbJbSho",
        "colab": {
          "base_uri": "https://localhost:8080/"
        },
        "outputId": "869bdbee-775a-4d3a-f12c-2db1d825e2f3"
      },
      "source": [
        "l = [[1, 2], [3, 4]]\n",
        "print(f\"l: {l}\")\n",
        "arr2 = np.array([i for i in range(27)])\n",
        "arr2.shape = (3, 3, 3)\n",
        "arr = np.array(l)\n",
        "print(f\"arr:\\n {arr}\")\n",
        "print(arr.shape, arreglo.shape)"
      ],
      "execution_count": null,
      "outputs": [
        {
          "output_type": "stream",
          "text": [
            "l: [[1, 2], [3, 4]]\n",
            "arr:\n",
            " [[1 2]\n",
            " [3 4]]\n",
            "(2, 2) (3,)\n"
          ],
          "name": "stdout"
        }
      ]
    },
    {
      "cell_type": "markdown",
      "metadata": {
        "id": "yd60isKPjCuB"
      },
      "source": [
        "La forma `(4,)`, nos dice que `l` es un arreglo unidimensional, donde la dimensión tiene un rango 4. La dimensión y el número de elementos del arreglo se pueden obtener mediante los atributos `ndim` y `size`, respectivamente:"
      ]
    },
    {
      "cell_type": "code",
      "metadata": {
        "id": "zdrD74A-jGhR",
        "colab": {
          "base_uri": "https://localhost:8080/"
        },
        "outputId": "1ee98b60-c057-47ec-aa30-0d03c0cc2586"
      },
      "source": [
        "arr.ndim"
      ],
      "execution_count": null,
      "outputs": [
        {
          "output_type": "execute_result",
          "data": {
            "text/plain": [
              "2"
            ]
          },
          "metadata": {
            "tags": []
          },
          "execution_count": 13
        }
      ]
    },
    {
      "cell_type": "code",
      "metadata": {
        "id": "NdvtadvbjKOH",
        "colab": {
          "base_uri": "https://localhost:8080/"
        },
        "outputId": "07e9ebbe-d239-4ef2-df2c-ee91f7401f9d"
      },
      "source": [
        "print(arr2)\n",
        "arr2.ndim"
      ],
      "execution_count": null,
      "outputs": [
        {
          "output_type": "stream",
          "text": [
            "[[[ 0  1  2]\n",
            "  [ 3  4  5]\n",
            "  [ 6  7  8]]\n",
            "\n",
            " [[ 9 10 11]\n",
            "  [12 13 14]\n",
            "  [15 16 17]]\n",
            "\n",
            " [[18 19 20]\n",
            "  [21 22 23]\n",
            "  [24 25 26]]]\n"
          ],
          "name": "stdout"
        },
        {
          "output_type": "execute_result",
          "data": {
            "text/plain": [
              "3"
            ]
          },
          "metadata": {
            "tags": []
          },
          "execution_count": 20
        }
      ]
    },
    {
      "cell_type": "code",
      "metadata": {
        "id": "7pjljBLJcYrO",
        "colab": {
          "base_uri": "https://localhost:8080/"
        },
        "outputId": "4aa3cf02-b5bc-4e4f-faec-8a4bde9a02b6"
      },
      "source": [
        "arr2.size"
      ],
      "execution_count": null,
      "outputs": [
        {
          "output_type": "execute_result",
          "data": {
            "text/plain": [
              "27"
            ]
          },
          "metadata": {
            "tags": []
          },
          "execution_count": 15
        }
      ]
    },
    {
      "cell_type": "code",
      "metadata": {
        "colab": {
          "base_uri": "https://localhost:8080/"
        },
        "id": "l0sM_rWVPgss",
        "outputId": "a5dd841a-98d8-4f86-a496-1ce78faf4818"
      },
      "source": [
        "len(arr2)"
      ],
      "execution_count": null,
      "outputs": [
        {
          "output_type": "execute_result",
          "data": {
            "text/plain": [
              "3"
            ]
          },
          "metadata": {
            "tags": []
          },
          "execution_count": 16
        }
      ]
    },
    {
      "cell_type": "markdown",
      "metadata": {
        "id": "BcNv1blEjN0X"
      },
      "source": [
        "Podemos modificar la forma del arreglo modificando el atributo shape:"
      ]
    },
    {
      "cell_type": "code",
      "metadata": {
        "id": "iv2T4d-cjO2J",
        "colab": {
          "base_uri": "https://localhost:8080/"
        },
        "outputId": "6756c1a3-bc6e-4fd6-d5e1-14c6e51aea32"
      },
      "source": [
        "arr3 = np.array([ i for i in range(6)])\n",
        "print(arr3)\n",
        "arr3.shape = (2, 3)\n",
        "print(arr3)\n",
        "arr3.shape = (3, 2)\n",
        "print(arr3)"
      ],
      "execution_count": null,
      "outputs": [
        {
          "output_type": "stream",
          "text": [
            "[0 1 2 3 4 5]\n",
            "[[0 1 2]\n",
            " [3 4 5]]\n",
            "[[0 1]\n",
            " [2 3]\n",
            " [4 5]]\n"
          ],
          "name": "stdout"
        }
      ]
    },
    {
      "cell_type": "code",
      "metadata": {
        "id": "qv0SmUP7c3-l"
      },
      "source": [
        ""
      ],
      "execution_count": null,
      "outputs": []
    },
    {
      "cell_type": "markdown",
      "metadata": {
        "id": "Jn_0QNSHjlPY"
      },
      "source": [
        "Alternativamente, NumPy proporciona el método `reshape`, con el cual podemos cambiar la forma de un arreglo. Este toma como argumento el arreglo a modificar y un entero o tupla que represente la nueva forma. \n",
        "\n",
        "Esta nueva forma debe ser compatible con el número de elementos que tenga el arreglo. Cambiemos la forma de `l` para tener un vector fila:"
      ]
    },
    {
      "cell_type": "code",
      "metadata": {
        "id": "fGoTIUW0DZ_l",
        "colab": {
          "base_uri": "https://localhost:8080/"
        },
        "outputId": "88339fc2-f1b2-4b9a-85ee-5aa2456ca1a3"
      },
      "source": [
        "arr3.reshape((6,))"
      ],
      "execution_count": null,
      "outputs": [
        {
          "output_type": "execute_result",
          "data": {
            "text/plain": [
              "array([0, 1, 2, 3, 4, 5])"
            ]
          },
          "metadata": {
            "tags": []
          },
          "execution_count": 23
        }
      ]
    },
    {
      "cell_type": "markdown",
      "metadata": {
        "id": "IPeVXHXZjrTO"
      },
      "source": [
        "NumPy nos permite pasar una de las dimensiones como `-1`. De esta manera, Numpy se encargará de que el rango en esa dimensión sea compatible con el arreglo original y con el rango de la dimensión que se fijó:"
      ]
    },
    {
      "cell_type": "code",
      "metadata": {
        "id": "tAkaZSHug3Lw",
        "colab": {
          "base_uri": "https://localhost:8080/"
        },
        "outputId": "303596f7-af5b-40aa-f89c-a8c519a8b410"
      },
      "source": [
        "arr3.reshape((-1,))"
      ],
      "execution_count": null,
      "outputs": [
        {
          "output_type": "execute_result",
          "data": {
            "text/plain": [
              "array([0, 1, 2, 3, 4, 5])"
            ]
          },
          "metadata": {
            "tags": []
          },
          "execution_count": 24
        }
      ]
    },
    {
      "cell_type": "code",
      "metadata": {
        "id": "sWZJnig8jsGW",
        "colab": {
          "base_uri": "https://localhost:8080/"
        },
        "outputId": "be1ebfdc-96bd-4185-e6e9-25e53e35aaa3"
      },
      "source": [
        "arr3.reshape((1,-1))"
      ],
      "execution_count": null,
      "outputs": [
        {
          "output_type": "execute_result",
          "data": {
            "text/plain": [
              "array([[0, 1, 2, 3, 4, 5]])"
            ]
          },
          "metadata": {
            "tags": []
          },
          "execution_count": 25
        }
      ]
    },
    {
      "cell_type": "code",
      "metadata": {
        "id": "2mezeZk6eayH",
        "colab": {
          "base_uri": "https://localhost:8080/"
        },
        "outputId": "e9ef6833-a770-486e-80e6-d9a7c7c2e21b"
      },
      "source": [
        "arr3.reshape((-1,1))"
      ],
      "execution_count": null,
      "outputs": [
        {
          "output_type": "execute_result",
          "data": {
            "text/plain": [
              "array([[0],\n",
              "       [1],\n",
              "       [2],\n",
              "       [3],\n",
              "       [4],\n",
              "       [5]])"
            ]
          },
          "metadata": {
            "tags": []
          },
          "execution_count": 26
        }
      ]
    },
    {
      "cell_type": "markdown",
      "metadata": {
        "id": "-OvIOX4zj2TO"
      },
      "source": [
        "## **Formas alternativas de construir arreglos:** \n",
        "\n",
        "NumPy proporciona formas alternativas de crear arreglos. Las funciones más comunes son `arange`, `linspace` `zeros`, `ones`, `full` y `empty`. "
      ]
    },
    {
      "cell_type": "markdown",
      "metadata": {
        "id": "9LRVTgs2hTYN"
      },
      "source": [
        "##**Tarea**\n",
        "\n",
        "Consultar cómo construir arreglos con números aleatorios. ¿Se puede construir un arreglo con números aleatorios que sigan una distribución normal, exponencial?"
      ]
    },
    {
      "cell_type": "code",
      "metadata": {
        "id": "TQF5SDWCRNvH"
      },
      "source": [
        ""
      ],
      "execution_count": null,
      "outputs": []
    },
    {
      "cell_type": "markdown",
      "metadata": {
        "id": "JjxW0LPCkG-G"
      },
      "source": [
        "* La función `arange()` toma un inicio, final y un paso como la función `range()` de Python, excepto que devuelve un `ndarray` y que el paso puede ser un número real."
      ]
    },
    {
      "cell_type": "code",
      "metadata": {
        "id": "vCkbV5l6kLTX",
        "colab": {
          "base_uri": "https://localhost:8080/"
        },
        "outputId": "1e617cea-39e8-40fd-f925-8cfc5c033ac8"
      },
      "source": [
        "np.arange(0,6,2)"
      ],
      "execution_count": null,
      "outputs": [
        {
          "output_type": "execute_result",
          "data": {
            "text/plain": [
              "array([0, 2, 4])"
            ]
          },
          "metadata": {
            "tags": []
          },
          "execution_count": 29
        }
      ]
    },
    {
      "cell_type": "markdown",
      "metadata": {
        "id": "zeBulLrykGeD"
      },
      "source": [
        "- La función `linspace` crea una serie de puntos uniformemente entre un límite inferior y superior que incluye ambos extremos. Su sintáxis es de la forma:\n",
        "\n",
        "> \n",
        "    linspace(inicio, final, numero de puntos)"
      ]
    },
    {
      "cell_type": "code",
      "metadata": {
        "id": "IHfXdV-_kXjk",
        "colab": {
          "base_uri": "https://localhost:8080/"
        },
        "outputId": "41270b35-190d-4892-86f8-b013b0f54671"
      },
      "source": [
        "np.linspace(5, 55, 11)"
      ],
      "execution_count": null,
      "outputs": [
        {
          "output_type": "execute_result",
          "data": {
            "text/plain": [
              "array([ 5., 10., 15., 20., 25., 30., 35., 40., 45., 50., 55.])"
            ]
          },
          "metadata": {
            "tags": []
          },
          "execution_count": 32
        }
      ]
    },
    {
      "cell_type": "code",
      "metadata": {
        "id": "BAn4hcILjCnS",
        "colab": {
          "base_uri": "https://localhost:8080/"
        },
        "outputId": "84658363-baa6-41aa-9d33-6e1a2b2ed86d"
      },
      "source": [
        "np.linspace(5, 55, retstep=True)"
      ],
      "execution_count": null,
      "outputs": [
        {
          "output_type": "execute_result",
          "data": {
            "text/plain": [
              "(array([ 5.        ,  6.02040816,  7.04081633,  8.06122449,  9.08163265,\n",
              "        10.10204082, 11.12244898, 12.14285714, 13.16326531, 14.18367347,\n",
              "        15.20408163, 16.2244898 , 17.24489796, 18.26530612, 19.28571429,\n",
              "        20.30612245, 21.32653061, 22.34693878, 23.36734694, 24.3877551 ,\n",
              "        25.40816327, 26.42857143, 27.44897959, 28.46938776, 29.48979592,\n",
              "        30.51020408, 31.53061224, 32.55102041, 33.57142857, 34.59183673,\n",
              "        35.6122449 , 36.63265306, 37.65306122, 38.67346939, 39.69387755,\n",
              "        40.71428571, 41.73469388, 42.75510204, 43.7755102 , 44.79591837,\n",
              "        45.81632653, 46.83673469, 47.85714286, 48.87755102, 49.89795918,\n",
              "        50.91836735, 51.93877551, 52.95918367, 53.97959184, 55.        ]),\n",
              " 1.0204081632653061)"
            ]
          },
          "metadata": {
            "tags": []
          },
          "execution_count": 33
        }
      ]
    },
    {
      "cell_type": "markdown",
      "metadata": {
        "id": "xN7t7lV_kaO7"
      },
      "source": [
        "- Las funciones `zeros()` y `ones()` toman un entero o una tupla de enteros como argumento y devuelven un `ndarray` cuya forma coincide con la de la tupla y cuyos elementos son cero o uno:"
      ]
    },
    {
      "cell_type": "code",
      "metadata": {
        "id": "u227SC6dkcEN",
        "colab": {
          "base_uri": "https://localhost:8080/"
        },
        "outputId": "1de9871d-a4d7-42ee-bf91-e672fc9a37fe"
      },
      "source": [
        "np.zeros([3, 3])\n",
        "np.ones((3, 3))"
      ],
      "execution_count": null,
      "outputs": [
        {
          "output_type": "execute_result",
          "data": {
            "text/plain": [
              "array([[1., 1., 1.],\n",
              "       [1., 1., 1.],\n",
              "       [1., 1., 1.]])"
            ]
          },
          "metadata": {
            "tags": []
          },
          "execution_count": 37
        }
      ]
    },
    {
      "cell_type": "markdown",
      "metadata": {
        "id": "n6qMLb1zkjO4"
      },
      "source": [
        "- La función `full()` funciona de manera similar a `zeros()` y `ones()`, solo que podemos llenar el arreglo con cualquier valor:"
      ]
    },
    {
      "cell_type": "code",
      "metadata": {
        "id": "1W_hZKHfkePe",
        "colab": {
          "base_uri": "https://localhost:8080/"
        },
        "outputId": "0ebe2918-8dda-422b-81b4-368a49a2ccc9"
      },
      "source": [
        "np.full((3, 2), 17.4)"
      ],
      "execution_count": null,
      "outputs": [
        {
          "output_type": "execute_result",
          "data": {
            "text/plain": [
              "array([[17.4, 17.4],\n",
              "       [17.4, 17.4],\n",
              "       [17.4, 17.4]])"
            ]
          },
          "metadata": {
            "tags": []
          },
          "execution_count": 38
        }
      ]
    },
    {
      "cell_type": "markdown",
      "metadata": {
        "id": "1MJPr6X84Pme"
      },
      "source": [
        "- La función `empty()`, por otro lado, asignará memoria sin asignarle ningún valor. Esto significa que el contenido de un arreglo vacío será lo que esté en la memoria en ese momento. Esto es particularmente útil cuando creamos un arreglo cuyos valores serán modificados posteriormente."
      ]
    },
    {
      "cell_type": "code",
      "metadata": {
        "colab": {
          "base_uri": "https://localhost:8080/"
        },
        "id": "zIGeQeCuSn30",
        "outputId": "ce31d90d-2e2e-4655-f078-ef2156cdb304"
      },
      "source": [
        "help(np.empty)"
      ],
      "execution_count": null,
      "outputs": [
        {
          "output_type": "stream",
          "text": [
            "Help on built-in function empty in module numpy:\n",
            "\n",
            "empty(...)\n",
            "    empty(shape, dtype=float, order='C')\n",
            "    \n",
            "    Return a new array of given shape and type, without initializing entries.\n",
            "    \n",
            "    Parameters\n",
            "    ----------\n",
            "    shape : int or tuple of int\n",
            "        Shape of the empty array, e.g., ``(2, 3)`` or ``2``.\n",
            "    dtype : data-type, optional\n",
            "        Desired output data-type for the array, e.g, `numpy.int8`. Default is\n",
            "        `numpy.float64`.\n",
            "    order : {'C', 'F'}, optional, default: 'C'\n",
            "        Whether to store multi-dimensional data in row-major\n",
            "        (C-style) or column-major (Fortran-style) order in\n",
            "        memory.\n",
            "    \n",
            "    Returns\n",
            "    -------\n",
            "    out : ndarray\n",
            "        Array of uninitialized (arbitrary) data of the given shape, dtype, and\n",
            "        order.  Object arrays will be initialized to None.\n",
            "    \n",
            "    See Also\n",
            "    --------\n",
            "    empty_like : Return an empty array with shape and type of input.\n",
            "    ones : Return a new array setting values to one.\n",
            "    zeros : Return a new array setting values to zero.\n",
            "    full : Return a new array of given shape filled with value.\n",
            "    \n",
            "    \n",
            "    Notes\n",
            "    -----\n",
            "    `empty`, unlike `zeros`, does not set the array values to zero,\n",
            "    and may therefore be marginally faster.  On the other hand, it requires\n",
            "    the user to manually set all the values in the array, and should be\n",
            "    used with caution.\n",
            "    \n",
            "    Examples\n",
            "    --------\n",
            "    >>> np.empty([2, 2])\n",
            "    array([[ -9.74499359e+001,   6.69583040e-309],\n",
            "           [  2.13182611e-314,   3.06959433e-309]])         #uninitialized\n",
            "    \n",
            "    >>> np.empty([2, 2], dtype=int)\n",
            "    array([[-1073741821, -1067949133],\n",
            "           [  496041986,    19249760]])                     #uninitialized\n",
            "\n"
          ],
          "name": "stdout"
        }
      ]
    },
    {
      "cell_type": "code",
      "metadata": {
        "id": "QEZOaCCZ4SZh",
        "colab": {
          "base_uri": "https://localhost:8080/"
        },
        "outputId": "448a5198-cce8-4ba0-ca73-5165c67c5939"
      },
      "source": [
        "np.empty((5 ,2))"
      ],
      "execution_count": null,
      "outputs": [
        {
          "output_type": "execute_result",
          "data": {
            "text/plain": [
              "array([[ 5.        , 10.55555556],\n",
              "       [16.11111111, 21.66666667],\n",
              "       [27.22222222, 32.77777778],\n",
              "       [38.33333333, 43.88888889],\n",
              "       [49.44444444, 55.        ]])"
            ]
          },
          "metadata": {
            "tags": []
          },
          "execution_count": 39
        }
      ]
    },
    {
      "cell_type": "markdown",
      "metadata": {
        "id": "jfaapXg_nRMo"
      },
      "source": [
        "<p><a name=\"ope\"></a></p>\n",
        "\n",
        "# **Operaciones sobre los arreglos**\n",
        "\n",
        "Ahora que hemos visto cómo definir arreglos de NumPy, podemos discutir cómo realizar operaciones sobre los arreglos. La clave para hacer estas operaciones de una forma rápida y eficiente es usar operaciones **vectorizadas**, implementadas a través de las funciones universales de NumPy (ufuncs).\n",
        "\n",
        "Recordemos que la operación de sumar dos listas de Python resulta en la concatenación de dichas listas:\n",
        "\n"
      ]
    },
    {
      "cell_type": "code",
      "metadata": {
        "id": "4LZtf2OEnh_9",
        "colab": {
          "base_uri": "https://localhost:8080/"
        },
        "outputId": "6466af14-51a4-439c-d1bf-02faca6c035f"
      },
      "source": [
        "lista1 = [1, 2, 3, 4, 5]\n",
        "lista2 = [6, 7, 9, 9, 0]\n",
        "\n",
        "lista1 + lista2"
      ],
      "execution_count": null,
      "outputs": [
        {
          "output_type": "execute_result",
          "data": {
            "text/plain": [
              "[1, 2, 3, 4, 5, 6, 7, 9, 9, 0]"
            ]
          },
          "metadata": {
            "tags": []
          },
          "execution_count": 42
        }
      ]
    },
    {
      "cell_type": "markdown",
      "metadata": {
        "id": "H3ucSUHN7pQ8"
      },
      "source": [
        "Si quisieramos sumar elemento a elemento, debemos hacer explícito un ciclo `for` con la función `zip()` para dos variables de la siguiente manera (ver **Apéndice A**):"
      ]
    },
    {
      "cell_type": "code",
      "metadata": {
        "id": "53ldvSZ9lFmP",
        "colab": {
          "base_uri": "https://localhost:8080/"
        },
        "outputId": "dc2753da-89eb-476c-a8f9-6228d4327d48"
      },
      "source": [
        "for i, j in zip(lista1, lista2):\n",
        "  print(i+j)"
      ],
      "execution_count": null,
      "outputs": [
        {
          "output_type": "stream",
          "text": [
            "7\n",
            "9\n",
            "12\n",
            "13\n",
            "5\n"
          ],
          "name": "stdout"
        }
      ]
    },
    {
      "cell_type": "code",
      "metadata": {
        "id": "CDxSTUYslAY8"
      },
      "source": [
        ""
      ],
      "execution_count": null,
      "outputs": []
    },
    {
      "cell_type": "code",
      "metadata": {
        "id": "9q3IZtF97gum"
      },
      "source": [
        ""
      ],
      "execution_count": null,
      "outputs": []
    },
    {
      "cell_type": "markdown",
      "metadata": {
        "id": "UaS38kSWn4pl"
      },
      "source": [
        "Si realizamos esta misma operación con arreglos de Numpy, obtendremos otra salida:"
      ]
    },
    {
      "cell_type": "code",
      "metadata": {
        "id": "zoKWkWGuW7J6",
        "colab": {
          "base_uri": "https://localhost:8080/"
        },
        "outputId": "bbc42dd7-6b3e-4a4a-91f3-8a483bf6e65e"
      },
      "source": [
        "np.add(lista1, lista2)"
      ],
      "execution_count": null,
      "outputs": [
        {
          "output_type": "execute_result",
          "data": {
            "text/plain": [
              "array([ 7,  9, 12, 13,  5])"
            ]
          },
          "metadata": {
            "tags": []
          },
          "execution_count": 44
        }
      ]
    },
    {
      "cell_type": "code",
      "metadata": {
        "id": "cI_eeqL1mJz6"
      },
      "source": [
        ""
      ],
      "execution_count": null,
      "outputs": []
    },
    {
      "cell_type": "markdown",
      "metadata": {
        "id": "zKgpb0_qn-HU"
      },
      "source": [
        "Como los arreglos son de NumPy, se está realizando lo que se conoce como una operación **vectorizada**, la cual es una operación sobre los arreglos que se realiza **elemento a elemento**, mediante lo que conocemos como funciones universales (ufuncs) de Numpy. \n",
        "\n",
        "Las ufuncs de NumPy se sienten muy naturales de usar porque hacen uso de los operadores aritméticos nativos de Python. \n",
        "\n",
        "La siguiente tabla nos muestra algunas de las funciones universales disponibles en Numpy (ver [documentación](https://numpy.org/doc/stable/reference/ufuncs.html#ufunc))\n",
        "\n",
        "\n",
        "\n",
        "\n",
        "\n",
        " "
      ]
    },
    {
      "cell_type": "markdown",
      "metadata": {
        "id": "O30aQ1F3oDGJ"
      },
      "source": [
        "![picture](https://i.imgur.com/8HaZzxg.png)"
      ]
    },
    {
      "cell_type": "markdown",
      "metadata": {
        "id": "QRY6DxB2oE_b"
      },
      "source": [
        "Note que estas se muestran en dos versiones: mediante un operador y su correspondiente función universal. Por ejemplo `+` y `np.add`. Como en el ejemplo anterior, si los arreglos son de NumPy, el operador que utilicemos para realizar las operaciones representará la función universal. Si el arreglo no se define como uno de NumPy, y si queremos aplicar una función universal, debemos utilizar la forma explícita de la función universal"
      ]
    },
    {
      "cell_type": "markdown",
      "metadata": {
        "id": "y7KNncF9oRRY"
      },
      "source": [
        "En el caso de la multiplicacion en Python, la multiplicación de un número entero $n$ por una lista $l$, nos arroja una lista que contiene los elementos de $l$ $n$ veces:\n",
        "\n"
      ]
    },
    {
      "cell_type": "code",
      "metadata": {
        "id": "WUwzi26woNfP",
        "colab": {
          "base_uri": "https://localhost:8080/"
        },
        "outputId": "700e4000-e010-46bd-a613-d5737610d474"
      },
      "source": [
        "lista1 * 3"
      ],
      "execution_count": null,
      "outputs": [
        {
          "output_type": "execute_result",
          "data": {
            "text/plain": [
              "[1, 2, 3, 4, 5, 1, 2, 3, 4, 5, 1, 2, 3, 4, 5]"
            ]
          },
          "metadata": {
            "tags": []
          },
          "execution_count": 45
        }
      ]
    },
    {
      "cell_type": "markdown",
      "metadata": {
        "id": "fcTyaQuqoXWD"
      },
      "source": [
        "Si quisieramos multiplicar el entero por cada uno de los elementos de la lista $l$ debemos incluir un ciclo for:"
      ]
    },
    {
      "cell_type": "code",
      "metadata": {
        "id": "eehb3jVroUXv",
        "colab": {
          "base_uri": "https://localhost:8080/"
        },
        "outputId": "e30dd139-a1cc-406d-fe27-fddbdda224f8"
      },
      "source": [
        "[3 * l for l in lista1]"
      ],
      "execution_count": null,
      "outputs": [
        {
          "output_type": "execute_result",
          "data": {
            "text/plain": [
              "[3, 6, 9, 12, 15]"
            ]
          },
          "metadata": {
            "tags": []
          },
          "execution_count": 46
        }
      ]
    },
    {
      "cell_type": "markdown",
      "metadata": {
        "id": "4On1dnhAocf1"
      },
      "source": [
        "Además, la operación de multiplicación entre listas no está definida:"
      ]
    },
    {
      "cell_type": "code",
      "metadata": {
        "id": "znHi4VqIoZIX",
        "colab": {
          "base_uri": "https://localhost:8080/"
        },
        "outputId": "07f8063d-f54c-4835-81cf-31777cbc1617"
      },
      "source": [
        "try :\n",
        "  lista1 * lista2\n",
        "except Exception as e:\n",
        "  print(e)"
      ],
      "execution_count": null,
      "outputs": [
        {
          "output_type": "stream",
          "text": [
            "can't multiply sequence by non-int of type 'list'\n"
          ],
          "name": "stdout"
        }
      ]
    },
    {
      "cell_type": "markdown",
      "metadata": {
        "id": "4bpFYr2aohJI"
      },
      "source": [
        "En NumPy, ambas operaciones se hacen de forma vectorizada:"
      ]
    },
    {
      "cell_type": "code",
      "metadata": {
        "id": "Blkne33JoeWH",
        "colab": {
          "base_uri": "https://localhost:8080/"
        },
        "outputId": "61c155b8-0b7d-4464-bc01-9f9e3f08c856"
      },
      "source": [
        "np.multiply(3, lista1)"
      ],
      "execution_count": null,
      "outputs": [
        {
          "output_type": "execute_result",
          "data": {
            "text/plain": [
              "array([ 3,  6,  9, 12, 15])"
            ]
          },
          "metadata": {
            "tags": []
          },
          "execution_count": 50
        }
      ]
    },
    {
      "cell_type": "code",
      "metadata": {
        "id": "ErVbZnjqok0Z",
        "colab": {
          "base_uri": "https://localhost:8080/"
        },
        "outputId": "4bebe5fd-2a92-473d-b50d-319116bef72d"
      },
      "source": [
        "np.multiply(lista2, lista1)"
      ],
      "execution_count": null,
      "outputs": [
        {
          "output_type": "execute_result",
          "data": {
            "text/plain": [
              "array([ 6, 14, 27, 36,  0])"
            ]
          },
          "metadata": {
            "tags": []
          },
          "execution_count": 53
        }
      ]
    },
    {
      "cell_type": "markdown",
      "metadata": {
        "id": "-rfxd2U2oo_Y"
      },
      "source": [
        "Note que ambas operaciones se hacen elemento a elemento, caracteriztica de las operaciones vectorizadas implementadas a través de ufuncs. Note además, que en el caso de la multiplicación de arreglos, la salida no corresponde a lo que conocemos como producto punto. Para realizar esta operación, tanto en arreglos unidimensionales como n-dimensionales, podemos utilizar la función universal `np.dot` o su operador asociado `@`:"
      ]
    },
    {
      "cell_type": "code",
      "metadata": {
        "id": "U1_Rn5l_om-e",
        "colab": {
          "base_uri": "https://localhost:8080/"
        },
        "outputId": "bc92a876-a45f-4f9a-d9d3-bc882c336154"
      },
      "source": [
        "np.dot(lista1, lista2)"
      ],
      "execution_count": null,
      "outputs": [
        {
          "output_type": "execute_result",
          "data": {
            "text/plain": [
              "83"
            ]
          },
          "metadata": {
            "tags": []
          },
          "execution_count": 54
        }
      ]
    },
    {
      "cell_type": "code",
      "metadata": {
        "id": "ph2YxZD0jyPX",
        "colab": {
          "base_uri": "https://localhost:8080/"
        },
        "outputId": "f6b37734-5696-4947-8f59-521c29020bf1"
      },
      "source": [
        "np.array(lista1) @ np.array(lista2)"
      ],
      "execution_count": null,
      "outputs": [
        {
          "output_type": "execute_result",
          "data": {
            "text/plain": [
              "83"
            ]
          },
          "metadata": {
            "tags": []
          },
          "execution_count": 56
        }
      ]
    },
    {
      "cell_type": "markdown",
      "metadata": {
        "id": "blW_wxEMo2n_"
      },
      "source": [
        "Es importante mencionar que el uso de operaciones vectorizadas no solo significa la utilización de funciones universales para la realización de las operaciones elemento a elemento.\n",
        "\n",
        "En el contexto de lenguajes de alto nivel como Python, el término **vectorización** representa el uso de código optimizado y precompilado escrito en lenguajes de bajo nivel (por ejemplo C) para realizar operaciones matemáticas en una secuencia de datos. Esto se realiza en lugar de una iteración explicita escrita en código nativo, como ya vimos en el ejemplo de la multiplicacion, que hace que las operaciones sean más eficientes. \n",
        "\n",
        "**Ejercicio**\n",
        "\n",
        "Veamos un ejemplo con el cual se ilustra la eficiencia computacional que se alcanza con las operaciones vectorizadas de NumPy: Construyamos una función que calcule el recíproco de una lista"
      ]
    },
    {
      "cell_type": "code",
      "metadata": {
        "id": "Zn-mpy3uovu2",
        "colab": {
          "base_uri": "https://localhost:8080/"
        },
        "outputId": "5ca9058c-97bf-453c-8512-956db90f92b2"
      },
      "source": [
        "def lista_reciproc(l):\n",
        "\n",
        "\n",
        "  salida = []\n",
        "  for elemento in l:\n",
        "    salida.append(1/ elemento)\n",
        "  return(salida)\n",
        "\n",
        "lista_reciproc([1,2 ,3])"
      ],
      "execution_count": null,
      "outputs": [
        {
          "output_type": "execute_result",
          "data": {
            "text/plain": [
              "[1.0, 0.5, 0.3333333333333333]"
            ]
          },
          "metadata": {
            "tags": []
          },
          "execution_count": 57
        }
      ]
    },
    {
      "cell_type": "code",
      "metadata": {
        "id": "iN6Wod1Ml-2u"
      },
      "source": [
        "a = list(range(1, 1000000))"
      ],
      "execution_count": null,
      "outputs": []
    },
    {
      "cell_type": "code",
      "metadata": {
        "id": "UHJMir62qkG4",
        "colab": {
          "base_uri": "https://localhost:8080/"
        },
        "outputId": "8352dfb7-295e-416f-d685-f25f06c3d502"
      },
      "source": [
        "%timeit lista_reciproc(a)"
      ],
      "execution_count": null,
      "outputs": [
        {
          "output_type": "stream",
          "text": [
            "10 loops, best of 5: 130 ms per loop\n"
          ],
          "name": "stdout"
        }
      ]
    },
    {
      "cell_type": "markdown",
      "metadata": {
        "id": "msPOlCbpqyi5"
      },
      "source": [
        "La operación equivalente en NumPy, utilizando ufuncs, será:"
      ]
    },
    {
      "cell_type": "code",
      "metadata": {
        "id": "9TDHiCQEqonx"
      },
      "source": [
        "R = np.arange(1, 1000000)"
      ],
      "execution_count": null,
      "outputs": []
    },
    {
      "cell_type": "code",
      "metadata": {
        "id": "mDfJZbk3r9o7",
        "colab": {
          "base_uri": "https://localhost:8080/"
        },
        "outputId": "23946472-2ef1-4bbe-efc6-a6418f37ad5d"
      },
      "source": [
        "%timeit 1/R"
      ],
      "execution_count": null,
      "outputs": [
        {
          "output_type": "stream",
          "text": [
            "100 loops, best of 5: 1.98 ms per loop\n"
          ],
          "name": "stdout"
        }
      ]
    },
    {
      "cell_type": "markdown",
      "metadata": {
        "id": "XL-vRpQ8rC3Z"
      },
      "source": [
        "Note que hay tres ordenes de magnitud de diferencia en el tiempo de computo en ambas versiones. \n",
        "\n",
        "Resulta que el cuello de botella aquí no son las operaciones en sí mismas, sino la verificación de tipos y demás que Python debe hacer en cada ciclo. Cada vez que se calcula el recíproco, Python primero examina el tipo de objeto y realiza una búsqueda dinámica de la función correcta que se utilizará para ese tipo. Si estuviéramos trabajando en código compilado, esta especificación de tipo se conocería antes de que se ejecute el código y el resultado podría calcularse de manera mucho más eficiente.\n",
        "\n",
        "Los cálculos que usan vectorización a través de ufuncs son casi siempre más eficientes que su contraparte implementada a través de ciclos, especialmente a medida que los arreglos crecen en tamaño. Cada vez que se vea un ciclo de este tipo en Python, debe considerarse si este puede reemplazarse con una expresión vectorizada."
      ]
    },
    {
      "cell_type": "markdown",
      "metadata": {
        "id": "UELRD3TY0jAd"
      },
      "source": [
        "**Ejercicio:**  La serie de Leibniz  $$\\frac{\\pi}{4}=1-\\frac{1}{3}+\\frac{1}{5}-\\frac{1}{7} -\\frac{1}{9}+ \\cdot \\cdot \\cdot=\\sum_{n=0}^{\\infty} \\frac{(-1)^n}{2n+1}$$ La serie de Leibniz permite obtener un valor aproximado para el número $\\pi$. Escriba un programa en el que dado el número de términos de la sumatoria, se calcule y muestre el valor aproximado de $\\pi$. \n",
        "\n",
        " $$\\pi=4\\sum_{n=0}^{\\infty} \\frac{(-1)^n}{2n+1}$$"
      ]
    },
    {
      "cell_type": "markdown",
      "metadata": {
        "id": "kfYllNf-s8lK"
      },
      "source": [
        "$$\\sum_{n = 1}^{i} n$$"
      ]
    },
    {
      "cell_type": "code",
      "metadata": {
        "id": "0ao1hId_vAUp",
        "colab": {
          "base_uri": "https://localhost:8080/"
        },
        "outputId": "eb23e6fc-c466-406b-c210-b781efa54606"
      },
      "source": [
        "def suma_euler(n):\n",
        "  return sum(i for i in range(n+1))\n",
        "\n",
        "suma_euler(100)"
      ],
      "execution_count": null,
      "outputs": [
        {
          "output_type": "execute_result",
          "data": {
            "text/plain": [
              "5050"
            ]
          },
          "metadata": {
            "tags": []
          },
          "execution_count": 66
        }
      ]
    },
    {
      "cell_type": "code",
      "metadata": {
        "id": "lUuGrSOso-by",
        "colab": {
          "base_uri": "https://localhost:8080/"
        },
        "outputId": "c76c6007-872a-485f-85a6-5faf5471991c"
      },
      "source": [
        "def pi_est(n):\n",
        "  suma = 0\n",
        "  for i in range(n+1):\n",
        "    suma += 4*((-1)**i/(2*i + 1))\n",
        "  return suma\n",
        "pi_est(10000)"
      ],
      "execution_count": null,
      "outputs": [
        {
          "output_type": "execute_result",
          "data": {
            "text/plain": [
              "3.1415927535897814"
            ]
          },
          "metadata": {
            "tags": []
          },
          "execution_count": 84
        }
      ]
    },
    {
      "cell_type": "code",
      "metadata": {
        "id": "aDzg6rF2paFd",
        "colab": {
          "base_uri": "https://localhost:8080/"
        },
        "outputId": "90d758f0-1292-4a0d-e7b7-5ee4278ee062"
      },
      "source": [
        "def pi_est2(n):\n",
        "  return 4*sum((-1)**i/(2*i+1) for i in range(n+1))\n",
        "\n",
        "pi_est2(1000000)"
      ],
      "execution_count": null,
      "outputs": [
        {
          "output_type": "execute_result",
          "data": {
            "text/plain": [
              "3.1415936535887745"
            ]
          },
          "metadata": {
            "tags": []
          },
          "execution_count": 87
        }
      ]
    },
    {
      "cell_type": "code",
      "metadata": {
        "id": "1XUsYj5Lq84P",
        "colab": {
          "base_uri": "https://localhost:8080/"
        },
        "outputId": "cdb0dd53-2a6d-48f1-9316-d56e543b851a"
      },
      "source": [
        "#Versión numpy\n",
        "def pi_np(m):\n",
        "  n = np.arange(m)\n",
        "  return 4*np.sum((-1)**n/(2*n+1) )\n",
        "pi_np(1000)"
      ],
      "execution_count": null,
      "outputs": [
        {
          "output_type": "execute_result",
          "data": {
            "text/plain": [
              "3.140592653839792"
            ]
          },
          "metadata": {
            "tags": []
          },
          "execution_count": 93
        }
      ]
    },
    {
      "cell_type": "code",
      "metadata": {
        "id": "-VOFUOucrAoQ",
        "colab": {
          "base_uri": "https://localhost:8080/"
        },
        "outputId": "d294cdc7-ccd2-454f-d32f-7d7678861003"
      },
      "source": [
        "%timeit(pi_np(10000))"
      ],
      "execution_count": null,
      "outputs": [
        {
          "output_type": "stream",
          "text": [
            "1000 loops, best of 5: 626 µs per loop\n"
          ],
          "name": "stdout"
        }
      ]
    },
    {
      "cell_type": "code",
      "metadata": {
        "id": "1xup3gtb0tB-",
        "colab": {
          "base_uri": "https://localhost:8080/"
        },
        "outputId": "10a07f26-26fc-47cf-8da8-79fef0be4830"
      },
      "source": [
        "%timeit(pi_est2(10000))"
      ],
      "execution_count": null,
      "outputs": [
        {
          "output_type": "stream",
          "text": [
            "100 loops, best of 5: 3.72 ms per loop\n"
          ],
          "name": "stdout"
        }
      ]
    },
    {
      "cell_type": "code",
      "metadata": {
        "colab": {
          "base_uri": "https://localhost:8080/"
        },
        "id": "DMwQ5JqmdlJE",
        "outputId": "e891ba57-09ff-4f74-a794-ee4a214f4fb4"
      },
      "source": [
        "%timeit(pi_est(10000))"
      ],
      "execution_count": null,
      "outputs": [
        {
          "output_type": "stream",
          "text": [
            "100 loops, best of 5: 4.04 ms per loop\n"
          ],
          "name": "stdout"
        }
      ]
    },
    {
      "cell_type": "markdown",
      "metadata": {
        "id": "0EETj9DjMES9"
      },
      "source": [
        "<p><a name=\"apeA\"></a></p>\n",
        "\n",
        "# **Apéndice A: Iteradores útiles**\n",
        "\n",
        "A menudo vamos a necesitar iterar los diferentes objetos de diversas formas, por lo que vamos a requerir de iteradores que nos permitan tener más libertad a la hora de definir las iteracions. Veamos algunos de estos iteradores disponibles en Python.\n",
        "\n",
        "Por ejemplo, si quisieramos iterar sobre una lista de manera que la variable de iteración corra de forma ordenada sobre los elementos, es decir, no sobre los elementos de acuerdo a su posición en la lista sino de acuerdo a su valor numérico, podemos utilizar el método `sorted` sobre la lista:"
      ]
    },
    {
      "cell_type": "code",
      "metadata": {
        "id": "vr92oF7uxe91"
      },
      "source": [
        "l1 = [1,2,3,4]\n",
        "l2 = [5,6,7,8]"
      ],
      "execution_count": null,
      "outputs": []
    },
    {
      "cell_type": "code",
      "metadata": {
        "id": "_iXf4g3FyZD_"
      },
      "source": [
        "print(list(zip(l1,l2)))"
      ],
      "execution_count": null,
      "outputs": []
    },
    {
      "cell_type": "code",
      "metadata": {
        "id": "-E9Puze9x8TN"
      },
      "source": [
        "for i, j in zip(l1, l2):\n",
        "  print(i ,j)"
      ],
      "execution_count": null,
      "outputs": []
    },
    {
      "cell_type": "code",
      "metadata": {
        "id": "h48Az-tuxuEo"
      },
      "source": [
        "for i in range(1, 5):\n",
        "  for j in range(5, 9):\n",
        "    print( i+ j)"
      ],
      "execution_count": null,
      "outputs": []
    },
    {
      "cell_type": "code",
      "metadata": {
        "id": "QY2LlZ9s0vzq"
      },
      "source": [
        "L = [5, 2, 7, 1]\n",
        "\n",
        "for i in sorted(L):\n",
        "  print(i)"
      ],
      "execution_count": null,
      "outputs": []
    },
    {
      "cell_type": "markdown",
      "metadata": {
        "id": "MH9hJrfBMPZ2"
      },
      "source": [
        "Ahora, supongamos que necesitamos iterar sobre los elementos de una lista y además tener registro del índice del elemento. Podríamos escribir algo como:\n"
      ]
    },
    {
      "cell_type": "code",
      "metadata": {
        "id": "W0VCzhWAMRBI"
      },
      "source": [
        "L = range(4,8)\n",
        "\n",
        "for i in range(len(L)):\n",
        "  print(f\"indice: {i} valor: {L[i]}\")"
      ],
      "execution_count": null,
      "outputs": []
    },
    {
      "cell_type": "markdown",
      "metadata": {
        "id": "49SF7S5RMT9z"
      },
      "source": [
        "Podemos realizar esta iteración utilizando el iterador `enumerate`, que produce un generador de tuplas con los índices y valores de la lista:"
      ]
    },
    {
      "cell_type": "code",
      "metadata": {
        "id": "NNyGsvrcMVjD"
      },
      "source": [
        "list(enumerate(L))"
      ],
      "execution_count": null,
      "outputs": []
    },
    {
      "cell_type": "code",
      "metadata": {
        "id": "SoM3qr8GMXUt"
      },
      "source": [
        "for i, valor in enumerate(L):\n",
        "  print(f\"indice: {i} valor: {valor}\")"
      ],
      "execution_count": null,
      "outputs": []
    },
    {
      "cell_type": "markdown",
      "metadata": {
        "id": "AoECMCfzMbXS"
      },
      "source": [
        "En otras ocaciones, vamos a querer iterar sobre varias listas simultáneamente. Una forma directa de hacerlo sería iterando sobre el índice de las listas \n"
      ]
    },
    {
      "cell_type": "code",
      "metadata": {
        "id": "thL4up0vMdeu"
      },
      "source": [
        "l = range(2,4)\n",
        "r = range(6,8)\n",
        "\n",
        "for i in range(len(l)):\n",
        "  print(f\"l_val: {l[i]}, r_val: {r[i]}\")"
      ],
      "execution_count": null,
      "outputs": []
    },
    {
      "cell_type": "markdown",
      "metadata": {
        "id": "eWF2PRhoMhmp"
      },
      "source": [
        "Si, por ejemplo, cambiaramos la longitud de `l`, obtendríamos un error"
      ]
    },
    {
      "cell_type": "code",
      "metadata": {
        "id": "s6yh2USPMjyH"
      },
      "source": [
        "l = range(2,5)\n",
        "r = range(6,8)\n",
        "\n",
        "for i in range(len(l)):\n",
        "  print(f\"l_val: {l[i]}, r_val: {r[i]}\")"
      ],
      "execution_count": null,
      "outputs": []
    },
    {
      "cell_type": "markdown",
      "metadata": {
        "id": "7Xh60ILJMlwo"
      },
      "source": [
        "esta iteración se puede llevar a cabo mediante el iterador `zip`, que permite iterar sobre varios objetos iterables simultáneamente:"
      ]
    },
    {
      "cell_type": "code",
      "metadata": {
        "id": "M9WudlDDxMNC"
      },
      "source": [
        "type(range(10))"
      ],
      "execution_count": null,
      "outputs": []
    },
    {
      "cell_type": "code",
      "metadata": {
        "id": "0eG2LGenMnLX"
      },
      "source": [
        "list(zip(l, r))"
      ],
      "execution_count": null,
      "outputs": []
    },
    {
      "cell_type": "code",
      "metadata": {
        "id": "h5rPei4WMok3"
      },
      "source": [
        "for lval, rval in zip(l, r):\n",
        "  print(f\"l_val: {lval}, r_val: {rval}\")"
      ],
      "execution_count": null,
      "outputs": []
    },
    {
      "cell_type": "markdown",
      "metadata": {
        "id": "BqRyQf19MqK8"
      },
      "source": [
        "`zip` produce un generador de tuplas obtenidas a partir de los objetos iterables que pasemos como argumento. Tenga en cuenta que el iterador admite diferentes objetos para la iteración "
      ]
    },
    {
      "cell_type": "code",
      "metadata": {
        "id": "AgIaH1DRMrpv"
      },
      "source": [
        "for i,j in zip(range(3), \"abc\"):\n",
        "  print(i,j)"
      ],
      "execution_count": null,
      "outputs": []
    },
    {
      "cell_type": "markdown",
      "metadata": {
        "id": "T0HzaHY3Mtdh"
      },
      "source": [
        "así como objetos de tamaños diferentes"
      ]
    },
    {
      "cell_type": "code",
      "metadata": {
        "id": "Zc8HlQG0MvaK"
      },
      "source": [
        "for i,j,k in zip((1,2,3), \"abc\", [4,5,6,7]):\n",
        "  print(i,j,k)"
      ],
      "execution_count": null,
      "outputs": []
    },
    {
      "cell_type": "markdown",
      "metadata": {
        "id": "Zx9IWN5zMw7N"
      },
      "source": [
        "Note que las tuplas se producen con una longitud tal que coincida con el número de elementos del objeto de menor longitud."
      ]
    }
  ]
}