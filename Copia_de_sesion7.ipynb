{
  "nbformat": 4,
  "nbformat_minor": 0,
  "metadata": {
    "colab": {
      "name": "Copia de sesion7.ipynb",
      "provenance": [],
      "collapsed_sections": []
    },
    "kernelspec": {
      "name": "python3",
      "display_name": "Python 3"
    }
  },
  "cells": [
    {
      "cell_type": "markdown",
      "metadata": {
        "id": "guIPjdo3SHak"
      },
      "source": [
        "<p><img alt=\"Colaboratory logo\" height=\"140px\" src=\"https://upload.wikimedia.org/wikipedia/commons/archive/f/fb/20161010213812%21Escudo-UdeA.svg\" align=\"left\" hspace=\"10px\" vspace=\"0px\"></p>\n",
        "\n",
        "# **Diplomado de Análisis de datos y Machine Learning en Python**\n",
        "\n",
        "\n",
        "El presente diplomado hace parte del centro de Big Data de la facultad de ciencias exactas y naturales (FCEN) de la Universidad de Antioquia.\n",
        "\n",
        "## **Sesión 7**\n",
        "\n",
        "## **Contenido**\n",
        "\n",
        "- <a href=\"#con\"> Concatenación de arreglos</a><br> \n",
        "- <a href=\"#ind\"> Indexación y segmentación</a><br>\n",
        "- <a href=\"#enm\"> Enmascaramiento\n",
        "- <a href=\"#sof\"> Indexación sofisticada</a><br></a><br>\n",
        "\n",
        "\n",
        "\n",
        "\n",
        "\n"
      ]
    },
    {
      "cell_type": "markdown",
      "metadata": {
        "id": "TL2iIrOSr-vS"
      },
      "source": [
        "# **Concatenación de arreglos**\n",
        "\n",
        "\n",
        "La concatenación, o unión de dos arreglos en NumPy, se realiza principalmente a través de la función `concatenate`:"
      ]
    },
    {
      "cell_type": "code",
      "metadata": {
        "id": "30pTH355WHzt",
        "colab": {
          "base_uri": "https://localhost:8080/"
        },
        "outputId": "2098aa98-f88b-477c-a1bc-1edaf0abdf32"
      },
      "source": [
        "x = [1, 2, 3]\n",
        "y = [4, 5, 6]\n",
        "\n",
        "print(x + y)"
      ],
      "execution_count": null,
      "outputs": [
        {
          "output_type": "stream",
          "text": [
            "[1, 2, 3, 4, 5, 6]\n"
          ],
          "name": "stdout"
        }
      ]
    },
    {
      "cell_type": "code",
      "metadata": {
        "id": "Uz_G-Xb4sBYh",
        "colab": {
          "base_uri": "https://localhost:8080/"
        },
        "outputId": "561b73d7-6eb1-4288-ff79-eb94814d0e31"
      },
      "source": [
        "import numpy as np\n",
        "\n",
        "xa = np.array(x)\n",
        "ya = np.array(y)\n",
        "\n",
        "np.concatenate((x, y))"
      ],
      "execution_count": null,
      "outputs": [
        {
          "output_type": "execute_result",
          "data": {
            "text/plain": [
              "array([1, 2, 3, 4, 5, 6])"
            ]
          },
          "metadata": {
            "tags": []
          },
          "execution_count": 4
        }
      ]
    },
    {
      "cell_type": "markdown",
      "metadata": {
        "id": "zcNOU4kSsC1b"
      },
      "source": [
        "Podemos concatenar más de dos arreglos al tiempo:"
      ]
    },
    {
      "cell_type": "code",
      "metadata": {
        "id": "K7f86U0GsEIW",
        "colab": {
          "base_uri": "https://localhost:8080/"
        },
        "outputId": "c7cae742-0102-44b5-988d-ef6e98f079f2"
      },
      "source": [
        "za = np.array([7, 8, 9])\n",
        "\n",
        "np.concatenate((xa, ya, za))"
      ],
      "execution_count": null,
      "outputs": [
        {
          "output_type": "execute_result",
          "data": {
            "text/plain": [
              "array([1, 2, 3, 4, 5, 6, 7, 8, 9])"
            ]
          },
          "metadata": {
            "tags": []
          },
          "execution_count": 5
        }
      ]
    },
    {
      "cell_type": "markdown",
      "metadata": {
        "id": "VPqoXckzsGa-"
      },
      "source": [
        "`concatenate` también se puede usar para arreglos bidimensionales. Recuerde que las filas corresponden al eje 1 (axis = 1) y las columnas al eje 0 (axis = 0)\n",
        "\n",
        "\n",
        "<p><img alt=\"Colaboratory logo\" height=\"300px\" src=\"https://i.imgur.com/KYPgvhf.png\" align=\"left\" hspace=\"10px\" vspace=\"0px\"></p>"
      ]
    },
    {
      "cell_type": "code",
      "metadata": {
        "id": "rAFfAXkIsG96",
        "colab": {
          "base_uri": "https://localhost:8080/"
        },
        "outputId": "aacfcd53-d3f6-4860-8ca1-06544ed60120"
      },
      "source": [
        "a = np.arange(8,14).reshape(3,2)\n",
        "print(a)"
      ],
      "execution_count": null,
      "outputs": [
        {
          "output_type": "stream",
          "text": [
            "[[ 8  9]\n",
            " [10 11]\n",
            " [12 13]]\n"
          ],
          "name": "stdout"
        }
      ]
    },
    {
      "cell_type": "code",
      "metadata": {
        "id": "Q25jz3A3sSwA",
        "colab": {
          "base_uri": "https://localhost:8080/"
        },
        "outputId": "67999414-8fc6-407a-d0c1-c7f9b20072ce"
      },
      "source": [
        "np.concatenate([a,a], axis = 0)"
      ],
      "execution_count": null,
      "outputs": [
        {
          "output_type": "execute_result",
          "data": {
            "text/plain": [
              "array([[ 8,  9],\n",
              "       [10, 11],\n",
              "       [12, 13],\n",
              "       [ 8,  9],\n",
              "       [10, 11],\n",
              "       [12, 13]])"
            ]
          },
          "metadata": {
            "tags": []
          },
          "execution_count": 9
        }
      ]
    },
    {
      "cell_type": "markdown",
      "metadata": {
        "id": "RzHXLfyOsUvW"
      },
      "source": [
        "Si queremos realizar la concatenación a lo largo del eje 1, debemos especificar el eje por medio de un argumento por palabra clave:"
      ]
    },
    {
      "cell_type": "code",
      "metadata": {
        "id": "VLr5NQ4ksWXQ",
        "colab": {
          "base_uri": "https://localhost:8080/"
        },
        "outputId": "fae749a8-adcb-44cc-be3d-1107cfbac686"
      },
      "source": [
        "np.concatenate([a,a], axis = 1)"
      ],
      "execution_count": null,
      "outputs": [
        {
          "output_type": "execute_result",
          "data": {
            "text/plain": [
              "array([[ 8,  9,  8,  9],\n",
              "       [10, 11, 10, 11],\n",
              "       [12, 13, 12, 13]])"
            ]
          },
          "metadata": {
            "tags": []
          },
          "execution_count": 10
        }
      ]
    },
    {
      "cell_type": "markdown",
      "metadata": {
        "id": "MZE1_jAJsYle"
      },
      "source": [
        "La función `vstack()` es equivalente a la concatenación a lo largo del primer eje (axis=0). Al igual que `concatenate()`, recibe como argumento una secuencia de arreglos que, en este caso, deben tener la misma forma a lo largo de todos los ejes, excepto el primero. Los arreglos unidimensionales deben tener la misma longitud:"
      ]
    },
    {
      "cell_type": "code",
      "metadata": {
        "id": "ksN9Gjr3sZM_",
        "colab": {
          "base_uri": "https://localhost:8080/"
        },
        "outputId": "07d6e7f2-ed06-4136-cfb4-8c4f6fdcbd3d"
      },
      "source": [
        "a = np.array([1, 2, 3])\n",
        "b = np.array([[3, 4, 5],\n",
        "              [6, 7, 8]])\n",
        "\n",
        "print(a)\n",
        "print(b)\n",
        "print(\"---//----\")\n",
        "print(np.vstack((a,b)))"
      ],
      "execution_count": null,
      "outputs": [
        {
          "output_type": "stream",
          "text": [
            "[1 2 3]\n",
            "[[3 4 5]\n",
            " [6 7 8]]\n",
            "---//----\n",
            "[[1 2 3]\n",
            " [3 4 5]\n",
            " [6 7 8]]\n"
          ],
          "name": "stdout"
        }
      ]
    },
    {
      "cell_type": "code",
      "metadata": {
        "id": "x3_6Q_2FscYp",
        "colab": {
          "base_uri": "https://localhost:8080/"
        },
        "outputId": "bd792188-65ff-4de9-c5bf-f1e3a463f4ad"
      },
      "source": [
        "a1 = a\n",
        "b1 = np.arange(4,8)\n",
        "\n",
        "print(a1)\n",
        "print(b1)\n",
        "print(a1.shape, b1.shape)\n",
        "print(\"---//----\")\n",
        "try:\n",
        "  print(np.vstack((a1,b1)))\n",
        "except Exception as e:\n",
        "  print(e)"
      ],
      "execution_count": null,
      "outputs": [
        {
          "output_type": "stream",
          "text": [
            "[1 2 3]\n",
            "[4 5 6 7]\n",
            "(3,) (4,)\n",
            "---//----\n",
            "all the input array dimensions for the concatenation axis must match exactly, but along dimension 1, the array at index 0 has size 3 and the array at index 1 has size 4\n"
          ],
          "name": "stdout"
        }
      ]
    },
    {
      "cell_type": "markdown",
      "metadata": {
        "id": "rNg0TU0asy7E"
      },
      "source": [
        "Similarmente, la función `hstack()` realiza una concatenación a lo largo del segundo eje (axis=1), y los arreglos que toma como argumento deben coincidir en la forma a lo largo de este eje. Los arreglos unidimensionales pueden ser de cualquier longitud"
      ]
    },
    {
      "cell_type": "code",
      "metadata": {
        "id": "KF_CvPe0s0n7",
        "colab": {
          "base_uri": "https://localhost:8080/"
        },
        "outputId": "377e0dda-9164-41af-c3d8-5c408f34a0fb"
      },
      "source": [
        "a1 = a\n",
        "b1 = np.arange(4,8)\n",
        "\n",
        "print(a1)\n",
        "print(b1)\n",
        "print(a1.shape, b1.shape)\n",
        "print(\"---//----\")\n",
        "try:\n",
        "  print(np.hstack((a1,b1)))\n",
        "except Exception as e:\n",
        "  print(e)"
      ],
      "execution_count": null,
      "outputs": [
        {
          "output_type": "stream",
          "text": [
            "[1 2 3]\n",
            "[4 5 6 7]\n",
            "(3,) (4,)\n",
            "---//----\n",
            "[1 2 3 4 5 6 7]\n"
          ],
          "name": "stdout"
        }
      ]
    },
    {
      "cell_type": "code",
      "metadata": {
        "id": "rX6Xkep0s26E"
      },
      "source": [
        ""
      ],
      "execution_count": null,
      "outputs": []
    },
    {
      "cell_type": "markdown",
      "metadata": {
        "id": "5OoDp82DSLz7"
      },
      "source": [
        "<p><a name=\"ind\"></a></p>\n",
        "\n",
        "# **Indexación y segmentación**\n",
        "\n",
        "Los arreglos de NumPy tienen la misma semántica de indexación y segmentación que las listas de Python cuando se trata de acceder a elementos o subarreglos. \n",
        "\n",
        "\n"
      ]
    },
    {
      "cell_type": "code",
      "metadata": {
        "id": "_2_lSiHvR999",
        "colab": {
          "base_uri": "https://localhost:8080/"
        },
        "outputId": "1e3d15a0-f53e-4607-b023-fee806156a08"
      },
      "source": [
        "a = np.arange(8)\n",
        "\n",
        "print(f\"a:\\t {a}\")\n",
        "print(f\"a[3]:\\t {a[3]}\")\n",
        "print(f\"a[2:6]:\\t {a[2:6]}\")"
      ],
      "execution_count": null,
      "outputs": [
        {
          "output_type": "stream",
          "text": [
            "a:\t [0 1 2 3 4 5 6 7]\n",
            "a[3]:\t 3\n",
            "a[2:6]:\t [2 3 4 5]\n"
          ],
          "name": "stdout"
        }
      ]
    },
    {
      "cell_type": "markdown",
      "metadata": {
        "id": "-3pHD5tKTCLn"
      },
      "source": [
        "Debido a que los arreglos de NumPy son n-dimensionales, podemos segmentar a lo largo de todos y cada uno de los ejes. Consideremos la siguiente lista de listas en Python"
      ]
    },
    {
      "cell_type": "code",
      "metadata": {
        "id": "1ytHY5PwTD4f",
        "colab": {
          "base_uri": "https://localhost:8080/"
        },
        "outputId": "1f2a4088-0cb2-45e6-978c-b1043e069066"
      },
      "source": [
        "L = [[1, 2, 3], [4, 5, 6], [7, 8, 9]]\n",
        "print(L)"
      ],
      "execution_count": null,
      "outputs": [
        {
          "output_type": "stream",
          "text": [
            "[[1, 2, 3], [4, 5, 6], [7, 8, 9]]\n"
          ],
          "name": "stdout"
        }
      ]
    },
    {
      "cell_type": "markdown",
      "metadata": {
        "id": "8z8_19cnTGlH"
      },
      "source": [
        "Por ejemplo, si queremos crear una lista de Python que contenga todas las filas y las primeras dos columnas de la lista L podríamos escribir"
      ]
    },
    {
      "cell_type": "code",
      "metadata": {
        "id": "Qjkk0-MdTI6U",
        "colab": {
          "base_uri": "https://localhost:8080/"
        },
        "outputId": "9f2aab28-b449-4c2c-f184-da474333ad9f"
      },
      "source": [
        "[l[:2] for l in L]"
      ],
      "execution_count": null,
      "outputs": [
        {
          "output_type": "execute_result",
          "data": {
            "text/plain": [
              "[[1, 2], [4, 5], [7, 8]]"
            ]
          },
          "metadata": {
            "tags": []
          },
          "execution_count": 21
        }
      ]
    },
    {
      "cell_type": "markdown",
      "metadata": {
        "id": "8_atGVc5TM__"
      },
      "source": [
        "El número de ciclos `for` anidados que se necesita para segmentar listas de listas es igual al número de dimensiones menos uno (en este caso $2-1=1$). \n",
        "\n",
        "En NumPy, en lugar de indexar por un segmento, podemos indexar por una tupla de segmentos, cada uno de los cuales actúa en sus propias dimensiones. Definamos el arreglo `L` con NumPy y realicemos la segmentación anterior:\n"
      ]
    },
    {
      "cell_type": "code",
      "metadata": {
        "id": "kqTeXNAuTNjD",
        "colab": {
          "base_uri": "https://localhost:8080/"
        },
        "outputId": "37fc24e2-897e-4b91-bbb7-a4b284c597c9"
      },
      "source": [
        "La = np.arange(1,10).reshape(3,3)\n",
        "print(La)"
      ],
      "execution_count": null,
      "outputs": [
        {
          "output_type": "stream",
          "text": [
            "[[1 2 3]\n",
            " [4 5 6]\n",
            " [7 8 9]]\n"
          ],
          "name": "stdout"
        }
      ]
    },
    {
      "cell_type": "code",
      "metadata": {
        "id": "i2A0j-1GTO7t",
        "colab": {
          "base_uri": "https://localhost:8080/"
        },
        "outputId": "d45a32b2-fafd-446e-c53b-fe5d2ccbc231"
      },
      "source": [
        "La[:,:2]"
      ],
      "execution_count": null,
      "outputs": [
        {
          "output_type": "execute_result",
          "data": {
            "text/plain": [
              "array([[1, 2],\n",
              "       [4, 5],\n",
              "       [7, 8]])"
            ]
          },
          "metadata": {
            "tags": []
          },
          "execution_count": 25
        }
      ]
    },
    {
      "cell_type": "markdown",
      "metadata": {
        "id": "1Yn9MMLfTkv2"
      },
      "source": [
        "Los ciclos `for` para la segmentación multidimensional son manejados implícitamente por NumPy. Esto hace que realizar segmentaciones complejas sea mucho más rápido que escribir los ciclos `for` explícitamente en Python. Veamos algunos ejemplos:"
      ]
    },
    {
      "cell_type": "code",
      "metadata": {
        "id": "_FI0H0UrTRUm",
        "colab": {
          "base_uri": "https://localhost:8080/"
        },
        "outputId": "a3d2a1af-3d3b-44c1-cdad-d9caf59633d7"
      },
      "source": [
        "a = np.arange(1,17).reshape(4,4)\n",
        "print(a)"
      ],
      "execution_count": null,
      "outputs": [
        {
          "output_type": "stream",
          "text": [
            "[[ 1  2  3  4]\n",
            " [ 5  6  7  8]\n",
            " [ 9 10 11 12]\n",
            " [13 14 15 16]]\n"
          ],
          "name": "stdout"
        }
      ]
    },
    {
      "cell_type": "code",
      "metadata": {
        "id": "CpT39DIrTpYJ",
        "colab": {
          "base_uri": "https://localhost:8080/"
        },
        "outputId": "7df299c7-4d59-4f46-f0c5-04197c31dc85"
      },
      "source": [
        "# Seleccionar primera fila\n",
        "print(a[0])"
      ],
      "execution_count": null,
      "outputs": [
        {
          "output_type": "stream",
          "text": [
            "[1 2 3 4]\n"
          ],
          "name": "stdout"
        }
      ]
    },
    {
      "cell_type": "code",
      "metadata": {
        "id": "Th1ugrBuTqzE",
        "colab": {
          "base_uri": "https://localhost:8080/"
        },
        "outputId": "3b95ab16-cbab-429c-81bb-182c4796bdbc"
      },
      "source": [
        "# Segmentar por primera columna\n",
        "print(a[:,0])"
      ],
      "execution_count": null,
      "outputs": [
        {
          "output_type": "stream",
          "text": [
            "[ 1  5  9 13]\n"
          ],
          "name": "stdout"
        }
      ]
    },
    {
      "cell_type": "code",
      "metadata": {
        "colab": {
          "base_uri": "https://localhost:8080/"
        },
        "id": "As3ZjVJV8CAa",
        "outputId": "a9ab6906-d21a-41e8-c573-a77f3835e9d3"
      },
      "source": [
        "# Segmentar tercera columna\n",
        "print(a[:,2])"
      ],
      "execution_count": null,
      "outputs": [
        {
          "output_type": "stream",
          "text": [
            "[ 3  7 11 15]\n"
          ],
          "name": "stdout"
        }
      ]
    },
    {
      "cell_type": "code",
      "metadata": {
        "id": "2StElYzbTrzk",
        "colab": {
          "base_uri": "https://localhost:8080/"
        },
        "outputId": "cb19eeaa-7ffd-4b5a-ef97-a67257fc5360"
      },
      "source": [
        "#Seleccionar filas pares, columnas impares\n",
        "print(a[:-1:2,1::2])"
      ],
      "execution_count": null,
      "outputs": [
        {
          "output_type": "stream",
          "text": [
            "[[ 2  4]\n",
            " [10 12]]\n"
          ],
          "name": "stdout"
        }
      ]
    },
    {
      "cell_type": "code",
      "metadata": {
        "id": "eLuGgkGjTs8S",
        "colab": {
          "base_uri": "https://localhost:8080/"
        },
        "outputId": "0ff2de28-4ace-40bc-fd0a-b0d876af42f5"
      },
      "source": [
        "# Segmentar matriz 2 x 2 interna  \n",
        "print(a[1:3,1:3])"
      ],
      "execution_count": null,
      "outputs": [
        {
          "output_type": "stream",
          "text": [
            "[[ 6  7]\n",
            " [10 11]]\n"
          ],
          "name": "stdout"
        }
      ]
    },
    {
      "cell_type": "code",
      "metadata": {
        "id": "2jad8UutTueC",
        "colab": {
          "base_uri": "https://localhost:8080/"
        },
        "outputId": "2cc511d5-6431-4e72-95e9-abfc380a8995"
      },
      "source": [
        "#Invertir las primeras 3 filas tomando solo las 3 primeras columnas\n",
        "print(a[2::-1, :3])"
      ],
      "execution_count": null,
      "outputs": [
        {
          "output_type": "stream",
          "text": [
            "[[ 9 10 11]\n",
            " [ 5  6  7]\n",
            " [ 1  2  3]]\n"
          ],
          "name": "stdout"
        }
      ]
    },
    {
      "cell_type": "markdown",
      "metadata": {
        "id": "yEZpoKy_U9on"
      },
      "source": [
        "**Ejercicio 1**: Escriba un programa para crear un nuevo arreglo que sea el promedio de cada triplete consecutivo de elementos del siguiente arreglo\n",
        "\n",
        "<p><img alt=\"Colaboratory logo\" height=\"70px\" src=\"https://i.imgur.com/XoHovZd.png\" align=\"left\" hspace=\"10px\" vspace=\"0px\"></p>"
      ]
    },
    {
      "cell_type": "code",
      "metadata": {
        "id": "QNCPB_Y-VAui",
        "colab": {
          "base_uri": "https://localhost:8080/"
        },
        "outputId": "84f09c9f-c478-4e8e-caec-f7aba11124ba"
      },
      "source": [
        "a = np.array([1,2,3,2,4,6,1,2,12,0,-12,6]).reshape(4,3)\n",
        "aver = np.mean(a, axis =1)\n",
        "print(aver.reshape(1,))\n"
      ],
      "execution_count": null,
      "outputs": [
        {
          "output_type": "stream",
          "text": [
            "[[ 2.  4.  5. -2.]]\n"
          ],
          "name": "stdout"
        }
      ]
    },
    {
      "cell_type": "markdown",
      "metadata": {
        "id": "H_gSDAOvUPOO"
      },
      "source": [
        "<p><a name=\"enm\"></a></p>\n",
        "\n",
        "## **Enmascaramiento**\n",
        "\n",
        "El enmascaramiento aparece cuando deseamos extraer, modificar, o manipular valores en un arreglo de acuerdo con algún criterio.\n",
        "\n",
        "Ya vimos cómo utilizar ufuncs para operaciones aritméticas básicas y otro tipo de operaciones más complejas. NumPy implementa también operadores de comparación como ufuncs:"
      ]
    },
    {
      "cell_type": "code",
      "metadata": {
        "id": "VVuxGalrTvjC",
        "colab": {
          "base_uri": "https://localhost:8080/"
        },
        "outputId": "ad39fe2b-22f1-4a9d-eb79-d4fbb41c7e10"
      },
      "source": [
        "x = np.arange(9).reshape(3,3)\n",
        "print(x)"
      ],
      "execution_count": null,
      "outputs": [
        {
          "output_type": "stream",
          "text": [
            "[[0 1 2]\n",
            " [3 4 5]\n",
            " [6 7 8]]\n"
          ],
          "name": "stdout"
        }
      ]
    },
    {
      "cell_type": "code",
      "metadata": {
        "id": "sWHELIYFUaZ8",
        "colab": {
          "base_uri": "https://localhost:8080/"
        },
        "outputId": "edcf5335-56b4-486e-d29a-265a824c2a99"
      },
      "source": [
        "x < 5"
      ],
      "execution_count": null,
      "outputs": [
        {
          "output_type": "execute_result",
          "data": {
            "text/plain": [
              "array([[ True,  True,  True],\n",
              "       [ True,  True, False],\n",
              "       [False, False, False]])"
            ]
          },
          "metadata": {
            "tags": []
          },
          "execution_count": 47
        }
      ]
    },
    {
      "cell_type": "markdown",
      "metadata": {
        "id": "vXHEYVLkUeBa"
      },
      "source": [
        "El resultado es un arreglo booleano. Dado un arreglo booleano, hay una serie de operaciones útiles que podemos implementar. \n",
        "\n",
        "Podemos utilizar la función `np.sum` junto con los operadores de comparación para realizar conteos dentro del arreglo:"
      ]
    },
    {
      "cell_type": "code",
      "metadata": {
        "id": "uozlXFWHUcdX",
        "colab": {
          "base_uri": "https://localhost:8080/"
        },
        "outputId": "40973bb5-2fd9-4868-f929-7232145753f8"
      },
      "source": [
        "print(np.sum(x < 5))"
      ],
      "execution_count": null,
      "outputs": [
        {
          "output_type": "stream",
          "text": [
            "5\n"
          ],
          "name": "stdout"
        }
      ]
    },
    {
      "cell_type": "markdown",
      "metadata": {
        "id": "oVPqEJ-JUhso"
      },
      "source": [
        "Con `np.sum` podemos realizar este tipo de conteos a lo largo de las filas o columnas, utilizando el argumento por palabra clave `axis`:"
      ]
    },
    {
      "cell_type": "code",
      "metadata": {
        "id": "04aIRcFfUhQX",
        "colab": {
          "base_uri": "https://localhost:8080/"
        },
        "outputId": "d68b492d-a66a-47d4-d609-bf2b49f1ea65"
      },
      "source": [
        "print(np.sum(x < 5, axis = 0))"
      ],
      "execution_count": null,
      "outputs": [
        {
          "output_type": "stream",
          "text": [
            "[2 2 1]\n"
          ],
          "name": "stdout"
        }
      ]
    },
    {
      "cell_type": "code",
      "metadata": {
        "id": "QHUMFUXRUjnx",
        "colab": {
          "base_uri": "https://localhost:8080/"
        },
        "outputId": "71375d60-425a-4258-b1dd-4b9a7d9766d2"
      },
      "source": [
        "print(np.sum(x < 5, axis = 1))"
      ],
      "execution_count": null,
      "outputs": [
        {
          "output_type": "stream",
          "text": [
            "[3 2 0]\n"
          ],
          "name": "stdout"
        }
      ]
    },
    {
      "cell_type": "markdown",
      "metadata": {
        "id": "C-t07HoyUl_p"
      },
      "source": [
        "Podemos también tener múltiples condiciones en un conteo, utilizando los operadores lógicos `&` (and) y `|` (or)"
      ]
    },
    {
      "cell_type": "code",
      "metadata": {
        "id": "prKpmML_UkpK",
        "colab": {
          "base_uri": "https://localhost:8080/"
        },
        "outputId": "357ffa4d-406d-4195-8fdd-a1cb94cff42e"
      },
      "source": [
        "print((x > 1) & (x < 5))\n",
        "np.sum((x > 1) & (x < 5))"
      ],
      "execution_count": null,
      "outputs": [
        {
          "output_type": "stream",
          "text": [
            "[[False False  True]\n",
            " [ True  True False]\n",
            " [False False False]]\n"
          ],
          "name": "stdout"
        },
        {
          "output_type": "execute_result",
          "data": {
            "text/plain": [
              "3"
            ]
          },
          "metadata": {
            "tags": []
          },
          "execution_count": 53
        }
      ]
    },
    {
      "cell_type": "code",
      "metadata": {
        "id": "0U2206s0UpKm",
        "colab": {
          "base_uri": "https://localhost:8080/"
        },
        "outputId": "513388ad-97cb-43f8-8237-965a4e4882aa"
      },
      "source": [
        "print((x > 6) | (x < 2))\n",
        "np.sum((x > 6) | (x < 2))"
      ],
      "execution_count": null,
      "outputs": [
        {
          "output_type": "stream",
          "text": [
            "[[ True  True False]\n",
            " [False False False]\n",
            " [False  True  True]]\n"
          ],
          "name": "stdout"
        },
        {
          "output_type": "execute_result",
          "data": {
            "text/plain": [
              "4"
            ]
          },
          "metadata": {
            "tags": []
          },
          "execution_count": 55
        }
      ]
    },
    {
      "cell_type": "markdown",
      "metadata": {
        "id": "jjAJOIelUt2w"
      },
      "source": [
        "Una herramienta muy poderosa es usar los arreglos booleanos como máscaras, para seleccionar subconjuntos particulares de los datos mismos. \n",
        "\n",
        "Volviendo a nuestra arreglo `x` anterior, supongamos que queremos un arreglo de todos los valores en `x` que sean menores que, digamos, 5. Para seleccionar estos valores del arreglo, simplemente podemos indexar con este arreglo booleano; esto se conoce como una operación de enmascaramiento:"
      ]
    },
    {
      "cell_type": "code",
      "metadata": {
        "id": "6qgYD78ZZg-9",
        "colab": {
          "base_uri": "https://localhost:8080/"
        },
        "outputId": "9eb35285-0309-4a7b-b4e4-57a9b944d974"
      },
      "source": [
        "x[x < 5]"
      ],
      "execution_count": null,
      "outputs": [
        {
          "output_type": "execute_result",
          "data": {
            "text/plain": [
              "array([0, 1, 2, 3, 4])"
            ]
          },
          "metadata": {
            "tags": []
          },
          "execution_count": 56
        }
      ]
    },
    {
      "cell_type": "markdown",
      "metadata": {
        "id": "nA9nv0TWUxCI"
      },
      "source": [
        "Lo que se devuelve es un arreglo unidimensional con todos los valores que cumplen la condición; en otras palabras, todos los valores en las posiciones en las que el arreglo de máscara es `True`."
      ]
    },
    {
      "cell_type": "markdown",
      "metadata": {
        "id": "CyRtn9p6n4jl"
      },
      "source": [
        "**Ejercicio 2:** Escriba una función que, dado un número entero `n`, muestre:\n",
        "\n",
        "* Un arreglo con los primeros números pares hasta `n`.\n",
        "* Un arreglo con los primeros números múltiplos de tres hasta `n`."
      ]
    },
    {
      "cell_type": "code",
      "metadata": {
        "id": "jrEWPzNZn4C3",
        "colab": {
          "base_uri": "https://localhost:8080/"
        },
        "outputId": "72ac203c-8d2e-4b25-b6e9-87a5d6ee2105"
      },
      "source": [
        "def pares_mult3(n):\n",
        "  a = np.arange(n + 1)\n",
        "  pares = a[ a % 2 == 0]\n",
        "  mult3 = a[ a % 3 == 0]\n",
        "  print(f\"Pares:\\t\\t {pares}\")\n",
        "  print(f\"Multiplos de 3:\\t {mult3}\")\n",
        "pares_mult3(6)"
      ],
      "execution_count": null,
      "outputs": [
        {
          "output_type": "stream",
          "text": [
            "Pares:\t\t [0 2 4 6]\n",
            "Multiplos de 3:\t [0 3 6]\n"
          ],
          "name": "stdout"
        }
      ]
    },
    {
      "cell_type": "markdown",
      "metadata": {
        "id": "1W5g7B-kUzzY"
      },
      "source": [
        "**Ejercicio 3:** Escribir un programa que lea `n` números enteros, calcule y muestre la suma de los pares y el producto de los impares."
      ]
    },
    {
      "cell_type": "code",
      "metadata": {
        "id": "Tnr_GC3AdgwV",
        "colab": {
          "base_uri": "https://localhost:8080/"
        },
        "outputId": "c1424302-b8e9-49d3-d411-c90b10568445"
      },
      "source": [
        "lista = []\n",
        "entrada = input(\"Separe con coma los enteros a operar\\n\")\n",
        "lista = entrada.split(\",\")\n",
        "\n",
        "print(lista)"
      ],
      "execution_count": null,
      "outputs": [
        {
          "output_type": "stream",
          "text": [
            "Separe con coma los enteros a operar\n",
            "1,2,3,4\n",
            "['1', '2', '3', '4']\n"
          ],
          "name": "stdout"
        }
      ]
    },
    {
      "cell_type": "code",
      "metadata": {
        "colab": {
          "base_uri": "https://localhost:8080/"
        },
        "id": "3pvpNWN2EOp9",
        "outputId": "8823b217-ab15-4175-aff9-3c89cd099283"
      },
      "source": [
        "l = [\"1\" ,\"2\", \"3\"]\n",
        "arr = np.array(l).astype('int32')\n",
        "print(arr)\n",
        "print(np.mean(arr))"
      ],
      "execution_count": null,
      "outputs": [
        {
          "output_type": "stream",
          "text": [
            "[1 2 3]\n",
            "2.0\n"
          ],
          "name": "stdout"
        }
      ]
    },
    {
      "cell_type": "markdown",
      "metadata": {
        "id": "hLAwh9cHWewl"
      },
      "source": [
        "<p><a name=\"sof\"></a></p>\n",
        "\n",
        "# **Indexación sofisticada**\n",
        "\n",
        "Anteriormente vimos cómo acceder y modificar porciones de arreglos usando índices simples (por ejemplo, `arr[0]`), segmentos (por ejemplo, `arr[: 5]`) y máscaras booleanas (por ejemplo, `arr[arr> 0]`). Veremos ahora otro estilo de indexación de arreglos, conocido como *indexación sofisticada*, la cual nos permite acceder y modificar muy rápidamente subconjuntos complicados de los valores de un arreglo.\n",
        "\n",
        "La indexación sofisticada es conceptualmente simple: significa pasar una lista de índices en lugar de un entero, para acceder a múltiples elementos del arreglo a la vez. Veamos un ejemplo:"
      ]
    },
    {
      "cell_type": "code",
      "metadata": {
        "id": "7jlRBNX1WoKL",
        "colab": {
          "base_uri": "https://localhost:8080/"
        },
        "outputId": "719e31b4-121f-4189-b1e8-578422baa778"
      },
      "source": [
        "a = np.arange(10, 20)\n",
        "print(a)"
      ],
      "execution_count": null,
      "outputs": [
        {
          "output_type": "stream",
          "text": [
            "[10 11 12 13 14 15 16 17 18 19]\n"
          ],
          "name": "stdout"
        }
      ]
    },
    {
      "cell_type": "code",
      "metadata": {
        "id": "6xTl6MX0Wt1a",
        "colab": {
          "base_uri": "https://localhost:8080/"
        },
        "outputId": "db4d9cee-4cac-4159-9115-e500d1641dd4"
      },
      "source": [
        "np.array([a[1],a[3], a[7]])"
      ],
      "execution_count": null,
      "outputs": [
        {
          "output_type": "execute_result",
          "data": {
            "text/plain": [
              "array([11, 13, 17])"
            ]
          },
          "metadata": {
            "tags": []
          },
          "execution_count": 65
        }
      ]
    },
    {
      "cell_type": "code",
      "metadata": {
        "id": "L_2zmfWBWvQ_",
        "colab": {
          "base_uri": "https://localhost:8080/"
        },
        "outputId": "dd46c250-b933-4cc5-f32a-90428ea58801"
      },
      "source": [
        "indices = [1,3,7]\n",
        "\n",
        "a[indices]"
      ],
      "execution_count": null,
      "outputs": [
        {
          "output_type": "execute_result",
          "data": {
            "text/plain": [
              "array([11, 13, 17])"
            ]
          },
          "metadata": {
            "tags": []
          },
          "execution_count": 66
        }
      ]
    },
    {
      "cell_type": "markdown",
      "metadata": {
        "id": "ZO2EuXhtWz7J"
      },
      "source": [
        "Con el indexado sofisticado, la forma del resultado refleja la forma del arreglo de índices más que la forma del arreglo que se está indexando:"
      ]
    },
    {
      "cell_type": "code",
      "metadata": {
        "id": "nOAWL1uxWxnA",
        "colab": {
          "base_uri": "https://localhost:8080/"
        },
        "outputId": "84c8eefa-ec0b-4443-c670-5c70c13c3929"
      },
      "source": [
        "indi = np.array([[3, 7],\n",
        "                 [4, 0]])\n",
        "\n",
        "a[indi]"
      ],
      "execution_count": null,
      "outputs": [
        {
          "output_type": "execute_result",
          "data": {
            "text/plain": [
              "array([[13, 17],\n",
              "       [14, 10]])"
            ]
          },
          "metadata": {
            "tags": []
          },
          "execution_count": 67
        }
      ]
    },
    {
      "cell_type": "markdown",
      "metadata": {
        "id": "xDL95LxEW9Ga"
      },
      "source": [
        "El indexado sofisticado funciona también en múltiples dimensiones. Veámoslo en el siguiente ejemplo:"
      ]
    },
    {
      "cell_type": "code",
      "metadata": {
        "id": "gxoO0ii-W3MX",
        "colab": {
          "base_uri": "https://localhost:8080/"
        },
        "outputId": "5a978bc7-8dcb-4f07-d5ba-8fd30e8845c7"
      },
      "source": [
        "a = np.arange(12).reshape(3,4)\n",
        "a.shape = (3,4)\n",
        "print(a)"
      ],
      "execution_count": null,
      "outputs": [
        {
          "output_type": "stream",
          "text": [
            "[[ 0  1  2  3]\n",
            " [ 4  5  6  7]\n",
            " [ 8  9 10 11]]\n"
          ],
          "name": "stdout"
        }
      ]
    },
    {
      "cell_type": "markdown",
      "metadata": {
        "id": "qjcf6cTeXEQj"
      },
      "source": [
        "Como en la indexación estándar, el primer índice hace referencia a las filas y el segundo a las columnas:"
      ]
    },
    {
      "cell_type": "code",
      "metadata": {
        "id": "pDNq6310XC3k",
        "colab": {
          "base_uri": "https://localhost:8080/"
        },
        "outputId": "c62c1f47-6579-4581-8cdd-14f8a9d184d2"
      },
      "source": [
        "fila = [0, 1, 2]\n",
        "colu = [2, 1, 3]\n",
        "\n",
        "a[fila, colu]"
      ],
      "execution_count": null,
      "outputs": [
        {
          "output_type": "execute_result",
          "data": {
            "text/plain": [
              "array([ 2,  5, 11])"
            ]
          },
          "metadata": {
            "tags": []
          },
          "execution_count": 69
        }
      ]
    },
    {
      "cell_type": "markdown",
      "metadata": {
        "id": "svQbapXQXNwa"
      },
      "source": [
        "Los valores el en arreglo corresponden a `a[0,2]`, `a[1,1]` y `a[2,3]` respectivamente. "
      ]
    },
    {
      "cell_type": "markdown",
      "metadata": {
        "id": "_kn7SLH5HOKP"
      },
      "source": [
        "#**Motivación**\n",
        "\n",
        "*¿Cómo generar un arreglo con números aleatorios que sigan un distribución normal o gaussiana?*\n",
        "\n"
      ]
    },
    {
      "cell_type": "code",
      "metadata": {
        "colab": {
          "base_uri": "https://localhost:8080/",
          "height": 265
        },
        "id": "ekwdAf7wHjHa",
        "outputId": "321db2c5-0f2b-4656-b9fd-6dd3e4cc0abc"
      },
      "source": [
        "gauss = np.random.normal(0,1, 200)\n",
        "expo = np.random.exponential(1, 200)\n",
        "uni = np.random.uniform(0,10,200)\n",
        "poiss = np.random.poisson(1, 200)\n",
        "#print(f\"{gauss}\\n{expo}\\n{uni}\\n{poiss}\" )\n",
        "\n",
        "import matplotlib.pyplot as plt\n",
        "\n",
        "plt.hist(gauss,15, alpha = 0.7)\n",
        "plt.hist(expo,15,alpha = 0.7)\n",
        "plt.hist(uni,15,alpha = 0.7)\n",
        "plt.hist(poiss,alpha = 0.7);"
      ],
      "execution_count": null,
      "outputs": [
        {
          "output_type": "display_data",
          "data": {
            "image/png": "[encoded data removed]",
            "text/plain": [
              "<Figure size 432x288 with 1 Axes>"
            ]
          },
          "metadata": {
            "tags": [],
            "needs_background": "light"
          }
        }
      ]
    },
    {
      "cell_type": "code",
      "metadata": {
        "id": "brz_v2m0IXeU"
      },
      "source": [
        ""
      ],
      "execution_count": null,
      "outputs": []
    }
  ]
}