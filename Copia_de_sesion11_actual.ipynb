{
  "nbformat": 4,
  "nbformat_minor": 0,
  "metadata": {
    "colab": {
      "name": "Copia de sesion11 actual.ipynb",
      "provenance": [],
      "collapsed_sections": []
    },
    "kernelspec": {
      "name": "python3",
      "display_name": "Python 3"
    }
  },
  "cells": [
    {
      "cell_type": "markdown",
      "metadata": {
        "id": "Rgmqg3Ct3y0F"
      },
      "source": [
        "<p><img alt=\"Colaboratory logo\" height=\"140px\" src=\"https://upload.wikimedia.org/wikipedia/commons/archive/f/fb/20161010213812%21Escudo-UdeA.svg\" align=\"left\" hspace=\"10px\" vspace=\"0px\"></p>\n",
        "\n",
        "# **Diplomado de Análisis de datos y Machine Learning en Python**\n",
        "\n",
        "\n",
        "El presente diplomado hace parte del centro de Big Data de la facultad de ciencias exactas y naturales (FCEN) de la Universidad de Antioquia.\n",
        "\n",
        "## **Sesión 11**\n",
        "\n",
        "## **Contenido**\n",
        "\n",
        "- <a href=\"#gro\"> GroupBy</a><br>\n",
        "  - <a href=\"#esp\"> Especificando la clave para la división del DataFrame </a><br>\n",
        "  - <a href=\"#mul\"> Objetos de múltiples índices</a><br>\n",
        "  - <a href=\"#tab\"> Tablas dinámicas</a><br>\n",
        "- <a href=\"#vis\"> Visualización: Seaborn </a><br>"
      ]
    },
    {
      "cell_type": "markdown",
      "metadata": {
        "id": "OhARzjyQfvQn"
      },
      "source": [
        "<p><a name=\"esp\"></a></p>\n",
        "\n",
        "\n",
        "# **Especificando la clave para la división del DataFrame**\n",
        "\n",
        "Los ejemplos presentados anteriormente expresan solo unas de las muchas opciones mediante las cuales se pueden definir los grupos. Veamos algunas otras opciones para la especificación de grupos.\n",
        "\n"
      ]
    },
    {
      "cell_type": "markdown",
      "metadata": {
        "id": "iETTVunwgxVn"
      },
      "source": [
        "La clave puede ser cualquier serie o lista con una longitud que coincida con la del DataFrame"
      ]
    },
    {
      "cell_type": "code",
      "metadata": {
        "id": "AbjNXS-5g24C"
      },
      "source": [
        "import numpy as np\n",
        "import matplotlib.pyplot as plt\n",
        "import pandas as pd"
      ],
      "execution_count": null,
      "outputs": []
    },
    {
      "cell_type": "code",
      "metadata": {
        "id": "PBuRl5Q5gGat",
        "colab": {
          "base_uri": "https://localhost:8080/",
          "height": 225
        },
        "outputId": "ea9a9963-2fe9-41d0-a78a-27d13915bb1c"
      },
      "source": [
        "np.random.seed(42)\n",
        "df = pd.DataFrame({'key': ['A', 'B', 'C', 'A', 'B', 'C'], \n",
        "                   \"data1\": range(1,7), \"data2\": np.random.randint(0,10,6)}, columns= ['key', 'data1', 'data2'])\n",
        "df"
      ],
      "execution_count": null,
      "outputs": [
        {
          "output_type": "execute_result",
          "data": {
            "text/html": [
              "<div>\n",
              "<style scoped>\n",
              "    .dataframe tbody tr th:only-of-type {\n",
              "        vertical-align: middle;\n",
              "    }\n",
              "\n",
              "    .dataframe tbody tr th {\n",
              "        vertical-align: top;\n",
              "    }\n",
              "\n",
              "    .dataframe thead th {\n",
              "        text-align: right;\n",
              "    }\n",
              "</style>\n",
              "<table border=\"1\" class=\"dataframe\">\n",
              "  <thead>\n",
              "    <tr style=\"text-align: right;\">\n",
              "      <th></th>\n",
              "      <th>key</th>\n",
              "      <th>data1</th>\n",
              "      <th>data2</th>\n",
              "    </tr>\n",
              "  </thead>\n",
              "  <tbody>\n",
              "    <tr>\n",
              "      <th>0</th>\n",
              "      <td>A</td>\n",
              "      <td>1</td>\n",
              "      <td>6</td>\n",
              "    </tr>\n",
              "    <tr>\n",
              "      <th>1</th>\n",
              "      <td>B</td>\n",
              "      <td>2</td>\n",
              "      <td>3</td>\n",
              "    </tr>\n",
              "    <tr>\n",
              "      <th>2</th>\n",
              "      <td>C</td>\n",
              "      <td>3</td>\n",
              "      <td>7</td>\n",
              "    </tr>\n",
              "    <tr>\n",
              "      <th>3</th>\n",
              "      <td>A</td>\n",
              "      <td>4</td>\n",
              "      <td>4</td>\n",
              "    </tr>\n",
              "    <tr>\n",
              "      <th>4</th>\n",
              "      <td>B</td>\n",
              "      <td>5</td>\n",
              "      <td>6</td>\n",
              "    </tr>\n",
              "    <tr>\n",
              "      <th>5</th>\n",
              "      <td>C</td>\n",
              "      <td>6</td>\n",
              "      <td>9</td>\n",
              "    </tr>\n",
              "  </tbody>\n",
              "</table>\n",
              "</div>"
            ],
            "text/plain": [
              "  key  data1  data2\n",
              "0   A      1      6\n",
              "1   B      2      3\n",
              "2   C      3      7\n",
              "3   A      4      4\n",
              "4   B      5      6\n",
              "5   C      6      9"
            ]
          },
          "metadata": {
            "tags": []
          },
          "execution_count": 5
        }
      ]
    },
    {
      "cell_type": "markdown",
      "metadata": {
        "id": "KKo9IPiWg_Lb"
      },
      "source": [
        "Vamos a agrupar las filas 0 y 2 con índice \"a\"; las 1 y 3 con índice 1 ; las 4 y 5 con índice 10 y obtener la media"
      ]
    },
    {
      "cell_type": "code",
      "metadata": {
        "id": "_JHF5_FTgGOS",
        "colab": {
          "base_uri": "https://localhost:8080/",
          "height": 136
        },
        "outputId": "cefb556f-e8a9-4436-8703-ef6587c1ab69"
      },
      "source": [
        "l = ['a', 1, 'a', 1, 10.0, 10.0]\n",
        "df.groupby(l).mean()"
      ],
      "execution_count": null,
      "outputs": [
        {
          "output_type": "execute_result",
          "data": {
            "text/html": [
              "<div>\n",
              "<style scoped>\n",
              "    .dataframe tbody tr th:only-of-type {\n",
              "        vertical-align: middle;\n",
              "    }\n",
              "\n",
              "    .dataframe tbody tr th {\n",
              "        vertical-align: top;\n",
              "    }\n",
              "\n",
              "    .dataframe thead th {\n",
              "        text-align: right;\n",
              "    }\n",
              "</style>\n",
              "<table border=\"1\" class=\"dataframe\">\n",
              "  <thead>\n",
              "    <tr style=\"text-align: right;\">\n",
              "      <th></th>\n",
              "      <th>data1</th>\n",
              "      <th>data2</th>\n",
              "    </tr>\n",
              "  </thead>\n",
              "  <tbody>\n",
              "    <tr>\n",
              "      <th>1</th>\n",
              "      <td>3.0</td>\n",
              "      <td>3.5</td>\n",
              "    </tr>\n",
              "    <tr>\n",
              "      <th>10.0</th>\n",
              "      <td>5.5</td>\n",
              "      <td>7.5</td>\n",
              "    </tr>\n",
              "    <tr>\n",
              "      <th>a</th>\n",
              "      <td>2.0</td>\n",
              "      <td>6.5</td>\n",
              "    </tr>\n",
              "  </tbody>\n",
              "</table>\n",
              "</div>"
            ],
            "text/plain": [
              "      data1  data2\n",
              "1       3.0    3.5\n",
              "10.0    5.5    7.5\n",
              "a       2.0    6.5"
            ]
          },
          "metadata": {
            "tags": []
          },
          "execution_count": 10
        }
      ]
    },
    {
      "cell_type": "markdown",
      "metadata": {
        "id": "w5ZF-YTihJye"
      },
      "source": [
        "Otro método es el de proporcionar un diccionario que asigne los valores de los índices a las claves de grupo"
      ]
    },
    {
      "cell_type": "code",
      "metadata": {
        "id": "ubTSqNq-gHE-",
        "colab": {
          "base_uri": "https://localhost:8080/",
          "height": 254
        },
        "outputId": "863d4ef6-67f6-4812-e93c-f0137606fc2b"
      },
      "source": [
        "df2 = df.copy().set_index('key')\n",
        "df2"
      ],
      "execution_count": null,
      "outputs": [
        {
          "output_type": "execute_result",
          "data": {
            "text/html": [
              "<div>\n",
              "<style scoped>\n",
              "    .dataframe tbody tr th:only-of-type {\n",
              "        vertical-align: middle;\n",
              "    }\n",
              "\n",
              "    .dataframe tbody tr th {\n",
              "        vertical-align: top;\n",
              "    }\n",
              "\n",
              "    .dataframe thead th {\n",
              "        text-align: right;\n",
              "    }\n",
              "</style>\n",
              "<table border=\"1\" class=\"dataframe\">\n",
              "  <thead>\n",
              "    <tr style=\"text-align: right;\">\n",
              "      <th></th>\n",
              "      <th>data1</th>\n",
              "      <th>data2</th>\n",
              "    </tr>\n",
              "    <tr>\n",
              "      <th>key</th>\n",
              "      <th></th>\n",
              "      <th></th>\n",
              "    </tr>\n",
              "  </thead>\n",
              "  <tbody>\n",
              "    <tr>\n",
              "      <th>A</th>\n",
              "      <td>1</td>\n",
              "      <td>6</td>\n",
              "    </tr>\n",
              "    <tr>\n",
              "      <th>B</th>\n",
              "      <td>2</td>\n",
              "      <td>3</td>\n",
              "    </tr>\n",
              "    <tr>\n",
              "      <th>C</th>\n",
              "      <td>3</td>\n",
              "      <td>7</td>\n",
              "    </tr>\n",
              "    <tr>\n",
              "      <th>A</th>\n",
              "      <td>4</td>\n",
              "      <td>4</td>\n",
              "    </tr>\n",
              "    <tr>\n",
              "      <th>B</th>\n",
              "      <td>5</td>\n",
              "      <td>6</td>\n",
              "    </tr>\n",
              "    <tr>\n",
              "      <th>C</th>\n",
              "      <td>6</td>\n",
              "      <td>9</td>\n",
              "    </tr>\n",
              "  </tbody>\n",
              "</table>\n",
              "</div>"
            ],
            "text/plain": [
              "     data1  data2\n",
              "key              \n",
              "A        1      6\n",
              "B        2      3\n",
              "C        3      7\n",
              "A        4      4\n",
              "B        5      6\n",
              "C        6      9"
            ]
          },
          "metadata": {
            "tags": []
          },
          "execution_count": 11
        }
      ]
    },
    {
      "cell_type": "code",
      "metadata": {
        "id": "RIgxNDvqgHC2",
        "colab": {
          "base_uri": "https://localhost:8080/",
          "height": 106
        },
        "outputId": "214861c9-984f-4d54-9879-913bac9c66ec"
      },
      "source": [
        "mappeo = {\"A\": 'vocal', \"B\":'consonante', \"C\": 'consonante'}\n",
        "df2.groupby(mappeo).sum()"
      ],
      "execution_count": null,
      "outputs": [
        {
          "output_type": "execute_result",
          "data": {
            "text/html": [
              "<div>\n",
              "<style scoped>\n",
              "    .dataframe tbody tr th:only-of-type {\n",
              "        vertical-align: middle;\n",
              "    }\n",
              "\n",
              "    .dataframe tbody tr th {\n",
              "        vertical-align: top;\n",
              "    }\n",
              "\n",
              "    .dataframe thead th {\n",
              "        text-align: right;\n",
              "    }\n",
              "</style>\n",
              "<table border=\"1\" class=\"dataframe\">\n",
              "  <thead>\n",
              "    <tr style=\"text-align: right;\">\n",
              "      <th></th>\n",
              "      <th>data1</th>\n",
              "      <th>data2</th>\n",
              "    </tr>\n",
              "  </thead>\n",
              "  <tbody>\n",
              "    <tr>\n",
              "      <th>consonante</th>\n",
              "      <td>16</td>\n",
              "      <td>25</td>\n",
              "    </tr>\n",
              "    <tr>\n",
              "      <th>vocal</th>\n",
              "      <td>5</td>\n",
              "      <td>10</td>\n",
              "    </tr>\n",
              "  </tbody>\n",
              "</table>\n",
              "</div>"
            ],
            "text/plain": [
              "            data1  data2\n",
              "consonante     16     25\n",
              "vocal           5     10"
            ]
          },
          "metadata": {
            "tags": []
          },
          "execution_count": 13
        }
      ]
    },
    {
      "cell_type": "code",
      "metadata": {
        "colab": {
          "base_uri": "https://localhost:8080/",
          "height": 254
        },
        "id": "7eRA7kUH-rhk",
        "outputId": "c660e5c5-7319-4713-8bba-81a2f85e5ff7"
      },
      "source": [
        "df2"
      ],
      "execution_count": null,
      "outputs": [
        {
          "output_type": "execute_result",
          "data": {
            "text/html": [
              "<div>\n",
              "<style scoped>\n",
              "    .dataframe tbody tr th:only-of-type {\n",
              "        vertical-align: middle;\n",
              "    }\n",
              "\n",
              "    .dataframe tbody tr th {\n",
              "        vertical-align: top;\n",
              "    }\n",
              "\n",
              "    .dataframe thead th {\n",
              "        text-align: right;\n",
              "    }\n",
              "</style>\n",
              "<table border=\"1\" class=\"dataframe\">\n",
              "  <thead>\n",
              "    <tr style=\"text-align: right;\">\n",
              "      <th></th>\n",
              "      <th>data1</th>\n",
              "      <th>data2</th>\n",
              "    </tr>\n",
              "    <tr>\n",
              "      <th>key</th>\n",
              "      <th></th>\n",
              "      <th></th>\n",
              "    </tr>\n",
              "  </thead>\n",
              "  <tbody>\n",
              "    <tr>\n",
              "      <th>A</th>\n",
              "      <td>1</td>\n",
              "      <td>6</td>\n",
              "    </tr>\n",
              "    <tr>\n",
              "      <th>B</th>\n",
              "      <td>2</td>\n",
              "      <td>3</td>\n",
              "    </tr>\n",
              "    <tr>\n",
              "      <th>C</th>\n",
              "      <td>3</td>\n",
              "      <td>7</td>\n",
              "    </tr>\n",
              "    <tr>\n",
              "      <th>A</th>\n",
              "      <td>4</td>\n",
              "      <td>4</td>\n",
              "    </tr>\n",
              "    <tr>\n",
              "      <th>B</th>\n",
              "      <td>5</td>\n",
              "      <td>6</td>\n",
              "    </tr>\n",
              "    <tr>\n",
              "      <th>C</th>\n",
              "      <td>6</td>\n",
              "      <td>9</td>\n",
              "    </tr>\n",
              "  </tbody>\n",
              "</table>\n",
              "</div>"
            ],
            "text/plain": [
              "     data1  data2\n",
              "key              \n",
              "A        1      6\n",
              "B        2      3\n",
              "C        3      7\n",
              "A        4      4\n",
              "B        5      6\n",
              "C        6      9"
            ]
          },
          "metadata": {
            "tags": []
          },
          "execution_count": 14
        }
      ]
    },
    {
      "cell_type": "code",
      "metadata": {
        "colab": {
          "base_uri": "https://localhost:8080/",
          "height": 136
        },
        "id": "e5CJj8Gv_Atq",
        "outputId": "adba90f3-9405-412a-ac6d-548653050570"
      },
      "source": [
        "df.groupby(df.key.map(mappeo)).sum()"
      ],
      "execution_count": null,
      "outputs": [
        {
          "output_type": "execute_result",
          "data": {
            "text/html": [
              "<div>\n",
              "<style scoped>\n",
              "    .dataframe tbody tr th:only-of-type {\n",
              "        vertical-align: middle;\n",
              "    }\n",
              "\n",
              "    .dataframe tbody tr th {\n",
              "        vertical-align: top;\n",
              "    }\n",
              "\n",
              "    .dataframe thead th {\n",
              "        text-align: right;\n",
              "    }\n",
              "</style>\n",
              "<table border=\"1\" class=\"dataframe\">\n",
              "  <thead>\n",
              "    <tr style=\"text-align: right;\">\n",
              "      <th></th>\n",
              "      <th>data1</th>\n",
              "      <th>data2</th>\n",
              "    </tr>\n",
              "    <tr>\n",
              "      <th>key</th>\n",
              "      <th></th>\n",
              "      <th></th>\n",
              "    </tr>\n",
              "  </thead>\n",
              "  <tbody>\n",
              "    <tr>\n",
              "      <th>consonante</th>\n",
              "      <td>16</td>\n",
              "      <td>25</td>\n",
              "    </tr>\n",
              "    <tr>\n",
              "      <th>vocal</th>\n",
              "      <td>5</td>\n",
              "      <td>10</td>\n",
              "    </tr>\n",
              "  </tbody>\n",
              "</table>\n",
              "</div>"
            ],
            "text/plain": [
              "            data1  data2\n",
              "key                     \n",
              "consonante     16     25\n",
              "vocal           5     10"
            ]
          },
          "metadata": {
            "tags": []
          },
          "execution_count": 17
        }
      ]
    },
    {
      "cell_type": "markdown",
      "metadata": {
        "id": "etqBVulthZFe"
      },
      "source": [
        "Análogamente al mapeo, es posible pasar cualquier función de Python que aplique sobre el índice y genere el grupo"
      ]
    },
    {
      "cell_type": "code",
      "metadata": {
        "colab": {
          "base_uri": "https://localhost:8080/"
        },
        "id": "sj_qMnXp_qOE",
        "outputId": "ab4176db-76ed-4d84-cbe9-edfa89a333e8"
      },
      "source": [
        "df2.index"
      ],
      "execution_count": null,
      "outputs": [
        {
          "output_type": "execute_result",
          "data": {
            "text/plain": [
              "Index(['A', 'B', 'C', 'A', 'B', 'C'], dtype='object', name='key')"
            ]
          },
          "metadata": {
            "tags": []
          },
          "execution_count": 24
        }
      ]
    },
    {
      "cell_type": "code",
      "metadata": {
        "id": "AMMTR2_XO4tt",
        "colab": {
          "base_uri": "https://localhost:8080/"
        },
        "outputId": "284e5b16-4082-4f01-d399-2ebd16a380cb"
      },
      "source": [
        "type(df2.index.str.lower())"
      ],
      "execution_count": null,
      "outputs": [
        {
          "output_type": "execute_result",
          "data": {
            "text/plain": [
              "pandas.core.indexes.base.Index"
            ]
          },
          "metadata": {
            "tags": []
          },
          "execution_count": 22
        }
      ]
    },
    {
      "cell_type": "code",
      "metadata": {
        "id": "ljXjPuPAgG9x",
        "colab": {
          "base_uri": "https://localhost:8080/"
        },
        "outputId": "3e161a51-979f-4a5d-f725-be696780038d"
      },
      "source": [
        "df2.index.str.lower()"
      ],
      "execution_count": null,
      "outputs": [
        {
          "output_type": "execute_result",
          "data": {
            "text/plain": [
              "Index(['a', 'b', 'c', 'a', 'b', 'c'], dtype='object', name='key')"
            ]
          },
          "metadata": {
            "tags": []
          },
          "execution_count": 23
        }
      ]
    },
    {
      "cell_type": "code",
      "metadata": {
        "id": "ydtIoXgXPWGc",
        "colab": {
          "base_uri": "https://localhost:8080/",
          "height": 136
        },
        "outputId": "598b0ad1-77f6-431b-f3b9-87dd5579edc4"
      },
      "source": [
        "df2.groupby(str.lower).mean()"
      ],
      "execution_count": null,
      "outputs": [
        {
          "output_type": "execute_result",
          "data": {
            "text/html": [
              "<div>\n",
              "<style scoped>\n",
              "    .dataframe tbody tr th:only-of-type {\n",
              "        vertical-align: middle;\n",
              "    }\n",
              "\n",
              "    .dataframe tbody tr th {\n",
              "        vertical-align: top;\n",
              "    }\n",
              "\n",
              "    .dataframe thead th {\n",
              "        text-align: right;\n",
              "    }\n",
              "</style>\n",
              "<table border=\"1\" class=\"dataframe\">\n",
              "  <thead>\n",
              "    <tr style=\"text-align: right;\">\n",
              "      <th></th>\n",
              "      <th>data1</th>\n",
              "      <th>data2</th>\n",
              "    </tr>\n",
              "  </thead>\n",
              "  <tbody>\n",
              "    <tr>\n",
              "      <th>a</th>\n",
              "      <td>2.5</td>\n",
              "      <td>5.0</td>\n",
              "    </tr>\n",
              "    <tr>\n",
              "      <th>b</th>\n",
              "      <td>3.5</td>\n",
              "      <td>4.5</td>\n",
              "    </tr>\n",
              "    <tr>\n",
              "      <th>c</th>\n",
              "      <td>4.5</td>\n",
              "      <td>8.0</td>\n",
              "    </tr>\n",
              "  </tbody>\n",
              "</table>\n",
              "</div>"
            ],
            "text/plain": [
              "   data1  data2\n",
              "a    2.5    5.0\n",
              "b    3.5    4.5\n",
              "c    4.5    8.0"
            ]
          },
          "metadata": {
            "tags": []
          },
          "execution_count": 27
        }
      ]
    },
    {
      "cell_type": "markdown",
      "metadata": {
        "id": "0QWwIeOE32IH"
      },
      "source": [
        "<p><a name=\"mul\"></a></p>\n",
        "\n",
        "# **Objetos de múltiples índices**\n",
        "\n",
        "Hasta este punto, nos hemos centrado principalmente en datos unidimensionales y bidimensionales, almacenados en Series y DataFrame, respectivamente. A menudo, es útil ir más allá y almacenar datos de mayor dimensión, es decir, datos indexados por más de una o dos claves.\n"
      ]
    },
    {
      "cell_type": "markdown",
      "metadata": {
        "id": "QDzRikdLgG1Z"
      },
      "source": [
        "Por ejemplo, cualquiera de las opciones anteriores de agrupamiento se pueden combinar para agrupar con índice múltiple"
      ]
    },
    {
      "cell_type": "code",
      "metadata": {
        "id": "-KWgF1O-ieIy",
        "colab": {
          "base_uri": "https://localhost:8080/",
          "height": 136
        },
        "outputId": "bc64c04f-356b-4548-d753-97454cc3ec29"
      },
      "source": [
        "df = df2.copy().groupby([str.lower, mappeo]).mean()\n",
        "df"
      ],
      "execution_count": null,
      "outputs": [
        {
          "output_type": "execute_result",
          "data": {
            "text/html": [
              "<div>\n",
              "<style scoped>\n",
              "    .dataframe tbody tr th:only-of-type {\n",
              "        vertical-align: middle;\n",
              "    }\n",
              "\n",
              "    .dataframe tbody tr th {\n",
              "        vertical-align: top;\n",
              "    }\n",
              "\n",
              "    .dataframe thead th {\n",
              "        text-align: right;\n",
              "    }\n",
              "</style>\n",
              "<table border=\"1\" class=\"dataframe\">\n",
              "  <thead>\n",
              "    <tr style=\"text-align: right;\">\n",
              "      <th></th>\n",
              "      <th></th>\n",
              "      <th>data1</th>\n",
              "      <th>data2</th>\n",
              "    </tr>\n",
              "  </thead>\n",
              "  <tbody>\n",
              "    <tr>\n",
              "      <th>a</th>\n",
              "      <th>vocal</th>\n",
              "      <td>2.5</td>\n",
              "      <td>5.0</td>\n",
              "    </tr>\n",
              "    <tr>\n",
              "      <th>b</th>\n",
              "      <th>consonante</th>\n",
              "      <td>3.5</td>\n",
              "      <td>4.5</td>\n",
              "    </tr>\n",
              "    <tr>\n",
              "      <th>c</th>\n",
              "      <th>consonante</th>\n",
              "      <td>4.5</td>\n",
              "      <td>8.0</td>\n",
              "    </tr>\n",
              "  </tbody>\n",
              "</table>\n",
              "</div>"
            ],
            "text/plain": [
              "              data1  data2\n",
              "a vocal         2.5    5.0\n",
              "b consonante    3.5    4.5\n",
              "c consonante    4.5    8.0"
            ]
          },
          "metadata": {
            "tags": []
          },
          "execution_count": 29
        }
      ]
    },
    {
      "cell_type": "markdown",
      "metadata": {
        "id": "ZmRDVXehjUeK"
      },
      "source": [
        "Note que en este caso obtenemos un objeto con dos índices o niveles"
      ]
    },
    {
      "cell_type": "code",
      "metadata": {
        "id": "ofDEYKr_4Zfe",
        "colab": {
          "base_uri": "https://localhost:8080/"
        },
        "outputId": "3e45313d-206b-48a3-ff9a-85b9f87d1e3a"
      },
      "source": [
        "df.index"
      ],
      "execution_count": null,
      "outputs": [
        {
          "output_type": "execute_result",
          "data": {
            "text/plain": [
              "MultiIndex([('a',      'vocal'),\n",
              "            ('b', 'consonante'),\n",
              "            ('c', 'consonante')],\n",
              "           )"
            ]
          },
          "metadata": {
            "tags": []
          },
          "execution_count": 30
        }
      ]
    },
    {
      "cell_type": "markdown",
      "metadata": {
        "id": "VwBsGkKmjbnf"
      },
      "source": [
        "Se puede acceder a los diferentes niveles del índice múltiple mediante el kwarg `level`:"
      ]
    },
    {
      "cell_type": "code",
      "metadata": {
        "id": "FoLTrvfy5rj5",
        "colab": {
          "base_uri": "https://localhost:8080/",
          "height": 136
        },
        "outputId": "16201e9a-8e40-428a-dd8b-dfd9a56bfb8b"
      },
      "source": [
        "df.groupby(level= 0).mean()"
      ],
      "execution_count": null,
      "outputs": [
        {
          "output_type": "execute_result",
          "data": {
            "text/html": [
              "<div>\n",
              "<style scoped>\n",
              "    .dataframe tbody tr th:only-of-type {\n",
              "        vertical-align: middle;\n",
              "    }\n",
              "\n",
              "    .dataframe tbody tr th {\n",
              "        vertical-align: top;\n",
              "    }\n",
              "\n",
              "    .dataframe thead th {\n",
              "        text-align: right;\n",
              "    }\n",
              "</style>\n",
              "<table border=\"1\" class=\"dataframe\">\n",
              "  <thead>\n",
              "    <tr style=\"text-align: right;\">\n",
              "      <th></th>\n",
              "      <th>data1</th>\n",
              "      <th>data2</th>\n",
              "    </tr>\n",
              "  </thead>\n",
              "  <tbody>\n",
              "    <tr>\n",
              "      <th>a</th>\n",
              "      <td>2.5</td>\n",
              "      <td>5.0</td>\n",
              "    </tr>\n",
              "    <tr>\n",
              "      <th>b</th>\n",
              "      <td>3.5</td>\n",
              "      <td>4.5</td>\n",
              "    </tr>\n",
              "    <tr>\n",
              "      <th>c</th>\n",
              "      <td>4.5</td>\n",
              "      <td>8.0</td>\n",
              "    </tr>\n",
              "  </tbody>\n",
              "</table>\n",
              "</div>"
            ],
            "text/plain": [
              "   data1  data2\n",
              "a    2.5    5.0\n",
              "b    3.5    4.5\n",
              "c    4.5    8.0"
            ]
          },
          "metadata": {
            "tags": []
          },
          "execution_count": 31
        }
      ]
    },
    {
      "cell_type": "code",
      "metadata": {
        "id": "bHzgccxGjkwt",
        "colab": {
          "base_uri": "https://localhost:8080/",
          "height": 106
        },
        "outputId": "8ed516a4-ad2c-476e-b38d-fdb0c42bfe44"
      },
      "source": [
        "df.groupby(level= 1).mean()"
      ],
      "execution_count": null,
      "outputs": [
        {
          "output_type": "execute_result",
          "data": {
            "text/html": [
              "<div>\n",
              "<style scoped>\n",
              "    .dataframe tbody tr th:only-of-type {\n",
              "        vertical-align: middle;\n",
              "    }\n",
              "\n",
              "    .dataframe tbody tr th {\n",
              "        vertical-align: top;\n",
              "    }\n",
              "\n",
              "    .dataframe thead th {\n",
              "        text-align: right;\n",
              "    }\n",
              "</style>\n",
              "<table border=\"1\" class=\"dataframe\">\n",
              "  <thead>\n",
              "    <tr style=\"text-align: right;\">\n",
              "      <th></th>\n",
              "      <th>data1</th>\n",
              "      <th>data2</th>\n",
              "    </tr>\n",
              "  </thead>\n",
              "  <tbody>\n",
              "    <tr>\n",
              "      <th>consonante</th>\n",
              "      <td>4.0</td>\n",
              "      <td>6.25</td>\n",
              "    </tr>\n",
              "    <tr>\n",
              "      <th>vocal</th>\n",
              "      <td>2.5</td>\n",
              "      <td>5.00</td>\n",
              "    </tr>\n",
              "  </tbody>\n",
              "</table>\n",
              "</div>"
            ],
            "text/plain": [
              "            data1  data2\n",
              "consonante    4.0   6.25\n",
              "vocal         2.5   5.00"
            ]
          },
          "metadata": {
            "tags": []
          },
          "execution_count": 32
        }
      ]
    },
    {
      "cell_type": "markdown",
      "metadata": {
        "id": "BNJlVfTXld2q"
      },
      "source": [
        "Estudiemos este tipo de estructuras con un conjunto de datos real:"
      ]
    },
    {
      "cell_type": "code",
      "metadata": {
        "id": "XAYXqTUyjm0t",
        "colab": {
          "base_uri": "https://localhost:8080/",
          "height": 195
        },
        "outputId": "d0128eb0-2998-4229-b585-83205ade4fd5"
      },
      "source": [
        "titanic = pd.read_csv('https://raw.githubusercontent.com/tomasate/Diplomado_ML/main/datasets/data/nivel_1/Data/titanic.csv')\n",
        "titanic.head()"
      ],
      "execution_count": null,
      "outputs": [
        {
          "output_type": "execute_result",
          "data": {
            "text/html": [
              "<div>\n",
              "<style scoped>\n",
              "    .dataframe tbody tr th:only-of-type {\n",
              "        vertical-align: middle;\n",
              "    }\n",
              "\n",
              "    .dataframe tbody tr th {\n",
              "        vertical-align: top;\n",
              "    }\n",
              "\n",
              "    .dataframe thead th {\n",
              "        text-align: right;\n",
              "    }\n",
              "</style>\n",
              "<table border=\"1\" class=\"dataframe\">\n",
              "  <thead>\n",
              "    <tr style=\"text-align: right;\">\n",
              "      <th></th>\n",
              "      <th>PassengerId</th>\n",
              "      <th>Survived</th>\n",
              "      <th>Pclass</th>\n",
              "      <th>Name</th>\n",
              "      <th>Sex</th>\n",
              "      <th>Age</th>\n",
              "      <th>SibSp</th>\n",
              "      <th>Parch</th>\n",
              "      <th>Ticket</th>\n",
              "      <th>Fare</th>\n",
              "      <th>Cabin</th>\n",
              "      <th>Embarked</th>\n",
              "    </tr>\n",
              "  </thead>\n",
              "  <tbody>\n",
              "    <tr>\n",
              "      <th>0</th>\n",
              "      <td>1</td>\n",
              "      <td>0</td>\n",
              "      <td>3</td>\n",
              "      <td>Braund, Mr. Owen Harris</td>\n",
              "      <td>male</td>\n",
              "      <td>22.0</td>\n",
              "      <td>1</td>\n",
              "      <td>0</td>\n",
              "      <td>A/5 21171</td>\n",
              "      <td>7.2500</td>\n",
              "      <td>NaN</td>\n",
              "      <td>S</td>\n",
              "    </tr>\n",
              "    <tr>\n",
              "      <th>1</th>\n",
              "      <td>2</td>\n",
              "      <td>1</td>\n",
              "      <td>1</td>\n",
              "      <td>Cumings, Mrs. John Bradley (Florence Briggs Th...</td>\n",
              "      <td>female</td>\n",
              "      <td>38.0</td>\n",
              "      <td>1</td>\n",
              "      <td>0</td>\n",
              "      <td>PC 17599</td>\n",
              "      <td>71.2833</td>\n",
              "      <td>C85</td>\n",
              "      <td>C</td>\n",
              "    </tr>\n",
              "    <tr>\n",
              "      <th>2</th>\n",
              "      <td>3</td>\n",
              "      <td>1</td>\n",
              "      <td>3</td>\n",
              "      <td>Heikkinen, Miss. Laina</td>\n",
              "      <td>female</td>\n",
              "      <td>26.0</td>\n",
              "      <td>0</td>\n",
              "      <td>0</td>\n",
              "      <td>STON/O2. 3101282</td>\n",
              "      <td>7.9250</td>\n",
              "      <td>NaN</td>\n",
              "      <td>S</td>\n",
              "    </tr>\n",
              "    <tr>\n",
              "      <th>3</th>\n",
              "      <td>4</td>\n",
              "      <td>1</td>\n",
              "      <td>1</td>\n",
              "      <td>Futrelle, Mrs. Jacques Heath (Lily May Peel)</td>\n",
              "      <td>female</td>\n",
              "      <td>35.0</td>\n",
              "      <td>1</td>\n",
              "      <td>0</td>\n",
              "      <td>113803</td>\n",
              "      <td>53.1000</td>\n",
              "      <td>C123</td>\n",
              "      <td>S</td>\n",
              "    </tr>\n",
              "    <tr>\n",
              "      <th>4</th>\n",
              "      <td>5</td>\n",
              "      <td>0</td>\n",
              "      <td>3</td>\n",
              "      <td>Allen, Mr. William Henry</td>\n",
              "      <td>male</td>\n",
              "      <td>35.0</td>\n",
              "      <td>0</td>\n",
              "      <td>0</td>\n",
              "      <td>373450</td>\n",
              "      <td>8.0500</td>\n",
              "      <td>NaN</td>\n",
              "      <td>S</td>\n",
              "    </tr>\n",
              "  </tbody>\n",
              "</table>\n",
              "</div>"
            ],
            "text/plain": [
              "   PassengerId  Survived  Pclass  ...     Fare Cabin  Embarked\n",
              "0            1         0       3  ...   7.2500   NaN         S\n",
              "1            2         1       1  ...  71.2833   C85         C\n",
              "2            3         1       3  ...   7.9250   NaN         S\n",
              "3            4         1       1  ...  53.1000  C123         S\n",
              "4            5         0       3  ...   8.0500   NaN         S\n",
              "\n",
              "[5 rows x 12 columns]"
            ]
          },
          "metadata": {
            "tags": []
          },
          "execution_count": 36
        }
      ]
    },
    {
      "cell_type": "code",
      "metadata": {
        "id": "6593IwOjmAf4",
        "colab": {
          "base_uri": "https://localhost:8080/",
          "height": 195
        },
        "outputId": "c851ce04-2a89-4182-a87d-163657325cd9"
      },
      "source": [
        "titanic.columns = titanic.columns.str.lower()\n",
        "titanic.head()"
      ],
      "execution_count": null,
      "outputs": [
        {
          "output_type": "execute_result",
          "data": {
            "text/html": [
              "<div>\n",
              "<style scoped>\n",
              "    .dataframe tbody tr th:only-of-type {\n",
              "        vertical-align: middle;\n",
              "    }\n",
              "\n",
              "    .dataframe tbody tr th {\n",
              "        vertical-align: top;\n",
              "    }\n",
              "\n",
              "    .dataframe thead th {\n",
              "        text-align: right;\n",
              "    }\n",
              "</style>\n",
              "<table border=\"1\" class=\"dataframe\">\n",
              "  <thead>\n",
              "    <tr style=\"text-align: right;\">\n",
              "      <th></th>\n",
              "      <th>passengerid</th>\n",
              "      <th>survived</th>\n",
              "      <th>pclass</th>\n",
              "      <th>name</th>\n",
              "      <th>sex</th>\n",
              "      <th>age</th>\n",
              "      <th>sibsp</th>\n",
              "      <th>parch</th>\n",
              "      <th>ticket</th>\n",
              "      <th>fare</th>\n",
              "      <th>cabin</th>\n",
              "      <th>embarked</th>\n",
              "    </tr>\n",
              "  </thead>\n",
              "  <tbody>\n",
              "    <tr>\n",
              "      <th>0</th>\n",
              "      <td>1</td>\n",
              "      <td>0</td>\n",
              "      <td>3</td>\n",
              "      <td>Braund, Mr. Owen Harris</td>\n",
              "      <td>male</td>\n",
              "      <td>22.0</td>\n",
              "      <td>1</td>\n",
              "      <td>0</td>\n",
              "      <td>A/5 21171</td>\n",
              "      <td>7.2500</td>\n",
              "      <td>NaN</td>\n",
              "      <td>S</td>\n",
              "    </tr>\n",
              "    <tr>\n",
              "      <th>1</th>\n",
              "      <td>2</td>\n",
              "      <td>1</td>\n",
              "      <td>1</td>\n",
              "      <td>Cumings, Mrs. John Bradley (Florence Briggs Th...</td>\n",
              "      <td>female</td>\n",
              "      <td>38.0</td>\n",
              "      <td>1</td>\n",
              "      <td>0</td>\n",
              "      <td>PC 17599</td>\n",
              "      <td>71.2833</td>\n",
              "      <td>C85</td>\n",
              "      <td>C</td>\n",
              "    </tr>\n",
              "    <tr>\n",
              "      <th>2</th>\n",
              "      <td>3</td>\n",
              "      <td>1</td>\n",
              "      <td>3</td>\n",
              "      <td>Heikkinen, Miss. Laina</td>\n",
              "      <td>female</td>\n",
              "      <td>26.0</td>\n",
              "      <td>0</td>\n",
              "      <td>0</td>\n",
              "      <td>STON/O2. 3101282</td>\n",
              "      <td>7.9250</td>\n",
              "      <td>NaN</td>\n",
              "      <td>S</td>\n",
              "    </tr>\n",
              "    <tr>\n",
              "      <th>3</th>\n",
              "      <td>4</td>\n",
              "      <td>1</td>\n",
              "      <td>1</td>\n",
              "      <td>Futrelle, Mrs. Jacques Heath (Lily May Peel)</td>\n",
              "      <td>female</td>\n",
              "      <td>35.0</td>\n",
              "      <td>1</td>\n",
              "      <td>0</td>\n",
              "      <td>113803</td>\n",
              "      <td>53.1000</td>\n",
              "      <td>C123</td>\n",
              "      <td>S</td>\n",
              "    </tr>\n",
              "    <tr>\n",
              "      <th>4</th>\n",
              "      <td>5</td>\n",
              "      <td>0</td>\n",
              "      <td>3</td>\n",
              "      <td>Allen, Mr. William Henry</td>\n",
              "      <td>male</td>\n",
              "      <td>35.0</td>\n",
              "      <td>0</td>\n",
              "      <td>0</td>\n",
              "      <td>373450</td>\n",
              "      <td>8.0500</td>\n",
              "      <td>NaN</td>\n",
              "      <td>S</td>\n",
              "    </tr>\n",
              "  </tbody>\n",
              "</table>\n",
              "</div>"
            ],
            "text/plain": [
              "   passengerid  survived  pclass  ...     fare cabin  embarked\n",
              "0            1         0       3  ...   7.2500   NaN         S\n",
              "1            2         1       1  ...  71.2833   C85         C\n",
              "2            3         1       3  ...   7.9250   NaN         S\n",
              "3            4         1       1  ...  53.1000  C123         S\n",
              "4            5         0       3  ...   8.0500   NaN         S\n",
              "\n",
              "[5 rows x 12 columns]"
            ]
          },
          "metadata": {
            "tags": []
          },
          "execution_count": 37
        }
      ]
    },
    {
      "cell_type": "markdown",
      "metadata": {
        "id": "cGXQTh-_ldUp"
      },
      "source": [
        "Veamos, por ejemplo, la tasa de supervivencia por género y por clase:"
      ]
    },
    {
      "cell_type": "code",
      "metadata": {
        "id": "Fd6woi8ilHma",
        "colab": {
          "base_uri": "https://localhost:8080/"
        },
        "outputId": "72785471-f9f5-4a38-8a6b-2cdb9cbaba64"
      },
      "source": [
        "titanic.groupby(['sex', 'pclass']).survived.mean()"
      ],
      "execution_count": null,
      "outputs": [
        {
          "output_type": "execute_result",
          "data": {
            "text/plain": [
              "sex     pclass\n",
              "female  1         0.968085\n",
              "        2         0.921053\n",
              "        3         0.500000\n",
              "male    1         0.368852\n",
              "        2         0.157407\n",
              "        3         0.135447\n",
              "Name: survived, dtype: float64"
            ]
          },
          "metadata": {
            "tags": []
          },
          "execution_count": 38
        }
      ]
    },
    {
      "cell_type": "code",
      "metadata": {
        "id": "GQs8-NOfR0sI",
        "colab": {
          "base_uri": "https://localhost:8080/",
          "height": 254
        },
        "outputId": "5994dd34-c78f-44f8-f7ff-401799cecf3e"
      },
      "source": [
        "titanic.groupby(['sex', 'pclass'])[['survived']].mean()"
      ],
      "execution_count": null,
      "outputs": [
        {
          "output_type": "execute_result",
          "data": {
            "text/html": [
              "<div>\n",
              "<style scoped>\n",
              "    .dataframe tbody tr th:only-of-type {\n",
              "        vertical-align: middle;\n",
              "    }\n",
              "\n",
              "    .dataframe tbody tr th {\n",
              "        vertical-align: top;\n",
              "    }\n",
              "\n",
              "    .dataframe thead th {\n",
              "        text-align: right;\n",
              "    }\n",
              "</style>\n",
              "<table border=\"1\" class=\"dataframe\">\n",
              "  <thead>\n",
              "    <tr style=\"text-align: right;\">\n",
              "      <th></th>\n",
              "      <th></th>\n",
              "      <th>survived</th>\n",
              "    </tr>\n",
              "    <tr>\n",
              "      <th>sex</th>\n",
              "      <th>pclass</th>\n",
              "      <th></th>\n",
              "    </tr>\n",
              "  </thead>\n",
              "  <tbody>\n",
              "    <tr>\n",
              "      <th rowspan=\"3\" valign=\"top\">female</th>\n",
              "      <th>1</th>\n",
              "      <td>0.968085</td>\n",
              "    </tr>\n",
              "    <tr>\n",
              "      <th>2</th>\n",
              "      <td>0.921053</td>\n",
              "    </tr>\n",
              "    <tr>\n",
              "      <th>3</th>\n",
              "      <td>0.500000</td>\n",
              "    </tr>\n",
              "    <tr>\n",
              "      <th rowspan=\"3\" valign=\"top\">male</th>\n",
              "      <th>1</th>\n",
              "      <td>0.368852</td>\n",
              "    </tr>\n",
              "    <tr>\n",
              "      <th>2</th>\n",
              "      <td>0.157407</td>\n",
              "    </tr>\n",
              "    <tr>\n",
              "      <th>3</th>\n",
              "      <td>0.135447</td>\n",
              "    </tr>\n",
              "  </tbody>\n",
              "</table>\n",
              "</div>"
            ],
            "text/plain": [
              "               survived\n",
              "sex    pclass          \n",
              "female 1       0.968085\n",
              "       2       0.921053\n",
              "       3       0.500000\n",
              "male   1       0.368852\n",
              "       2       0.157407\n",
              "       3       0.135447"
            ]
          },
          "metadata": {
            "tags": []
          },
          "execution_count": 39
        }
      ]
    },
    {
      "cell_type": "markdown",
      "metadata": {
        "id": "sxOm0D16s2dN"
      },
      "source": [
        "Incluyamos ahora otra agregación:"
      ]
    },
    {
      "cell_type": "code",
      "metadata": {
        "id": "k1hvYofvnJw6",
        "colab": {
          "base_uri": "https://localhost:8080/"
        },
        "outputId": "44961860-6dbe-4da8-e25e-374c7f657503"
      },
      "source": [
        "df = titanic.groupby(['sex', 'pclass']).survived.agg([np.mean, len])\n",
        "df.len.sum()"
      ],
      "execution_count": null,
      "outputs": [
        {
          "output_type": "execute_result",
          "data": {
            "text/plain": [
              "891"
            ]
          },
          "metadata": {
            "tags": []
          },
          "execution_count": 54
        }
      ]
    },
    {
      "cell_type": "code",
      "metadata": {
        "colab": {
          "base_uri": "https://localhost:8080/"
        },
        "id": "59OQAZVNDRcc",
        "outputId": "2d6ee2ed-f115-43d0-ec8f-e1b168add6ae"
      },
      "source": [
        "titanic.shape[0]"
      ],
      "execution_count": null,
      "outputs": [
        {
          "output_type": "execute_result",
          "data": {
            "text/plain": [
              "891"
            ]
          },
          "metadata": {
            "tags": []
          },
          "execution_count": 47
        }
      ]
    },
    {
      "cell_type": "markdown",
      "metadata": {
        "id": "Dg30SsCtogbs"
      },
      "source": [
        "si quisieramos obtener el número de personas que sobrevivieron podremos, por ejemplo, realizar una operación vectorizada que, como ya vimos, preserva el índice:"
      ]
    },
    {
      "cell_type": "code",
      "metadata": {
        "id": "JL1wEaNgn_YX",
        "colab": {
          "base_uri": "https://localhost:8080/"
        },
        "outputId": "2be1a43d-a186-4cbb-f7e7-8f5e472223e3"
      },
      "source": [
        "df['len'] * df['mean']"
      ],
      "execution_count": null,
      "outputs": [
        {
          "output_type": "execute_result",
          "data": {
            "text/plain": [
              "sex     pclass\n",
              "female  1         91.0\n",
              "        2         70.0\n",
              "        3         72.0\n",
              "male    1         45.0\n",
              "        2         17.0\n",
              "        3         47.0\n",
              "dtype: float64"
            ]
          },
          "metadata": {
            "tags": []
          },
          "execution_count": 44
        }
      ]
    },
    {
      "cell_type": "markdown",
      "metadata": {
        "id": "LJGdTacHrX2V"
      },
      "source": [
        "Con estos objetos de índice múltiple, los datos de dimensiones superiores se pueden representar de forma compacta dentro de los objetos DataFrame bidimensionales y Series unidimensionales familiares.\n"
      ]
    },
    {
      "cell_type": "markdown",
      "metadata": {
        "id": "uxrtCN52q2DC"
      },
      "source": [
        "<p><a name=\"tab\"></a></p>\n",
        "\n",
        "# **Tablas dinámicas**"
      ]
    },
    {
      "cell_type": "markdown",
      "metadata": {
        "id": "IUzoOU_Hr6Nl"
      },
      "source": [
        "Volvamos a obtener la tasa de supervivencia por género y por clase"
      ]
    },
    {
      "cell_type": "code",
      "metadata": {
        "id": "2GJeURgBpwHs",
        "colab": {
          "base_uri": "https://localhost:8080/"
        },
        "outputId": "8672793a-c7a9-4afe-8efe-072824c51070"
      },
      "source": [
        "df = titanic.groupby(['sex', 'pclass']).survived.mean()\n",
        "df"
      ],
      "execution_count": null,
      "outputs": [
        {
          "output_type": "execute_result",
          "data": {
            "text/plain": [
              "sex     pclass\n",
              "female  1         0.968085\n",
              "        2         0.921053\n",
              "        3         0.500000\n",
              "male    1         0.368852\n",
              "        2         0.157407\n",
              "        3         0.135447\n",
              "Name: survived, dtype: float64"
            ]
          },
          "metadata": {
            "tags": []
          },
          "execution_count": 48
        }
      ]
    },
    {
      "cell_type": "markdown",
      "metadata": {
        "id": "26hLA-DUr-Bk"
      },
      "source": [
        "siempre podremos representar esta información en un DataFrame con índice único mediante el método `unstack()`:"
      ]
    },
    {
      "cell_type": "code",
      "metadata": {
        "id": "GjEvObpJr2uf",
        "colab": {
          "base_uri": "https://localhost:8080/",
          "height": 136
        },
        "outputId": "bc2fedb3-d081-4cac-fe5e-701a2fce80e4"
      },
      "source": [
        "df.unstack()"
      ],
      "execution_count": null,
      "outputs": [
        {
          "output_type": "execute_result",
          "data": {
            "text/html": [
              "<div>\n",
              "<style scoped>\n",
              "    .dataframe tbody tr th:only-of-type {\n",
              "        vertical-align: middle;\n",
              "    }\n",
              "\n",
              "    .dataframe tbody tr th {\n",
              "        vertical-align: top;\n",
              "    }\n",
              "\n",
              "    .dataframe thead th {\n",
              "        text-align: right;\n",
              "    }\n",
              "</style>\n",
              "<table border=\"1\" class=\"dataframe\">\n",
              "  <thead>\n",
              "    <tr style=\"text-align: right;\">\n",
              "      <th>pclass</th>\n",
              "      <th>1</th>\n",
              "      <th>2</th>\n",
              "      <th>3</th>\n",
              "    </tr>\n",
              "    <tr>\n",
              "      <th>sex</th>\n",
              "      <th></th>\n",
              "      <th></th>\n",
              "      <th></th>\n",
              "    </tr>\n",
              "  </thead>\n",
              "  <tbody>\n",
              "    <tr>\n",
              "      <th>female</th>\n",
              "      <td>0.968085</td>\n",
              "      <td>0.921053</td>\n",
              "      <td>0.500000</td>\n",
              "    </tr>\n",
              "    <tr>\n",
              "      <th>male</th>\n",
              "      <td>0.368852</td>\n",
              "      <td>0.157407</td>\n",
              "      <td>0.135447</td>\n",
              "    </tr>\n",
              "  </tbody>\n",
              "</table>\n",
              "</div>"
            ],
            "text/plain": [
              "pclass         1         2         3\n",
              "sex                                 \n",
              "female  0.968085  0.921053  0.500000\n",
              "male    0.368852  0.157407  0.135447"
            ]
          },
          "metadata": {
            "tags": []
          },
          "execution_count": 49
        }
      ]
    },
    {
      "cell_type": "markdown",
      "metadata": {
        "id": "O7AC3AfEsFeM"
      },
      "source": [
        "Este GroupBy bidimensional es lo suficientemente común como para que Pandas incluya una función conveniente `pivot_table` que maneja este tipo de agregación multidimensional:"
      ]
    },
    {
      "cell_type": "code",
      "metadata": {
        "id": "QSVT5RjJsB1y",
        "colab": {
          "base_uri": "https://localhost:8080/",
          "height": 136
        },
        "outputId": "32d20852-cbce-41f6-efc0-1d277cc7f3d8"
      },
      "source": [
        "titanic.pivot_table('survived', index= 'sex', columns= 'pclass')"
      ],
      "execution_count": null,
      "outputs": [
        {
          "output_type": "execute_result",
          "data": {
            "text/html": [
              "<div>\n",
              "<style scoped>\n",
              "    .dataframe tbody tr th:only-of-type {\n",
              "        vertical-align: middle;\n",
              "    }\n",
              "\n",
              "    .dataframe tbody tr th {\n",
              "        vertical-align: top;\n",
              "    }\n",
              "\n",
              "    .dataframe thead th {\n",
              "        text-align: right;\n",
              "    }\n",
              "</style>\n",
              "<table border=\"1\" class=\"dataframe\">\n",
              "  <thead>\n",
              "    <tr style=\"text-align: right;\">\n",
              "      <th>pclass</th>\n",
              "      <th>1</th>\n",
              "      <th>2</th>\n",
              "      <th>3</th>\n",
              "    </tr>\n",
              "    <tr>\n",
              "      <th>sex</th>\n",
              "      <th></th>\n",
              "      <th></th>\n",
              "      <th></th>\n",
              "    </tr>\n",
              "  </thead>\n",
              "  <tbody>\n",
              "    <tr>\n",
              "      <th>female</th>\n",
              "      <td>0.968085</td>\n",
              "      <td>0.921053</td>\n",
              "      <td>0.500000</td>\n",
              "    </tr>\n",
              "    <tr>\n",
              "      <th>male</th>\n",
              "      <td>0.368852</td>\n",
              "      <td>0.157407</td>\n",
              "      <td>0.135447</td>\n",
              "    </tr>\n",
              "  </tbody>\n",
              "</table>\n",
              "</div>"
            ],
            "text/plain": [
              "pclass         1         2         3\n",
              "sex                                 \n",
              "female  0.968085  0.921053  0.500000\n",
              "male    0.368852  0.157407  0.135447"
            ]
          },
          "metadata": {
            "tags": []
          },
          "execution_count": 50
        }
      ]
    },
    {
      "cell_type": "markdown",
      "metadata": {
        "id": "4RJU4pQitFE7"
      },
      "source": [
        "Por defecto `pivot_table` aplica la función `mean()`. Para cambiar la función de agregación utilizamos el argumento `aggfunc`"
      ]
    },
    {
      "cell_type": "code",
      "metadata": {
        "id": "bxpb6w-SsgBe",
        "colab": {
          "base_uri": "https://localhost:8080/",
          "height": 136
        },
        "outputId": "efe4fe57-6995-48fd-d798-fdf891209cc2"
      },
      "source": [
        "titanic.pivot_table('survived', index= 'sex', columns= 'pclass', aggfunc= \"sum\")"
      ],
      "execution_count": null,
      "outputs": [
        {
          "output_type": "execute_result",
          "data": {
            "text/html": [
              "<div>\n",
              "<style scoped>\n",
              "    .dataframe tbody tr th:only-of-type {\n",
              "        vertical-align: middle;\n",
              "    }\n",
              "\n",
              "    .dataframe tbody tr th {\n",
              "        vertical-align: top;\n",
              "    }\n",
              "\n",
              "    .dataframe thead th {\n",
              "        text-align: right;\n",
              "    }\n",
              "</style>\n",
              "<table border=\"1\" class=\"dataframe\">\n",
              "  <thead>\n",
              "    <tr style=\"text-align: right;\">\n",
              "      <th>pclass</th>\n",
              "      <th>1</th>\n",
              "      <th>2</th>\n",
              "      <th>3</th>\n",
              "    </tr>\n",
              "    <tr>\n",
              "      <th>sex</th>\n",
              "      <th></th>\n",
              "      <th></th>\n",
              "      <th></th>\n",
              "    </tr>\n",
              "  </thead>\n",
              "  <tbody>\n",
              "    <tr>\n",
              "      <th>female</th>\n",
              "      <td>91</td>\n",
              "      <td>70</td>\n",
              "      <td>72</td>\n",
              "    </tr>\n",
              "    <tr>\n",
              "      <th>male</th>\n",
              "      <td>45</td>\n",
              "      <td>17</td>\n",
              "      <td>47</td>\n",
              "    </tr>\n",
              "  </tbody>\n",
              "</table>\n",
              "</div>"
            ],
            "text/plain": [
              "pclass   1   2   3\n",
              "sex               \n",
              "female  91  70  72\n",
              "male    45  17  47"
            ]
          },
          "metadata": {
            "tags": []
          },
          "execution_count": 56
        }
      ]
    },
    {
      "cell_type": "markdown",
      "metadata": {
        "id": "LvnxJ6hAtR-w"
      },
      "source": [
        "Podemos agrupar por dos columnas y aplicar una función correspondiente a cada una mediante un mapeo:"
      ]
    },
    {
      "cell_type": "code",
      "metadata": {
        "id": "pxVhw0SUU0lP",
        "colab": {
          "base_uri": "https://localhost:8080/"
        },
        "outputId": "dad80079-b31d-4b9d-f527-acdcdc567908"
      },
      "source": [
        "titanic.columns"
      ],
      "execution_count": null,
      "outputs": [
        {
          "output_type": "execute_result",
          "data": {
            "text/plain": [
              "Index(['passengerid', 'survived', 'pclass', 'name', 'sex', 'age', 'sibsp',\n",
              "       'parch', 'ticket', 'fare', 'cabin', 'embarked'],\n",
              "      dtype='object')"
            ]
          },
          "metadata": {
            "tags": []
          },
          "execution_count": 57
        }
      ]
    },
    {
      "cell_type": "code",
      "metadata": {
        "id": "nCB6JQ0ntHeH",
        "colab": {
          "base_uri": "https://localhost:8080/",
          "height": 166
        },
        "outputId": "d7017f0e-baff-437c-858a-57507314e764"
      },
      "source": [
        "titanic.pivot_table( index= 'sex', columns= 'pclass', aggfunc= {\"survived\":\"sum\", 'fare':'mean'})"
      ],
      "execution_count": null,
      "outputs": [
        {
          "output_type": "execute_result",
          "data": {
            "text/html": [
              "<div>\n",
              "<style scoped>\n",
              "    .dataframe tbody tr th:only-of-type {\n",
              "        vertical-align: middle;\n",
              "    }\n",
              "\n",
              "    .dataframe tbody tr th {\n",
              "        vertical-align: top;\n",
              "    }\n",
              "\n",
              "    .dataframe thead tr th {\n",
              "        text-align: left;\n",
              "    }\n",
              "\n",
              "    .dataframe thead tr:last-of-type th {\n",
              "        text-align: right;\n",
              "    }\n",
              "</style>\n",
              "<table border=\"1\" class=\"dataframe\">\n",
              "  <thead>\n",
              "    <tr>\n",
              "      <th></th>\n",
              "      <th colspan=\"3\" halign=\"left\">fare</th>\n",
              "      <th colspan=\"3\" halign=\"left\">survived</th>\n",
              "    </tr>\n",
              "    <tr>\n",
              "      <th>pclass</th>\n",
              "      <th>1</th>\n",
              "      <th>2</th>\n",
              "      <th>3</th>\n",
              "      <th>1</th>\n",
              "      <th>2</th>\n",
              "      <th>3</th>\n",
              "    </tr>\n",
              "    <tr>\n",
              "      <th>sex</th>\n",
              "      <th></th>\n",
              "      <th></th>\n",
              "      <th></th>\n",
              "      <th></th>\n",
              "      <th></th>\n",
              "      <th></th>\n",
              "    </tr>\n",
              "  </thead>\n",
              "  <tbody>\n",
              "    <tr>\n",
              "      <th>female</th>\n",
              "      <td>106.125798</td>\n",
              "      <td>21.970121</td>\n",
              "      <td>16.118810</td>\n",
              "      <td>91</td>\n",
              "      <td>70</td>\n",
              "      <td>72</td>\n",
              "    </tr>\n",
              "    <tr>\n",
              "      <th>male</th>\n",
              "      <td>67.226127</td>\n",
              "      <td>19.741782</td>\n",
              "      <td>12.661633</td>\n",
              "      <td>45</td>\n",
              "      <td>17</td>\n",
              "      <td>47</td>\n",
              "    </tr>\n",
              "  </tbody>\n",
              "</table>\n",
              "</div>"
            ],
            "text/plain": [
              "              fare                       survived        \n",
              "pclass           1          2          3        1   2   3\n",
              "sex                                                      \n",
              "female  106.125798  21.970121  16.118810       91  70  72\n",
              "male     67.226127  19.741782  12.661633       45  17  47"
            ]
          },
          "metadata": {
            "tags": []
          },
          "execution_count": 58
        }
      ]
    },
    {
      "cell_type": "markdown",
      "metadata": {
        "id": "x7Sffc4QtcBS"
      },
      "source": [
        "La agrupación en tablas dinámicas se puede especificar con múltiples niveles. Podríamos estar interesados en ver la edad como una tercera dimensión. Seccionaremos la edad usando la función `pd.cut`"
      ]
    },
    {
      "cell_type": "code",
      "metadata": {
        "id": "I-UzOnp6Vcs_",
        "colab": {
          "base_uri": "https://localhost:8080/"
        },
        "outputId": "f4904c6a-0841-4adb-b3f5-54105d25d95b"
      },
      "source": [
        "titanic.age.min(), titanic.age.max()"
      ],
      "execution_count": null,
      "outputs": [
        {
          "output_type": "execute_result",
          "data": {
            "text/plain": [
              "(0.42, 80.0)"
            ]
          },
          "metadata": {
            "tags": []
          },
          "execution_count": 59
        }
      ]
    },
    {
      "cell_type": "code",
      "metadata": {
        "id": "HBTBhSWwtYTg",
        "colab": {
          "base_uri": "https://localhost:8080/"
        },
        "outputId": "4a600e21-0c35-44b9-f0dc-cbc4b9e5a649"
      },
      "source": [
        "pd.cut(titanic.age, [0,18,80], labels= ['Menor', 'Mayor'])"
      ],
      "execution_count": null,
      "outputs": [
        {
          "output_type": "execute_result",
          "data": {
            "text/plain": [
              "0      Mayor\n",
              "1      Mayor\n",
              "2      Mayor\n",
              "3      Mayor\n",
              "4      Mayor\n",
              "       ...  \n",
              "886    Mayor\n",
              "887    Mayor\n",
              "888      NaN\n",
              "889    Mayor\n",
              "890    Mayor\n",
              "Name: age, Length: 891, dtype: category\n",
              "Categories (2, object): ['Menor' < 'Mayor']"
            ]
          },
          "metadata": {
            "tags": []
          },
          "execution_count": 60
        }
      ]
    },
    {
      "cell_type": "markdown",
      "metadata": {
        "id": "sw7Uj3YRtwdL"
      },
      "source": [
        "Podemos aplicar esta misma estrategia para trabajar con las columnas. Agreguemos información sobre la tarifa pagada usando `pd.cut` para calcular automáticamente los cuantiles"
      ]
    },
    {
      "cell_type": "code",
      "metadata": {
        "id": "NK6GJZiQtxIa",
        "colab": {
          "base_uri": "https://localhost:8080/",
          "height": 195
        },
        "outputId": "13260d79-84bc-46eb-ec3a-561553fb3d05"
      },
      "source": [
        "edad = pd.cut(titanic.age, [0,18,80], labels= ['Menor', 'Mayor'])\n",
        "\n",
        "titanic.pivot_table('survived', ['sex', edad], columns='pclass', aggfunc='sum')"
      ],
      "execution_count": null,
      "outputs": [
        {
          "output_type": "execute_result",
          "data": {
            "text/html": [
              "<div>\n",
              "<style scoped>\n",
              "    .dataframe tbody tr th:only-of-type {\n",
              "        vertical-align: middle;\n",
              "    }\n",
              "\n",
              "    .dataframe tbody tr th {\n",
              "        vertical-align: top;\n",
              "    }\n",
              "\n",
              "    .dataframe thead th {\n",
              "        text-align: right;\n",
              "    }\n",
              "</style>\n",
              "<table border=\"1\" class=\"dataframe\">\n",
              "  <thead>\n",
              "    <tr style=\"text-align: right;\">\n",
              "      <th></th>\n",
              "      <th>pclass</th>\n",
              "      <th>1</th>\n",
              "      <th>2</th>\n",
              "      <th>3</th>\n",
              "    </tr>\n",
              "    <tr>\n",
              "      <th>sex</th>\n",
              "      <th>age</th>\n",
              "      <th></th>\n",
              "      <th></th>\n",
              "      <th></th>\n",
              "    </tr>\n",
              "  </thead>\n",
              "  <tbody>\n",
              "    <tr>\n",
              "      <th rowspan=\"2\" valign=\"top\">female</th>\n",
              "      <th>Menor</th>\n",
              "      <td>10</td>\n",
              "      <td>14</td>\n",
              "      <td>22</td>\n",
              "    </tr>\n",
              "    <tr>\n",
              "      <th>Mayor</th>\n",
              "      <td>72</td>\n",
              "      <td>54</td>\n",
              "      <td>25</td>\n",
              "    </tr>\n",
              "    <tr>\n",
              "      <th rowspan=\"2\" valign=\"top\">male</th>\n",
              "      <th>Menor</th>\n",
              "      <td>4</td>\n",
              "      <td>9</td>\n",
              "      <td>11</td>\n",
              "    </tr>\n",
              "    <tr>\n",
              "      <th>Mayor</th>\n",
              "      <td>36</td>\n",
              "      <td>6</td>\n",
              "      <td>27</td>\n",
              "    </tr>\n",
              "  </tbody>\n",
              "</table>\n",
              "</div>"
            ],
            "text/plain": [
              "pclass         1   2   3\n",
              "sex    age              \n",
              "female Menor  10  14  22\n",
              "       Mayor  72  54  25\n",
              "male   Menor   4   9  11\n",
              "       Mayor  36   6  27"
            ]
          },
          "metadata": {
            "tags": []
          },
          "execution_count": 63
        }
      ]
    },
    {
      "cell_type": "markdown",
      "metadata": {
        "id": "DQ0M8m_ntrV3"
      },
      "source": [
        "A veces es útil calcular totales a lo largo de cada grupo. Esto se puede hacer a través del kwarg `margins`"
      ]
    },
    {
      "cell_type": "code",
      "metadata": {
        "id": "s0EO6WjWtfTP",
        "colab": {
          "base_uri": "https://localhost:8080/",
          "height": 166
        },
        "outputId": "a62bb498-1b0d-45ea-bca8-2fea849ffe0a"
      },
      "source": [
        "titanic.pivot_table('survived', 'sex', columns='pclass', aggfunc='sum', margins = True)"
      ],
      "execution_count": null,
      "outputs": [
        {
          "output_type": "execute_result",
          "data": {
            "text/html": [
              "<div>\n",
              "<style scoped>\n",
              "    .dataframe tbody tr th:only-of-type {\n",
              "        vertical-align: middle;\n",
              "    }\n",
              "\n",
              "    .dataframe tbody tr th {\n",
              "        vertical-align: top;\n",
              "    }\n",
              "\n",
              "    .dataframe thead th {\n",
              "        text-align: right;\n",
              "    }\n",
              "</style>\n",
              "<table border=\"1\" class=\"dataframe\">\n",
              "  <thead>\n",
              "    <tr style=\"text-align: right;\">\n",
              "      <th>pclass</th>\n",
              "      <th>1</th>\n",
              "      <th>2</th>\n",
              "      <th>3</th>\n",
              "      <th>All</th>\n",
              "    </tr>\n",
              "    <tr>\n",
              "      <th>sex</th>\n",
              "      <th></th>\n",
              "      <th></th>\n",
              "      <th></th>\n",
              "      <th></th>\n",
              "    </tr>\n",
              "  </thead>\n",
              "  <tbody>\n",
              "    <tr>\n",
              "      <th>female</th>\n",
              "      <td>91</td>\n",
              "      <td>70</td>\n",
              "      <td>72</td>\n",
              "      <td>233</td>\n",
              "    </tr>\n",
              "    <tr>\n",
              "      <th>male</th>\n",
              "      <td>45</td>\n",
              "      <td>17</td>\n",
              "      <td>47</td>\n",
              "      <td>109</td>\n",
              "    </tr>\n",
              "    <tr>\n",
              "      <th>All</th>\n",
              "      <td>136</td>\n",
              "      <td>87</td>\n",
              "      <td>119</td>\n",
              "      <td>342</td>\n",
              "    </tr>\n",
              "  </tbody>\n",
              "</table>\n",
              "</div>"
            ],
            "text/plain": [
              "pclass    1   2    3  All\n",
              "sex                      \n",
              "female   91  70   72  233\n",
              "male     45  17   47  109\n",
              "All     136  87  119  342"
            ]
          },
          "metadata": {
            "tags": []
          },
          "execution_count": 65
        }
      ]
    },
    {
      "cell_type": "markdown",
      "metadata": {
        "id": "Lqkmgq_CuWJY"
      },
      "source": [
        "<p><a name=\"vis\"></a></p>\n",
        "\n",
        "# **Visualización: Seaborn**\n",
        "\n",
        "[Seaborn](https://seaborn.pydata.org/) proporciona una API, además de Matplotlib, que ofrece múltiples opciones para el estilo de gráficos. Define funciones simples de alto nivel para tipos de gráficos estadísticos comunes y se integra de manera adecuada con los objetos de Pandas.\n"
      ]
    },
    {
      "cell_type": "code",
      "metadata": {
        "id": "CJ53gC5Qt-uV"
      },
      "source": [
        "import seaborn as sns\n",
        "sns.set()"
      ],
      "execution_count": null,
      "outputs": []
    },
    {
      "cell_type": "code",
      "metadata": {
        "id": "NBr06Ko7u4XZ",
        "colab": {
          "base_uri": "https://localhost:8080/",
          "height": 195
        },
        "outputId": "0f1f8e41-5d3f-4a83-c3bd-61621c21b697"
      },
      "source": [
        "nba = pd.read_csv('https://raw.githubusercontent.com/tomasate/Diplomado_ML/main/datasets/data/nivel_1/Data/nba.csv', \n",
        "                  index_col= 'Unnamed: 0')\n",
        "nba.dropna(inplace = True)\n",
        "nba.head()"
      ],
      "execution_count": null,
      "outputs": [
        {
          "output_type": "execute_result",
          "data": {
            "text/html": [
              "<div>\n",
              "<style scoped>\n",
              "    .dataframe tbody tr th:only-of-type {\n",
              "        vertical-align: middle;\n",
              "    }\n",
              "\n",
              "    .dataframe tbody tr th {\n",
              "        vertical-align: top;\n",
              "    }\n",
              "\n",
              "    .dataframe thead th {\n",
              "        text-align: right;\n",
              "    }\n",
              "</style>\n",
              "<table border=\"1\" class=\"dataframe\">\n",
              "  <thead>\n",
              "    <tr style=\"text-align: right;\">\n",
              "      <th></th>\n",
              "      <th>Name</th>\n",
              "      <th>Team</th>\n",
              "      <th>Number</th>\n",
              "      <th>Position</th>\n",
              "      <th>Age</th>\n",
              "      <th>Height</th>\n",
              "      <th>Weight</th>\n",
              "      <th>College</th>\n",
              "      <th>Salary</th>\n",
              "    </tr>\n",
              "  </thead>\n",
              "  <tbody>\n",
              "    <tr>\n",
              "      <th>0</th>\n",
              "      <td>Avery Bradley</td>\n",
              "      <td>Boston Celtics</td>\n",
              "      <td>0.0</td>\n",
              "      <td>PG</td>\n",
              "      <td>25.0</td>\n",
              "      <td>6-2</td>\n",
              "      <td>180.0</td>\n",
              "      <td>Texas</td>\n",
              "      <td>7730337.0</td>\n",
              "    </tr>\n",
              "    <tr>\n",
              "      <th>1</th>\n",
              "      <td>Jae Crowder</td>\n",
              "      <td>Boston Celtics</td>\n",
              "      <td>99.0</td>\n",
              "      <td>SF</td>\n",
              "      <td>25.0</td>\n",
              "      <td>6-6</td>\n",
              "      <td>235.0</td>\n",
              "      <td>Marquette</td>\n",
              "      <td>6796117.0</td>\n",
              "    </tr>\n",
              "    <tr>\n",
              "      <th>3</th>\n",
              "      <td>R.J. Hunter</td>\n",
              "      <td>Boston Celtics</td>\n",
              "      <td>28.0</td>\n",
              "      <td>SG</td>\n",
              "      <td>22.0</td>\n",
              "      <td>6-5</td>\n",
              "      <td>185.0</td>\n",
              "      <td>Georgia State</td>\n",
              "      <td>1148640.0</td>\n",
              "    </tr>\n",
              "    <tr>\n",
              "      <th>6</th>\n",
              "      <td>Jordan Mickey</td>\n",
              "      <td>Boston Celtics</td>\n",
              "      <td>55.0</td>\n",
              "      <td>PF</td>\n",
              "      <td>21.0</td>\n",
              "      <td>6-8</td>\n",
              "      <td>235.0</td>\n",
              "      <td>LSU</td>\n",
              "      <td>1170960.0</td>\n",
              "    </tr>\n",
              "    <tr>\n",
              "      <th>7</th>\n",
              "      <td>Kelly Olynyk</td>\n",
              "      <td>Boston Celtics</td>\n",
              "      <td>41.0</td>\n",
              "      <td>C</td>\n",
              "      <td>25.0</td>\n",
              "      <td>7-0</td>\n",
              "      <td>238.0</td>\n",
              "      <td>Gonzaga</td>\n",
              "      <td>2165160.0</td>\n",
              "    </tr>\n",
              "  </tbody>\n",
              "</table>\n",
              "</div>"
            ],
            "text/plain": [
              "            Name            Team  Number  ... Weight        College     Salary\n",
              "0  Avery Bradley  Boston Celtics     0.0  ...  180.0          Texas  7730337.0\n",
              "1    Jae Crowder  Boston Celtics    99.0  ...  235.0      Marquette  6796117.0\n",
              "3    R.J. Hunter  Boston Celtics    28.0  ...  185.0  Georgia State  1148640.0\n",
              "6  Jordan Mickey  Boston Celtics    55.0  ...  235.0            LSU  1170960.0\n",
              "7   Kelly Olynyk  Boston Celtics    41.0  ...  238.0        Gonzaga  2165160.0\n",
              "\n",
              "[5 rows x 9 columns]"
            ]
          },
          "metadata": {
            "tags": []
          },
          "execution_count": 68
        }
      ]
    },
    {
      "cell_type": "markdown",
      "metadata": {
        "id": "lMEaKOLB1vp_"
      },
      "source": [
        "Respondamos a las siguientes preguntas:"
      ]
    },
    {
      "cell_type": "markdown",
      "metadata": {
        "id": "YuFvfTqO2iZt"
      },
      "source": [
        "* ¿Cuáles son los cinco equipos que pagan los salarios mas altos? (sumando toda la nómina de sus jugadores). "
      ]
    },
    {
      "cell_type": "code",
      "metadata": {
        "id": "Nv1Zxzziz5G_",
        "colab": {
          "base_uri": "https://localhost:8080/",
          "height": 195
        },
        "outputId": "cab3112c-1b61-48b5-a0f4-24e7ac62344c"
      },
      "source": [
        "team_salary = nba.groupby('Team', as_index= False)['Salary'].sum().sort_values(by ='Salary', ascending = False)[:5]\n",
        "team_salary"
      ],
      "execution_count": null,
      "outputs": [
        {
          "output_type": "execute_result",
          "data": {
            "text/html": [
              "<div>\n",
              "<style scoped>\n",
              "    .dataframe tbody tr th:only-of-type {\n",
              "        vertical-align: middle;\n",
              "    }\n",
              "\n",
              "    .dataframe tbody tr th {\n",
              "        vertical-align: top;\n",
              "    }\n",
              "\n",
              "    .dataframe thead th {\n",
              "        text-align: right;\n",
              "    }\n",
              "</style>\n",
              "<table border=\"1\" class=\"dataframe\">\n",
              "  <thead>\n",
              "    <tr style=\"text-align: right;\">\n",
              "      <th></th>\n",
              "      <th>Team</th>\n",
              "      <th>Salary</th>\n",
              "    </tr>\n",
              "  </thead>\n",
              "  <tbody>\n",
              "    <tr>\n",
              "      <th>12</th>\n",
              "      <td>Los Angeles Clippers</td>\n",
              "      <td>93906914.0</td>\n",
              "    </tr>\n",
              "    <tr>\n",
              "      <th>20</th>\n",
              "      <td>Oklahoma City Thunder</td>\n",
              "      <td>81515298.0</td>\n",
              "    </tr>\n",
              "    <tr>\n",
              "      <th>9</th>\n",
              "      <td>Golden State Warriors</td>\n",
              "      <td>80535517.0</td>\n",
              "    </tr>\n",
              "    <tr>\n",
              "      <th>5</th>\n",
              "      <td>Cleveland Cavaliers</td>\n",
              "      <td>74068189.0</td>\n",
              "    </tr>\n",
              "    <tr>\n",
              "      <th>4</th>\n",
              "      <td>Chicago Bulls</td>\n",
              "      <td>73265800.0</td>\n",
              "    </tr>\n",
              "  </tbody>\n",
              "</table>\n",
              "</div>"
            ],
            "text/plain": [
              "                     Team      Salary\n",
              "12   Los Angeles Clippers  93906914.0\n",
              "20  Oklahoma City Thunder  81515298.0\n",
              "9   Golden State Warriors  80535517.0\n",
              "5     Cleveland Cavaliers  74068189.0\n",
              "4           Chicago Bulls  73265800.0"
            ]
          },
          "metadata": {
            "tags": []
          },
          "execution_count": 72
        }
      ]
    },
    {
      "cell_type": "code",
      "metadata": {
        "id": "vsmwgErP1Dlj",
        "colab": {
          "base_uri": "https://localhost:8080/",
          "height": 503
        },
        "outputId": "9aca3f50-7af9-47c4-ce6b-6b92cfa0684c"
      },
      "source": [
        "sns.catplot(x = \"Team\", y = 'Salary', kind= 'bar', data= team_salary)\n",
        "plt.xticks(rotation = 90);"
      ],
      "execution_count": null,
      "outputs": [
        {
          "output_type": "display_data",
          "data": {
            "image/png": "[encoded data removed]",
            "text/plain": [
              "<Figure size 360x360 with 1 Axes>"
            ]
          },
          "metadata": {
            "tags": []
          }
        }
      ]
    },
    {
      "cell_type": "markdown",
      "metadata": {
        "id": "G5WrmQQy5EuU"
      },
      "source": [
        "* Separe la variable *Age* en tres grupos y cree una nueva columna llamada *Age_Group* con esta información. Muestre un gráfico de barras con el número de jugadores por grupo de edad diferenciando en esta (mediante un código de color) la posición."
      ]
    },
    {
      "cell_type": "code",
      "metadata": {
        "id": "bqTkcy4OeMvf",
        "colab": {
          "base_uri": "https://localhost:8080/"
        },
        "outputId": "2d7efe26-2c81-4b31-ffa7-c30b92b56679"
      },
      "source": [
        "nba.Age"
      ],
      "execution_count": null,
      "outputs": [
        {
          "output_type": "execute_result",
          "data": {
            "text/plain": [
              "0      25.0\n",
              "1      25.0\n",
              "3      22.0\n",
              "6      21.0\n",
              "7      25.0\n",
              "       ... \n",
              "449    23.0\n",
              "451    26.0\n",
              "452    20.0\n",
              "453    26.0\n",
              "456    26.0\n",
              "Name: Age, Length: 364, dtype: float64"
            ]
          },
          "metadata": {
            "tags": []
          },
          "execution_count": 76
        }
      ]
    },
    {
      "cell_type": "code",
      "metadata": {
        "id": "dpCSXIq04Z55",
        "colab": {
          "base_uri": "https://localhost:8080/"
        },
        "outputId": "f721d096-7f8b-4146-fd6e-f881882194ba"
      },
      "source": [
        "pd.cut(nba.Age, 3, labels=['baja', 'media', 'alta'])"
      ],
      "execution_count": null,
      "outputs": [
        {
          "output_type": "execute_result",
          "data": {
            "text/plain": [
              "0      baja\n",
              "1      baja\n",
              "3      baja\n",
              "6      baja\n",
              "7      baja\n",
              "       ... \n",
              "449    baja\n",
              "451    baja\n",
              "452    baja\n",
              "453    baja\n",
              "456    baja\n",
              "Name: Age, Length: 364, dtype: category\n",
              "Categories (3, object): ['baja' < 'media' < 'alta']"
            ]
          },
          "metadata": {
            "tags": []
          },
          "execution_count": 77
        }
      ]
    },
    {
      "cell_type": "code",
      "metadata": {
        "id": "UvXs9XqrfZ0T",
        "colab": {
          "base_uri": "https://localhost:8080/",
          "height": 382
        },
        "outputId": "4cdac7d2-aabf-439c-8d9f-79e1898116c8"
      },
      "source": [
        "nba['Age_Group'] = pd.cut(nba.Age, 3, labels=['baja', 'media', 'alta'])\n",
        "\n",
        "sns.catplot(data = nba, x = 'Age_Group', kind= 'count', hue='Position');"
      ],
      "execution_count": null,
      "outputs": [
        {
          "output_type": "display_data",
          "data": {
            "image/png": "[encoded data removed]",
            "text/plain": [
              "<Figure size 415.55x360 with 1 Axes>"
            ]
          },
          "metadata": {
            "tags": []
          }
        }
      ]
    },
    {
      "cell_type": "markdown",
      "metadata": {
        "id": "6XXJycQb9v7n"
      },
      "source": [
        "* Construya dos gráficos de caja en los que se muestren los salarios vs las posiciones de los jugadores y salarios vs grupo de edad en la misma figura, de manera que compartan el eje del salario. ¿Cuál característica es más importante a la hora de definir el salario?"
      ]
    },
    {
      "cell_type": "code",
      "metadata": {
        "colab": {
          "base_uri": "https://localhost:8080/",
          "height": 284
        },
        "id": "nNcReVF4MeDj",
        "outputId": "cecea407-a68d-4b7e-a58c-bbd40d6ba999"
      },
      "source": [
        "nba.groupby(['Position']).Salary.describe().T"
      ],
      "execution_count": null,
      "outputs": [
        {
          "output_type": "execute_result",
          "data": {
            "text/html": [
              "<div>\n",
              "<style scoped>\n",
              "    .dataframe tbody tr th:only-of-type {\n",
              "        vertical-align: middle;\n",
              "    }\n",
              "\n",
              "    .dataframe tbody tr th {\n",
              "        vertical-align: top;\n",
              "    }\n",
              "\n",
              "    .dataframe thead th {\n",
              "        text-align: right;\n",
              "    }\n",
              "</style>\n",
              "<table border=\"1\" class=\"dataframe\">\n",
              "  <thead>\n",
              "    <tr style=\"text-align: right;\">\n",
              "      <th>Position</th>\n",
              "      <th>C</th>\n",
              "      <th>PF</th>\n",
              "      <th>PG</th>\n",
              "      <th>SF</th>\n",
              "      <th>SG</th>\n",
              "    </tr>\n",
              "  </thead>\n",
              "  <tbody>\n",
              "    <tr>\n",
              "      <th>count</th>\n",
              "      <td>4.900000e+01</td>\n",
              "      <td>8.100000e+01</td>\n",
              "      <td>7.600000e+01</td>\n",
              "      <td>7.100000e+01</td>\n",
              "      <td>8.700000e+01</td>\n",
              "    </tr>\n",
              "    <tr>\n",
              "      <th>mean</th>\n",
              "      <td>5.763867e+06</td>\n",
              "      <td>4.459988e+06</td>\n",
              "      <td>4.916069e+06</td>\n",
              "      <td>4.595908e+06</td>\n",
              "      <td>3.887058e+06</td>\n",
              "    </tr>\n",
              "    <tr>\n",
              "      <th>std</th>\n",
              "      <td>5.786112e+06</td>\n",
              "      <td>4.983202e+06</td>\n",
              "      <td>5.043854e+06</td>\n",
              "      <td>5.446876e+06</td>\n",
              "      <td>4.596175e+06</td>\n",
              "    </tr>\n",
              "    <tr>\n",
              "      <th>min</th>\n",
              "      <td>8.339700e+04</td>\n",
              "      <td>1.114440e+05</td>\n",
              "      <td>5.572200e+04</td>\n",
              "      <td>2.006000e+05</td>\n",
              "      <td>5.572200e+04</td>\n",
              "    </tr>\n",
              "    <tr>\n",
              "      <th>25%</th>\n",
              "      <td>1.276000e+06</td>\n",
              "      <td>1.035000e+06</td>\n",
              "      <td>1.291350e+06</td>\n",
              "      <td>9.906740e+05</td>\n",
              "      <td>9.472760e+05</td>\n",
              "    </tr>\n",
              "    <tr>\n",
              "      <th>50%</th>\n",
              "      <td>3.398280e+06</td>\n",
              "      <td>2.850000e+06</td>\n",
              "      <td>2.927470e+06</td>\n",
              "      <td>2.000000e+06</td>\n",
              "      <td>1.500000e+06</td>\n",
              "    </tr>\n",
              "    <tr>\n",
              "      <th>75%</th>\n",
              "      <td>7.700000e+06</td>\n",
              "      <td>5.464000e+06</td>\n",
              "      <td>6.934652e+06</td>\n",
              "      <td>5.915702e+06</td>\n",
              "      <td>5.675000e+06</td>\n",
              "    </tr>\n",
              "    <tr>\n",
              "      <th>max</th>\n",
              "      <td>1.968900e+07</td>\n",
              "      <td>2.219273e+07</td>\n",
              "      <td>2.146870e+07</td>\n",
              "      <td>2.287500e+07</td>\n",
              "      <td>2.000000e+07</td>\n",
              "    </tr>\n",
              "  </tbody>\n",
              "</table>\n",
              "</div>"
            ],
            "text/plain": [
              "Position             C            PF            PG            SF            SG\n",
              "count     4.900000e+01  8.100000e+01  7.600000e+01  7.100000e+01  8.700000e+01\n",
              "mean      5.763867e+06  4.459988e+06  4.916069e+06  4.595908e+06  3.887058e+06\n",
              "std       5.786112e+06  4.983202e+06  5.043854e+06  5.446876e+06  4.596175e+06\n",
              "min       8.339700e+04  1.114440e+05  5.572200e+04  2.006000e+05  5.572200e+04\n",
              "25%       1.276000e+06  1.035000e+06  1.291350e+06  9.906740e+05  9.472760e+05\n",
              "50%       3.398280e+06  2.850000e+06  2.927470e+06  2.000000e+06  1.500000e+06\n",
              "75%       7.700000e+06  5.464000e+06  6.934652e+06  5.915702e+06  5.675000e+06\n",
              "max       1.968900e+07  2.219273e+07  2.146870e+07  2.287500e+07  2.000000e+07"
            ]
          },
          "metadata": {
            "tags": []
          },
          "execution_count": 81
        }
      ]
    },
    {
      "cell_type": "code",
      "metadata": {
        "id": "T89aUmpkgnxT",
        "colab": {
          "base_uri": "https://localhost:8080/",
          "height": 284
        },
        "outputId": "e2e6002f-1dc6-496b-d689-509312eceff2"
      },
      "source": [
        "nba.groupby(['Age_Group']).Salary.describe().T"
      ],
      "execution_count": null,
      "outputs": [
        {
          "output_type": "execute_result",
          "data": {
            "text/html": [
              "<div>\n",
              "<style scoped>\n",
              "    .dataframe tbody tr th:only-of-type {\n",
              "        vertical-align: middle;\n",
              "    }\n",
              "\n",
              "    .dataframe tbody tr th {\n",
              "        vertical-align: top;\n",
              "    }\n",
              "\n",
              "    .dataframe thead th {\n",
              "        text-align: right;\n",
              "    }\n",
              "</style>\n",
              "<table border=\"1\" class=\"dataframe\">\n",
              "  <thead>\n",
              "    <tr style=\"text-align: right;\">\n",
              "      <th>Age_Group</th>\n",
              "      <th>baja</th>\n",
              "      <th>media</th>\n",
              "      <th>alta</th>\n",
              "    </tr>\n",
              "  </thead>\n",
              "  <tbody>\n",
              "    <tr>\n",
              "      <th>count</th>\n",
              "      <td>2.010000e+02</td>\n",
              "      <td>1.330000e+02</td>\n",
              "      <td>3.000000e+01</td>\n",
              "    </tr>\n",
              "    <tr>\n",
              "      <th>mean</th>\n",
              "      <td>3.659033e+06</td>\n",
              "      <td>6.313883e+06</td>\n",
              "      <td>3.552709e+06</td>\n",
              "    </tr>\n",
              "    <tr>\n",
              "      <th>std</th>\n",
              "      <td>4.440435e+06</td>\n",
              "      <td>5.870772e+06</td>\n",
              "      <td>3.807311e+06</td>\n",
              "    </tr>\n",
              "    <tr>\n",
              "      <th>min</th>\n",
              "      <td>5.572200e+04</td>\n",
              "      <td>5.572200e+04</td>\n",
              "      <td>2.228880e+05</td>\n",
              "    </tr>\n",
              "    <tr>\n",
              "      <th>25%</th>\n",
              "      <td>9.472760e+05</td>\n",
              "      <td>1.500000e+06</td>\n",
              "      <td>9.472760e+05</td>\n",
              "    </tr>\n",
              "    <tr>\n",
              "      <th>50%</th>\n",
              "      <td>1.724250e+06</td>\n",
              "      <td>4.375000e+06</td>\n",
              "      <td>3.077470e+06</td>\n",
              "    </tr>\n",
              "    <tr>\n",
              "      <th>75%</th>\n",
              "      <td>3.873398e+06</td>\n",
              "      <td>8.500000e+06</td>\n",
              "      <td>4.875000e+06</td>\n",
              "    </tr>\n",
              "    <tr>\n",
              "      <th>max</th>\n",
              "      <td>1.712011e+07</td>\n",
              "      <td>2.287500e+07</td>\n",
              "      <td>2.000000e+07</td>\n",
              "    </tr>\n",
              "  </tbody>\n",
              "</table>\n",
              "</div>"
            ],
            "text/plain": [
              "Age_Group          baja         media          alta\n",
              "count      2.010000e+02  1.330000e+02  3.000000e+01\n",
              "mean       3.659033e+06  6.313883e+06  3.552709e+06\n",
              "std        4.440435e+06  5.870772e+06  3.807311e+06\n",
              "min        5.572200e+04  5.572200e+04  2.228880e+05\n",
              "25%        9.472760e+05  1.500000e+06  9.472760e+05\n",
              "50%        1.724250e+06  4.375000e+06  3.077470e+06\n",
              "75%        3.873398e+06  8.500000e+06  4.875000e+06\n",
              "max        1.712011e+07  2.287500e+07  2.000000e+07"
            ]
          },
          "metadata": {
            "tags": []
          },
          "execution_count": 82
        }
      ]
    },
    {
      "cell_type": "code",
      "metadata": {
        "id": "pwygCkoEBIXH",
        "colab": {
          "base_uri": "https://localhost:8080/",
          "height": 399
        },
        "outputId": "41a6c405-c54f-4e5f-e21c-06ce53cae724"
      },
      "source": [
        "sns.catplot(data =nba, x = 'Position', y ='Salary', kind = 'box');"
      ],
      "execution_count": null,
      "outputs": [
        {
          "output_type": "execute_result",
          "data": {
            "text/plain": [
              "<seaborn.axisgrid.FacetGrid at 0x7f9ff2cd1650>"
            ]
          },
          "metadata": {
            "tags": []
          },
          "execution_count": 83
        },
        {
          "output_type": "display_data",
          "data": {
            "image/png": "[encoded data removed]",
            "text/plain": [
              "<Figure size 360x360 with 1 Axes>"
            ]
          },
          "metadata": {
            "tags": []
          }
        }
      ]
    },
    {
      "cell_type": "code",
      "metadata": {
        "id": "WrUnAqsU9MPs",
        "colab": {
          "base_uri": "https://localhost:8080/",
          "height": 382
        },
        "outputId": "86f4cda4-0572-444a-a6ad-11fe1c89dc8d"
      },
      "source": [
        "sns.catplot(data =nba, x = 'Age_Group', y ='Salary', kind = 'box');"
      ],
      "execution_count": null,
      "outputs": [
        {
          "output_type": "display_data",
          "data": {
            "image/png": "[encoded data removed]",
            "text/plain": [
              "<Figure size 360x360 with 1 Axes>"
            ]
          },
          "metadata": {
            "tags": []
          }
        }
      ]
    },
    {
      "cell_type": "code",
      "metadata": {
        "id": "fj0kFA_O-xqC",
        "colab": {
          "base_uri": "https://localhost:8080/",
          "height": 350
        },
        "outputId": "386f9aa1-60d0-4191-92c8-cd9a3f38c739"
      },
      "source": [
        "fig, axs = plt.subplots(1,2, figsize = (10,5), sharey=True)\n",
        "\n",
        "sns.boxplot(data =nba, x = 'Position', y ='Salary', ax= axs[0])\n",
        "sns.boxplot(data =nba, x = 'Age_Group', y ='Salary', ax= axs[1]);"
      ],
      "execution_count": null,
      "outputs": [
        {
          "output_type": "display_data",
          "data": {
            "image/png": "[encoded data removed]",
            "text/plain": [
              "<Figure size 720x360 with 2 Axes>"
            ]
          },
          "metadata": {
            "tags": []
          }
        }
      ]
    },
    {
      "cell_type": "markdown",
      "metadata": {
        "id": "-wwA7VpID-oU"
      },
      "source": [
        "Los gráfico de cajas nos permiten observar:\n",
        "\n",
        "* Distribucion\n",
        "* puntos aislados\n",
        "* Asimetria\n"
      ]
    },
    {
      "cell_type": "markdown",
      "metadata": {
        "id": "zo302HSQDDxw"
      },
      "source": [
        "* Construya una tabla dinámica que muestre el salario promedio de los jugadores por equipo y posición para para los cinco equipos que pagan mejores salarios. Visualice este resultado mediante un mapa de calor."
      ]
    },
    {
      "cell_type": "code",
      "metadata": {
        "id": "aZFe7IDu_jrV",
        "colab": {
          "base_uri": "https://localhost:8080/",
          "height": 402
        },
        "outputId": "7d2f40a2-3ca9-4b27-92d2-6fba13bb1f00"
      },
      "source": [
        "filtered_data = nba.loc[nba.Team.isin(team_salary.Team)]\n",
        "filtered_data"
      ],
      "execution_count": null,
      "outputs": [
        {
          "output_type": "execute_result",
          "data": {
            "text/html": [
              "<div>\n",
              "<style scoped>\n",
              "    .dataframe tbody tr th:only-of-type {\n",
              "        vertical-align: middle;\n",
              "    }\n",
              "\n",
              "    .dataframe tbody tr th {\n",
              "        vertical-align: top;\n",
              "    }\n",
              "\n",
              "    .dataframe thead th {\n",
              "        text-align: right;\n",
              "    }\n",
              "</style>\n",
              "<table border=\"1\" class=\"dataframe\">\n",
              "  <thead>\n",
              "    <tr style=\"text-align: right;\">\n",
              "      <th></th>\n",
              "      <th>Name</th>\n",
              "      <th>Team</th>\n",
              "      <th>Number</th>\n",
              "      <th>Position</th>\n",
              "      <th>Age</th>\n",
              "      <th>Height</th>\n",
              "      <th>Weight</th>\n",
              "      <th>College</th>\n",
              "      <th>Salary</th>\n",
              "      <th>Age_Group</th>\n",
              "    </tr>\n",
              "  </thead>\n",
              "  <tbody>\n",
              "    <tr>\n",
              "      <th>77</th>\n",
              "      <td>Harrison Barnes</td>\n",
              "      <td>Golden State Warriors</td>\n",
              "      <td>40.0</td>\n",
              "      <td>SF</td>\n",
              "      <td>24.0</td>\n",
              "      <td>6-8</td>\n",
              "      <td>225.0</td>\n",
              "      <td>North Carolina</td>\n",
              "      <td>3873398.0</td>\n",
              "      <td>baja</td>\n",
              "    </tr>\n",
              "    <tr>\n",
              "      <th>78</th>\n",
              "      <td>Andrew Bogut</td>\n",
              "      <td>Golden State Warriors</td>\n",
              "      <td>12.0</td>\n",
              "      <td>C</td>\n",
              "      <td>31.0</td>\n",
              "      <td>7-0</td>\n",
              "      <td>260.0</td>\n",
              "      <td>Utah</td>\n",
              "      <td>13800000.0</td>\n",
              "      <td>media</td>\n",
              "    </tr>\n",
              "    <tr>\n",
              "      <th>79</th>\n",
              "      <td>Ian Clark</td>\n",
              "      <td>Golden State Warriors</td>\n",
              "      <td>21.0</td>\n",
              "      <td>SG</td>\n",
              "      <td>25.0</td>\n",
              "      <td>6-3</td>\n",
              "      <td>175.0</td>\n",
              "      <td>Belmont</td>\n",
              "      <td>947276.0</td>\n",
              "      <td>baja</td>\n",
              "    </tr>\n",
              "    <tr>\n",
              "      <th>80</th>\n",
              "      <td>Stephen Curry</td>\n",
              "      <td>Golden State Warriors</td>\n",
              "      <td>30.0</td>\n",
              "      <td>PG</td>\n",
              "      <td>28.0</td>\n",
              "      <td>6-3</td>\n",
              "      <td>190.0</td>\n",
              "      <td>Davidson</td>\n",
              "      <td>11370786.0</td>\n",
              "      <td>media</td>\n",
              "    </tr>\n",
              "    <tr>\n",
              "      <th>81</th>\n",
              "      <td>Festus Ezeli</td>\n",
              "      <td>Golden State Warriors</td>\n",
              "      <td>31.0</td>\n",
              "      <td>C</td>\n",
              "      <td>26.0</td>\n",
              "      <td>6-11</td>\n",
              "      <td>265.0</td>\n",
              "      <td>Vanderbilt</td>\n",
              "      <td>2008748.0</td>\n",
              "      <td>baja</td>\n",
              "    </tr>\n",
              "    <tr>\n",
              "      <th>...</th>\n",
              "      <td>...</td>\n",
              "      <td>...</td>\n",
              "      <td>...</td>\n",
              "      <td>...</td>\n",
              "      <td>...</td>\n",
              "      <td>...</td>\n",
              "      <td>...</td>\n",
              "      <td>...</td>\n",
              "      <td>...</td>\n",
              "      <td>...</td>\n",
              "    </tr>\n",
              "    <tr>\n",
              "      <th>422</th>\n",
              "      <td>Cameron Payne</td>\n",
              "      <td>Oklahoma City Thunder</td>\n",
              "      <td>22.0</td>\n",
              "      <td>PG</td>\n",
              "      <td>21.0</td>\n",
              "      <td>6-3</td>\n",
              "      <td>185.0</td>\n",
              "      <td>Murray State</td>\n",
              "      <td>2021520.0</td>\n",
              "      <td>baja</td>\n",
              "    </tr>\n",
              "    <tr>\n",
              "      <th>423</th>\n",
              "      <td>Andre Roberson</td>\n",
              "      <td>Oklahoma City Thunder</td>\n",
              "      <td>21.0</td>\n",
              "      <td>SG</td>\n",
              "      <td>24.0</td>\n",
              "      <td>6-7</td>\n",
              "      <td>210.0</td>\n",
              "      <td>Colorado</td>\n",
              "      <td>1210800.0</td>\n",
              "      <td>baja</td>\n",
              "    </tr>\n",
              "    <tr>\n",
              "      <th>424</th>\n",
              "      <td>Kyle Singler</td>\n",
              "      <td>Oklahoma City Thunder</td>\n",
              "      <td>5.0</td>\n",
              "      <td>SF</td>\n",
              "      <td>28.0</td>\n",
              "      <td>6-8</td>\n",
              "      <td>228.0</td>\n",
              "      <td>Duke</td>\n",
              "      <td>4500000.0</td>\n",
              "      <td>media</td>\n",
              "    </tr>\n",
              "    <tr>\n",
              "      <th>425</th>\n",
              "      <td>Dion Waiters</td>\n",
              "      <td>Oklahoma City Thunder</td>\n",
              "      <td>3.0</td>\n",
              "      <td>SG</td>\n",
              "      <td>24.0</td>\n",
              "      <td>6-4</td>\n",
              "      <td>220.0</td>\n",
              "      <td>Syracuse</td>\n",
              "      <td>5138430.0</td>\n",
              "      <td>baja</td>\n",
              "    </tr>\n",
              "    <tr>\n",
              "      <th>426</th>\n",
              "      <td>Russell Westbrook</td>\n",
              "      <td>Oklahoma City Thunder</td>\n",
              "      <td>0.0</td>\n",
              "      <td>PG</td>\n",
              "      <td>27.0</td>\n",
              "      <td>6-3</td>\n",
              "      <td>200.0</td>\n",
              "      <td>UCLA</td>\n",
              "      <td>16744218.0</td>\n",
              "      <td>media</td>\n",
              "    </tr>\n",
              "  </tbody>\n",
              "</table>\n",
              "<p>63 rows × 10 columns</p>\n",
              "</div>"
            ],
            "text/plain": [
              "                  Name                   Team  ...      Salary Age_Group\n",
              "77     Harrison Barnes  Golden State Warriors  ...   3873398.0      baja\n",
              "78        Andrew Bogut  Golden State Warriors  ...  13800000.0     media\n",
              "79           Ian Clark  Golden State Warriors  ...    947276.0      baja\n",
              "80       Stephen Curry  Golden State Warriors  ...  11370786.0     media\n",
              "81        Festus Ezeli  Golden State Warriors  ...   2008748.0      baja\n",
              "..                 ...                    ...  ...         ...       ...\n",
              "422      Cameron Payne  Oklahoma City Thunder  ...   2021520.0      baja\n",
              "423     Andre Roberson  Oklahoma City Thunder  ...   1210800.0      baja\n",
              "424       Kyle Singler  Oklahoma City Thunder  ...   4500000.0     media\n",
              "425       Dion Waiters  Oklahoma City Thunder  ...   5138430.0      baja\n",
              "426  Russell Westbrook  Oklahoma City Thunder  ...  16744218.0     media\n",
              "\n",
              "[63 rows x 10 columns]"
            ]
          },
          "metadata": {
            "tags": []
          },
          "execution_count": 88
        }
      ]
    },
    {
      "cell_type": "code",
      "metadata": {
        "id": "qpCMgsOODJ7y",
        "colab": {
          "base_uri": "https://localhost:8080/",
          "height": 225
        },
        "outputId": "c02ec1a2-bd9e-4c55-d6a6-007b7dee0cf7"
      },
      "source": [
        "table = filtered_data.pivot_table('Salary',index= \"Team\", columns= 'Position' )\n",
        "table"
      ],
      "execution_count": null,
      "outputs": [
        {
          "output_type": "execute_result",
          "data": {
            "text/html": [
              "<div>\n",
              "<style scoped>\n",
              "    .dataframe tbody tr th:only-of-type {\n",
              "        vertical-align: middle;\n",
              "    }\n",
              "\n",
              "    .dataframe tbody tr th {\n",
              "        vertical-align: top;\n",
              "    }\n",
              "\n",
              "    .dataframe thead th {\n",
              "        text-align: right;\n",
              "    }\n",
              "</style>\n",
              "<table border=\"1\" class=\"dataframe\">\n",
              "  <thead>\n",
              "    <tr style=\"text-align: right;\">\n",
              "      <th>Position</th>\n",
              "      <th>C</th>\n",
              "      <th>PF</th>\n",
              "      <th>PG</th>\n",
              "      <th>SF</th>\n",
              "      <th>SG</th>\n",
              "    </tr>\n",
              "    <tr>\n",
              "      <th>Team</th>\n",
              "      <th></th>\n",
              "      <th></th>\n",
              "      <th></th>\n",
              "      <th></th>\n",
              "      <th></th>\n",
              "    </tr>\n",
              "  </thead>\n",
              "  <tbody>\n",
              "    <tr>\n",
              "      <th>Chicago Bulls</th>\n",
              "      <td>1.340000e+07</td>\n",
              "      <td>3.578740e+06</td>\n",
              "      <td>1.117153e+07</td>\n",
              "      <td>1.958160e+06</td>\n",
              "      <td>5.717549e+06</td>\n",
              "    </tr>\n",
              "    <tr>\n",
              "      <th>Cleveland Cavaliers</th>\n",
              "      <td>7.768435e+06</td>\n",
              "      <td>1.394101e+07</td>\n",
              "      <td>6.551592e+06</td>\n",
              "      <td>9.472760e+05</td>\n",
              "      <td>3.349079e+06</td>\n",
              "    </tr>\n",
              "    <tr>\n",
              "      <th>Golden State Warriors</th>\n",
              "      <td>6.541249e+06</td>\n",
              "      <td>1.426087e+07</td>\n",
              "      <td>1.137079e+07</td>\n",
              "      <td>3.766367e+06</td>\n",
              "      <td>8.224138e+06</td>\n",
              "    </tr>\n",
              "    <tr>\n",
              "      <th>Los Angeles Clippers</th>\n",
              "      <td>1.039480e+07</td>\n",
              "      <td>6.655482e+06</td>\n",
              "      <td>1.228975e+07</td>\n",
              "      <td>3.662924e+06</td>\n",
              "      <td>4.639893e+06</td>\n",
              "    </tr>\n",
              "    <tr>\n",
              "      <th>Oklahoma City Thunder</th>\n",
              "      <td>6.303143e+06</td>\n",
              "      <td>2.606520e+06</td>\n",
              "      <td>9.382869e+06</td>\n",
              "      <td>8.599621e+06</td>\n",
              "      <td>3.207058e+06</td>\n",
              "    </tr>\n",
              "  </tbody>\n",
              "</table>\n",
              "</div>"
            ],
            "text/plain": [
              "Position                          C            PF  ...            SF            SG\n",
              "Team                                               ...                            \n",
              "Chicago Bulls          1.340000e+07  3.578740e+06  ...  1.958160e+06  5.717549e+06\n",
              "Cleveland Cavaliers    7.768435e+06  1.394101e+07  ...  9.472760e+05  3.349079e+06\n",
              "Golden State Warriors  6.541249e+06  1.426087e+07  ...  3.766367e+06  8.224138e+06\n",
              "Los Angeles Clippers   1.039480e+07  6.655482e+06  ...  3.662924e+06  4.639893e+06\n",
              "Oklahoma City Thunder  6.303143e+06  2.606520e+06  ...  8.599621e+06  3.207058e+06\n",
              "\n",
              "[5 rows x 5 columns]"
            ]
          },
          "metadata": {
            "tags": []
          },
          "execution_count": 90
        }
      ]
    },
    {
      "cell_type": "code",
      "metadata": {
        "id": "xq_NbWvfDS_h",
        "colab": {
          "base_uri": "https://localhost:8080/",
          "height": 296
        },
        "outputId": "961d52f4-c549-4b66-c458-c1837493507e"
      },
      "source": [
        "sns.heatmap(table, cmap= 'coolwarm');"
      ],
      "execution_count": null,
      "outputs": [
        {
          "output_type": "display_data",
          "data": {
            "image/png": "[encoded data removed]",
            "text/plain": [
              "<Figure size 432x288 with 2 Axes>"
            ]
          },
          "metadata": {
            "tags": []
          }
        }
      ]
    },
    {
      "cell_type": "code",
      "metadata": {
        "id": "vZDq4-RWbFGR"
      },
      "source": [
        ""
      ],
      "execution_count": null,
      "outputs": []
    }
  ]
}