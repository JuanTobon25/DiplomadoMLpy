{
  "nbformat": 4,
  "nbformat_minor": 0,
  "metadata": {
    "colab": {
      "name": "Copia de sesion12actual completa(RL).ipynb",
      "provenance": [],
      "collapsed_sections": []
    },
    "kernelspec": {
      "name": "python3",
      "display_name": "Python 3"
    }
  },
  "cells": [
    {
      "cell_type": "markdown",
      "metadata": {
        "id": "dUnTgCddJ5Aa"
      },
      "source": [
        "<p><img alt=\"Colaboratory logo\" height=\"140px\" src=\"https://upload.wikimedia.org/wikipedia/commons/archive/f/fb/20161010213812%21Escudo-UdeA.svg\" align=\"left\" hspace=\"10px\" vspace=\"0px\"></p>\n",
        "\n",
        "# **Diplomado de Análisis de datos y Machine Learning en Python**\n",
        "\n",
        "\n",
        "El presente diplomado hace parte del centro de Big Data de la facultad de ciencias exactas y naturales (FCEN) de la Universidad de Antioquia.\n",
        "\n",
        "## **Sesión 12**\n",
        "\n",
        "## **Contenido**\n",
        "\n",
        "- <a href=\"#reg\"> Aprendizaje supervisado: Regresión lineal</a><br>\n",
        "- <a href=\"#skl\"> Introducción a Sklearn</a><br>\n"
      ]
    },
    {
      "cell_type": "markdown",
      "metadata": {
        "id": "mKCPGr8-RFqc"
      },
      "source": [
        "# **Aprendizaje supervisado: Regresión**\n",
        "\n",
        "En el aprendizaje supervisado, los datos de entrada con los que alimentamos el algoritmo incluyen las soluciones deseadas, conocidas como *etiquetas*. Una tarea típica es la de la **regresión**, donde las etiquetas tienen una naturaleza continua.\n"
      ]
    },
    {
      "cell_type": "code",
      "metadata": {
        "id": "xMlXj0-vS0aI"
      },
      "source": [
        "import numpy as np\n",
        "import pandas as pd \n",
        "import matplotlib.pyplot as plt\n",
        "import seaborn as sns\n",
        "sns.set()"
      ],
      "execution_count": null,
      "outputs": []
    },
    {
      "cell_type": "markdown",
      "metadata": {
        "id": "XS2bI42deUjY"
      },
      "source": [
        "Recordemos entonces que hay 2 posibles tareas para el aprendizaje supervisado según la naturaleza de la variable objetivo. "
      ]
    },
    {
      "cell_type": "code",
      "metadata": {
        "id": "occYhuCoeoGp",
        "colab": {
          "base_uri": "https://localhost:8080/",
          "height": 195
        },
        "outputId": "16cf4f3a-43f4-4255-b3f7-c4533a3de7dd"
      },
      "source": [
        "corr = [f'Correo {i}' for i in range(1,6)]\n",
        "sp = np.random.randint(2,size = 5)\n",
        "df1 = pd.DataFrame({'Correo': corr, 'Spam': sp})\n",
        "df1"
      ],
      "execution_count": null,
      "outputs": [
        {
          "output_type": "execute_result",
          "data": {
            "text/html": [
              "<div>\n",
              "<style scoped>\n",
              "    .dataframe tbody tr th:only-of-type {\n",
              "        vertical-align: middle;\n",
              "    }\n",
              "\n",
              "    .dataframe tbody tr th {\n",
              "        vertical-align: top;\n",
              "    }\n",
              "\n",
              "    .dataframe thead th {\n",
              "        text-align: right;\n",
              "    }\n",
              "</style>\n",
              "<table border=\"1\" class=\"dataframe\">\n",
              "  <thead>\n",
              "    <tr style=\"text-align: right;\">\n",
              "      <th></th>\n",
              "      <th>Correo</th>\n",
              "      <th>Spam</th>\n",
              "    </tr>\n",
              "  </thead>\n",
              "  <tbody>\n",
              "    <tr>\n",
              "      <th>0</th>\n",
              "      <td>Correo 1</td>\n",
              "      <td>1</td>\n",
              "    </tr>\n",
              "    <tr>\n",
              "      <th>1</th>\n",
              "      <td>Correo 2</td>\n",
              "      <td>0</td>\n",
              "    </tr>\n",
              "    <tr>\n",
              "      <th>2</th>\n",
              "      <td>Correo 3</td>\n",
              "      <td>1</td>\n",
              "    </tr>\n",
              "    <tr>\n",
              "      <th>3</th>\n",
              "      <td>Correo 4</td>\n",
              "      <td>0</td>\n",
              "    </tr>\n",
              "    <tr>\n",
              "      <th>4</th>\n",
              "      <td>Correo 5</td>\n",
              "      <td>1</td>\n",
              "    </tr>\n",
              "  </tbody>\n",
              "</table>\n",
              "</div>"
            ],
            "text/plain": [
              "     Correo  Spam\n",
              "0  Correo 1     1\n",
              "1  Correo 2     0\n",
              "2  Correo 3     1\n",
              "3  Correo 4     0\n",
              "4  Correo 5     1"
            ]
          },
          "metadata": {
            "tags": []
          },
          "execution_count": 2
        }
      ]
    },
    {
      "cell_type": "code",
      "metadata": {
        "id": "nKkTKDjYjqRt",
        "colab": {
          "base_uri": "https://localhost:8080/",
          "height": 195
        },
        "outputId": "3c92a67f-6e5a-4889-dd7e-54fced1dbb23"
      },
      "source": [
        "tam = np.arange(2,12,0.3)\n",
        "precio = (1000 * tam) + np.random.normal(0,1000, size = len(tam))\n",
        "df2 = pd.DataFrame({'Tamaño Motor': tam, 'Precio': precio})\n",
        "df2.head()"
      ],
      "execution_count": null,
      "outputs": [
        {
          "output_type": "execute_result",
          "data": {
            "text/html": [
              "<div>\n",
              "<style scoped>\n",
              "    .dataframe tbody tr th:only-of-type {\n",
              "        vertical-align: middle;\n",
              "    }\n",
              "\n",
              "    .dataframe tbody tr th {\n",
              "        vertical-align: top;\n",
              "    }\n",
              "\n",
              "    .dataframe thead th {\n",
              "        text-align: right;\n",
              "    }\n",
              "</style>\n",
              "<table border=\"1\" class=\"dataframe\">\n",
              "  <thead>\n",
              "    <tr style=\"text-align: right;\">\n",
              "      <th></th>\n",
              "      <th>Tamaño Motor</th>\n",
              "      <th>Precio</th>\n",
              "    </tr>\n",
              "  </thead>\n",
              "  <tbody>\n",
              "    <tr>\n",
              "      <th>0</th>\n",
              "      <td>2.0</td>\n",
              "      <td>1405.236704</td>\n",
              "    </tr>\n",
              "    <tr>\n",
              "      <th>1</th>\n",
              "      <td>2.3</td>\n",
              "      <td>898.188746</td>\n",
              "    </tr>\n",
              "    <tr>\n",
              "      <th>2</th>\n",
              "      <td>2.6</td>\n",
              "      <td>1195.605745</td>\n",
              "    </tr>\n",
              "    <tr>\n",
              "      <th>3</th>\n",
              "      <td>2.9</td>\n",
              "      <td>2840.197798</td>\n",
              "    </tr>\n",
              "    <tr>\n",
              "      <th>4</th>\n",
              "      <td>3.2</td>\n",
              "      <td>3453.371417</td>\n",
              "    </tr>\n",
              "  </tbody>\n",
              "</table>\n",
              "</div>"
            ],
            "text/plain": [
              "   Tamaño Motor       Precio\n",
              "0           2.0  1405.236704\n",
              "1           2.3   898.188746\n",
              "2           2.6  1195.605745\n",
              "3           2.9  2840.197798\n",
              "4           3.2  3453.371417"
            ]
          },
          "metadata": {
            "tags": []
          },
          "execution_count": 23
        }
      ]
    },
    {
      "cell_type": "code",
      "metadata": {
        "id": "sH7EILtJCSeR",
        "colab": {
          "base_uri": "https://localhost:8080/",
          "height": 431
        },
        "outputId": "c695de2d-b870-4be1-a037-887f5deab70e"
      },
      "source": [
        "plt.figure(figsize=(10,7))\n",
        "plt.scatter(df2['Tamaño Motor'], df2['Precio']);\n"
      ],
      "execution_count": null,
      "outputs": [
        {
          "output_type": "display_data",
          "data": {
            "image/png": "[encoded data removed]",
            "text/plain": [
              "<Figure size 720x504 with 1 Axes>"
            ]
          },
          "metadata": {
            "tags": [],
            "needs_background": "light"
          }
        }
      ]
    },
    {
      "cell_type": "markdown",
      "metadata": {
        "id": "-1DkNN0DeSFU"
      },
      "source": [
        "Consideremos el siguiente problema: Predecir las emisiones de CO2 dado el siguiente conjunto de datos."
      ]
    },
    {
      "cell_type": "code",
      "metadata": {
        "id": "AGU8UyAlTLWU",
        "colab": {
          "base_uri": "https://localhost:8080/",
          "height": 266
        },
        "outputId": "0b8ac29b-bb9f-4bee-f26b-d73a5d00af7e"
      },
      "source": [
        "df = pd.read_csv('https://raw.githubusercontent.com/tomasate/Diplomado_ML/main/datasets/data/nivel_1/Data/FuelConsumption.csv')\n",
        "df.head()"
      ],
      "execution_count": null,
      "outputs": [
        {
          "output_type": "execute_result",
          "data": {
            "text/html": [
              "<div>\n",
              "<style scoped>\n",
              "    .dataframe tbody tr th:only-of-type {\n",
              "        vertical-align: middle;\n",
              "    }\n",
              "\n",
              "    .dataframe tbody tr th {\n",
              "        vertical-align: top;\n",
              "    }\n",
              "\n",
              "    .dataframe thead th {\n",
              "        text-align: right;\n",
              "    }\n",
              "</style>\n",
              "<table border=\"1\" class=\"dataframe\">\n",
              "  <thead>\n",
              "    <tr style=\"text-align: right;\">\n",
              "      <th></th>\n",
              "      <th>MODELYEAR</th>\n",
              "      <th>MAKE</th>\n",
              "      <th>MODEL</th>\n",
              "      <th>VEHICLECLASS</th>\n",
              "      <th>ENGINESIZE</th>\n",
              "      <th>CYLINDERS</th>\n",
              "      <th>TRANSMISSION</th>\n",
              "      <th>FUELTYPE</th>\n",
              "      <th>FUELCONSUMPTION_CITY</th>\n",
              "      <th>FUELCONSUMPTION_HWY</th>\n",
              "      <th>FUELCONSUMPTION_COMB</th>\n",
              "      <th>FUELCONSUMPTION_COMB_MPG</th>\n",
              "      <th>CO2EMISSIONS</th>\n",
              "    </tr>\n",
              "  </thead>\n",
              "  <tbody>\n",
              "    <tr>\n",
              "      <th>0</th>\n",
              "      <td>2014</td>\n",
              "      <td>ACURA</td>\n",
              "      <td>ILX</td>\n",
              "      <td>COMPACT</td>\n",
              "      <td>2.0</td>\n",
              "      <td>4</td>\n",
              "      <td>AS5</td>\n",
              "      <td>Z</td>\n",
              "      <td>9.9</td>\n",
              "      <td>6.7</td>\n",
              "      <td>8.5</td>\n",
              "      <td>33</td>\n",
              "      <td>196</td>\n",
              "    </tr>\n",
              "    <tr>\n",
              "      <th>1</th>\n",
              "      <td>2014</td>\n",
              "      <td>ACURA</td>\n",
              "      <td>ILX</td>\n",
              "      <td>COMPACT</td>\n",
              "      <td>2.4</td>\n",
              "      <td>4</td>\n",
              "      <td>M6</td>\n",
              "      <td>Z</td>\n",
              "      <td>11.2</td>\n",
              "      <td>7.7</td>\n",
              "      <td>9.6</td>\n",
              "      <td>29</td>\n",
              "      <td>221</td>\n",
              "    </tr>\n",
              "    <tr>\n",
              "      <th>2</th>\n",
              "      <td>2014</td>\n",
              "      <td>ACURA</td>\n",
              "      <td>ILX HYBRID</td>\n",
              "      <td>COMPACT</td>\n",
              "      <td>1.5</td>\n",
              "      <td>4</td>\n",
              "      <td>AV7</td>\n",
              "      <td>Z</td>\n",
              "      <td>6.0</td>\n",
              "      <td>5.8</td>\n",
              "      <td>5.9</td>\n",
              "      <td>48</td>\n",
              "      <td>136</td>\n",
              "    </tr>\n",
              "    <tr>\n",
              "      <th>3</th>\n",
              "      <td>2014</td>\n",
              "      <td>ACURA</td>\n",
              "      <td>MDX 4WD</td>\n",
              "      <td>SUV - SMALL</td>\n",
              "      <td>3.5</td>\n",
              "      <td>6</td>\n",
              "      <td>AS6</td>\n",
              "      <td>Z</td>\n",
              "      <td>12.7</td>\n",
              "      <td>9.1</td>\n",
              "      <td>11.1</td>\n",
              "      <td>25</td>\n",
              "      <td>255</td>\n",
              "    </tr>\n",
              "    <tr>\n",
              "      <th>4</th>\n",
              "      <td>2014</td>\n",
              "      <td>ACURA</td>\n",
              "      <td>RDX AWD</td>\n",
              "      <td>SUV - SMALL</td>\n",
              "      <td>3.5</td>\n",
              "      <td>6</td>\n",
              "      <td>AS6</td>\n",
              "      <td>Z</td>\n",
              "      <td>12.1</td>\n",
              "      <td>8.7</td>\n",
              "      <td>10.6</td>\n",
              "      <td>27</td>\n",
              "      <td>244</td>\n",
              "    </tr>\n",
              "  </tbody>\n",
              "</table>\n",
              "</div>"
            ],
            "text/plain": [
              "   MODELYEAR   MAKE  ... FUELCONSUMPTION_COMB_MPG CO2EMISSIONS\n",
              "0       2014  ACURA  ...                       33          196\n",
              "1       2014  ACURA  ...                       29          221\n",
              "2       2014  ACURA  ...                       48          136\n",
              "3       2014  ACURA  ...                       25          255\n",
              "4       2014  ACURA  ...                       27          244\n",
              "\n",
              "[5 rows x 13 columns]"
            ]
          },
          "metadata": {
            "tags": []
          },
          "execution_count": 2
        }
      ]
    },
    {
      "cell_type": "markdown",
      "metadata": {
        "id": "X0I0k-qmeitx"
      },
      "source": [
        "Note que este es un problema de **aprendizaje supervisado**: Los datos de entrada incluyen las *etiquetas*. Como la variable a predecir es una etiqueta continua, entonces la tarea es de regresión.\n",
        "\n",
        "Para resolver el problema podemos construir un modelo lineal simple. ¿Cómo construir el modelo? Cuando hablamos de modelo, normalmente nos referimos a alguna expresión matemática o a un conjunto de ecuaciones. En el caso de la regresión lineal, el modelo es una función lineal de las características predictoras $X$\n",
        "\n",
        "\n",
        "\n",
        "\n",
        "\n",
        "\n"
      ]
    },
    {
      "cell_type": "markdown",
      "metadata": {
        "id": "LIRPGwQVuBGr"
      },
      "source": [
        "$$\\hat{y}(X) = w_0 + w_1 x_1 + \\cdots + w_n x_n = W^T \\cdot X $$\n"
      ]
    },
    {
      "cell_type": "markdown",
      "metadata": {
        "id": "NBTrtfXmuCpn"
      },
      "source": [
        "Donde $$W =\n",
        " \\begin{pmatrix}\n",
        "  w_0 \\\\\n",
        "  w_1 \\\\\n",
        "  \\vdots \\\\\n",
        "  w_n\n",
        " \\end{pmatrix}$$ son los parámetros del modelo. De manera más general, un modelo lineal hace una predicción calculando una suma pesada de las características de entrada, más una constante conocida como el término de sesgo $w_0$.\n",
        "\n",
        "Para simplificar el problema, utilicemos una única característica predictora:"
      ]
    },
    {
      "cell_type": "code",
      "metadata": {
        "id": "f1Kxdvupi2-j",
        "colab": {
          "base_uri": "https://localhost:8080/",
          "height": 285
        },
        "outputId": "ebb32b01-ba2c-42f6-9d98-9047523f56d3"
      },
      "source": [
        "sns.scatterplot(data = df, x = \"FUELCONSUMPTION_CITY\", y = 'CO2EMISSIONS');"
      ],
      "execution_count": null,
      "outputs": [
        {
          "output_type": "display_data",
          "data": {
            "image/png": "[encoded data removed]",
            "text/plain": [
              "<Figure size 432x288 with 1 Axes>"
            ]
          },
          "metadata": {
            "tags": [],
            "needs_background": "light"
          }
        }
      ]
    },
    {
      "cell_type": "markdown",
      "metadata": {
        "id": "jbE0YSVhjBsK"
      },
      "source": [
        "En este caso el modelo toma la forma\n",
        "\n",
        "$$\\hat{y}(x_1) = w_0 + w_1 x_1$$\n",
        "\n",
        "¿Cómo elegir los valores de $W$ de tal manera que obtengamos el mejor modelo posible?"
      ]
    },
    {
      "cell_type": "markdown",
      "metadata": {
        "id": "LYby8OUQgr-e"
      },
      "source": [
        "<p><img alt=\"Colaboratory logo\" height=\"300px\" src=\"https://i.imgur.com/U3GzGtz.png\" align=\"center\" hspace=\"10px\" vspace=\"0px\"></p> "
      ]
    },
    {
      "cell_type": "markdown",
      "metadata": {
        "id": "TuwfEUzmjaTB"
      },
      "source": [
        "**Estadística clásica:**\n",
        "\n",
        "En el caso de la estadística clásica, lo que se hace es minimizar el error cuadrático medio (MSE)\n",
        "\n",
        "\n",
        "$$MSE =\\frac{1}{n}\\sum_{i=0}^{n} \\left(y_i-\\hat{y}\\right)^2$$\n",
        "\n",
        "donde $y_i$ son los valores observados y $n$ el número de instancias. El proceso de optimización (minimización) tiene una solución cerrada conocida como la ecuación normal:\n",
        "\n",
        "$$W=(X^{T}X)^{-1} X^{T}y$$\n",
        "\n"
      ]
    },
    {
      "cell_type": "markdown",
      "metadata": {
        "id": "85KVKwL4d1rW"
      },
      "source": [
        "**ML**\n",
        "\n",
        "En el ML, se realiza un proceso similar, donde la función a minimizar (en este caso el MSE) se conoce generalmente como **función de costo/pérdida (loose function)**\n",
        "\n",
        "$$L =\\frac{1}{n}\\sum_{i=0}^{n} \\left[y_i-\\hat{y}\\right]^2$$\n",
        "\n",
        "Y el proceso de optimización que permite encontrar los parámetros $W$ que minimicen la función de costo/pérdida se conoce como *entrenamiento* del modelo.\n",
        "\n",
        "¿Cuál es entonces la diferencia entre ambas aproximaciones al problema? \n",
        "\n",
        "La principal diferencia entre el ML y la estadística clásica es su propósito y la forma en que evaluamos los modelos.\n",
        "\n",
        "Respecto al propósito, podemos decir que los modelos de ML están diseñados para realizar las predicciones más precisas posibles: Una vez los modelos \"aprendan\" los parámetros $W$, pueden ser utilizados para estimar valores de $y$ dados nuevos valores de $X$.\n",
        "\n",
        "Los modelos estadísticos están diseñados para realizar inferencias sobre las relaciones entre las variables.\n",
        "\n"
      ]
    },
    {
      "cell_type": "markdown",
      "metadata": {
        "id": "CbiFDKNozxw0"
      },
      "source": [
        "**Machine Learning (ML): Terminología**\n",
        "\n",
        "Existen conceptos clave que sientan las bases para una mejor comprensión del ML. Veamos la nomenclatura (términos estándar) que se utiliza para describir los datos, así como los términos utilizados para describir el aprendizaje y el modelado.\n",
        "\n",
        "La estructura tradicional para los datos en el campo del ML tienen la siguiente forma:\n",
        "\n",
        "![picture](https://3qeqpr26caki16dnhd19sv6by6v-wpengine.netdna-ssl.com/wp-content/uploads/2013/12/Table-of-Data-Showing-an-Instance-Feature-and-Train-Test-Datasets.png)"
      ]
    },
    {
      "cell_type": "markdown",
      "metadata": {
        "id": "lxItwnygz_x7"
      },
      "source": [
        "Vemos que en el caso del ML hacemos algo llamado *entrenar* el modelo, que implica usar un subconjunto de nuestros datos, y no sabemos qué tan bien funcionará el modelo hasta que 'probamos' estos datos en datos adicionales que no estaban presentes durante el entrenamiento, llamado *conjunto de prueba*. **El propósito del ML, en este caso, es obtener el mejor rendimiento posible en el conjunto de prueba.**\n",
        "\n",
        "Para el modelo estadístico, encontramos una línea que minimiza el error cuadrático. No es necesario ningún conjunto de entrenamiento ni de prueba. Para muchos casos, el objetivo de nuestro modelo es caracterizar la relación entre los datos y nuestra variable objetivo, no hacer predicciones sobre datos futuros. A este procedimiento lo llamamos *inferencia estadística*, en oposición a predicción. Sin embargo, todavía podemos usar este modelo para hacer predicciones, y este puede ser su propósito principal, pero la forma en que se evalúa el modelo no implicará un conjunto de prueba y, en cambio, implicará evaluar la significancia y la robustes de los parámetros del modelo.\n",
        "\n",
        "Debe quedar claro que estos dos enfoques son diferentes en su objetivo, a pesar de utilizar medios similares. La evaluación del algoritmo de ML utiliza un conjunto de prueba para validar su precisión. Mientras que, para un modelo estadístico, el análisis de los parámetros de la regresión se hace a través de intervalos de confianza, pruebas de significancia y demás pruebas estadísticas que permitan evaluar la calidad del modelo. Dado que estos métodos producen el mismo resultado, es fácil ver por qué se podría suponer que son iguales."
      ]
    },
    {
      "cell_type": "markdown",
      "metadata": {
        "id": "xoy6Z9lVETyu"
      },
      "source": [
        "**Ejercicio**\n",
        "\n",
        "Usar la ecuacion \n",
        "\\begin{equation}\n",
        "W = (X^T\\cdot X)^{-1} \\cdot X^T \\cdot y\n",
        "\\end{equation}\n",
        "para hallar los pesos $W$\n"
      ]
    },
    {
      "cell_type": "code",
      "metadata": {
        "id": "5HabTV1-qW35",
        "colab": {
          "base_uri": "https://localhost:8080/"
        },
        "outputId": "a86ed1a4-047c-45b9-e1aa-2cd459b0c66d"
      },
      "source": [
        "ones = np.ones((df.shape[0], 1)) \n",
        "dataarr = df[\"FUELCONSUMPTION_CITY\"].to_numpy()\n",
        "dataarr = dataarr.reshape(1067,1)\n",
        "transpuesto = np.column_stack((ones, dataarr))\n",
        "transpuesto"
      ],
      "execution_count": null,
      "outputs": [
        {
          "output_type": "execute_result",
          "data": {
            "text/plain": [
              "array([[ 1. ,  9.9],\n",
              "       [ 1. , 11.2],\n",
              "       [ 1. ,  6. ],\n",
              "       ...,\n",
              "       [ 1. , 13.4],\n",
              "       [ 1. , 12.9],\n",
              "       [ 1. , 14.9]])"
            ]
          },
          "metadata": {
            "tags": []
          },
          "execution_count": 32
        }
      ]
    },
    {
      "cell_type": "code",
      "metadata": {
        "colab": {
          "base_uri": "https://localhost:8080/"
        },
        "id": "grkZu9I6cS87",
        "outputId": "632d98dc-88b0-4117-ca46-10a43468ad46"
      },
      "source": [
        "X = np.c_[np.ones(len(df)), df['FUELCONSUMPTION_CITY']]\n",
        "X"
      ],
      "execution_count": null,
      "outputs": [
        {
          "output_type": "execute_result",
          "data": {
            "text/plain": [
              "array([[ 1. ,  9.9],\n",
              "       [ 1. , 11.2],\n",
              "       [ 1. ,  6. ],\n",
              "       ...,\n",
              "       [ 1. , 13.4],\n",
              "       [ 1. , 12.9],\n",
              "       [ 1. , 14.9]])"
            ]
          },
          "metadata": {
            "tags": []
          },
          "execution_count": 33
        }
      ]
    },
    {
      "cell_type": "markdown",
      "metadata": {
        "id": "nGcOZaZ7rEAo"
      },
      "source": [
        "###**NOTACIÓN**\n",
        "Si el modelo tiene una sola característica entonces mi variable objetivo la llamaremos $y$ i.e.\n",
        "\n",
        "$$y(x) = \\alpha_0+\\alpha_1x_1$$\n",
        "\n",
        "Si el modelo tiene dos características, entonces mi variable objetivo la llamaremos $z$ i.e.\n",
        "\n",
        "$$z(x) = \\alpha_0+\\alpha_1x_1+\\alpha_2x_2$$"
      ]
    },
    {
      "cell_type": "code",
      "metadata": {
        "id": "XyawnX4zEVlH",
        "colab": {
          "base_uri": "https://localhost:8080/"
        },
        "outputId": "b20051c2-8ca4-4f20-ff5e-5cf0380c1051"
      },
      "source": [
        "y = df.CO2EMISSIONS\n",
        "y"
      ],
      "execution_count": null,
      "outputs": [
        {
          "output_type": "execute_result",
          "data": {
            "text/plain": [
              "0       196\n",
              "1       221\n",
              "2       136\n",
              "3       255\n",
              "4       244\n",
              "       ... \n",
              "1062    271\n",
              "1063    264\n",
              "1064    271\n",
              "1065    260\n",
              "1066    294\n",
              "Name: CO2EMISSIONS, Length: 1067, dtype: int64"
            ]
          },
          "metadata": {
            "tags": []
          },
          "execution_count": 34
        }
      ]
    },
    {
      "cell_type": "markdown",
      "metadata": {
        "id": "yfbgL6UprrsX"
      },
      "source": [
        "\\begin{equation}\n",
        "W = (X^T\\cdot X)^{-1} \\cdot X^T \\cdot y\n",
        "\\end{equation}"
      ]
    },
    {
      "cell_type": "code",
      "metadata": {
        "id": "F_1xB65h1WQK"
      },
      "source": [
        "W = np.linalg.inv(X.T @ X) @ X.T @ y\n",
        "w0 = W[0]\n",
        "w1 = W[1]"
      ],
      "execution_count": null,
      "outputs": []
    },
    {
      "cell_type": "code",
      "metadata": {
        "id": "pzfEOtoSFxFM",
        "colab": {
          "base_uri": "https://localhost:8080/",
          "height": 285
        },
        "outputId": "6fe72472-cd11-4426-e4c5-44f1ed2235d1"
      },
      "source": [
        "sns.scatterplot(data = df, x = \"FUELCONSUMPTION_CITY\", y = 'CO2EMISSIONS')\n",
        "plt.plot(X, w0 + w1 * X, 'r-');"
      ],
      "execution_count": null,
      "outputs": [
        {
          "output_type": "display_data",
          "data": {
            "image/png": "[encoded data removed]",
            "text/plain": [
              "<Figure size 432x288 with 1 Axes>"
            ]
          },
          "metadata": {
            "tags": [],
            "needs_background": "light"
          }
        }
      ]
    },
    {
      "cell_type": "markdown",
      "metadata": {
        "id": "FCdXYq0vv7o4"
      },
      "source": [
        "Obtengamos la predicción del modelo para un nuevo valor $X_n$"
      ]
    },
    {
      "cell_type": "code",
      "metadata": {
        "id": "WYHAV5fqFxTp",
        "colab": {
          "base_uri": "https://localhost:8080/"
        },
        "outputId": "d318bac7-678c-43e7-de48-52b9e36765fb"
      },
      "source": [
        "x_pred = 15.2\n",
        "y_pred = w0 + w1 * x_pred\n",
        "print(y_pred)"
      ],
      "execution_count": null,
      "outputs": [
        {
          "output_type": "stream",
          "text": [
            "282.6420215209192\n"
          ],
          "name": "stdout"
        }
      ]
    },
    {
      "cell_type": "code",
      "metadata": {
        "id": "Fxopy2_uLtfd",
        "colab": {
          "base_uri": "https://localhost:8080/",
          "height": 289
        },
        "outputId": "6550d0b8-86bd-407a-bd1a-6290c0922e4b"
      },
      "source": [
        "sns.scatterplot(data = df, x = \"FUELCONSUMPTION_CITY\", y = 'CO2EMISSIONS')\n",
        "plt.vlines(x_pred, 0,500)\n",
        "plt.hlines(y_pred,0,30)\n",
        "plt.plot(X, w0 + w1 * X, 'r-')\n",
        "plt.xlim(0,30)\n",
        "plt.ylim(0,500);"
      ],
      "execution_count": null,
      "outputs": [
        {
          "output_type": "display_data",
          "data": {
            "image/png": "[encoded data removed]",
            "text/plain": [
              "<Figure size 432x288 with 1 Axes>"
            ]
          },
          "metadata": {
            "tags": [],
            "needs_background": "light"
          }
        }
      ]
    },
    {
      "cell_type": "markdown",
      "metadata": {
        "id": "SzVbn1yYs3sX"
      },
      "source": [
        "**Clases**\n",
        "\n",
        "Las clases proporcionan un medio de agrupar datos y \"funcionalidad\". La creación de una nueva clase crea un nuevo tipo de objeto, lo que permite crear nuevas *instancias* de ese tipo. Cada instancia de la clase puede tener sus propios atributos. Las instancias de una clase también pueden tener *métodos* (definidos por su clase) para modificar su estado.\n"
      ]
    },
    {
      "cell_type": "code",
      "metadata": {
        "id": "LRaizMaxCtEr"
      },
      "source": [
        "class Persona:\n",
        "  pass\n"
      ],
      "execution_count": null,
      "outputs": []
    },
    {
      "cell_type": "code",
      "metadata": {
        "id": "W0vtM4a7CwYo"
      },
      "source": [
        "p1 = Persona()\n",
        "p2 = Persona()"
      ],
      "execution_count": null,
      "outputs": []
    },
    {
      "cell_type": "code",
      "metadata": {
        "id": "70KJ5P6DDENl",
        "colab": {
          "base_uri": "https://localhost:8080/"
        },
        "outputId": "3df31f49-8803-4cb0-a8df-d25f2b424b65"
      },
      "source": [
        "print(p1, p2)"
      ],
      "execution_count": null,
      "outputs": [
        {
          "output_type": "stream",
          "text": [
            "<__main__.Persona object at 0x7f8103ba4950> <__main__.Persona object at 0x7f8103ba49d0>\n"
          ],
          "name": "stdout"
        }
      ]
    },
    {
      "cell_type": "code",
      "metadata": {
        "id": "JiyoGkJwu38U",
        "colab": {
          "base_uri": "https://localhost:8080/"
        },
        "outputId": "4bdb5199-030e-4782-8ab5-9d3b0b19b7e8"
      },
      "source": [
        "a = np.array([])\n",
        "b = np.array([1, 2])\n",
        "\n",
        "print(type(a), type(b))\n",
        "print(a, b)"
      ],
      "execution_count": null,
      "outputs": [
        {
          "output_type": "stream",
          "text": [
            "<class 'numpy.ndarray'> <class 'numpy.ndarray'>\n",
            "[] [1 2]\n"
          ],
          "name": "stdout"
        }
      ]
    },
    {
      "cell_type": "markdown",
      "metadata": {
        "id": "CqU_4pDFEj7_"
      },
      "source": [
        "Podría asignarle atributos de la siguiente manera"
      ]
    },
    {
      "cell_type": "code",
      "metadata": {
        "id": "H64WXG9hDKZp",
        "colab": {
          "base_uri": "https://localhost:8080/"
        },
        "outputId": "24200c52-7160-4788-bb13-35d88a329db2"
      },
      "source": [
        "p1.nombre = 'Carlos'\n",
        "print(p1.nombre)"
      ],
      "execution_count": null,
      "outputs": [
        {
          "output_type": "stream",
          "text": [
            "Carlos\n"
          ],
          "name": "stdout"
        }
      ]
    },
    {
      "cell_type": "code",
      "metadata": {
        "id": "mDSqsLC7vHIV",
        "colab": {
          "base_uri": "https://localhost:8080/"
        },
        "outputId": "46356fd0-ba36-42ad-854e-57ff78d7441e"
      },
      "source": [
        "try:\n",
        "  print(p2.nombre)\n",
        "except Exception as e:\n",
        "  print(e)"
      ],
      "execution_count": null,
      "outputs": [
        {
          "output_type": "stream",
          "text": [
            "'Persona' object has no attribute 'nombre'\n"
          ],
          "name": "stdout"
        }
      ]
    },
    {
      "cell_type": "markdown",
      "metadata": {
        "id": "29Ld5lctEqzG"
      },
      "source": [
        "Ó definiéndolos desde la misma clase"
      ]
    },
    {
      "cell_type": "code",
      "metadata": {
        "id": "qZ7Iq4TUDmPK"
      },
      "source": [
        "class Persona:\n",
        "\n",
        "  def __init__(self, name, lastname):\n",
        "    self.nombre = name\n",
        "    self.apellido = lastname"
      ],
      "execution_count": null,
      "outputs": []
    },
    {
      "cell_type": "code",
      "metadata": {
        "id": "V3CHzwgTEL8p",
        "colab": {
          "base_uri": "https://localhost:8080/"
        },
        "outputId": "ab4e3e07-2874-4e6d-ebd5-2bf07595b86e"
      },
      "source": [
        "p1 = Persona('Carlos', 'Garzón')\n",
        "print(p1.nombre, p1.apellido)"
      ],
      "execution_count": null,
      "outputs": [
        {
          "output_type": "stream",
          "text": [
            "Carlos Garzón\n"
          ],
          "name": "stdout"
        }
      ]
    },
    {
      "cell_type": "markdown",
      "metadata": {
        "id": "mOtXgjqtoeUD"
      },
      "source": [
        "Podemos además crear funciones o métodos para la misma clase."
      ]
    },
    {
      "cell_type": "code",
      "metadata": {
        "id": "vzEsVdsYE0_l"
      },
      "source": [
        "class Persona:\n",
        "\n",
        "  def __init__(self, name, lastname):\n",
        "    self.nombre = name\n",
        "    self.apellido = lastname\n",
        "\n",
        "  def Presentacion(self):\n",
        "    print(f'Mucho gusto, mi nombre es {self.nombre} {self.apellido}.')"
      ],
      "execution_count": null,
      "outputs": []
    },
    {
      "cell_type": "code",
      "metadata": {
        "id": "LXXfXVTCFES0",
        "colab": {
          "base_uri": "https://localhost:8080/"
        },
        "outputId": "413ef878-8b15-4873-b15d-a90598742762"
      },
      "source": [
        "p2 = Persona('Andrés', 'Arboleda')\n",
        "p2.Presentacion()"
      ],
      "execution_count": null,
      "outputs": [
        {
          "output_type": "stream",
          "text": [
            "Mucho gusto, mi nombre es Andrés Arboleda.\n"
          ],
          "name": "stdout"
        }
      ]
    },
    {
      "cell_type": "markdown",
      "metadata": {
        "id": "ES_PtE23uYHQ"
      },
      "source": [
        "\n",
        "Definamos una clase `LinearRegression`cuyos métodos nos permitan entrenar un modelo de regresión lineal (`fit`) y realizar predicciones a partir del modelo entrenado (`predict`)"
      ]
    },
    {
      "cell_type": "code",
      "metadata": {
        "id": "SbxfHrpXubVV"
      },
      "source": [
        "class LR:\n",
        "  \n",
        "  def fit(self, X1, y1):\n",
        "    \"\"\"\n",
        "    Entrena el modelo de regresión\n",
        "    \"\"\"\n",
        "    self.X = np.c_[np.ones(len(X1)), X1]\n",
        "    self.y = y1\n",
        "\n",
        "    self.W = np.linalg.inv(self.X.T @ self.X) @ self.X.T @ self.y\n",
        "\n",
        "  def predict(self, x):\n",
        "    \"\"\"\n",
        "    Hace predicción para un valor x dado como argumento\n",
        "    \"\"\"\n",
        "    x_n = np.array([1, x])\n",
        "    print(self.W @ x_n)\n",
        "    \n",
        "\n",
        "\n"
      ],
      "execution_count": null,
      "outputs": []
    },
    {
      "cell_type": "code",
      "metadata": {
        "id": "bpJQ2qKlunuR",
        "colab": {
          "base_uri": "https://localhost:8080/"
        },
        "outputId": "324d61b0-6775-4d0b-a6a8-20e19ac0c4bf"
      },
      "source": [
        "modelo = LR()\n",
        "modelo"
      ],
      "execution_count": null,
      "outputs": [
        {
          "output_type": "execute_result",
          "data": {
            "text/plain": [
              "<__main__.LinearRegression at 0x7f0429161f10>"
            ]
          },
          "metadata": {
            "tags": []
          },
          "execution_count": 15
        }
      ]
    },
    {
      "cell_type": "code",
      "metadata": {
        "id": "v2rm_MbVun_q"
      },
      "source": [
        "modelo.fit(df['FUELCONSUMPTION_CITY'], y)"
      ],
      "execution_count": null,
      "outputs": []
    },
    {
      "cell_type": "code",
      "metadata": {
        "id": "GTEsZ7YQvKD0",
        "colab": {
          "base_uri": "https://localhost:8080/"
        },
        "outputId": "a90c090b-816f-4a4d-b632-b37302619c60"
      },
      "source": [
        "modelo.W"
      ],
      "execution_count": null,
      "outputs": [
        {
          "output_type": "execute_result",
          "data": {
            "text/plain": [
              "array([71.7202284 , 13.87643376])"
            ]
          },
          "metadata": {
            "tags": []
          },
          "execution_count": 17
        }
      ]
    },
    {
      "cell_type": "code",
      "metadata": {
        "id": "vHLyqWEN1GKH",
        "colab": {
          "base_uri": "https://localhost:8080/"
        },
        "outputId": "52d9fb0c-8365-4f05-f1e1-d2ec0b17ec83"
      },
      "source": [
        "modelo.predict(x_pred)"
      ],
      "execution_count": null,
      "outputs": [
        {
          "output_type": "stream",
          "text": [
            "282.6420215209192\n"
          ],
          "name": "stdout"
        }
      ]
    },
    {
      "cell_type": "markdown",
      "metadata": {
        "id": "_xZlm8m5J_UU"
      },
      "source": [
        "<p><a name=\"skl\"></a></p>\n",
        "\n",
        "# **Introducción a Sklearn (Sci-kit Learn)**\n",
        "\n",
        "[Sklearn](https://scikit-learn.org/stable/index.html) nos proporciona una colección de clases y funciones relacionadas con ML que podemos importar en nuestros programas. Entre otras cosas, incluye algoritmos de ML clásicos, herramientas para la evaluación de modelos, así como elementos para el preprocesamiento de los datos.\n",
        "\n",
        "Todos los objetos dentro de scikit-learn comparten una API básica que consta de tres interfaces complementarias: una interfaz de estimador para construir y ajustar modelos, una interfaz de predicción y una interfaz de transformación para los datos. \n",
        "\n",
        "\n",
        "\n",
        "\n",
        "\n",
        "\n",
        "\n",
        "\n",
        "\n",
        "\n",
        "\n",
        "\n",
        "\n",
        "\n",
        "\n",
        "\n"
      ]
    },
    {
      "cell_type": "markdown",
      "metadata": {
        "id": "BTXqp0JOvd6I"
      },
      "source": [
        "**Estimador**\n",
        "\n",
        "La interfaz del estimador es el núcleo de la libreria. Define los mecanismos para la creación de los objetos. Todos los algoritmos de aprendizaje supervisado ​​y no supervisado se presentan como objetos que implementan esta interfaz. \n",
        "\n",
        "Cualquier objeto que pueda estimar algunos parámetros basados en un conjunto de datos se llama estimador. Por ejemplo, el objeto `LinearRegression`, nos permite obtener un modelo de regresion lineal (estimar los parámetros $W$), es un ejemplo de estimador."
      ]
    },
    {
      "cell_type": "code",
      "metadata": {
        "id": "8KcifEYvJ4UU"
      },
      "source": [
        "from sklearn.linear_model import LinearRegression"
      ],
      "execution_count": null,
      "outputs": []
    },
    {
      "cell_type": "markdown",
      "metadata": {
        "id": "mR0zsfZAv6Qc"
      },
      "source": [
        "Ahora, La inicialización del estimador y el entrenamiento realmente están estrictamente separados. Inicialicemos el estimador:"
      ]
    },
    {
      "cell_type": "code",
      "metadata": {
        "id": "kntMd4fPv39I",
        "colab": {
          "base_uri": "https://localhost:8080/"
        },
        "outputId": "1aae176b-567a-4b64-eee8-977cd87ed792"
      },
      "source": [
        "model = LinearRegression()\n",
        "model"
      ],
      "execution_count": null,
      "outputs": [
        {
          "output_type": "execute_result",
          "data": {
            "text/plain": [
              "LinearRegression(copy_X=True, fit_intercept=True, n_jobs=None, normalize=False)"
            ]
          },
          "metadata": {
            "tags": []
          },
          "execution_count": 4
        }
      ]
    },
    {
      "cell_type": "markdown",
      "metadata": {
        "id": "32osNsutwCMi"
      },
      "source": [
        "Ahora en este punto debemos diferenciar dos elementos del proceso: Los parametros y los hiperparametros.\n",
        "\n",
        "* **Parámetros:** Son aquellos parámetros que pertenecen al modelo y que se utilizan en el entrenamiendo, que como vimos es simplemente el proceso de optimización de estos parámetros respecto a alguna función de pérdida que se defina.\n",
        "\n",
        "* **Hiperparámetros:** Son parametros del algoritmo y no del modelo como tal. Estos son parametros que se deben definir previo al proceso de entrenamiento y que permanecerán constantes durante este proceso.\n",
        "\n",
        "\n",
        "Un estimador se inicializa a partir de un conjunto de hiperparámetros constantes. Podemos considerar el estimador como una función que asigna estos hiperparámetros a los algoritmos de aprendizaje.\n",
        "\n",
        "Noten que el constructor de un estimador no utiliza ningún dato como tal, ni realiza ningún aprendizaje real. Todo lo que hace es proporcionar los hiperparámetros especificados al objeto.\n",
        "\n",
        "El aprendizaje real se realiza mediante el método `fit`. Este método toma como argumentos los datos de entrenamiento"
      ]
    },
    {
      "cell_type": "code",
      "metadata": {
        "id": "c-z7Nx9A4VjK"
      },
      "source": [
        "X = df[['FUELCONSUMPTION_CITY']]\n",
        "y = df.CO2EMISSIONS"
      ],
      "execution_count": null,
      "outputs": []
    },
    {
      "cell_type": "code",
      "metadata": {
        "id": "vu5uCjS3v-nh",
        "colab": {
          "base_uri": "https://localhost:8080/"
        },
        "outputId": "9817dc2e-0b36-4817-e962-1ec7213ad466"
      },
      "source": [
        "print(X.shape, y.shape)"
      ],
      "execution_count": null,
      "outputs": [
        {
          "output_type": "stream",
          "text": [
            "(1067, 1) (1067,)\n"
          ],
          "name": "stdout"
        }
      ]
    },
    {
      "cell_type": "code",
      "metadata": {
        "id": "CwyE83Ye4Ee7",
        "colab": {
          "base_uri": "https://localhost:8080/"
        },
        "outputId": "46c8e031-d097-4271-fb27-c969ec306ceb"
      },
      "source": [
        "model.fit(X, y)"
      ],
      "execution_count": null,
      "outputs": [
        {
          "output_type": "execute_result",
          "data": {
            "text/plain": [
              "LinearRegression(copy_X=True, fit_intercept=True, n_jobs=None, normalize=False)"
            ]
          },
          "metadata": {
            "tags": []
          },
          "execution_count": 7
        }
      ]
    },
    {
      "cell_type": "markdown",
      "metadata": {
        "id": "1rXUr6YhxjfC"
      },
      "source": [
        "El método `fit` se encarga de ejecutar un algoritmo de aprendizaje y determinar los parámetros específicos del modelo a partir de los datos de entrenamiento y establecer estos parámetros como atributos del objeto\n",
        "\n",
        "\n"
      ]
    },
    {
      "cell_type": "code",
      "metadata": {
        "id": "IMRhsPPRwzbV",
        "colab": {
          "base_uri": "https://localhost:8080/"
        },
        "outputId": "70b4d108-6eff-44f3-84af-cce8dc0940c9"
      },
      "source": [
        "print(f'intercepto (w0): {model.intercept_}')\n",
        "print(f'intercepto (w1): {model.coef_[0]}')"
      ],
      "execution_count": null,
      "outputs": [
        {
          "output_type": "stream",
          "text": [
            "intercepto (w0): 71.72022839690194\n",
            "intercepto (w1): 13.876433758159045\n"
          ],
          "name": "stdout"
        }
      ]
    },
    {
      "cell_type": "markdown",
      "metadata": {
        "id": "SbIILk9Ix8rE"
      },
      "source": [
        "En scikit-learn, los algoritmos de aprendizaje clásicos no son los únicos objetos que se implementan como estimadores. Por ejemplo, las rutinas de preprocesamiento, que veremos más adelante, también implementan la interfaz del estimador."
      ]
    },
    {
      "cell_type": "markdown",
      "metadata": {
        "id": "F5z25pUpyW6l"
      },
      "source": [
        "**Predictor**\n",
        "\n",
        "La interfaz del predictor amplía la noción de un estimador al agregar un método de predicción  `predict` que toma un conjunto de datos de nuevas instancias y devuelve un conjunto de datos de predicciones correspondientes"
      ]
    },
    {
      "cell_type": "code",
      "metadata": {
        "id": "BbmPh7wuyRdi",
        "colab": {
          "base_uri": "https://localhost:8080/"
        },
        "outputId": "defb2b7f-3581-481d-df39-9a59212a2a82"
      },
      "source": [
        "model.predict([[15.2]])"
      ],
      "execution_count": null,
      "outputs": [
        {
          "output_type": "execute_result",
          "data": {
            "text/plain": [
              "array([282.64202152])"
            ]
          },
          "metadata": {
            "tags": []
          },
          "execution_count": 9
        }
      ]
    },
    {
      "cell_type": "markdown",
      "metadata": {
        "id": "job2LpBwyfwd"
      },
      "source": [
        "Ahora, Además de `predict`, los predictores también pueden implementar algunos métodos que cuantifican la confianza de las predicciones más que la prediccion como tal. Por ejemplo, si tenemos como salida un clase binaria o múltiple, en muchos casos más que saber la predicción del modelo, vamos a querer saber cuál es la probabilidad de que la salida pertenezca a una clase u otra. \n",
        "\n",
        "Los predictores También tiene un método `score` que mide la calidad de las predicciones dado un conjunto de prueba. Esto lo veremos de mejor manera cuando estudiemos las métricas para la evaluación de los modelos.\n"
      ]
    },
    {
      "cell_type": "markdown",
      "metadata": {
        "id": "aMjF8lm_ynFN"
      },
      "source": [
        "**Transformadores**\n",
        "\n",
        "Dado que es muy común modificar o filtrar los datos antes de usarlos para alimentar un algoritmo de ML, algunos estimadores en la librería implementan una interfaz de transformador. la transformación se realiza mediante el método `transform`, que toma algunos datos y produce como salida una versión transformada de estos. \n",
        "\n",
        "Por ejemplo, Los algoritmos de preprocesamiento, selección de características, extracción de características y reducción de dimensionalidad se proporcionan como transformadores dentro de la libreria.\n",
        "\n",
        "Los transformadores también tienen un método conveniente llamado `fit_transform` que es equivalente a llamar a `fit` y luego aplicar `transform`.\n",
        "\n",
        "\n",
        "\n",
        "\n",
        "\n"
      ]
    },
    {
      "cell_type": "markdown",
      "metadata": {
        "id": "n5xmitw1zPTf"
      },
      "source": [
        "Con estos elementos en principio deberíamos tener claro la correspondencia entre los conceptos y elementos del ML y la forma en que sklearn asigna estos conceptos y elementos a los objetos de Python y sus funcionalidades."
      ]
    }
  ]
}