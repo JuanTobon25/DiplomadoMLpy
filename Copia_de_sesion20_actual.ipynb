{
  "nbformat": 4,
  "nbformat_minor": 0,
  "metadata": {
    "colab": {
      "name": "Copia de sesion20 actual.ipynb",
      "provenance": [],
      "collapsed_sections": []
    },
    "kernelspec": {
      "name": "python3",
      "display_name": "Python 3"
    }
  },
  "cells": [
    {
      "cell_type": "markdown",
      "metadata": {
        "id": "OmR2Fw3pvJgP"
      },
      "source": [
        "<p><img alt=\"Colaboratory logo\" height=\"140px\" src=\"https://upload.wikimedia.org/wikipedia/commons/archive/f/fb/20161010213812%21Escudo-UdeA.svg\" align=\"left\" hspace=\"10px\" vspace=\"0px\"></p>\n",
        "\n",
        "# **Diplomado de Análisis de datos y Machine Learning en Python**\n",
        "\n",
        "\n",
        "El presente diplomado hace parte del centro de Big Data de la facultad de ciencias exactas y naturales (FCEN) de la Universidad de Antioquia.\n",
        "\n",
        "## **Sesión 20**\n",
        "\n",
        "## **Contenido**\n",
        "\n",
        "- <a href=\"#met\"> Métricas</a><br>\n",
        "  - <a href=\"#acc\"> *Accuracy*</a><br>\n",
        "  - <a href=\"#mat\"> Matriz de confusión</a><br>\n",
        "  - <a href=\"#pre\"> *Precision* & *Recall*</a><br>\n",
        "  - <a href=\"#cur\"> Curva ROC</a><br>\n",
        "\n",
        "\n"
      ]
    },
    {
      "cell_type": "code",
      "metadata": {
        "id": "2urkAJe0hhWA"
      },
      "source": [
        "import numpy as np\n",
        "import pandas as pd\n",
        "import matplotlib.pyplot as plt\n",
        "import seaborn as sns; sns.set()\n",
        "\n",
        "from sklearn.model_selection import train_test_split, cross_val_score\n",
        "from sklearn.compose import make_column_transformer\n",
        "from sklearn.preprocessing import StandardScaler, OneHotEncoder\n",
        "from sklearn.pipeline import make_pipeline\n",
        "from sklearn.linear_model import LogisticRegression\n",
        "from sklearn.svm import SVC"
      ],
      "execution_count": null,
      "outputs": []
    },
    {
      "cell_type": "markdown",
      "metadata": {
        "id": "XtBwAdH3vins"
      },
      "source": [
        "<p><a name=\"met\"></a></p>\n",
        "\n",
        "# **Métricas**\n",
        "\n",
        "Evaluar un clasificador suele ser significativamente más complicado que evaluar un regresor."
      ]
    },
    {
      "cell_type": "code",
      "metadata": {
        "id": "AUzy61baAwfQ"
      },
      "source": [
        "from sklearn.datasets import load_breast_cancer"
      ],
      "execution_count": null,
      "outputs": []
    },
    {
      "cell_type": "code",
      "metadata": {
        "id": "w7OPppzrBK9A",
        "colab": {
          "base_uri": "https://localhost:8080/",
          "height": 249
        },
        "outputId": "53d0aa71-33ff-40bf-c395-6fde4216b118"
      },
      "source": [
        "data = load_breast_cancer()\n",
        "df = pd.DataFrame(data.data, columns= data.feature_names)\n",
        "df.head()"
      ],
      "execution_count": null,
      "outputs": [
        {
          "output_type": "execute_result",
          "data": {
            "text/html": [
              "<div>\n",
              "<style scoped>\n",
              "    .dataframe tbody tr th:only-of-type {\n",
              "        vertical-align: middle;\n",
              "    }\n",
              "\n",
              "    .dataframe tbody tr th {\n",
              "        vertical-align: top;\n",
              "    }\n",
              "\n",
              "    .dataframe thead th {\n",
              "        text-align: right;\n",
              "    }\n",
              "</style>\n",
              "<table border=\"1\" class=\"dataframe\">\n",
              "  <thead>\n",
              "    <tr style=\"text-align: right;\">\n",
              "      <th></th>\n",
              "      <th>mean radius</th>\n",
              "      <th>mean texture</th>\n",
              "      <th>mean perimeter</th>\n",
              "      <th>mean area</th>\n",
              "      <th>mean smoothness</th>\n",
              "      <th>mean compactness</th>\n",
              "      <th>mean concavity</th>\n",
              "      <th>mean concave points</th>\n",
              "      <th>mean symmetry</th>\n",
              "      <th>mean fractal dimension</th>\n",
              "      <th>radius error</th>\n",
              "      <th>texture error</th>\n",
              "      <th>perimeter error</th>\n",
              "      <th>area error</th>\n",
              "      <th>smoothness error</th>\n",
              "      <th>compactness error</th>\n",
              "      <th>concavity error</th>\n",
              "      <th>concave points error</th>\n",
              "      <th>symmetry error</th>\n",
              "      <th>fractal dimension error</th>\n",
              "      <th>worst radius</th>\n",
              "      <th>worst texture</th>\n",
              "      <th>worst perimeter</th>\n",
              "      <th>worst area</th>\n",
              "      <th>worst smoothness</th>\n",
              "      <th>worst compactness</th>\n",
              "      <th>worst concavity</th>\n",
              "      <th>worst concave points</th>\n",
              "      <th>worst symmetry</th>\n",
              "      <th>worst fractal dimension</th>\n",
              "    </tr>\n",
              "  </thead>\n",
              "  <tbody>\n",
              "    <tr>\n",
              "      <th>0</th>\n",
              "      <td>17.99</td>\n",
              "      <td>10.38</td>\n",
              "      <td>122.80</td>\n",
              "      <td>1001.0</td>\n",
              "      <td>0.11840</td>\n",
              "      <td>0.27760</td>\n",
              "      <td>0.3001</td>\n",
              "      <td>0.14710</td>\n",
              "      <td>0.2419</td>\n",
              "      <td>0.07871</td>\n",
              "      <td>1.0950</td>\n",
              "      <td>0.9053</td>\n",
              "      <td>8.589</td>\n",
              "      <td>153.40</td>\n",
              "      <td>0.006399</td>\n",
              "      <td>0.04904</td>\n",
              "      <td>0.05373</td>\n",
              "      <td>0.01587</td>\n",
              "      <td>0.03003</td>\n",
              "      <td>0.006193</td>\n",
              "      <td>25.38</td>\n",
              "      <td>17.33</td>\n",
              "      <td>184.60</td>\n",
              "      <td>2019.0</td>\n",
              "      <td>0.1622</td>\n",
              "      <td>0.6656</td>\n",
              "      <td>0.7119</td>\n",
              "      <td>0.2654</td>\n",
              "      <td>0.4601</td>\n",
              "      <td>0.11890</td>\n",
              "    </tr>\n",
              "    <tr>\n",
              "      <th>1</th>\n",
              "      <td>20.57</td>\n",
              "      <td>17.77</td>\n",
              "      <td>132.90</td>\n",
              "      <td>1326.0</td>\n",
              "      <td>0.08474</td>\n",
              "      <td>0.07864</td>\n",
              "      <td>0.0869</td>\n",
              "      <td>0.07017</td>\n",
              "      <td>0.1812</td>\n",
              "      <td>0.05667</td>\n",
              "      <td>0.5435</td>\n",
              "      <td>0.7339</td>\n",
              "      <td>3.398</td>\n",
              "      <td>74.08</td>\n",
              "      <td>0.005225</td>\n",
              "      <td>0.01308</td>\n",
              "      <td>0.01860</td>\n",
              "      <td>0.01340</td>\n",
              "      <td>0.01389</td>\n",
              "      <td>0.003532</td>\n",
              "      <td>24.99</td>\n",
              "      <td>23.41</td>\n",
              "      <td>158.80</td>\n",
              "      <td>1956.0</td>\n",
              "      <td>0.1238</td>\n",
              "      <td>0.1866</td>\n",
              "      <td>0.2416</td>\n",
              "      <td>0.1860</td>\n",
              "      <td>0.2750</td>\n",
              "      <td>0.08902</td>\n",
              "    </tr>\n",
              "    <tr>\n",
              "      <th>2</th>\n",
              "      <td>19.69</td>\n",
              "      <td>21.25</td>\n",
              "      <td>130.00</td>\n",
              "      <td>1203.0</td>\n",
              "      <td>0.10960</td>\n",
              "      <td>0.15990</td>\n",
              "      <td>0.1974</td>\n",
              "      <td>0.12790</td>\n",
              "      <td>0.2069</td>\n",
              "      <td>0.05999</td>\n",
              "      <td>0.7456</td>\n",
              "      <td>0.7869</td>\n",
              "      <td>4.585</td>\n",
              "      <td>94.03</td>\n",
              "      <td>0.006150</td>\n",
              "      <td>0.04006</td>\n",
              "      <td>0.03832</td>\n",
              "      <td>0.02058</td>\n",
              "      <td>0.02250</td>\n",
              "      <td>0.004571</td>\n",
              "      <td>23.57</td>\n",
              "      <td>25.53</td>\n",
              "      <td>152.50</td>\n",
              "      <td>1709.0</td>\n",
              "      <td>0.1444</td>\n",
              "      <td>0.4245</td>\n",
              "      <td>0.4504</td>\n",
              "      <td>0.2430</td>\n",
              "      <td>0.3613</td>\n",
              "      <td>0.08758</td>\n",
              "    </tr>\n",
              "    <tr>\n",
              "      <th>3</th>\n",
              "      <td>11.42</td>\n",
              "      <td>20.38</td>\n",
              "      <td>77.58</td>\n",
              "      <td>386.1</td>\n",
              "      <td>0.14250</td>\n",
              "      <td>0.28390</td>\n",
              "      <td>0.2414</td>\n",
              "      <td>0.10520</td>\n",
              "      <td>0.2597</td>\n",
              "      <td>0.09744</td>\n",
              "      <td>0.4956</td>\n",
              "      <td>1.1560</td>\n",
              "      <td>3.445</td>\n",
              "      <td>27.23</td>\n",
              "      <td>0.009110</td>\n",
              "      <td>0.07458</td>\n",
              "      <td>0.05661</td>\n",
              "      <td>0.01867</td>\n",
              "      <td>0.05963</td>\n",
              "      <td>0.009208</td>\n",
              "      <td>14.91</td>\n",
              "      <td>26.50</td>\n",
              "      <td>98.87</td>\n",
              "      <td>567.7</td>\n",
              "      <td>0.2098</td>\n",
              "      <td>0.8663</td>\n",
              "      <td>0.6869</td>\n",
              "      <td>0.2575</td>\n",
              "      <td>0.6638</td>\n",
              "      <td>0.17300</td>\n",
              "    </tr>\n",
              "    <tr>\n",
              "      <th>4</th>\n",
              "      <td>20.29</td>\n",
              "      <td>14.34</td>\n",
              "      <td>135.10</td>\n",
              "      <td>1297.0</td>\n",
              "      <td>0.10030</td>\n",
              "      <td>0.13280</td>\n",
              "      <td>0.1980</td>\n",
              "      <td>0.10430</td>\n",
              "      <td>0.1809</td>\n",
              "      <td>0.05883</td>\n",
              "      <td>0.7572</td>\n",
              "      <td>0.7813</td>\n",
              "      <td>5.438</td>\n",
              "      <td>94.44</td>\n",
              "      <td>0.011490</td>\n",
              "      <td>0.02461</td>\n",
              "      <td>0.05688</td>\n",
              "      <td>0.01885</td>\n",
              "      <td>0.01756</td>\n",
              "      <td>0.005115</td>\n",
              "      <td>22.54</td>\n",
              "      <td>16.67</td>\n",
              "      <td>152.20</td>\n",
              "      <td>1575.0</td>\n",
              "      <td>0.1374</td>\n",
              "      <td>0.2050</td>\n",
              "      <td>0.4000</td>\n",
              "      <td>0.1625</td>\n",
              "      <td>0.2364</td>\n",
              "      <td>0.07678</td>\n",
              "    </tr>\n",
              "  </tbody>\n",
              "</table>\n",
              "</div>"
            ],
            "text/plain": [
              "   mean radius  mean texture  ...  worst symmetry  worst fractal dimension\n",
              "0        17.99         10.38  ...          0.4601                  0.11890\n",
              "1        20.57         17.77  ...          0.2750                  0.08902\n",
              "2        19.69         21.25  ...          0.3613                  0.08758\n",
              "3        11.42         20.38  ...          0.6638                  0.17300\n",
              "4        20.29         14.34  ...          0.2364                  0.07678\n",
              "\n",
              "[5 rows x 30 columns]"
            ]
          },
          "metadata": {
            "tags": []
          },
          "execution_count": 4
        }
      ]
    },
    {
      "cell_type": "code",
      "metadata": {
        "id": "buBoUIP3dwJm"
      },
      "source": [
        "data"
      ],
      "execution_count": null,
      "outputs": []
    },
    {
      "cell_type": "code",
      "metadata": {
        "id": "KSRU2V-YB66w",
        "colab": {
          "base_uri": "https://localhost:8080/"
        },
        "outputId": "84837d98-c865-4340-880f-59250ddda708"
      },
      "source": [
        "data.target_names"
      ],
      "execution_count": null,
      "outputs": [
        {
          "output_type": "execute_result",
          "data": {
            "text/plain": [
              "array(['malignant', 'benign'], dtype='<U9')"
            ]
          },
          "metadata": {
            "tags": []
          },
          "execution_count": 9
        }
      ]
    },
    {
      "cell_type": "markdown",
      "metadata": {
        "id": "g8ctZHniyFVo"
      },
      "source": [
        "Entrenemos un par de modelos de clasificación:"
      ]
    },
    {
      "cell_type": "code",
      "metadata": {
        "id": "lMXdYRVowDDi"
      },
      "source": [
        "lr_clf = make_pipeline(StandardScaler(), LogisticRegression())\n",
        "svm_clf = make_pipeline(StandardScaler(), SVC())"
      ],
      "execution_count": null,
      "outputs": []
    },
    {
      "cell_type": "code",
      "metadata": {
        "id": "Ovuf4YgfzpHx"
      },
      "source": [
        "X = df\n",
        "y = data.target\n",
        "\n",
        "X_train, X_test, y_train, y_test = train_test_split(X, y, test_size=0.2, random_state=42)\n",
        "lr_clf.fit(X_train, y_train)\n",
        "svm_clf.fit(X_train, y_train);"
      ],
      "execution_count": null,
      "outputs": []
    },
    {
      "cell_type": "markdown",
      "metadata": {
        "id": "s1ILNtNi2ncJ"
      },
      "source": [
        "Evaluemos ambos modelos"
      ]
    },
    {
      "cell_type": "code",
      "metadata": {
        "id": "QQnHo0ad3G1L",
        "colab": {
          "base_uri": "https://localhost:8080/"
        },
        "outputId": "864907b3-d94f-4116-bad7-462d615bba19"
      },
      "source": [
        "lr_clf.score(X_test, y_test)"
      ],
      "execution_count": null,
      "outputs": [
        {
          "output_type": "execute_result",
          "data": {
            "text/plain": [
              "0.9736842105263158"
            ]
          },
          "metadata": {
            "tags": []
          },
          "execution_count": 13
        }
      ]
    },
    {
      "cell_type": "code",
      "metadata": {
        "id": "OPVAuWTD3Jyf",
        "colab": {
          "base_uri": "https://localhost:8080/"
        },
        "outputId": "f92b2995-048f-418e-8360-deafed08bb12"
      },
      "source": [
        "svm_clf.score(X_test,y_test)"
      ],
      "execution_count": null,
      "outputs": [
        {
          "output_type": "execute_result",
          "data": {
            "text/plain": [
              "0.9824561403508771"
            ]
          },
          "metadata": {
            "tags": []
          },
          "execution_count": 15
        }
      ]
    },
    {
      "cell_type": "markdown",
      "metadata": {
        "id": "2oW91x_-zJoI"
      },
      "source": [
        "<p><a name=\"acc\"></a></p>\n",
        "\n",
        "# **Accuracy**: \n",
        "\n",
        "La [métrica](https://scikit-learn.org/stable/modules/model_evaluation.html) que se utiliza por defecto es el *accuracy*, que corresponde a **clasificados Bien/Total**.\n",
        "\n",
        "Al igual que en el caso de la regresión, podemos obtener las prediciones del modelo y utilizarlos para evaluar el modelo importando directamente la métrica  (o directamente mediante el método `score`, como lo acabamos de hacer).\n",
        "\n",
        "\n",
        "\n"
      ]
    },
    {
      "cell_type": "code",
      "metadata": {
        "colab": {
          "base_uri": "https://localhost:8080/"
        },
        "id": "e6vP-upjfltN",
        "outputId": "5f78d5d1-e7cb-4e2b-9b62-93bca715421f"
      },
      "source": [
        "df.shape[0]"
      ],
      "execution_count": null,
      "outputs": [
        {
          "output_type": "execute_result",
          "data": {
            "text/plain": [
              "569"
            ]
          },
          "metadata": {
            "tags": []
          },
          "execution_count": 19
        }
      ]
    },
    {
      "cell_type": "code",
      "metadata": {
        "id": "TjAbS7YKxFEt"
      },
      "source": [
        "from sklearn.metrics import accuracy_score\n",
        "\n",
        "lr_pred = lr_clf.predict(X_test)\n",
        "svm_pred = svm_clf.predict(X_test)"
      ],
      "execution_count": null,
      "outputs": []
    },
    {
      "cell_type": "code",
      "metadata": {
        "id": "eTzg9f8AxFzW",
        "colab": {
          "base_uri": "https://localhost:8080/"
        },
        "outputId": "82ccea59-27b9-4c55-c2a9-99252c169f82"
      },
      "source": [
        "accuracy_score(y_test, lr_pred)"
      ],
      "execution_count": null,
      "outputs": [
        {
          "output_type": "execute_result",
          "data": {
            "text/plain": [
              "0.9736842105263158"
            ]
          },
          "metadata": {
            "tags": []
          },
          "execution_count": 17
        }
      ]
    },
    {
      "cell_type": "code",
      "metadata": {
        "id": "iIojSL_y2AaD",
        "colab": {
          "base_uri": "https://localhost:8080/"
        },
        "outputId": "f2dbba3f-7795-4203-9090-711a606f0900"
      },
      "source": [
        "accuracy_score(y_test, svm_pred)"
      ],
      "execution_count": null,
      "outputs": [
        {
          "output_type": "execute_result",
          "data": {
            "text/plain": [
              "0.9824561403508771"
            ]
          },
          "metadata": {
            "tags": []
          },
          "execution_count": 18
        }
      ]
    },
    {
      "cell_type": "markdown",
      "metadata": {
        "id": "KA1mkwcR3nYv"
      },
      "source": [
        "Alternativamente podemos realizar una validación cruzada, que por defecto también utiliza el *accuracy*"
      ]
    },
    {
      "cell_type": "code",
      "metadata": {
        "id": "njNKgLF43wnj",
        "colab": {
          "base_uri": "https://localhost:8080/"
        },
        "outputId": "ffadf687-aaee-4f28-b729-9f9d80a4c45b"
      },
      "source": [
        "cross_val_score(lr_clf, X, y, cv = 5)"
      ],
      "execution_count": null,
      "outputs": [
        {
          "output_type": "execute_result",
          "data": {
            "text/plain": [
              "array([0.98245614, 0.98245614, 0.97368421, 0.97368421, 0.99115044])"
            ]
          },
          "metadata": {
            "tags": []
          },
          "execution_count": 20
        }
      ]
    },
    {
      "cell_type": "code",
      "metadata": {
        "id": "gWgZLyil3-wq",
        "colab": {
          "base_uri": "https://localhost:8080/"
        },
        "outputId": "92908c0d-a049-43d0-ee32-b9702aeb93e0"
      },
      "source": [
        "cross_val_score(svm_clf, X, y, cv = 5)"
      ],
      "execution_count": null,
      "outputs": [
        {
          "output_type": "execute_result",
          "data": {
            "text/plain": [
              "array([0.97368421, 0.95614035, 1.        , 0.96491228, 0.97345133])"
            ]
          },
          "metadata": {
            "tags": []
          },
          "execution_count": 21
        }
      ]
    },
    {
      "cell_type": "markdown",
      "metadata": {
        "id": "gK9mR1gRDNos"
      },
      "source": [
        "Si evaluamos el rendimiento de un modelo de clasificación utilizando solo la *accuracy* (la fracción de muestras clasificadas correctamente) veremos que, en la práctica, esta métrica de evaluación puede no ser apropiada para el objetivo que se tenga. Es importante elegir la métrica correcta para seleccionar entre diferentes modelos.\n",
        "\n",
        "Antes de ver las métricas alternativas, veamos las formas en que el *accuracy* puede ser engañoso. Recordemos que para la clasificación binaria, a menudo hablamos de una clase positiva y una clase negativa.\n",
        "\n",
        "Imaginemos una aplicación para detectar de forma temprana el cáncer mediante una prueba automatizada. Si la prueba es negativa, se supondrá que el paciente está sano, mientras que si la prueba es positiva, el paciente se someterá a una evaluación adicional. Aquí, llamaremos a una prueba positiva (una indicación de cáncer) la clase positiva, y una prueba negativa a la clase negativa. No podemos suponer que nuestro modelo siempre funcionará perfectamente; este cometerá errores. Para cualquier aplicación, debemos preguntarnos cuáles son las consecuencias de estos errores en el mundo real.\n",
        "\n",
        "Un posible error es que un paciente sano se clasifique como positivo, lo que llevaría a pruebas adicionales. Esto conlleva algunos costos y un inconveniente para el paciente. Una predicción positiva incorrecta se llama *falso positivo*. El otro posible error es que un paciente enfermo se clasifique como negativo, por lo que no recibirá más pruebas ni tratamiento. El cáncer no diagnosticado podría conducir a problemas de salud graves e incluso podría ser fatal. Un error de este tipo (una predicción negativa incorrecta) se llama *falso negativo*.\n",
        "\n",
        "Ahora, Los conjuntos de datos en los que una clase es mucho más frecuente que la otra se denominan conjuntos de datos no balanceados. En realidad, los datos no balanceados son la norma, y es raro que los eventos de interés tengan una frecuencia igual o incluso similar en los datos.\n",
        "\n",
        "Veamos que el conjunto de datos que estamos tratando es en efecto desbalanceado:"
      ]
    },
    {
      "cell_type": "code",
      "metadata": {
        "colab": {
          "base_uri": "https://localhost:8080/"
        },
        "id": "ExFcu5TFg0Ea",
        "outputId": "51ac2949-1a01-4c4a-895e-cd8ef518693a"
      },
      "source": [
        "y_train"
      ],
      "execution_count": null,
      "outputs": [
        {
          "output_type": "execute_result",
          "data": {
            "text/plain": [
              "array([1, 0, 1, 1, 1, 0, 1, 1, 1, 0, 1, 0, 0, 1, 1, 0, 0, 0, 1, 1, 1, 0,\n",
              "       1, 1, 1, 0, 1, 0, 1, 1, 0, 1, 0, 0, 0, 1, 0, 1, 1, 1, 1, 0, 0, 1,\n",
              "       1, 1, 1, 1, 1, 1, 0, 1, 1, 1, 1, 0, 1, 1, 1, 1, 1, 1, 0, 1, 1, 1,\n",
              "       1, 1, 1, 0, 0, 0, 1, 1, 0, 1, 0, 1, 1, 1, 1, 0, 1, 1, 0, 1, 1, 1,\n",
              "       0, 1, 0, 0, 1, 1, 1, 0, 1, 1, 1, 1, 0, 1, 1, 1, 1, 1, 0, 1, 0, 0,\n",
              "       1, 1, 0, 1, 1, 1, 1, 1, 1, 1, 0, 0, 0, 1, 1, 0, 1, 1, 0, 1, 0, 1,\n",
              "       0, 1, 0, 1, 1, 0, 1, 1, 1, 0, 1, 0, 1, 0, 1, 0, 1, 1, 0, 1, 1, 1,\n",
              "       1, 0, 1, 1, 1, 0, 1, 1, 0, 1, 1, 0, 1, 1, 1, 1, 1, 1, 1, 0, 1, 1,\n",
              "       1, 0, 1, 0, 1, 1, 1, 0, 1, 0, 0, 1, 1, 0, 1, 0, 0, 0, 1, 1, 1, 0,\n",
              "       1, 1, 0, 1, 0, 1, 1, 1, 0, 1, 0, 1, 1, 0, 0, 1, 1, 0, 1, 0, 0, 1,\n",
              "       0, 0, 1, 1, 0, 0, 0, 1, 1, 1, 1, 0, 1, 0, 0, 0, 0, 1, 1, 1, 1, 1,\n",
              "       1, 1, 1, 0, 0, 1, 1, 0, 1, 1, 1, 1, 1, 0, 1, 1, 0, 0, 1, 0, 1, 0,\n",
              "       1, 1, 1, 1, 1, 1, 0, 1, 1, 0, 1, 1, 1, 1, 1, 1, 0, 1, 1, 0, 1, 0,\n",
              "       0, 0, 1, 0, 1, 1, 0, 0, 0, 1, 1, 1, 1, 1, 1, 1, 0, 1, 1, 1, 0, 1,\n",
              "       1, 0, 0, 1, 0, 1, 0, 0, 1, 1, 0, 1, 0, 0, 1, 0, 0, 1, 1, 0, 1, 0,\n",
              "       1, 1, 0, 1, 1, 0, 0, 0, 1, 1, 1, 0, 0, 1, 0, 0, 1, 1, 1, 0, 1, 0,\n",
              "       0, 0, 0, 1, 1, 0, 1, 1, 0, 0, 0, 0, 0, 0, 1, 1, 1, 1, 1, 1, 1, 0,\n",
              "       0, 0, 0, 1, 1, 1, 1, 0, 1, 0, 1, 1, 1, 1, 1, 0, 0, 0, 1, 1, 0, 1,\n",
              "       1, 0, 0, 0, 0, 1, 1, 0, 0, 1, 1, 1, 0, 0, 0, 1, 1, 0, 1, 1, 1, 1,\n",
              "       0, 1, 1, 1, 1, 1, 1, 1, 1, 1, 0, 1, 1, 1, 1, 1, 1, 0, 1, 1, 0, 1,\n",
              "       1, 0, 0, 0, 1, 0, 0, 1, 0, 1, 1, 1, 1, 0, 1])"
            ]
          },
          "metadata": {
            "tags": []
          },
          "execution_count": 22
        }
      ]
    },
    {
      "cell_type": "code",
      "metadata": {
        "id": "dG0i7j3t4B4a",
        "colab": {
          "base_uri": "https://localhost:8080/"
        },
        "outputId": "cd5d2ab7-46fc-4a81-896f-a1d3b267ccd0"
      },
      "source": [
        "print(y_train.sum(), y_train.size - y_train.sum())"
      ],
      "execution_count": null,
      "outputs": [
        {
          "output_type": "stream",
          "text": [
            "286 169\n"
          ],
          "name": "stdout"
        }
      ]
    },
    {
      "cell_type": "markdown",
      "metadata": {
        "id": "_JnJsgTL4s7A"
      },
      "source": [
        "construyamos un clasificador *dummy* que clasifique cada instancia como la clase positiva\n"
      ]
    },
    {
      "cell_type": "code",
      "metadata": {
        "id": "8GLfRi1b4LHR",
        "colab": {
          "base_uri": "https://localhost:8080/"
        },
        "outputId": "72318141-1de7-4813-e7a7-0a7ca0d48d28"
      },
      "source": [
        "y_true_dum = np.array([1 if i < 17 else 0 for i in range(20)])\n",
        "y_true_dum"
      ],
      "execution_count": null,
      "outputs": [
        {
          "output_type": "execute_result",
          "data": {
            "text/plain": [
              "array([1, 1, 1, 1, 1, 1, 1, 1, 1, 1, 1, 1, 1, 1, 1, 1, 1, 0, 0, 0])"
            ]
          },
          "metadata": {
            "tags": []
          },
          "execution_count": 24
        }
      ]
    },
    {
      "cell_type": "code",
      "metadata": {
        "id": "EZcz4W4K4nIU",
        "colab": {
          "base_uri": "https://localhost:8080/"
        },
        "outputId": "a17e3092-c3c3-4f12-9034-b95fc7499f9f"
      },
      "source": [
        "y_pred_dum = np.ones(20, dtype='int32')\n",
        "y_pred_dum"
      ],
      "execution_count": null,
      "outputs": [
        {
          "output_type": "execute_result",
          "data": {
            "text/plain": [
              "array([1, 1, 1, 1, 1, 1, 1, 1, 1, 1, 1, 1, 1, 1, 1, 1, 1, 1, 1, 1],\n",
              "      dtype=int32)"
            ]
          },
          "metadata": {
            "tags": []
          },
          "execution_count": 25
        }
      ]
    },
    {
      "cell_type": "code",
      "metadata": {
        "id": "PonZI_1J4ob_",
        "colab": {
          "base_uri": "https://localhost:8080/"
        },
        "outputId": "0ab4060f-2a97-4c32-f504-76e6db8c469d"
      },
      "source": [
        "accuracy_score(y_true_dum, y_pred_dum)"
      ],
      "execution_count": null,
      "outputs": [
        {
          "output_type": "execute_result",
          "data": {
            "text/plain": [
              "0.85"
            ]
          },
          "metadata": {
            "tags": []
          },
          "execution_count": 26
        }
      ]
    },
    {
      "cell_type": "markdown",
      "metadata": {
        "id": "IABB_11Z49DQ"
      },
      "source": [
        "Vemos que este clasificador nos arroja un buen puntaje. Esto hace que sea muy difícil juzgar si el resultado es realmente útil. El problema aquí es que el accuracy es una medida inadecuada para cuantificar el rendimiento predictivo en este escenario no balanceado, por lo que necesitamos métricas alternativas."
      ]
    },
    {
      "cell_type": "markdown",
      "metadata": {
        "id": "NfVR55S34_Qy"
      },
      "source": [
        "<p><a name=\"mat\"></a></p>\n",
        "\n",
        "# **Matriz de confusión**\n",
        "\n",
        "Una de las formas más completas de representar el resultado de evaluar la clasificación binaria es usar matrices de confusión. "
      ]
    },
    {
      "cell_type": "code",
      "metadata": {
        "id": "X3il_At_4qYv"
      },
      "source": [
        "from sklearn.metrics import confusion_matrix\n",
        "confusion_matrix?"
      ],
      "execution_count": null,
      "outputs": []
    },
    {
      "cell_type": "code",
      "metadata": {
        "id": "44pEkl06rORF",
        "colab": {
          "base_uri": "https://localhost:8080/"
        },
        "outputId": "7971d130-51ca-4685-8708-8d72eb2ea42c"
      },
      "source": [
        "data.target_names"
      ],
      "execution_count": null,
      "outputs": [
        {
          "output_type": "execute_result",
          "data": {
            "text/plain": [
              "array(['malignant', 'benign'], dtype='<U9')"
            ]
          },
          "metadata": {
            "tags": []
          },
          "execution_count": 28
        }
      ]
    },
    {
      "cell_type": "code",
      "metadata": {
        "id": "zQpD8oXt5jXh",
        "colab": {
          "base_uri": "https://localhost:8080/"
        },
        "outputId": "8656768a-e927-4279-9818-87f87b2d541c"
      },
      "source": [
        "confusion_matrix(y_true_dum, y_pred_dum)"
      ],
      "execution_count": null,
      "outputs": [
        {
          "output_type": "execute_result",
          "data": {
            "text/plain": [
              "array([[ 0,  3],\n",
              "       [ 0, 17]])"
            ]
          },
          "metadata": {
            "tags": []
          },
          "execution_count": 29
        }
      ]
    },
    {
      "cell_type": "markdown",
      "metadata": {
        "id": "Qmz5nw8PEae5"
      },
      "source": [
        "La salida es una matriz de dos por dos, donde las filas corresponden a las clases verdaderas y las columnas corresponden a las clases predichas. \n",
        "\n",
        "\n",
        "![matriz.confusion.png](data:image/png;base64,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)\n",
        "\n",
        "Las entradas en la diagonal principal de la matriz de confusión corresponden a las clasificaciones correctas, mientras que las otras entradas nos dicen cuántas muestras de una clase se clasificaron erróneamente como otra clase.\n",
        "\n",
        "Podemos relacionar las entradas de la matriz de confusión con los términos falso positivo y falso negativo que presentamos anteriormente. Un clasificador perfecto solo tendría verdaderos positivos y verdaderos negativos, por lo que la matriz de confusión tendría valores distintos de cero solo en su diagonal principal.\n",
        "\n",
        "Podemos hacer una mejor visualización de la matriz de confusión utilizando la función `plot_confusion_matrix`. Construyamos una función que nos muestre la matriz de confusión dados los valores reales y los predichos por un modelo: \n",
        "\n"
      ]
    },
    {
      "cell_type": "code",
      "metadata": {
        "id": "25XOUlD15pms"
      },
      "source": [
        "from mlxtend.plotting import plot_confusion_matrix\n",
        "\n",
        "def cm(y_true, y_pred):\n",
        "  return plot_confusion_matrix(confusion_matrix(y_true, y_pred), cmap='Reds')"
      ],
      "execution_count": null,
      "outputs": []
    },
    {
      "cell_type": "markdown",
      "metadata": {
        "id": "QeB2T5oO41kx"
      },
      "source": [
        "Utilicemos la función para los dos modelos de clasificación que construimos y para el clasificador *dummy*:"
      ]
    },
    {
      "cell_type": "code",
      "metadata": {
        "id": "49xZDvUY6hxi",
        "colab": {
          "base_uri": "https://localhost:8080/",
          "height": 285
        },
        "outputId": "5e561320-b583-45a1-813d-c59ecae2f040"
      },
      "source": [
        "cm(y_true_dum,y_pred_dum);"
      ],
      "execution_count": null,
      "outputs": [
        {
          "output_type": "display_data",
          "data": {
            "image/png": "[encoded data removed]",
            "text/plain": [
              "<Figure size 432x288 with 1 Axes>"
            ]
          },
          "metadata": {
            "tags": [],
            "needs_background": "light"
          }
        }
      ]
    },
    {
      "cell_type": "code",
      "metadata": {
        "id": "_2A857HJ50Ac",
        "colab": {
          "base_uri": "https://localhost:8080/",
          "height": 285
        },
        "outputId": "1c0a6442-2b3e-49f4-f59a-983b794ef373"
      },
      "source": [
        "cm(y_test, lr_pred);"
      ],
      "execution_count": null,
      "outputs": [
        {
          "output_type": "display_data",
          "data": {
            "image/png": "[encoded data removed]",
            "text/plain": [
              "<Figure size 432x288 with 1 Axes>"
            ]
          },
          "metadata": {
            "tags": [],
            "needs_background": "light"
          }
        }
      ]
    },
    {
      "cell_type": "code",
      "metadata": {
        "id": "V4CSIDY76PWo",
        "colab": {
          "base_uri": "https://localhost:8080/",
          "height": 285
        },
        "outputId": "5ddadd6f-298d-4a22-849b-f932fd0b6574"
      },
      "source": [
        "cm(y_test, svm_pred);"
      ],
      "execution_count": null,
      "outputs": [
        {
          "output_type": "display_data",
          "data": {
            "image/png": "[encoded data removed]",
            "text/plain": [
              "<Figure size 432x288 with 1 Axes>"
            ]
          },
          "metadata": {
            "tags": [],
            "needs_background": "light"
          }
        }
      ]
    },
    {
      "cell_type": "markdown",
      "metadata": {
        "id": "jNJDkR3bFC3c"
      },
      "source": [
        "Vemos que los modelos de LR y SVM tienen un mejor rendimiento en todos los aspectos respecto al clasificador *dummy*: tienen más positivos verdaderos y negativos verdaderos mientras que tiene menos falsos positivos y falsos negativos.\n",
        "\n",
        "La matriz de confusión nos brinda mucha información, pero a veces vamos a querer utilizar una métrica más concreta."
      ]
    },
    {
      "cell_type": "markdown",
      "metadata": {
        "id": "Sz3ghYvv8KYY"
      },
      "source": [
        "<p><a name=\"pre\"></a></p>\n",
        "\n",
        "# **Precision & Recall**: \n",
        "\n",
        "Inspeccionar la matriz de confusión total es un poco engorroso. Hay otras formas de resumir la matriz de confusión, siendo las más comunes la *precision* y el *recall*. \n",
        "\n",
        "La *precision* mide cuántas de las muestras predichas como positivas son realmente positivas: \n",
        "\n",
        "$$\\text{P} = \\frac{TP}{TP + FP}$$\n",
        "\n",
        "$$\\text{P} = \\frac{VP}{VP + FP}$$\n",
        "\n",
        "La *precision* se utiliza como una métrica de rendimiento cuando el objetivo es limitar el número de falsos positivos. Utilicemos esta métrica para los tres clasificadores:\n",
        "\n"
      ]
    },
    {
      "cell_type": "code",
      "metadata": {
        "id": "-BNp2rhl6rdi"
      },
      "source": [
        "from sklearn.metrics import precision_score\n",
        "precision_score?"
      ],
      "execution_count": null,
      "outputs": []
    },
    {
      "cell_type": "code",
      "metadata": {
        "id": "Oqe1uyB27u6j",
        "colab": {
          "base_uri": "https://localhost:8080/"
        },
        "outputId": "902b7058-bf24-40ab-b624-46a9f4b02322"
      },
      "source": [
        "precision_score(y_true_dum, y_pred_dum)"
      ],
      "execution_count": null,
      "outputs": [
        {
          "output_type": "execute_result",
          "data": {
            "text/plain": [
              "0.85"
            ]
          },
          "metadata": {
            "tags": []
          },
          "execution_count": 38
        }
      ]
    },
    {
      "cell_type": "code",
      "metadata": {
        "id": "wBdJJ0Fs8e4Z",
        "colab": {
          "base_uri": "https://localhost:8080/"
        },
        "outputId": "39aba850-dd98-4bc0-c77e-112d51180e9c"
      },
      "source": [
        "precision_score(y_test, lr_pred)"
      ],
      "execution_count": null,
      "outputs": [
        {
          "output_type": "execute_result",
          "data": {
            "text/plain": [
              "0.9722222222222222"
            ]
          },
          "metadata": {
            "tags": []
          },
          "execution_count": 39
        }
      ]
    },
    {
      "cell_type": "code",
      "metadata": {
        "id": "gJjPQIUp8bXd",
        "colab": {
          "base_uri": "https://localhost:8080/"
        },
        "outputId": "8dc26b79-e75d-43b2-d82f-df8bbdf44cd5"
      },
      "source": [
        "precision_score(y_test, svm_pred)"
      ],
      "execution_count": null,
      "outputs": [
        {
          "output_type": "execute_result",
          "data": {
            "text/plain": [
              "0.9726027397260274"
            ]
          },
          "metadata": {
            "tags": []
          },
          "execution_count": 40
        }
      ]
    },
    {
      "cell_type": "markdown",
      "metadata": {
        "id": "v5U32sHUGXOr"
      },
      "source": [
        "Una forma trivial de tener una *precision* perfecta es hacer una sola predicción positiva y asegurarse de que sea correcta (*precision* = 1/1 = 100%). Esto no sería muy útil ya que el clasificador ignoraría todas las instancias positivas menos una. Por lo tanto, la *precision* se usa normalmente junto con otra métrica llamada *recall*\n",
        "\n",
        "Esta mide la proporción de clases positivas clasificadas correctamente:\n",
        "\n",
        "$$\\text{R} = \\frac{TP}{TP+FN}$$\n",
        "$$\\text{R} = \\frac{VP}{VP+FN}$$\n",
        "\n",
        "El *recall* se utiliza como métrica de rendimiento cuando necesitamos identificar todas las muestras positivas; es decir, cuando es importante evitar falsos negativos.\n"
      ]
    },
    {
      "cell_type": "code",
      "metadata": {
        "id": "TOL48gLj8eV9"
      },
      "source": [
        "from sklearn.metrics import recall_score"
      ],
      "execution_count": null,
      "outputs": []
    },
    {
      "cell_type": "code",
      "metadata": {
        "id": "6UmaaPmk9Uhf",
        "colab": {
          "base_uri": "https://localhost:8080/"
        },
        "outputId": "16c52eef-4b51-45b5-efb9-8f7a30af1209"
      },
      "source": [
        "recall_score(y_true_dum, y_pred_dum)"
      ],
      "execution_count": null,
      "outputs": [
        {
          "output_type": "execute_result",
          "data": {
            "text/plain": [
              "1.0"
            ]
          },
          "metadata": {
            "tags": []
          },
          "execution_count": 42
        }
      ]
    },
    {
      "cell_type": "code",
      "metadata": {
        "id": "xxqDkl2V9W1p",
        "colab": {
          "base_uri": "https://localhost:8080/"
        },
        "outputId": "9fda4c70-0e72-42d3-91d8-8db47acbba7b"
      },
      "source": [
        "recall_score(y_test, lr_pred)"
      ],
      "execution_count": null,
      "outputs": [
        {
          "output_type": "execute_result",
          "data": {
            "text/plain": [
              "0.9859154929577465"
            ]
          },
          "metadata": {
            "tags": []
          },
          "execution_count": 43
        }
      ]
    },
    {
      "cell_type": "code",
      "metadata": {
        "id": "wCRgE-Oi9ai5",
        "colab": {
          "base_uri": "https://localhost:8080/"
        },
        "outputId": "6d4c5deb-31c6-4ec9-bbda-bbad6fc0c003"
      },
      "source": [
        "recall_score(y_test, svm_pred)"
      ],
      "execution_count": null,
      "outputs": [
        {
          "output_type": "execute_result",
          "data": {
            "text/plain": [
              "1.0"
            ]
          },
          "metadata": {
            "tags": []
          },
          "execution_count": 44
        }
      ]
    },
    {
      "cell_type": "markdown",
      "metadata": {
        "id": "0egyTD6kGkxg"
      },
      "source": [
        "#**$F$ Metric**\n",
        "Con frecuencia hay tensión entre la *precision* y el *recall*. Esto quiere decir que, al mejorar la *precision*, generalmente se reduce el *recall*, y viceversa. Por lo tanto, si bien la *precision* y el *recall* son medidas muy importantes, mirar solo una de ellas no proporcionará una imagen completa del problema. Una forma de resumirlos es el *puntaje f* o la *medida f*, que es la media armónica entre *precision* y *recall*\n",
        "\n",
        "$$\\text{f1} = 2 \\frac{P*R}{P+R}$$\n",
        "\n",
        "Mientras que la media trata todos los valores por igual, la media armónica da mucho más peso a los valores bajos. Como resultado, el clasificador solo obtendrá una puntuación F1 alta si tanto el *recall* como la *precision* son altas. Como tiene en cuenta la *precision* y el *recall*, esta puede ser una mejor medida que la *accuracy* en los conjuntos de datos de clasificación binaria no balanceados."
      ]
    },
    {
      "cell_type": "code",
      "metadata": {
        "id": "nxA1XMga9cTJ"
      },
      "source": [
        "from sklearn.metrics import f1_score"
      ],
      "execution_count": null,
      "outputs": []
    },
    {
      "cell_type": "code",
      "metadata": {
        "id": "WNHAlLfGGxBE",
        "colab": {
          "base_uri": "https://localhost:8080/"
        },
        "outputId": "a815178a-05d4-4d31-ea7d-8f61fed48f14"
      },
      "source": [
        "f1_score(y_pred_dum,y_true_dum)"
      ],
      "execution_count": null,
      "outputs": [
        {
          "output_type": "execute_result",
          "data": {
            "text/plain": [
              "0.9189189189189189"
            ]
          },
          "metadata": {
            "tags": []
          },
          "execution_count": 46
        }
      ]
    },
    {
      "cell_type": "code",
      "metadata": {
        "id": "u1N13Snm-3Hu",
        "colab": {
          "base_uri": "https://localhost:8080/"
        },
        "outputId": "b02d2211-0756-459f-ad1a-dd216eeccfbf"
      },
      "source": [
        "f1_score(y_test, lr_pred)"
      ],
      "execution_count": null,
      "outputs": [
        {
          "output_type": "execute_result",
          "data": {
            "text/plain": [
              "0.979020979020979"
            ]
          },
          "metadata": {
            "tags": []
          },
          "execution_count": 47
        }
      ]
    },
    {
      "cell_type": "code",
      "metadata": {
        "id": "zcEURdlk-7Qu",
        "colab": {
          "base_uri": "https://localhost:8080/"
        },
        "outputId": "ff1ccb8b-8b8d-4e56-91e9-5a6da87feeb5"
      },
      "source": [
        "f1_score(y_test, svm_pred)"
      ],
      "execution_count": null,
      "outputs": [
        {
          "output_type": "execute_result",
          "data": {
            "text/plain": [
              "0.9861111111111112"
            ]
          },
          "metadata": {
            "tags": []
          },
          "execution_count": 48
        }
      ]
    },
    {
      "cell_type": "markdown",
      "metadata": {
        "id": "v4NR03C1G9cE"
      },
      "source": [
        "Si queremos un resumen más completo de *precision*, *recall* y puntaje f, podemos usar la función `classification_report` para calcular los tres a la vez "
      ]
    },
    {
      "cell_type": "code",
      "metadata": {
        "id": "hvXOPRboG_Ba",
        "colab": {
          "base_uri": "https://localhost:8080/"
        },
        "outputId": "a6d6bea0-2a98-422a-f554-b545492d1824"
      },
      "source": [
        "from sklearn.metrics import classification_report\n",
        "\n",
        "print(classification_report(y_pred_dum,y_true_dum))"
      ],
      "execution_count": null,
      "outputs": [
        {
          "output_type": "stream",
          "text": [
            "              precision    recall  f1-score   support\n",
            "\n",
            "           0       0.00      0.00      0.00         0\n",
            "           1       1.00      0.85      0.92        20\n",
            "\n",
            "    accuracy                           0.85        20\n",
            "   macro avg       0.50      0.42      0.46        20\n",
            "weighted avg       1.00      0.85      0.92        20\n",
            "\n"
          ],
          "name": "stdout"
        },
        {
          "output_type": "stream",
          "text": [
            "/usr/local/lib/python3.7/dist-packages/sklearn/metrics/_classification.py:1272: UndefinedMetricWarning: Recall and F-score are ill-defined and being set to 0.0 in labels with no true samples. Use `zero_division` parameter to control this behavior.\n",
            "  _warn_prf(average, modifier, msg_start, len(result))\n"
          ],
          "name": "stderr"
        }
      ]
    },
    {
      "cell_type": "code",
      "metadata": {
        "id": "KR0EYjv1HdXx",
        "colab": {
          "base_uri": "https://localhost:8080/"
        },
        "outputId": "4ed722a4-5dc0-40d9-dbf7-a7d75b101b00"
      },
      "source": [
        "print(classification_report(y_test, lr_pred))"
      ],
      "execution_count": null,
      "outputs": [
        {
          "output_type": "stream",
          "text": [
            "              precision    recall  f1-score   support\n",
            "\n",
            "           0       0.98      0.95      0.96        43\n",
            "           1       0.97      0.99      0.98        71\n",
            "\n",
            "    accuracy                           0.97       114\n",
            "   macro avg       0.97      0.97      0.97       114\n",
            "weighted avg       0.97      0.97      0.97       114\n",
            "\n"
          ],
          "name": "stdout"
        }
      ]
    },
    {
      "cell_type": "code",
      "metadata": {
        "id": "ujgRl3T3HOZm",
        "colab": {
          "base_uri": "https://localhost:8080/"
        },
        "outputId": "3729967d-6b40-4e48-dbd0-8faa6806e4d2"
      },
      "source": [
        "print(classification_report(y_test, svm_pred))"
      ],
      "execution_count": null,
      "outputs": [
        {
          "output_type": "stream",
          "text": [
            "              precision    recall  f1-score   support\n",
            "\n",
            "           0       1.00      0.95      0.98        43\n",
            "           1       0.97      1.00      0.99        71\n",
            "\n",
            "    accuracy                           0.98       114\n",
            "   macro avg       0.99      0.98      0.98       114\n",
            "weighted avg       0.98      0.98      0.98       114\n",
            "\n"
          ],
          "name": "stdout"
        }
      ]
    },
    {
      "cell_type": "markdown",
      "metadata": {
        "id": "4gQf44Zb_IB3"
      },
      "source": [
        "El puntaje f favorece a los clasificadores que tienen una *precision* y un *recall* similares. Esto no siempre es lo que deseamos: en algunos contextos, lo que más importa es la *precision*, y en otros contextos, realmente importa es el *recall*. Desafortunadamente, no podemos tener las dos cosas: aumentar la *precision* reduce el *recall* y viceversa. Esto se denomina compensación de *precision*/*recall*.\n",
        "\n",
        "\n",
        "Para comprender esta compensación, recordemos cómo los modelos toman sus decisiones de clasificación. Para cada instancia, se calcula una puntuación basada en una función de decisión, y si esa puntuación es mayor que un umbral, asigna la instancia a la clase positiva o, de lo contrario, la asigna a la clase negativa."
      ]
    },
    {
      "cell_type": "code",
      "metadata": {
        "id": "NUciRGK4_BO8",
        "colab": {
          "base_uri": "https://localhost:8080/"
        },
        "outputId": "b657bbb7-bbff-431c-a431-059f2c321c36"
      },
      "source": [
        "lr_clf.predict(X_test)"
      ],
      "execution_count": null,
      "outputs": [
        {
          "output_type": "execute_result",
          "data": {
            "text/plain": [
              "array([1, 0, 0, 1, 1, 0, 0, 0, 1, 1, 1, 0, 1, 0, 1, 0, 1, 1, 1, 0, 1, 1,\n",
              "       0, 1, 1, 1, 1, 1, 1, 0, 1, 1, 1, 1, 1, 1, 0, 1, 0, 1, 1, 0, 1, 1,\n",
              "       1, 1, 1, 1, 1, 1, 0, 0, 1, 1, 1, 1, 1, 0, 0, 1, 1, 0, 0, 1, 1, 1,\n",
              "       0, 0, 1, 1, 0, 0, 1, 0, 1, 1, 1, 1, 1, 1, 0, 1, 0, 0, 0, 0, 0, 0,\n",
              "       1, 1, 1, 1, 1, 1, 1, 1, 0, 0, 1, 0, 0, 1, 0, 0, 1, 1, 1, 0, 1, 1,\n",
              "       0, 1, 0, 0])"
            ]
          },
          "metadata": {
            "tags": []
          },
          "execution_count": 54
        }
      ]
    },
    {
      "cell_type": "code",
      "metadata": {
        "id": "56x3Ib-87tzA",
        "colab": {
          "base_uri": "https://localhost:8080/"
        },
        "outputId": "39eade4b-1230-46ea-e6aa-98a53b29991f"
      },
      "source": [
        "lr_clf.decision_function(X_test)"
      ],
      "execution_count": null,
      "outputs": [
        {
          "output_type": "execute_result",
          "data": {
            "text/plain": [
              "array([  2.04728073, -11.61392569,  -5.77378482,   7.57870279,\n",
              "         9.70649132, -23.06567557, -20.27168162,  -3.31281742,\n",
              "         0.48655175,   7.17535158,   2.94477792,  -4.37555516,\n",
              "         5.09850878,  -1.768838  ,   6.41771734,  -7.17950628,\n",
              "         6.28487423,  11.38897714,  14.00314398, -13.6819349 ,\n",
              "         2.3840794 ,   4.61757595, -19.2343191 ,   9.43958918,\n",
              "         6.76938887,   7.44939701,   6.82447154,   5.10103047,\n",
              "         5.85024439, -11.72170476,   7.56178459,   8.80890154,\n",
              "         6.11365994,   5.19486672,   8.85865079,   6.00962733,\n",
              "        -2.79024911,   5.82142916,  -9.31974505,   2.97989307,\n",
              "         9.53828961,  -7.81133713,   5.99536086,   6.93439865,\n",
              "         3.88154364,   2.54658098,   7.80947494,   7.60467735,\n",
              "         3.44912852,   7.39456363,  -9.02384345, -16.73573683,\n",
              "         0.80363685,   4.30701089,  10.49873152,   4.63063476,\n",
              "         9.07907833, -25.60640198,  -1.63368407,   8.86911142,\n",
              "         5.28693079, -14.61037882, -20.36438644,   3.43235459,\n",
              "         7.08999493,   1.88873497, -11.17870099, -19.8481126 ,\n",
              "         7.11655462,   3.86285251,  -6.62055816,  -6.4400051 ,\n",
              "         5.96225582,  -5.38536122,   9.30844773,   4.52483344,\n",
              "         3.88954612,   0.05316496,  10.49571948,   4.26667002,\n",
              "        -5.43889903,   9.64587005,  -1.24472434, -18.41183676,\n",
              "        -5.53634674,  -6.78705801,  -8.90184996,  -8.86916395,\n",
              "         8.4170031 ,   5.67907137,   5.17355012,   0.73376565,\n",
              "         3.34691142,   8.15103788,   7.83660634,   8.92610525,\n",
              "       -14.19148299, -13.83363811,   9.39986358,  -8.02289126,\n",
              "        -5.75805746,  13.34199028, -11.02472724,  -7.41399674,\n",
              "         4.58803231,   3.31902149,   5.14661758, -22.82830462,\n",
              "         2.05903764,   3.40513167,  -7.30876717,   6.63169159,\n",
              "        -0.16087255, -27.93335151])"
            ]
          },
          "metadata": {
            "tags": []
          },
          "execution_count": 55
        }
      ]
    },
    {
      "cell_type": "code",
      "metadata": {
        "id": "uYD2q69G7iE8",
        "colab": {
          "base_uri": "https://localhost:8080/"
        },
        "outputId": "c73f5529-cdd5-426a-8474-5a3bd731deb1"
      },
      "source": [
        "lr_clf.predict_proba(X_test)"
      ],
      "execution_count": null,
      "outputs": [
        {
          "output_type": "execute_result",
          "data": {
            "text/plain": [
              "array([[1.14327437e-01, 8.85672563e-01],\n",
              "       [9.99990961e-01, 9.03924655e-06],\n",
              "       [9.96901657e-01, 3.09834256e-03],\n",
              "       [5.10962742e-04, 9.99489037e-01],\n",
              "       [6.08832659e-05, 9.99939117e-01],\n",
              "       [1.00000000e+00, 9.60957939e-11],\n",
              "       [9.99999998e-01, 1.57079869e-09],\n",
              "       [9.64865916e-01, 3.51340843e-02],\n",
              "       [3.80706222e-01, 6.19293778e-01],\n",
              "       [7.64631525e-04, 9.99235368e-01],\n",
              "       [4.99839028e-02, 9.50016097e-01],\n",
              "       [9.87575163e-01, 1.24248369e-02],\n",
              "       [6.06878983e-03, 9.93931210e-01],\n",
              "       [8.54313105e-01, 1.45686895e-01],\n",
              "       [1.62971784e-03, 9.98370282e-01],\n",
              "       [9.99238536e-01, 7.61463718e-04],\n",
              "       [1.86082231e-03, 9.98139178e-01],\n",
              "       [1.13194456e-05, 9.99988681e-01],\n",
              "       [8.28917830e-07, 9.99999171e-01],\n",
              "       [9.99998857e-01, 1.14290643e-06],\n",
              "       [8.43948057e-02, 9.15605194e-01],\n",
              "       [9.78011338e-03, 9.90219887e-01],\n",
              "       [9.99999996e-01, 4.43242454e-09],\n",
              "       [7.95067460e-05, 9.99920493e-01],\n",
              "       [1.14707895e-03, 9.98852921e-01],\n",
              "       [5.81454037e-04, 9.99418546e-01],\n",
              "       [1.08567019e-03, 9.98914330e-01],\n",
              "       [6.05359802e-03, 9.93946402e-01],\n",
              "       [2.87092945e-03, 9.97129071e-01],\n",
              "       [9.99991884e-01, 8.11567745e-06],\n",
              "       [5.19676319e-04, 9.99480324e-01],\n",
              "       [1.49374957e-04, 9.99850625e-01],\n",
              "       [2.20755450e-03, 9.97792446e-01],\n",
              "       [5.51437830e-03, 9.94485622e-01],\n",
              "       [1.42126518e-04, 9.99857873e-01],\n",
              "       [2.44899064e-03, 9.97551009e-01],\n",
              "       [9.42146624e-01, 5.78533757e-02],\n",
              "       [2.95461139e-03, 9.97045389e-01],\n",
              "       [9.99910371e-01, 8.96287263e-05],\n",
              "       [4.83425478e-02, 9.51657452e-01],\n",
              "       [7.20347691e-05, 9.99927965e-01],\n",
              "       [9.99595048e-01, 4.04951942e-04],\n",
              "       [2.48409208e-03, 9.97515908e-01],\n",
              "       [9.72761248e-04, 9.99027239e-01],\n",
              "       [2.02024192e-02, 9.79797581e-01],\n",
              "       [7.26565144e-02, 9.27343486e-01],\n",
              "       [4.05706433e-04, 9.99594294e-01],\n",
              "       [4.97868115e-04, 9.99502132e-01],\n",
              "       [3.07948593e-02, 9.69205141e-01],\n",
              "       [6.14207325e-04, 9.99385793e-01],\n",
              "       [9.99879512e-01, 1.20487572e-04],\n",
              "       [9.99999946e-01, 5.39214820e-08],\n",
              "       [3.09248099e-01, 6.90751901e-01],\n",
              "       [1.32946353e-02, 9.86705365e-01],\n",
              "       [2.75706408e-05, 9.99972429e-01],\n",
              "       [9.65445202e-03, 9.90345548e-01],\n",
              "       [1.14013654e-04, 9.99885986e-01],\n",
              "       [1.00000000e+00, 7.57322606e-12],\n",
              "       [8.36673695e-01, 1.63326305e-01],\n",
              "       [1.40647742e-04, 9.99859352e-01],\n",
              "       [5.03181107e-03, 9.94968189e-01],\n",
              "       [9.99999548e-01, 4.51640524e-07],\n",
              "       [9.99999999e-01, 1.43172412e-09],\n",
              "       [3.12994626e-02, 9.68700537e-01],\n",
              "       [8.32707615e-04, 9.99167292e-01],\n",
              "       [1.31388775e-01, 8.68611225e-01],\n",
              "       [9.99986032e-01, 1.39683716e-05],\n",
              "       [9.99999998e-01, 2.39924291e-09],\n",
              "       [8.10899975e-04, 9.99189100e-01],\n",
              "       [2.05757338e-02, 9.79424266e-01],\n",
              "       [9.98669087e-01, 1.33091320e-03],\n",
              "       [9.98406146e-01, 1.59385411e-03],\n",
              "       [2.56748975e-03, 9.97432510e-01],\n",
              "       [9.95437725e-01, 4.56227475e-03],\n",
              "       [9.06469400e-05, 9.99909353e-01],\n",
              "       [1.07203480e-02, 9.89279652e-01],\n",
              "       [2.00446227e-02, 9.79955377e-01],\n",
              "       [4.86711890e-01, 5.13288110e-01],\n",
              "       [2.76538074e-05, 9.99972346e-01],\n",
              "       [1.38343458e-02, 9.86165654e-01],\n",
              "       [9.95674527e-01, 4.32547255e-03],\n",
              "       [6.46880068e-05, 9.99935312e-01],\n",
              "       [7.76385283e-01, 2.23614717e-01],\n",
              "       [9.99999990e-01, 1.00888320e-08],\n",
              "       [9.96074572e-01, 3.92542797e-03],\n",
              "       [9.98872988e-01, 1.12701170e-03],\n",
              "       [9.99863882e-01, 1.36118315e-04],\n",
              "       [9.99859360e-01, 1.40640356e-04],\n",
              "       [2.21027340e-04, 9.99778973e-01],\n",
              "       [3.40509556e-03, 9.96594904e-01],\n",
              "       [5.63251871e-03, 9.94367481e-01],\n",
              "       [3.24368926e-01, 6.75631074e-01],\n",
              "       [3.39964495e-02, 9.66003551e-01],\n",
              "       [2.88352672e-04, 9.99711647e-01],\n",
              "       [3.94851322e-04, 9.99605149e-01],\n",
              "       [1.32856877e-04, 9.99867143e-01],\n",
              "       [9.99999313e-01, 6.86620790e-07],\n",
              "       [9.99999018e-01, 9.82034799e-07],\n",
              "       [8.27285068e-05, 9.99917271e-01],\n",
              "       [9.99672237e-01, 3.27763226e-04],\n",
              "       [9.96852698e-01, 3.14730192e-03],\n",
              "       [1.60563396e-06, 9.99998394e-01],\n",
              "       [9.99983706e-01, 1.62935126e-05],\n",
              "       [9.99397606e-01, 6.02393712e-04],\n",
              "       [1.00704109e-02, 9.89929589e-01],\n",
              "       [3.49243740e-02, 9.65075626e-01],\n",
              "       [5.78538849e-03, 9.94214612e-01],\n",
              "       [1.00000000e+00, 1.21840949e-10],\n",
              "       [1.13142359e-01, 8.86857641e-01],\n",
              "       [3.21354716e-02, 9.67864528e-01],\n",
              "       [9.99330806e-01, 6.69193975e-04],\n",
              "       [1.31619714e-03, 9.98683803e-01],\n",
              "       [5.40131625e-01, 4.59868375e-01],\n",
              "       [1.00000000e+00, 7.39093832e-13]])"
            ]
          },
          "metadata": {
            "tags": []
          },
          "execution_count": 64
        }
      ]
    },
    {
      "cell_type": "code",
      "metadata": {
        "id": "OqOSHjcPIXrW"
      },
      "source": [
        "y_pred_lwr = lr_clf.decision_function(X_test) > -0.8"
      ],
      "execution_count": null,
      "outputs": []
    },
    {
      "cell_type": "markdown",
      "metadata": {
        "id": "jWrWQnrQI_KM"
      },
      "source": [
        "El hacer predicciones puede verse como fijar el umbral para la salida de la función de decisión en un cierto punto fijo. En clasificación binaria usamos 0 (y 0.5 para `predict_proba`)\n",
        "\n",
        "Supongamos que en nuestra aplicación es más importante tener un alto *recall* para la clase 1. Esto significa que estamos dispuestos a arriesgar más falsos positivos a cambio de más positivos verdaderos. Por defecto, los puntos con un valor de función de decisión mayor que 0 se clasificarán como clase 1. Queremos que se clasifiquen más puntos como clase 1, por lo que debemos disminuir el umbral:\n",
        "\n",
        "Scikit-Learn no nos permite establecer el umbral directamente, pero nos da acceso a los puntajes de decisión que utiliza para hacer las predicciones. En lugar de llamar al método `predict` del clasificador, podemos llamar al método `decision_function`, que devuelve una puntuación para cada instancia, y luego hacer predicciones basadas en esas puntuaciones utilizando cualquier umbral que deseemos:"
      ]
    },
    {
      "cell_type": "code",
      "metadata": {
        "id": "-jazqWTgIi1H",
        "colab": {
          "base_uri": "https://localhost:8080/"
        },
        "outputId": "7d9de065-7900-4bb4-a93e-f85863db6dbf"
      },
      "source": [
        "print(classification_report(y_test, y_pred_lwr))"
      ],
      "execution_count": null,
      "outputs": [
        {
          "output_type": "stream",
          "text": [
            "              precision    recall  f1-score   support\n",
            "\n",
            "           0       1.00      0.95      0.98        43\n",
            "           1       0.97      1.00      0.99        71\n",
            "\n",
            "    accuracy                           0.98       114\n",
            "   macro avg       0.99      0.98      0.98       114\n",
            "weighted avg       0.98      0.98      0.98       114\n",
            "\n"
          ],
          "name": "stdout"
        }
      ]
    },
    {
      "cell_type": "markdown",
      "metadata": {
        "id": "ogTTCaKKJ22v"
      },
      "source": [
        "Entonces, ¿cómo podemos decidir qué umbral usar? Para esto, primero debemos obtener las puntuaciones de todas las instancias en el conjunto de entrenamiento utilizando la función `cross_val_predict`"
      ]
    },
    {
      "cell_type": "code",
      "metadata": {
        "id": "RpLT6KTPJZ79"
      },
      "source": [
        "from sklearn.model_selection import cross_val_predict\n",
        "\n",
        "cross_val_predict?"
      ],
      "execution_count": null,
      "outputs": []
    },
    {
      "cell_type": "code",
      "metadata": {
        "id": "mUHJOryVKBTT"
      },
      "source": [
        "y_scores = cross_val_predict(lr_clf, X, y, method='decision_function')"
      ],
      "execution_count": null,
      "outputs": []
    },
    {
      "cell_type": "markdown",
      "metadata": {
        "id": "cuIH50fEKVTw"
      },
      "source": [
        "Ahora, con estos puntajes, podemos calcular la precisión y el recall para todos los umbrales posibles utilizando la función `precision_recall_curve` "
      ]
    },
    {
      "cell_type": "code",
      "metadata": {
        "id": "WtftVIc6pmYZ"
      },
      "source": [
        "y_scores"
      ],
      "execution_count": null,
      "outputs": []
    },
    {
      "cell_type": "code",
      "metadata": {
        "id": "33TnMv6TKS2T"
      },
      "source": [
        "from sklearn.metrics import precision_recall_curve\n",
        "\n",
        "precision_recall_curve?"
      ],
      "execution_count": null,
      "outputs": []
    },
    {
      "cell_type": "code",
      "metadata": {
        "id": "5X-JDhI3-lvv",
        "colab": {
          "base_uri": "https://localhost:8080/",
          "height": 448
        },
        "outputId": "c707174c-58b4-44aa-efce-8e9158bb18f4"
      },
      "source": [
        "precision, recall, thresholds = precision_recall_curve(y, y_scores)\n",
        "\n",
        "plt.figure(figsize=(9,7))\n",
        "plt.plot(thresholds, precision[:-1], 'b--', label = 'Precision')\n",
        "plt.plot(thresholds, recall[:-1], 'r:', label = 'Recall')\n",
        "plt.legend()\n",
        "plt.xlabel('thresholds')\n",
        "plt.ylabel('Metric');"
      ],
      "execution_count": null,
      "outputs": [
        {
          "output_type": "display_data",
          "data": {
            "image/png": "[encoded data removed]",
            "text/plain": [
              "<Figure size 648x504 with 1 Axes>"
            ]
          },
          "metadata": {
            "tags": [],
            "needs_background": "light"
          }
        }
      ]
    },
    {
      "cell_type": "code",
      "metadata": {
        "id": "SJiUy0zyKXY6",
        "colab": {
          "base_uri": "https://localhost:8080/",
          "height": 448
        },
        "outputId": "77dfaa8b-5671-4178-862d-68355c675c84"
      },
      "source": [
        "plt.figure(figsize=(9,7))\n",
        "plt.plot(precision, recall)\n",
        "plt.xlabel('precision')\n",
        "plt.ylabel('recall');"
      ],
      "execution_count": null,
      "outputs": [
        {
          "output_type": "display_data",
          "data": {
            "image/png": "[encoded data removed]",
            "text/plain": [
              "<Figure size 648x504 with 1 Axes>"
            ]
          },
          "metadata": {
            "tags": [],
            "needs_background": "light"
          }
        }
      ]
    },
    {
      "cell_type": "markdown",
      "metadata": {
        "id": "R4kspQCCL8pk"
      },
      "source": [
        "Ahora, podemos seleccionar el valor de umbral que nos brinde la mejor compensación de *precision*/*recall* para nuestra tarea. Otra forma de seleccionar una buena compensación de *precision*/*recall* es graficar la *precision* directamente contra el *recall*:\n",
        "\n"
      ]
    },
    {
      "cell_type": "markdown",
      "metadata": {
        "id": "rxdO5rhwNWK3"
      },
      "source": [
        "<p><a name=\"cur\"></a></p>\n",
        "\n",
        "# **Curva ROC**\n",
        "\n",
        "Esta curva es otra herramienta común utilizada con clasificadores binarios. Es muy similar a la curva de *precision*-*recall*, pero en lugar de graficar la *precision* frente al *recall*, la curva ROC grafica la tasa de verdaderos positivos (otro nombre para el *recall*) frente a la tasa de falsos positivos (FPR). El FPR es la proporción de instancias negativas que se clasifican incorrectamente como positivas (se obtiene conjugando los boleanos de la definición del recall). Es igual a uno menos la tasa negativa verdadera, que es la proporción de instancias negativas que se clasifican correctamente como negativas."
      ]
    },
    {
      "cell_type": "code",
      "metadata": {
        "id": "tfV19dObM40T"
      },
      "source": [
        "from sklearn.metrics import roc_curve\n",
        "\n",
        "roc_curve?"
      ],
      "execution_count": null,
      "outputs": []
    },
    {
      "cell_type": "code",
      "metadata": {
        "id": "SsqvdsGYNmO6"
      },
      "source": [
        "fpr, tpr, thresholds = roc_curve(y, y_scores)"
      ],
      "execution_count": null,
      "outputs": []
    },
    {
      "cell_type": "code",
      "metadata": {
        "id": "JCSmzeOxNqUa",
        "colab": {
          "base_uri": "https://localhost:8080/",
          "height": 448
        },
        "outputId": "f9bdfa86-5dab-4f95-af0c-df171470717a"
      },
      "source": [
        "plt.figure(figsize=(9,7))\n",
        "plt.plot(fpr, tpr, label= 'lr_clf')\n",
        "plt.plot([0,1], [0,1], 'k--', label = 'random_clfr')\n",
        "plt.xlabel('Tasa de falsos positivos')\n",
        "plt.ylabel('Tasa de verdaderos positivos')\n",
        "plt.legend();"
      ],
      "execution_count": null,
      "outputs": [
        {
          "output_type": "display_data",
          "data": {
            "image/png": "[encoded data removed]",
            "text/plain": [
              "<Figure size 648x504 with 1 Axes>"
            ]
          },
          "metadata": {
            "tags": [],
            "needs_background": "light"
          }
        }
      ]
    },
    {
      "cell_type": "markdown",
      "metadata": {
        "id": "C7q2hBZIN4yV"
      },
      "source": [
        "Una vez más, hay una compensación: cuanto mayor es el *recall* (TPR), más falsos positivos (FPR) produce el clasificador. La línea punteada representa la curva ROC de un clasificador puramente aleatorio; un buen clasificador permanece lo más lejos posible de esa línea (hacia la esquina superior izquierda).\n",
        "\n",
        "Una forma de comparar clasificadores es medir el área bajo la curva (AUC). Un clasificador perfecto tendrá un ROC AUC igual a 1, mientras que un clasificador puramente aleatorio tendrá un ROC AUC igual a 0,5. Scikit-Learn proporciona una función para calcular el AUC de la ROC:"
      ]
    },
    {
      "cell_type": "code",
      "metadata": {
        "id": "DGDZit6JNuGZ"
      },
      "source": [
        "from sklearn.metrics import roc_auc_score\n",
        "roc_auc_score?"
      ],
      "execution_count": null,
      "outputs": []
    },
    {
      "cell_type": "code",
      "metadata": {
        "id": "a9A-OdwkN-oo",
        "colab": {
          "base_uri": "https://localhost:8080/"
        },
        "outputId": "64ccbe69-e2f5-44dd-bb57-ceb9b8c56868"
      },
      "source": [
        "roc_auc_score(y, y_scores)"
      ],
      "execution_count": null,
      "outputs": [
        {
          "output_type": "execute_result",
          "data": {
            "text/plain": [
              "0.9941995666191005"
            ]
          },
          "metadata": {
            "tags": []
          },
          "execution_count": 100
        }
      ]
    },
    {
      "cell_type": "code",
      "metadata": {
        "id": "tRdYkX3YOYmK"
      },
      "source": [
        "svm_y_scores = cross_val_predict(svm_clf, X, y, cv = 5, method='decision_function')"
      ],
      "execution_count": null,
      "outputs": []
    },
    {
      "cell_type": "code",
      "metadata": {
        "id": "N2OaDiLNYML8",
        "colab": {
          "base_uri": "https://localhost:8080/"
        },
        "outputId": "8637737a-71b5-4589-f84c-071f05cfeafe"
      },
      "source": [
        "roc_auc_score(y, svm_y_scores)"
      ],
      "execution_count": null,
      "outputs": [
        {
          "output_type": "execute_result",
          "data": {
            "text/plain": [
              "0.9950848263833835"
            ]
          },
          "metadata": {
            "tags": []
          },
          "execution_count": 104
        }
      ]
    },
    {
      "cell_type": "code",
      "metadata": {
        "id": "7QFyEopVyvm3"
      },
      "source": [
        ""
      ],
      "execution_count": null,
      "outputs": []
    }
  ]
}