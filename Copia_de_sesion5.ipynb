{
  "nbformat": 4,
  "nbformat_minor": 0,
  "metadata": {
    "colab": {
      "name": "Copia de sesion5.ipynb",
      "provenance": [],
      "collapsed_sections": []
    },
    "kernelspec": {
      "name": "python3",
      "display_name": "Python 3"
    }
  },
  "cells": [
    {
      "cell_type": "markdown",
      "metadata": {
        "id": "n_x1aqGyE3NV"
      },
      "source": [
        "<p><img alt=\"Colaboratory logo\" height=\"140px\" src=\"https://upload.wikimedia.org/wikipedia/commons/archive/f/fb/20161010213812%21Escudo-UdeA.svg\" align=\"left\" hspace=\"10px\" vspace=\"0px\"></p>\n",
        "\n",
        "# **Diplomado de Análisis de datos y Machine Learning en Python**\n",
        "\n",
        "\n",
        "El presente diplomado hace parte del centro de Big Data de la facultad de ciencias exactas y naturales (FCEN) de la Universidad de Antioquia.\n",
        "\n",
        "## **Sesión 5**\n",
        "\n",
        "## **Contenido**\n",
        "  \n",
        "- <a href=\"#fun\"> Funciones</a><br>\n",
        "- <a href=\"#arg\"> Argumentos de la función</a><br>\n",
        "  - <a href=\"#req\"> Argumentos requeridos</a><br>\n",
        "  - <a href=\"#pre\"> Argumentos predeterminados</a><br>\n",
        "  - <a href=\"#lon\"> Argumentos de longitud variable</a><br>\n",
        "- <a href=\"#lam\"> Funciones anónimas</a><br>\n",
        "\n",
        "\n",
        "\n",
        "\n"
      ]
    },
    {
      "cell_type": "markdown",
      "metadata": {
        "id": "76BDLG7hE5sW"
      },
      "source": [
        "<p><a name=\"fun\"></a></p>\n",
        "\n",
        "# **Funciones**\n",
        "\n",
        "Hasta ahora, nuestros programas han sido bloques de código simples y de un solo uso. Una forma de organizar nuestro código de Python y hacerlo más legible y reutilizable es descomponer piezas útiles en funciones reutilizables. Ya hemos visto funciones antes. Por ejemplo, `print()` es una función:"
      ]
    },
    {
      "cell_type": "code",
      "metadata": {
        "id": "YcVlO57REma2",
        "colab": {
          "base_uri": "https://localhost:8080/"
        },
        "outputId": "cd0e3c5d-a139-4c3a-aa62-0c30c22b52a2"
      },
      "source": [
        "print(\"abc\")"
      ],
      "execution_count": null,
      "outputs": [
        {
          "output_type": "stream",
          "text": [
            "abc\n"
          ],
          "name": "stdout"
        }
      ]
    },
    {
      "cell_type": "markdown",
      "metadata": {
        "id": "D4vRwfbSLA5O"
      },
      "source": [
        "aquí `print` es el nombre de la función, y `\"abc\"` es el *argumento* de la función. Adicionalmente, existen los *argumentos por palabra clave* (keyword arguments o kwargs) que se especifican por el nombre. Por ejemplo, un kwarg disponible para la función `print` es `end` que controla qué caracter añadir al final del último valor "
      ]
    },
    {
      "cell_type": "code",
      "metadata": {
        "id": "vEhd-2aCK_aC",
        "colab": {
          "base_uri": "https://localhost:8080/"
        },
        "outputId": "42e5a898-6ec4-4e5a-a8f5-5e5d61f245aa"
      },
      "source": [
        "print(1, 2, 3, end = '.')"
      ],
      "execution_count": null,
      "outputs": [
        {
          "output_type": "stream",
          "text": [
            "1 2 3."
          ],
          "name": "stdout"
        }
      ]
    },
    {
      "cell_type": "markdown",
      "metadata": {
        "id": "_PncQbyBLE2Q"
      },
      "source": [
        "o el kwarg `sep`, que controla qué caracter utilizar para separar los diferentes valores"
      ]
    },
    {
      "cell_type": "code",
      "metadata": {
        "id": "-V_sd1LnLFL7",
        "colab": {
          "base_uri": "https://localhost:8080/"
        },
        "outputId": "b2fa985f-874e-4781-9d19-abc7df69d289"
      },
      "source": [
        "print(1, 2, 3, sep = '-')"
      ],
      "execution_count": null,
      "outputs": [
        {
          "output_type": "stream",
          "text": [
            "1-2-3\n"
          ],
          "name": "stdout"
        }
      ]
    },
    {
      "cell_type": "markdown",
      "metadata": {
        "id": "DwORKluJLMop"
      },
      "source": [
        "Las funciones se vuelven aún más útiles cuando comenzamos a definir las nuestras. La sintáxis general para crear una función es la siguiente\n",
        "\n",
        ">  \n",
        "\n",
        "    def Funcion( argumentos ):\n",
        "\n",
        "      sentencia(s) \n",
        "            \n",
        "      return expresion\n",
        "    \n",
        "     \n",
        "* Los bloques de funciones comienzan con la palabra clave `def` seguida del nombre de la función y paréntesis ().\n",
        "* Cualquier parámetro o argumento de entrada debe colocarse entre los paréntesis.\n",
        "* El bloque de código dentro de cada función comienza con dos puntos (:) y está indentado.\n",
        "* La declaración final `return expresion` es opcional. Al incluirla, una vez se llame la función, esta tomará el valor definido en `expresion`.\n",
        "\n",
        "Por ejemplo, podemos definir la función $f(x)=x^2$ en Python como:"
      ]
    },
    {
      "cell_type": "code",
      "metadata": {
        "id": "pxojrLEtLHDd"
      },
      "source": [
        "def f(x):\n",
        "  y = x ** 2\n",
        "  return y\n",
        "\n",
        "  "
      ],
      "execution_count": null,
      "outputs": []
    },
    {
      "cell_type": "markdown",
      "metadata": {
        "id": "0xz8apSyLY73"
      },
      "source": [
        "y la podemos llamar de la siguiente manera"
      ]
    },
    {
      "cell_type": "code",
      "metadata": {
        "id": "AhRSQY6mHcJl",
        "colab": {
          "base_uri": "https://localhost:8080/"
        },
        "outputId": "5b0782c7-de3e-4fa1-e3ea-5ec62444f3ac"
      },
      "source": [
        "val = f(3.0)\n",
        "print(val)"
      ],
      "execution_count": null,
      "outputs": [
        {
          "output_type": "execute_result",
          "data": {
            "text/plain": [
              "9.0"
            ]
          },
          "metadata": {
            "tags": []
          },
          "execution_count": 9
        }
      ]
    },
    {
      "cell_type": "code",
      "metadata": {
        "id": "GdB4WLfXLXoN",
        "colab": {
          "base_uri": "https://localhost:8080/"
        },
        "outputId": "ee55df53-6cb1-4f31-9e07-6cb91c7a3b6f"
      },
      "source": [
        "try:\n",
        "  print(y)\n",
        "except Exception as e:\n",
        "    print(e)"
      ],
      "execution_count": null,
      "outputs": [
        {
          "output_type": "stream",
          "text": [
            "name 'y' is not defined\n"
          ],
          "name": "stdout"
        }
      ]
    },
    {
      "cell_type": "code",
      "metadata": {
        "id": "ecQf8wwqHaS5",
        "colab": {
          "base_uri": "https://localhost:8080/"
        },
        "outputId": "a6d646d5-e3cd-4196-a608-4b4dd6c72b97"
      },
      "source": [
        "def g(h, x):\n",
        "  funcion2 = 3 * h(x)\n",
        "\n",
        "  print(funcion2)\n",
        "\n",
        "g(f, 2)"
      ],
      "execution_count": null,
      "outputs": [
        {
          "output_type": "stream",
          "text": [
            "12\n"
          ],
          "name": "stdout"
        }
      ]
    },
    {
      "cell_type": "code",
      "metadata": {
        "id": "4JgXGhnGGrps",
        "colab": {
          "base_uri": "https://localhost:8080/"
        },
        "outputId": "1011c8bd-cf2b-43fd-ac94-9f4bbffbd2d7"
      },
      "source": [
        "type(f(10.0))"
      ],
      "execution_count": null,
      "outputs": [
        {
          "output_type": "execute_result",
          "data": {
            "text/plain": [
              "float"
            ]
          },
          "metadata": {
            "tags": []
          },
          "execution_count": 17
        }
      ]
    },
    {
      "cell_type": "markdown",
      "metadata": {
        "id": "yXi0a3qkLdMe"
      },
      "source": [
        "La posibilidad de definir nuestras propias funciones nos ayudará de diversas maneras:\n",
        "\n",
        "* Cuando estemos escribiendo un programa y veamos que estamos escribiendo el mismo código más de una vez, probablemente sea mejor definir una función con el código repetido. Luego podremos llamar a la función tantas veces como sea necesario en lugar de reescribir el código una y otra vez. Es importante que evitemos escribir el mismo código más de una vez en nuestros programas.\n",
        "\n",
        "* Si escribimos el mismo código más de una vez y cometemos un error, debemos corregir ese error en cada lugar donde copiamos el código. Si por el contrario, tenemos el código en un solo lugar, definido en una función, podremos resolver el error solo en este lugar y olvidarnos del resto de lugares. \n",
        "\n",
        "  Si cometemos un error al escribir una función, y luego corregimos el código en la función, habremos corregido automáticamente el código en cada lugar que utiliza la función. Este principio de programación modular es un concepto muy importante.\n",
        "\n",
        "* Las funciones también ayudan a que nuestro código sea más fácil de leer. Cuando usamos buenos nombres para las variables y funciones en nuestros programas, podemos leer el código y comprender lo que hemos escrito, no solo mientras lo escribimos, sino tiempo después, cuando necesitemos mirar el código que escribimos nuevamente. \n",
        "\n",
        "Las funciones son pues una forma de organizar nuestro código y hacerlo más legible y reutilizable. Cuando escribamos una función debemos tener presentes los siguientes puntos:\n",
        "\n",
        " * ¿Cómo deberíamos llamar nuestra función? Deberíamos darle un nombre que tenga sentido y describa lo que hace la función. Como una función hace algo, el nombre de una función suele ser un verbo o una descripción de lo que devuelve la función. Puede ser una palabra o varias palabras.\n",
        " * ¿Qué debemos pasarle a nuestra función? En otras palabras, ¿qué argumentos pasaremos a la función? Al pensar en argumentos para pasarle a una función, debemos pensar cómo se usará la función y qué argumentos la harían más útil.\n",
        " * ¿Qué debe hacer la función? ¿Cual es su propósito? La función debe tener un propósito claramente definido. ¿Debería devolver un valor particular o debería realizar alguna tarea secundaria?\n",
        " * Finalmente, ¿qué debe devolver nuestra función? Se debe considerar el tipo y el valor a devolver. Si la función va a devolver un valor, debebemos decidir qué tipo de valor deberá devolver.\n",
        " \n",
        "Al considerar estas preguntas y responderlas, podemos asegurarnos de que nuestras funciones tengan sentido antes de escribirlas.\n"
      ]
    },
    {
      "cell_type": "markdown",
      "metadata": {
        "id": "zDzz3yI3LjgV"
      },
      "source": [
        "<p><a name=\"arg\"></a></p>\n",
        "\n",
        "# **Argumentos de la función**\n",
        "\n",
        "Podemos llamar una función utilizando los siguientes tipos de argumentos formales:\n",
        "\n",
        "* Argumentos requeridos.\n",
        "* Argumentos predeterminados.\n",
        "* Argumentos de longitud variable."
      ]
    },
    {
      "cell_type": "code",
      "metadata": {
        "id": "dyGi25h0Jkpv"
      },
      "source": [
        ""
      ],
      "execution_count": null,
      "outputs": []
    },
    {
      "cell_type": "markdown",
      "metadata": {
        "id": "YgpN3fCELlkP"
      },
      "source": [
        "<p><a name=\"req\"></a></p>\n",
        "\n",
        "## **Argumentos requeridos**\n",
        "\n",
        "Los argumentos requeridos son argumentos pasados a una función, que tienen un carácter obligatorio y se dan en el **orden posicional correcto**. Veamos un ejemplo: creemos una función que, dados dos parámetros, nos devuelva la resta de estos:"
      ]
    },
    {
      "cell_type": "code",
      "metadata": {
        "id": "jSu30nQbLbG9"
      },
      "source": [
        ""
      ],
      "execution_count": null,
      "outputs": []
    },
    {
      "cell_type": "markdown",
      "metadata": {
        "id": "sjXX9CG5MD7M"
      },
      "source": [
        "Aquí, el número de argumentos en la llamada a la función debe coincidir exactamente con el número de argumentos definidos en la función. En este caso, para llamar la función `Resta`, debemos pasar obligatoriamente los dos parámetros `a` y `b` con los que se ha definido:"
      ]
    },
    {
      "cell_type": "code",
      "metadata": {
        "id": "1GagUV3gMCnK"
      },
      "source": [
        ""
      ],
      "execution_count": null,
      "outputs": []
    },
    {
      "cell_type": "markdown",
      "metadata": {
        "id": "VtHK_hdWMGpF"
      },
      "source": [
        "Si cambiamos el orden en el que pasamos los parámetros naturalmente cambiará la salida:"
      ]
    },
    {
      "cell_type": "markdown",
      "metadata": {
        "id": "vvRWmvfJMLx_"
      },
      "source": [
        "Si los parámetros los pasamos como argumentos por palabra clave no importará el orden. En este caso podríamos usar `Resta(b = x, a = y)`."
      ]
    },
    {
      "cell_type": "code",
      "metadata": {
        "id": "q9a4O2kdMJ-C"
      },
      "source": [
        ""
      ],
      "execution_count": null,
      "outputs": []
    },
    {
      "cell_type": "markdown",
      "metadata": {
        "id": "QUqnTM2NMO3d"
      },
      "source": [
        "Ahora, ¿recuerda la descripción de las funciones que obtuvimos mediante la función propia de Python `help` o mediante el caractér `?`? Esta descripción  se define mediante lo que se conoce como el *Docstring*, que se puede definir dentro de una función encerrando el texto descriptivo entre tres comillas:"
      ]
    },
    {
      "cell_type": "code",
      "metadata": {
        "id": "Db_FfuNx8w3g",
        "colab": {
          "base_uri": "https://localhost:8080/"
        },
        "outputId": "acefcbfc-5518-466f-c8a3-4a0f0003ea0f"
      },
      "source": [
        "help(g)"
      ],
      "execution_count": null,
      "outputs": [
        {
          "output_type": "stream",
          "text": [
            "Help on function g in module __main__:\n",
            "\n",
            "g(h, x)\n",
            "\n"
          ],
          "name": "stdout"
        }
      ]
    },
    {
      "cell_type": "markdown",
      "metadata": {
        "id": "2-EYY5jC9LCs"
      },
      "source": [
        "Hagamos un *Doctring* para nuestra función Resta."
      ]
    },
    {
      "cell_type": "code",
      "metadata": {
        "id": "xJmO7JGaMa0v",
        "colab": {
          "base_uri": "https://localhost:8080/"
        },
        "outputId": "7e60056b-7acf-4827-ebbd-e3de7bf9d5c1"
      },
      "source": [
        "def resta(a, b):\n",
        "  \"\"\"\n",
        "  resta(a, b)\n",
        "  \n",
        "  devuelve el valor de la diferencia entre b y a.\n",
        "  admite por argumento los valores como int, float y complex\n",
        "  \"\"\"\n",
        "  return b-a\n",
        "resta(2,3)"
      ],
      "execution_count": null,
      "outputs": [
        {
          "output_type": "execute_result",
          "data": {
            "text/plain": [
              "1"
            ]
          },
          "metadata": {
            "tags": []
          },
          "execution_count": 24
        }
      ]
    },
    {
      "cell_type": "code",
      "metadata": {
        "id": "uky1uzQ0Mdxp",
        "colab": {
          "base_uri": "https://localhost:8080/"
        },
        "outputId": "cd35a13b-3270-4121-bd2d-d63f564d8052"
      },
      "source": [
        "help(resta)"
      ],
      "execution_count": null,
      "outputs": [
        {
          "output_type": "stream",
          "text": [
            "Help on function resta in module __main__:\n",
            "\n",
            "resta(a, b)\n",
            "    resta(a, b)\n",
            "    \n",
            "    devuelve el valor de la diferencia entre b y a.\n",
            "    admite por argumento los valores como int, float y complex\n",
            "\n"
          ],
          "name": "stdout"
        }
      ]
    },
    {
      "cell_type": "markdown",
      "metadata": {
        "id": "wK2Bzqm3Mjvk"
      },
      "source": [
        "Recuerde que a la hora de llamar la función esta toma el valor definido en el `return` con el tipo de dato correspondiente:"
      ]
    },
    {
      "cell_type": "code",
      "metadata": {
        "id": "5i9d7ZCWMlbn",
        "colab": {
          "base_uri": "https://localhost:8080/"
        },
        "outputId": "8c9c78f6-7a7b-4acf-ec88-e9e023e1ff62"
      },
      "source": [
        "type(resta(2.3, 1))"
      ],
      "execution_count": null,
      "outputs": [
        {
          "output_type": "execute_result",
          "data": {
            "text/plain": [
              "float"
            ]
          },
          "metadata": {
            "tags": []
          },
          "execution_count": 26
        }
      ]
    },
    {
      "cell_type": "markdown",
      "metadata": {
        "id": "yeDRAkC5Mm8R"
      },
      "source": [
        "Por lo que podremos tratar la llamada de la función como si fuera del tipo que se ha definido en el `return`. Por ejemplo, si definimos una función que nos devuelva un dato de tipo `str`, podremos aplicarle métodos de este objeto a la hora de llamar la función:"
      ]
    },
    {
      "cell_type": "code",
      "metadata": {
        "id": "nCi7e5YNMoY2"
      },
      "source": [
        ""
      ],
      "execution_count": null,
      "outputs": []
    },
    {
      "cell_type": "code",
      "metadata": {
        "id": "Bmeen5OSMqso"
      },
      "source": [
        ""
      ],
      "execution_count": null,
      "outputs": []
    },
    {
      "cell_type": "code",
      "metadata": {
        "id": "ePJBaXobMpPK"
      },
      "source": [
        ""
      ],
      "execution_count": null,
      "outputs": []
    },
    {
      "cell_type": "markdown",
      "metadata": {
        "id": "pFonjgMhMxAm"
      },
      "source": [
        "<p><a name=\"pre\"></a></p>\n",
        "\n",
        "## **Argumentos predeterminados**\n",
        "\n",
        "A menudo, al definir una función, hay ciertos valores que queremos que la función use la mayor parte del tiempo, pero también nos gustaría tener cierta flexibilidad en la elección de estos valores. En tal caso, podemos usar valores predeterminados para los argumentos. Redefinamos la función `Saludo` de manera que el argumento `nombre` tome un valor por defecto"
      ]
    },
    {
      "cell_type": "code",
      "metadata": {
        "id": "HrXTFiElMuOQ"
      },
      "source": [
        ""
      ],
      "execution_count": null,
      "outputs": []
    },
    {
      "cell_type": "markdown",
      "metadata": {
        "id": "JVu0lXdKM8np"
      },
      "source": [
        "De esta manera, el parámetro `nombre` no es requerido al momento de llamar la función"
      ]
    },
    {
      "cell_type": "code",
      "metadata": {
        "id": "Z_ULFS9VM7W4"
      },
      "source": [
        ""
      ],
      "execution_count": null,
      "outputs": []
    },
    {
      "cell_type": "markdown",
      "metadata": {
        "id": "bKqvtQ05M_SG"
      },
      "source": [
        "Cuando en una función uno de sus argumentos lleva un valor por defecto, éste se convierte automáticamente en un kwarg. Por lo tanto, puede ser especificado indicando su nombre al momento de llamar la función"
      ]
    },
    {
      "cell_type": "code",
      "metadata": {
        "id": "BMEg5ARLM_7m"
      },
      "source": [
        ""
      ],
      "execution_count": null,
      "outputs": []
    },
    {
      "cell_type": "markdown",
      "metadata": {
        "id": "7A6aw0g5UdnT"
      },
      "source": [
        "O utilizando simplemente la posición del argumento"
      ]
    },
    {
      "cell_type": "code",
      "metadata": {
        "id": "_RwEFQCZUVCt"
      },
      "source": [
        ""
      ],
      "execution_count": null,
      "outputs": []
    },
    {
      "cell_type": "markdown",
      "metadata": {
        "id": "f3pMkmLmNE2z"
      },
      "source": [
        "Debemos tener en cuenta que a la hora de definir los argumentos de la función y de la llamada de esta, todos los argumentos requeridos deben definirse antes de los predeterminados.\n"
      ]
    },
    {
      "cell_type": "code",
      "metadata": {
        "id": "Q538WFGCNGf-"
      },
      "source": [
        ""
      ],
      "execution_count": null,
      "outputs": []
    },
    {
      "cell_type": "code",
      "metadata": {
        "id": "zbuTr2kTPJ5r"
      },
      "source": [
        ""
      ],
      "execution_count": null,
      "outputs": []
    },
    {
      "cell_type": "code",
      "metadata": {
        "id": "lP2dwJ0wO_sD"
      },
      "source": [
        ""
      ],
      "execution_count": null,
      "outputs": []
    },
    {
      "cell_type": "markdown",
      "metadata": {
        "id": "3qde-VOuNKly"
      },
      "source": [
        "**Ejemplo 1:** Escriba una función que devuelva `True` si una palabra dada es un palíndromo o `False` si no lo es"
      ]
    },
    {
      "cell_type": "code",
      "metadata": {
        "id": "VapkBWbQNMen"
      },
      "source": [
        ""
      ],
      "execution_count": null,
      "outputs": []
    },
    {
      "cell_type": "markdown",
      "metadata": {
        "id": "oRD3z8DrNQN7"
      },
      "source": [
        "**Ejemplo 2:** Pida al usuario un número entero. Dependiendo de si el número es par o impar, imprima un mensaje apropiado para el usuario en pantalla."
      ]
    },
    {
      "cell_type": "code",
      "metadata": {
        "id": "D7PUutrjNQu_",
        "colab": {
          "base_uri": "https://localhost:8080/"
        },
        "outputId": "c43956db-b5b9-49f3-ba28-eaf4c485f32f"
      },
      "source": [
        "def par_impar(x):\n",
        "  if x % 2 == 0:\n",
        "    print(f\"El número {x} es par. \")\n",
        "  else:\n",
        "    print(f\"El número {x} es impar. \")\n",
        "\n",
        "\n",
        "par_impar(10)"
      ],
      "execution_count": null,
      "outputs": [
        {
          "output_type": "stream",
          "text": [
            "El número 10 es par. \n"
          ],
          "name": "stdout"
        }
      ]
    },
    {
      "cell_type": "markdown",
      "metadata": {
        "id": "8fmxrPGPNoIK"
      },
      "source": [
        "**Ejercicio 3:** Escriba un programa que calcule el factorial de un número natural $n$.\n",
        "\n",
        "Hallemos $n!$ de forma recursiva utilizando la propiedad $n! = n \\cdot (n-1)!$\n",
        "\n",
        "$$ n! = n* (n-1) * (n-2)*...* 3*2 *1 $$\n",
        "\n",
        "1. Utilizando la función misma para el proceso recursivo:"
      ]
    },
    {
      "cell_type": "code",
      "metadata": {
        "id": "wfEpDfi3NpbM",
        "colab": {
          "base_uri": "https://localhost:8080/"
        },
        "outputId": "a0349848-3bb7-492f-c55e-9fd226f3a013"
      },
      "source": [
        "def fact(x):\n",
        "  factorial = 1\n",
        "  for i in range(1, x+1):\n",
        "    factorial *= i\n",
        "  return factorial\n",
        "\n",
        "fact(10)"
      ],
      "execution_count": null,
      "outputs": [
        {
          "output_type": "execute_result",
          "data": {
            "text/plain": [
              "3628800"
            ]
          },
          "metadata": {
            "tags": []
          },
          "execution_count": 52
        }
      ]
    },
    {
      "cell_type": "code",
      "metadata": {
        "id": "cmSh_MOdTzRD"
      },
      "source": [
        ""
      ],
      "execution_count": null,
      "outputs": []
    },
    {
      "cell_type": "markdown",
      "metadata": {
        "id": "LS8agRwnNyjC"
      },
      "source": [
        "2. Realizando el proceso recursivo utilizando una lista"
      ]
    },
    {
      "cell_type": "code",
      "metadata": {
        "id": "pFvXrj3XNwuY"
      },
      "source": [
        ""
      ],
      "execution_count": null,
      "outputs": []
    },
    {
      "cell_type": "markdown",
      "metadata": {
        "id": "pcTSbU6AN3QO"
      },
      "source": [
        "Podemos ver que la segunda forma es más eficiente"
      ]
    },
    {
      "cell_type": "code",
      "metadata": {
        "id": "kUnwB9oNN1bl"
      },
      "source": [
        ""
      ],
      "execution_count": null,
      "outputs": []
    },
    {
      "cell_type": "code",
      "metadata": {
        "id": "EpSAwaDlN5LX"
      },
      "source": [
        ""
      ],
      "execution_count": null,
      "outputs": []
    },
    {
      "cell_type": "markdown",
      "metadata": {
        "id": "Mn6d1--FN_qd"
      },
      "source": [
        "**Ejercicio 4:** La sucesión de Fibonacci está dada por: $$f_{n} = f_{n-1} + f_{n-2}$$ con $f_0 = 0$ y $f_1=1$. Escriba un programa que calcule de forma recursiva $f_n$."
      ]
    },
    {
      "cell_type": "code",
      "metadata": {
        "id": "T47pCtm8Or8U",
        "colab": {
          "base_uri": "https://localhost:8080/"
        },
        "outputId": "67d74ad6-6885-441a-b250-396177496331"
      },
      "source": [
        "def fibonacci(n):\n",
        "  if n == 0:\n",
        "    return 0\n",
        "  if n == 1:\n",
        "    return 1\n",
        "  else:\n",
        "    return fibonacci(n-1) + fibonacci(n-2)\n",
        "\n",
        "[fibonacci(i) for i in range(10)]"
      ],
      "execution_count": null,
      "outputs": [
        {
          "output_type": "execute_result",
          "data": {
            "text/plain": [
              "[0, 1, 1, 2, 3, 5, 8, 13, 21, 34]"
            ]
          },
          "metadata": {
            "tags": []
          },
          "execution_count": 53
        }
      ]
    },
    {
      "cell_type": "code",
      "metadata": {
        "id": "l6z_pswPXr8-"
      },
      "source": [
        ""
      ],
      "execution_count": null,
      "outputs": []
    },
    {
      "cell_type": "code",
      "metadata": {
        "id": "graJ0Ad8xEFW"
      },
      "source": [
        ""
      ],
      "execution_count": null,
      "outputs": []
    },
    {
      "cell_type": "markdown",
      "metadata": {
        "id": "YRORvAlXOdAV"
      },
      "source": [
        "<p><a name=\"lon\"></a></p>\n",
        "\n",
        "## **Argumentos de longitud variable**\n",
        "\n",
        "Es posible que necesitemos ejecutar una función en la que en principio no sabemos cuántos argumentos se pasarán a la función. En este caso, podemos utilizar una clase especial de argumentos, denominados argumentos de longitud variable, con los que podemos capturar todos los argumentos que se pasen a la función.\n",
        "\n",
        "**args**: El argumento de longitud variable `*args` permite capturar una serie de argumentos sin necesidad de especificar en un principio su número"
      ]
    },
    {
      "cell_type": "code",
      "metadata": {
        "id": "aE75liH5N6ec"
      },
      "source": [
        ""
      ],
      "execution_count": null,
      "outputs": []
    },
    {
      "cell_type": "markdown",
      "metadata": {
        "id": "s_3u1OmyPQBw"
      },
      "source": [
        "O alternativamente podemos iterar sobre estos argumentos"
      ]
    },
    {
      "cell_type": "code",
      "metadata": {
        "id": "bljtaRwCPReM"
      },
      "source": [
        ""
      ],
      "execution_count": null,
      "outputs": []
    },
    {
      "cell_type": "markdown",
      "metadata": {
        "id": "F5tKpPUxPalX"
      },
      "source": [
        "Lo importante aquí no es el nombre `args`, sino el caracter `*` que lo precede. `args` es solo el nombre que se usa por convención. Un solo `*` antes de una variable significa *expandir esto como una secuencia*. \n"
      ]
    },
    {
      "cell_type": "markdown",
      "metadata": {
        "id": "UQCftnXrpsEQ"
      },
      "source": [
        "De hecho, esta sintáxis puede utilizarse no solo en la definición de la función, sino también a la hora de llamar la función:"
      ]
    },
    {
      "cell_type": "code",
      "metadata": {
        "id": "nc8C8Ro7PSjo"
      },
      "source": [
        ""
      ],
      "execution_count": null,
      "outputs": []
    },
    {
      "cell_type": "code",
      "metadata": {
        "id": "7zbIof5ePiNY"
      },
      "source": [
        ""
      ],
      "execution_count": null,
      "outputs": []
    },
    {
      "cell_type": "markdown",
      "metadata": {
        "id": "-p3Z0kgoPmra"
      },
      "source": [
        "Podemos aprovecharnos de este hecho para modificar la función `my_print` a la hora de la llamada de la función `print`:"
      ]
    },
    {
      "cell_type": "code",
      "metadata": {
        "id": "AVVrvcUCPj_I"
      },
      "source": [
        ""
      ],
      "execution_count": null,
      "outputs": []
    },
    {
      "cell_type": "markdown",
      "metadata": {
        "id": "YcT-YRRnPvDz"
      },
      "source": [
        "Cabe resaltar que la llamada de una función con esta sintáxis funciona independientemente de si se ha declarado la función con `*args` o no:"
      ]
    },
    {
      "cell_type": "code",
      "metadata": {
        "id": "WKgGY5dMPqI_"
      },
      "source": [
        ""
      ],
      "execution_count": null,
      "outputs": []
    },
    {
      "cell_type": "markdown",
      "metadata": {
        "id": "AmcjRXFeP9h4"
      },
      "source": [
        "**Ejercicio 5:** Escriba un programa que calcule el promedio de n números enteros."
      ]
    },
    {
      "cell_type": "code",
      "metadata": {
        "id": "80BYPIeEP3b6"
      },
      "source": [
        ""
      ],
      "execution_count": null,
      "outputs": []
    },
    {
      "cell_type": "markdown",
      "metadata": {
        "id": "_BRBvSn5QGqa"
      },
      "source": [
        "**Ejercicio 6:** Escriba un programa que tome un número n de palabras de un usuario externo, las almacene en un arreglo y muestre cuáles palabras son un palíndromo."
      ]
    },
    {
      "cell_type": "code",
      "metadata": {
        "id": "CvzNDcqSQTeR"
      },
      "source": [
        ""
      ],
      "execution_count": null,
      "outputs": []
    },
    {
      "cell_type": "markdown",
      "metadata": {
        "id": "yvRclc-RQWCe"
      },
      "source": [
        "**kwargs**: Al igual que con `*args`, podemos utilizar el argumento por longitud variable `*kwargs` para capturar un número indefinido de argumentos por palabra clave. \n",
        "\n",
        "Un doble `**` antes de una variable significa *expandir esto como un diccionario*"
      ]
    },
    {
      "cell_type": "code",
      "metadata": {
        "id": "bPbnBKE4QZp0"
      },
      "source": [
        ""
      ],
      "execution_count": null,
      "outputs": []
    },
    {
      "cell_type": "markdown",
      "metadata": {
        "id": "nbEkUxjtQh1Z"
      },
      "source": [
        "similarmente, podemos utilizar esta sintáxis a la hora de llamar la función:"
      ]
    },
    {
      "cell_type": "code",
      "metadata": {
        "id": "nPBy72nhQd1_"
      },
      "source": [
        ""
      ],
      "execution_count": null,
      "outputs": []
    },
    {
      "cell_type": "markdown",
      "metadata": {
        "id": "jHUVZNVdBDnx"
      },
      "source": [
        "<p><a name=\"lam\"></a></p>\n",
        "\n",
        "# **Funciones Anónimas**\n",
        "\n",
        "Estas funciones se denominan anónimas porque no se declaran de la manera estándar utilizando la palabra clave `def`. Podemos usar la palabra clave `lambda` para crear pequeñas funciones anónimas. La sintáxis general es de la forma:\n",
        "\n",
        "> \n",
        "  `lambda arg1, arg2, ... : expresion(arg1, arg2, ...)`\n",
        "\n",
        "Por ejemplo, definamos una función que realice la suma de dos números "
      ]
    },
    {
      "cell_type": "code",
      "metadata": {
        "id": "0GgbQm4MBHP1"
      },
      "source": [
        ""
      ],
      "execution_count": null,
      "outputs": []
    },
    {
      "cell_type": "markdown",
      "metadata": {
        "id": "s3F_EgXIBMoC"
      },
      "source": [
        "Con una función anónima o función Lambda, lo \n",
        "\n",
        "\n",
        "\n",
        "anterior tomaría la forma:"
      ]
    },
    {
      "cell_type": "code",
      "metadata": {
        "id": "1ro5H3fPBPy_"
      },
      "source": [
        ""
      ],
      "execution_count": null,
      "outputs": []
    },
    {
      "cell_type": "markdown",
      "metadata": {
        "id": "xvRoVDlRBTTm"
      },
      "source": [
        "Note la equivalencia entre ambas sintáxis. Note además que la función creada de forma estándar tiene como nombre `suma`, mientras que las funciones anónimas tienen como nombre `<lambda>`, de ahí que se conozcan como *funciones anónimas*.\n",
        "\n",
        "Con esta nueva sintáxis podemos utilizar tanto los argumentos requeridos como argumentos por palabra clave, así como los argumentos de longitud variable"
      ]
    },
    {
      "cell_type": "code",
      "metadata": {
        "id": "TDuQqhGABXov"
      },
      "source": [
        ""
      ],
      "execution_count": null,
      "outputs": []
    },
    {
      "cell_type": "code",
      "metadata": {
        "id": "OJVOvK7LBYIX"
      },
      "source": [
        ""
      ],
      "execution_count": null,
      "outputs": []
    },
    {
      "cell_type": "code",
      "metadata": {
        "id": "ugrNXzs3Bbkf"
      },
      "source": [
        ""
      ],
      "execution_count": null,
      "outputs": []
    }
  ]
}